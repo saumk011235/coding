{
  "nbformat": 4,
  "nbformat_minor": 0,
  "metadata": {
    "colab": {
      "name": "Saumya Kothari - Introduction to Neural Networks & Deep Learning Project [Part 4].ipynb",
      "provenance": [],
      "collapsed_sections": []
    },
    "kernelspec": {
      "name": "python3",
      "display_name": "Python 3"
    },
    "language_info": {
      "name": "python"
    }
  },
  "cells": [
    {
      "cell_type": "markdown",
      "metadata": {
        "id": "6JhEAXCwK1dW"
      },
      "source": [
        "# **Saumya Kothari - Introduction to Neural Networks & Deep Learning Project [Part 4]**\n",
        "\n",
        "----------------------------------------------------------------------\n",
        "\n",
        "## **Part 4 [solved in the other ipynb notebook]**\n",
        "\n",
        "#### DOMAIN: \n",
        "##### Autonomous Vehicles\n",
        "\n",
        "#### BUSINESS CONTEXT: \n",
        "- A Recognising multi-digit numbers in photographs captured at street level is an important component of modern-day map making. A classic example of a corpus of such street-level photographs is Google’s Street View imagery composed of hundreds of millions of geo-located 360-degree panoramic images.\n",
        "- The ability to automatically transcribe an address number from a geo-located patch of pixels and associate the transcribed number with a known street address helps pinpoint, with a high degree of accuracy, the location of the building it represents. More broadly, recognising numbers in photographs is a problem of interest to the optical character recognition community.\n",
        "- While OCR on constrained domains like document processing is well studied, arbitrary multi-character text recognition in photographs is still highly challenging. This difficulty arises due to the wide variability in the visual appearance of text in the wild on account of a large range of fonts, colours, styles, orientations, and character arrangements.\n",
        "- The recognition problem is further complicated by environmental factors such as lighting, shadows, specularity, and occlusions as well as by image acquisition factors such as resolution, motion, and focus blurs. In this project, we will use the dataset with images centred around a single digit (many of the images do contain some distractors at the sides). Although we are taking a sample of the data which is simpler, it is more complex than MNIST because of the distractors.\n",
        "\n",
        "#### DATA DESCRIPTION: \n",
        "The SVHN is a real-world image dataset for developing machine learning and object recognition algorithms with the minimal requirement on data formatting but comes from a significantly harder,\n",
        "unsolved, real-world problem (recognising digits and numbers in natural scene images). SVHN is obtained from house numbers in Google Street View images. Where the labels for each of this image are the prominent number in that image i.e. 2,6,7 and 4 respectively.\n",
        "The dataset has been provided in the form of h5py files. You can read about this file format here: http://docs.h5py.org/en/stable/high/dataset.html\n",
        "\n",
        "Acknowledgement: Yuval Netzer, Tao Wang, Adam Coates, Alessandro Bissacco, Bo Wu, Andrew Y. Ng Reading\n",
        "Digits in Natural Images with Unsupervised Feature Learning NIPS Workshop on Deep Learning and\n",
        "Unsupervised Feature Learning 2011. PDF\n",
        "http://ufldl.stanford.edu/housenumbers as the URL for this site when necessary\n",
        "\n",
        "#### PROJECT OBJECTIVE: \n",
        "We will build a digit classifier on the SVHN (Street View Housing Number) dataset.\n",
        "Steps and tasks: [ Total Score: 30 points]\n",
        "1. Import the data.\n",
        "2. Data pre-processing and visualisation.\n",
        "3. Design, train, tune and test a neural network image classifier.\n",
        "Hint: Use best approach to refine and tune the data or the model. Be highly experimental here to get the best accuracy out of the model.\n",
        "4. Plot the training loss, validation loss vs number of epochs and training accuracy, validation accuracy vs number of\n",
        "epochs plot and write your observations on the same."
      ]
    },
    {
      "cell_type": "code",
      "metadata": {
        "colab": {
          "base_uri": "https://localhost:8080/"
        },
        "id": "OHG7-t6_j2QI",
        "outputId": "8c2938df-d4e8-4882-d1f2-13f1c23b9081"
      },
      "source": [
        "# Mounting Google Drive\n",
        "from google.colab import drive\n",
        "drive.mount('/content/drive')"
      ],
      "execution_count": 1,
      "outputs": [
        {
          "output_type": "stream",
          "text": [
            "Mounted at /content/drive\n"
          ],
          "name": "stdout"
        }
      ]
    },
    {
      "cell_type": "code",
      "metadata": {
        "id": "6eHZ-1-hj8l9"
      },
      "source": [
        "# Setting the current working directory\n",
        "import os; \n",
        "os.chdir('/content/drive/MyDrive/NeuralNetworks')"
      ],
      "execution_count": 2,
      "outputs": []
    },
    {
      "cell_type": "code",
      "metadata": {
        "id": "Ib0ySLAvkw5g"
      },
      "source": [
        "# Importing neccessary packages\n",
        "import pandas as pd, numpy as np, matplotlib.pyplot as plt, seaborn as sns, h5py\n",
        "import matplotlib.style as style; style.use('fivethirtyeight')\n",
        "%matplotlib inline\n",
        "\n",
        "# Metrics and preprocessing\n",
        "from sklearn.metrics import classification_report, accuracy_score, confusion_matrix, precision_score, recall_score, f1_score, precision_recall_curve, auc\n",
        "from sklearn.model_selection import train_test_split\n",
        "from sklearn import preprocessing\n",
        "\n",
        "# TF and Keras\n",
        "from tensorflow.keras.layers import Dense, Dropout, BatchNormalization\n",
        "from tensorflow.keras.layers import Activation, Dense\n",
        "from tensorflow.keras.utils import to_categorical\n",
        "from tensorflow.keras.models import Sequential\n",
        "from tensorflow.keras import optimizers\n",
        "\n",
        "# Checking if GPU is found\n",
        "import tensorflow as tf\n",
        "device_name = tf.test.gpu_device_name()\n",
        "\n",
        "#tf.reset_default_graph()\n",
        "#tf.set_random_seed(42)"
      ],
      "execution_count": 3,
      "outputs": []
    },
    {
      "cell_type": "code",
      "metadata": {
        "colab": {
          "base_uri": "https://localhost:8080/"
        },
        "id": "TFphXQIxk0P5",
        "outputId": "f65e0178-e4bf-448a-cf24-27da517039af"
      },
      "source": [
        "!ls '/content/drive/MyDrive/NeuralNetworks'"
      ],
      "execution_count": 4,
      "outputs": [
        {
          "output_type": "stream",
          "text": [
            "'Part - 4 - Autonomous_Vehicles_SVHN_single_grey1.h5'\n"
          ],
          "name": "stdout"
        }
      ]
    },
    {
      "cell_type": "markdown",
      "metadata": {
        "id": "s1kUIU9EMwZc"
      },
      "source": [
        "**Load train, validatin and test datasets from h5 file**"
      ]
    },
    {
      "cell_type": "code",
      "metadata": {
        "colab": {
          "base_uri": "https://localhost:8080/"
        },
        "id": "HZmeGu9qlF2A",
        "outputId": "a57d9cc1-5893-4e97-ee29-e80c6d52a691"
      },
      "source": [
        "# Read the h5 file\n",
        "h5_Vehicle = h5py.File('Part - 4 - Autonomous_Vehicles_SVHN_single_grey1.h5', 'r')\n",
        "\n",
        "# Load the training, validation and test sets\n",
        "X_train = h5_Vehicle['X_train'][:]\n",
        "y_train = h5_Vehicle['y_train'][:]\n",
        "X_val = h5_Vehicle['X_val'][:]\n",
        "y_val = h5_Vehicle['y_val'][:]\n",
        "X_test = h5_Vehicle['X_test'][:]\n",
        "y_test = h5_Vehicle['y_test'][:]\n",
        "\n",
        "# Close this file\n",
        "\n",
        "h5_Vehicle.close()\n",
        "\n",
        "print('Training set', X_train.shape, y_train.shape)\n",
        "print('Validation set', X_val.shape, y_val.shape)\n",
        "print('Test set', X_test.shape, y_test.shape)\n",
        "\n",
        "print('\\n')\n",
        "print('Unique labels in y_train:', np.unique(y_train))\n",
        "print('Unique labels in y_val:', np.unique(y_val))\n",
        "print('Unique labels in y_test:', np.unique(y_test))"
      ],
      "execution_count": 10,
      "outputs": [
        {
          "output_type": "stream",
          "text": [
            "Training set (42000, 32, 32) (42000,)\n",
            "Validation set (60000, 32, 32) (60000,)\n",
            "Test set (18000, 32, 32) (18000,)\n",
            "\n",
            "\n",
            "Unique labels in y_train: [0 1 2 3 4 5 6 7 8 9]\n",
            "Unique labels in y_val: [0 1 2 3 4 5 6 7 8 9]\n",
            "Unique labels in y_test: [0 1 2 3 4 5 6 7 8 9]\n"
          ],
          "name": "stdout"
        }
      ]
    },
    {
      "cell_type": "markdown",
      "metadata": {
        "id": "mk5Or8QdM61t"
      },
      "source": [
        "**Observation:**\n",
        "Length of training sets: 42k, validation sets: 60k, test sets: 18k\n",
        "\n",
        "*   Length of training sets: 42000, validation sets: 60000, test sets: 18000\n",
        "*   Size of the images: 32*32\n",
        "*   Number of class: 10"
      ]
    },
    {
      "cell_type": "code",
      "metadata": {
        "colab": {
          "base_uri": "https://localhost:8080/",
          "height": 152
        },
        "id": "_AsDTrXQox7X",
        "outputId": "1ac461d1-9705-4257-c56b-2d410fa4c82e"
      },
      "source": [
        "# Visualizing first 10 images in the dataset and their labels\n",
        "plt.figure(figsize = (15, 5))\n",
        "for i in range(10):  \n",
        "    plt.subplot(1, 10, i+1)\n",
        "    plt.imshow(X_train[i].reshape((32, 32)),cmap = plt.cm.binary)\n",
        "    plt.axis('off')\n",
        "plt.subplots_adjust(wspace = -0.1, hspace = -0.1)\n",
        "plt.show()\n",
        "\n",
        "print('Label for each of the above image: %s' % (y_train[0 : 10]))"
      ],
      "execution_count": 14,
      "outputs": [
        {
          "output_type": "display_data",
          "data": {
            "image/png": "[encoded data removed]",
            "text/plain": [
              "<Figure size 1080x360 with 10 Axes>"
            ]
          },
          "metadata": {
            "tags": [],
            "needs_background": "light"
          }
        },
        {
          "output_type": "stream",
          "text": [
            "Label for each of the above image: [2 6 7 4 4 0 3 0 7 3]\n"
          ],
          "name": "stdout"
        }
      ]
    },
    {
      "cell_type": "code",
      "metadata": {
        "colab": {
          "base_uri": "https://localhost:8080/",
          "height": 315
        },
        "id": "bz82BLjXpQY-",
        "outputId": "ff79c5cc-8be7-4c26-a9c4-b1941522612e"
      },
      "source": [
        "print('Checking first image and label in training set: '); print('---'*20)\n",
        "plt.imshow(X_train[0], cmap = plt.cm.binary)    \n",
        "plt.show()\n",
        "print('Label:', y_train[0])"
      ],
      "execution_count": 15,
      "outputs": [
        {
          "output_type": "stream",
          "text": [
            "Checking first image and label in training set: \n",
            "------------------------------------------------------------\n"
          ],
          "name": "stdout"
        },
        {
          "output_type": "display_data",
          "data": {
            "image/png": "[encoded data removed]",
            "text/plain": [
              "<Figure size 432x288 with 1 Axes>"
            ]
          },
          "metadata": {
            "tags": [],
            "needs_background": "light"
          }
        },
        {
          "output_type": "stream",
          "text": [
            "Label: 2\n"
          ],
          "name": "stdout"
        }
      ]
    },
    {
      "cell_type": "code",
      "metadata": {
        "colab": {
          "base_uri": "https://localhost:8080/",
          "height": 315
        },
        "id": "PYyOfZdNpUB9",
        "outputId": "d109d862-689e-4811-b1d9-834a78f1cc3a"
      },
      "source": [
        "print('Checking first image and label in validation set:'); print('---'*20)\n",
        "plt.imshow(X_val[0], cmap = plt.cm.binary)    \n",
        "plt.show()\n",
        "print('Label:', y_val[0])"
      ],
      "execution_count": 17,
      "outputs": [
        {
          "output_type": "stream",
          "text": [
            "Checking first image and label in validation set:\n",
            "------------------------------------------------------------\n"
          ],
          "name": "stdout"
        },
        {
          "output_type": "display_data",
          "data": {
            "image/png": "[encoded data removed]",
            "text/plain": [
              "<Figure size 432x288 with 1 Axes>"
            ]
          },
          "metadata": {
            "tags": [],
            "needs_background": "light"
          }
        },
        {
          "output_type": "stream",
          "text": [
            "Label: 0\n"
          ],
          "name": "stdout"
        }
      ]
    },
    {
      "cell_type": "code",
      "metadata": {
        "colab": {
          "base_uri": "https://localhost:8080/",
          "height": 315
        },
        "id": "R4adt3-NKXe5",
        "outputId": "e08721cc-12aa-4d4e-9783-d8fd7c29396c"
      },
      "source": [
        "print('Checking first image and label in test set:'); print('---'*20)\n",
        "plt.imshow(X_test[0], cmap = plt.cm.binary)    \n",
        "plt.show()\n",
        "print('Label:', y_test[0])"
      ],
      "execution_count": 19,
      "outputs": [
        {
          "output_type": "stream",
          "text": [
            "Checking first image and label in test set:\n",
            "------------------------------------------------------------\n"
          ],
          "name": "stdout"
        },
        {
          "output_type": "display_data",
          "data": {
            "image/png": "[encoded data removed]",
            "text/plain": [
              "<Figure size 432x288 with 1 Axes>"
            ]
          },
          "metadata": {
            "tags": [],
            "needs_background": "light"
          }
        },
        {
          "output_type": "stream",
          "text": [
            "Label: 1\n"
          ],
          "name": "stdout"
        }
      ]
    },
    {
      "cell_type": "markdown",
      "metadata": {
        "id": "O3ytynqHN9OX"
      },
      "source": [
        "**Flatten and normalize the images for Keras**"
      ]
    },
    {
      "cell_type": "code",
      "metadata": {
        "colab": {
          "base_uri": "https://localhost:8080/"
        },
        "id": "VzsePJvFMo_j",
        "outputId": "06bbc213-e29d-4e63-aa53-c855c785f33a"
      },
      "source": [
        "# Reshaping the data to make it into two dimensions\n",
        "print('Reshaping X data: From (n, 32, 32) to (n, 1024)'); print('----'*20)\n",
        "X_train = X_train.reshape((X_train.shape[0], -1))\n",
        "X_val = X_val.reshape((X_val.shape[0], -1))\n",
        "X_test = X_test.reshape((X_test.shape[0], -1))\n",
        "\n",
        "#Changing the datatype\n",
        "print('Making sure that the values are float so that we can get decimal points after division'); print('----'*20)\n",
        "X_train = X_train.astype('float32')\n",
        "X_val = X_val.astype('float32')\n",
        "X_test = X_test.astype('float32')\n",
        "\n",
        "print('Normalizing the RGB codes by dividing it to the max RGB value'); print('----'*20)\n",
        "X_train /= 255\n",
        "X_val /= 255\n",
        "X_test /= 255\n",
        "\n",
        "print('Converting y data into categorical (one-hot encoding)'); print('----'*20)\n",
        "y_train = to_categorical(y_train)\n",
        "y_val = to_categorical(y_val)\n",
        "y_test = to_categorical(y_test)"
      ],
      "execution_count": 22,
      "outputs": [
        {
          "output_type": "stream",
          "text": [
            "Reshaping X data: From (n, 32, 32) to (n, 1024)\n",
            "--------------------------------------------------------------------------------\n",
            "Making sure that the values are float so that we can get decimal points after division\n",
            "--------------------------------------------------------------------------------\n",
            "Normalizing the RGB codes by dividing it to the max RGB value\n",
            "--------------------------------------------------------------------------------\n",
            "Converting y data into categorical (one-hot encoding)\n",
            "--------------------------------------------------------------------------------\n"
          ],
          "name": "stdout"
        }
      ]
    },
    {
      "cell_type": "code",
      "metadata": {
        "colab": {
          "base_uri": "https://localhost:8080/"
        },
        "id": "buTysfVCOOZB",
        "outputId": "f66dff6c-9f83-457a-e795-4d63410fa732"
      },
      "source": [
        "#Printing SHAPE\n",
        "print('X_train shape:', X_train.shape)\n",
        "print('X_val shape:', X_val.shape)\n",
        "print('X_test shape:', X_test.shape)\n",
        "\n",
        "print('\\n')\n",
        "\n",
        "print('y_train shape:', y_train.shape)\n",
        "print('y_val shape:', y_val.shape)\n",
        "print('y_test shape:', y_test.shape)\n",
        "\n",
        "print('\\n')\n",
        "\n",
        "print('Number of images in X_train', X_train.shape[0])\n",
        "print('Number of images in X_val', X_val.shape[0])\n",
        "print('Number of images in X_test', X_test.shape[0])"
      ],
      "execution_count": 23,
      "outputs": [
        {
          "output_type": "stream",
          "text": [
            "X_train shape: (42000, 1024)\n",
            "X_val shape: (60000, 1024)\n",
            "X_test shape: (18000, 1024)\n",
            "\n",
            "\n",
            "y_train shape: (42000, 10, 2, 2)\n",
            "y_val shape: (60000, 10, 2, 2)\n",
            "y_test shape: (18000, 10, 2, 2)\n",
            "\n",
            "\n",
            "Number of images in X_train 42000\n",
            "Number of images in X_val 60000\n",
            "Number of images in X_test 18000\n"
          ],
          "name": "stdout"
        }
      ]
    },
    {
      "cell_type": "markdown",
      "metadata": {
        "id": "PgctLZmUO-OT"
      },
      "source": [
        "### **Modelling - Baby sitting the learning process**\n",
        "\n",
        "**Fully connected linear layer**"
      ]
    },
    {
      "cell_type": "code",
      "metadata": {
        "id": "ohZCj22pO4wF"
      },
      "source": [
        "\n",
        "class Linear():\n",
        "    def __init__(self, in_size, out_size):\n",
        "        self.W = np.random.randn(in_size, out_size) * 0.01\n",
        "        self.b = np.zeros((1, out_size))\n",
        "        self.params = [self.W, self.b]\n",
        "        self.gradW = None\n",
        "        self.gradB = None\n",
        "        self.gradInput = None        \n",
        "\n",
        "    def forward(self, X):\n",
        "        self.X = X\n",
        "        self.output = np.dot(X, self.W) + self.b\n",
        "        return self.output\n",
        "\n",
        "    def backward(self, nextgrad):\n",
        "        self.gradW = np.dot(self.X.T, nextgrad)\n",
        "        self.gradB = np.sum(nextgrad, axis=0)\n",
        "        self.gradInput = np.dot(nextgrad, self.W.T)\n",
        "        return self.gradInput, [self.gradW, self.gradB]"
      ],
      "execution_count": 24,
      "outputs": []
    },
    {
      "cell_type": "markdown",
      "metadata": {
        "id": "ZZoPIv3BPPBc"
      },
      "source": [
        "**ReLU**"
      ]
    },
    {
      "cell_type": "code",
      "metadata": {
        "id": "qXZV7niHPGj9"
      },
      "source": [
        "class ReLU():\n",
        "    def __init__(self):\n",
        "        self.params = []\n",
        "        self.gradInput = None\n",
        "\n",
        "    def forward(self, X):\n",
        "        self.output = np.maximum(X, 0)\n",
        "        return self.output\n",
        "\n",
        "    def backward(self, nextgrad):\n",
        "        self.gradInput = nextgrad.copy()\n",
        "        self.gradInput[self.output <=0] = 0\n",
        "        return self.gradInput, []"
      ],
      "execution_count": 25,
      "outputs": []
    },
    {
      "cell_type": "markdown",
      "metadata": {
        "id": "yBNoMj8JPcww"
      },
      "source": [
        "**Softmax function**"
      ]
    },
    {
      "cell_type": "code",
      "metadata": {
        "id": "3bYhns6jPRPr"
      },
      "source": [
        "def softmax(x):\n",
        "    exp_x = np.exp(x - np.max(x, axis=1, keepdims=True))\n",
        "    return exp_x / np.sum(exp_x, axis=1, keepdims=True)"
      ],
      "execution_count": 26,
      "outputs": []
    },
    {
      "cell_type": "markdown",
      "metadata": {
        "id": "s9yvghepPgbj"
      },
      "source": [
        "**Cross entropy loss**"
      ]
    },
    {
      "cell_type": "code",
      "metadata": {
        "id": "f82Ng11fPYzg"
      },
      "source": [
        "class CrossEntropy:\n",
        "    def forward(self, X, y):\n",
        "        self.m = y.shape[0]\n",
        "        self.p = softmax(X)\n",
        "        cross_entropy = -np.log(self.p[range(self.m), y]+1e-16)\n",
        "        loss = np.sum(cross_entropy) / self.m\n",
        "        return loss\n",
        "    \n",
        "    def backward(self, X, y):\n",
        "        y_idx = y.argmax()        \n",
        "        grad = softmax(X)\n",
        "        grad[range(self.m), y] -= 1\n",
        "        grad /= self.m\n",
        "        return grad"
      ],
      "execution_count": 27,
      "outputs": []
    },
    {
      "cell_type": "markdown",
      "metadata": {
        "id": "s0VmZp8kPp-D"
      },
      "source": [
        "**NN class that enables the forward prop and backward propagation of the entire network**"
      ]
    },
    {
      "cell_type": "code",
      "metadata": {
        "id": "DjHlX8NMPnA0"
      },
      "source": [
        "class NN():\n",
        "    def __init__(self, lossfunc = CrossEntropy(), mode = 'train'):\n",
        "        self.params = []\n",
        "        self.layers = []\n",
        "        self.loss_func = lossfunc\n",
        "        self.grads = []\n",
        "        self.mode = mode\n",
        "        \n",
        "    def add_layer(self, layer):\n",
        "        self.layers.append(layer)\n",
        "        self.params.append(layer.params)\n",
        "\n",
        "    def forward(self, X):\n",
        "        for layer in self.layers:\n",
        "            X = layer.forward(X)\n",
        "        return X\n",
        "    \n",
        "    def backward(self, nextgrad):\n",
        "        self.clear_grad_param()\n",
        "        for layer in reversed(self.layers):\n",
        "            nextgrad, grad = layer.backward(nextgrad)\n",
        "            self.grads.append(grad)\n",
        "        return self.grads\n",
        "    \n",
        "    def train_step(self, X, y):\n",
        "        out = self.forward(X)\n",
        "        loss = self.loss_func.forward(out,y)\n",
        "        nextgrad = self.loss_func.backward(out,y)\n",
        "        grads = self.backward(nextgrad)\n",
        "        return loss, grads\n",
        "    \n",
        "    def predict(self, X):\n",
        "        X = self.forward(X)\n",
        "        p = softmax(X)\n",
        "        return np.argmax(p, axis=1)\n",
        "    \n",
        "    def predict_scores(self, X):\n",
        "        X = self.forward(X)\n",
        "        p = softmax(X)\n",
        "        return p\n",
        "    \n",
        "    def clear_grad_param(self):\n",
        "        self.grads = []"
      ],
      "execution_count": 28,
      "outputs": []
    },
    {
      "cell_type": "markdown",
      "metadata": {
        "id": "mXon5plnPzIa"
      },
      "source": [
        "**Update SGD function with momentum**"
      ]
    },
    {
      "cell_type": "code",
      "metadata": {
        "id": "A7s-o_-jPygd"
      },
      "source": [
        "def update(velocity, params, grads, learning_rate=0.01, mu=0.9):\n",
        "    for v, p, g, in zip(velocity, params, reversed(grads)):\n",
        "        for i in range(len(g)):\n",
        "            v[i] = (mu * v[i]) - (learning_rate * g[i])\n",
        "            p[i] += v[i]"
      ],
      "execution_count": 29,
      "outputs": []
    },
    {
      "cell_type": "markdown",
      "metadata": {
        "id": "2eFrXbAaP6VN"
      },
      "source": [
        "**Getting minibatches**"
      ]
    },
    {
      "cell_type": "code",
      "metadata": {
        "id": "NmisnSczP5xp"
      },
      "source": [
        "def minibatch(X, y, minibatch_size):\n",
        "    n = X.shape[0]\n",
        "    minibatches = []\n",
        "    permutation = np.random.permutation(X.shape[0])\n",
        "    X = X[permutation]\n",
        "    y = y[permutation]\n",
        "    \n",
        "    for i in range(0, n , minibatch_size):\n",
        "        X_batch = X[i:i + minibatch_size, :]\n",
        "        y_batch = y[i:i + minibatch_size, ]\n",
        "        minibatches.append((X_batch, y_batch))\n",
        "        \n",
        "    return minibatches"
      ],
      "execution_count": 30,
      "outputs": []
    },
    {
      "cell_type": "markdown",
      "metadata": {
        "id": "PF9deApgQNxq"
      },
      "source": [
        "**The Training:**"
      ]
    },
    {
      "cell_type": "code",
      "metadata": {
        "id": "tQVmadzkQCoq"
      },
      "source": [
        "def train(net, X_train, y_train, minibatch_size, epoch, learning_rate, mu = 0.9, X_val = None, y_val = None, Lambda = 0, verb = True):\n",
        "    validationSet_loss_epochs = []\n",
        "    minibatches = minibatch(X_train, y_train, minibatch_size)\n",
        "    minibatches_val = minibatch(X_val, y_val, minibatch_size)\n",
        "    \n",
        "    for i in range(epoch):\n",
        "        loss_batch = []\n",
        "        val_loss_batch = []\n",
        "        velocity = []\n",
        "        for param_layer in net.params:\n",
        "            p = [np.zeros_like(param) for param in list(param_layer)]\n",
        "            velocity.append(p)\n",
        "            \n",
        "        # iterate over mini batches\n",
        "        for X_mini, y_mini in minibatches:\n",
        "            loss, grads = net.train_step(X_mini, y_mini)\n",
        "            loss_batch.append(loss)\n",
        "            update(velocity, net.params, grads, learning_rate=learning_rate, mu=mu)\n",
        "\n",
        "        for X_mini_val, y_mini_val in minibatches_val:\n",
        "            val_loss, _ = net.train_step(X_mini, y_mini)\n",
        "            val_loss_batch.append(val_loss)\n",
        "        \n",
        "        # accuracy of model at end of epoch after all mini batch updates\n",
        "        m_train = X_train.shape[0]\n",
        "        m_val = X_val.shape[0]\n",
        "        y_train_pred = []\n",
        "        y_val_pred = []\n",
        "        y_train1 = []\n",
        "        y_vall = []\n",
        "        for j in range(0, m_train, minibatch_size):\n",
        "            X_tr = X_train[j:j + minibatch_size, : ]\n",
        "            y_tr = y_train[j:j + minibatch_size,]\n",
        "            y_train1 = np.append(y_train1, y_tr)\n",
        "            y_train_pred = np.append(y_train_pred, net.predict(X_tr))\n",
        "\n",
        "        for j in range(0, m_val, minibatch_size):\n",
        "            X_va = X_val[j:j + minibatch_size, : ]\n",
        "            y_va = y_val[j:j + minibatch_size,]\n",
        "            y_vall = np.append(y_vall, y_va)\n",
        "            y_val_pred = np.append(y_val_pred, net.predict(X_va))\n",
        "            \n",
        "        train_acc = check_accuracy(y_train1, y_train_pred)\n",
        "        val_acc = check_accuracy(y_vall, y_val_pred)\n",
        "        \n",
        "        ## weights\n",
        "        w = np.array(net.params[0][0])\n",
        "        \n",
        "        ## adding regularization to cost\n",
        "        mean_train_loss = (sum(loss_batch) / float(len(loss_batch)))\n",
        "        mean_val_loss = sum(val_loss_batch) / float(len(val_loss_batch))\n",
        "        \n",
        "        validationSet_loss_epochs.append(mean_val_loss)\n",
        "        if verb:\n",
        "            if i%50==0:\n",
        "                print(\"Epoch {3}/{4}: Loss = {0} | Training Accuracy = {1}\".format(mean_train_loss, train_acc, val_acc, i, epoch))\n",
        "    return net, val_acc"
      ],
      "execution_count": 31,
      "outputs": []
    },
    {
      "cell_type": "markdown",
      "metadata": {
        "id": "GFWx3ZlMYQZR"
      },
      "source": [
        "**Checking the accuracy of the model**"
      ]
    },
    {
      "cell_type": "code",
      "metadata": {
        "id": "cbx9ePapYM6L"
      },
      "source": [
        "def check_accuracy(y_true, y_pred):\n",
        "    return np.mean(y_pred == y_true)"
      ],
      "execution_count": 32,
      "outputs": []
    },
    {
      "cell_type": "markdown",
      "metadata": {
        "id": "ozqX503cZViH"
      },
      "source": [
        "**Invoking created functions**"
      ]
    },
    {
      "cell_type": "code",
      "metadata": {
        "id": "rdN33AKdYXjy"
      },
      "source": [
        "# Invoking the model\n",
        "## input size\n",
        "input_dim = X_train.shape[1]\n",
        "\n",
        "def train_and_test_loop(iterations, lr, Lambda, verb = True):\n",
        "    ## hyperparameters\n",
        "    iterations = iterations\n",
        "    learning_rate = lr\n",
        "    hidden_nodes1 = 10\n",
        "    output_nodes = 10\n",
        "\n",
        "    ## define neural net\n",
        "    nn = NN()\n",
        "    nn.add_layer(Linear(input_dim, hidden_nodes1))\n",
        "\n",
        "    nn, val_acc = train(nn, X_train, y_train_o, minibatch_size = 200, epoch = iterations, learning_rate = learning_rate,\\\n",
        "                      X_val = X_test, y_val = y_test_o, Lambda = Lambda, verb = verb)\n",
        "    return val_acc"
      ],
      "execution_count": 33,
      "outputs": []
    },
    {
      "cell_type": "code",
      "metadata": {
        "colab": {
          "base_uri": "https://localhost:8080/"
        },
        "id": "zRwtTNMmZT2I",
        "outputId": "ddd9d417-8df2-4527-f1a1-cfc310d808f4"
      },
      "source": [
        "# Disable the regaularization after checking loss\n",
        "lr = 0.00001\n",
        "Lambda = 0\n",
        "train_and_test_loop(1, lr, Lambda)"
      ],
      "execution_count": 34,
      "outputs": [
        {
          "output_type": "stream",
          "text": [
            "Epoch 0/1: Loss = 2.302585283088422 | Training Accuracy = 0.10192857142857142\n"
          ],
          "name": "stdout"
        },
        {
          "output_type": "execute_result",
          "data": {
            "text/plain": [
              "0.0955"
            ]
          },
          "metadata": {
            "tags": []
          },
          "execution_count": 34
        }
      ]
    },
    {
      "cell_type": "markdown",
      "metadata": {
        "id": "f5fHZqpTZtSc"
      },
      "source": [
        "**Increase Lambda(Regularization) and check what it does to our loss function**"
      ]
    },
    {
      "cell_type": "code",
      "metadata": {
        "colab": {
          "base_uri": "https://localhost:8080/"
        },
        "id": "OaIFCBxtZjbJ",
        "outputId": "94e161db-379c-44b0-f762-5542cacb49f6"
      },
      "source": [
        "lr = 0.00001\n",
        "Lambda = 1e4\n",
        "train_and_test_loop(1, lr, Lambda)"
      ],
      "execution_count": 38,
      "outputs": [
        {
          "output_type": "stream",
          "text": [
            "Epoch 0/1: Loss = 2.3025852165243452 | Training Accuracy = 0.10192857142857142\n"
          ],
          "name": "stdout"
        },
        {
          "output_type": "execute_result",
          "data": {
            "text/plain": [
              "0.0955"
            ]
          },
          "metadata": {
            "tags": []
          },
          "execution_count": 38
        }
      ]
    },
    {
      "cell_type": "code",
      "metadata": {
        "colab": {
          "base_uri": "https://localhost:8080/"
        },
        "id": "0beyS0_ZZzsi",
        "outputId": "f024d58c-2e8f-40c0-ee0f-0659840a818c"
      },
      "source": [
        "# Overfitting to a small subset of our dataset (in this case 20 images)\n",
        "\n",
        "X_train_subset = X_train[0:20]\n",
        "y_train_subset = y_train[0:20]\n",
        "\n",
        "X_train = X_train_subset\n",
        "y_train = y_train_subset\n",
        "\n",
        "X_train.shape, y_train.shape"
      ],
      "execution_count": 41,
      "outputs": [
        {
          "output_type": "execute_result",
          "data": {
            "text/plain": [
              "((20, 1024), (20, 10, 2, 2))"
            ]
          },
          "metadata": {
            "tags": []
          },
          "execution_count": 41
        }
      ]
    },
    {
      "cell_type": "markdown",
      "metadata": {
        "id": "iPBTDR-KavZF"
      },
      "source": [
        "**Making sure that we overfit very small portion of the training data**\n",
        "\n",
        "So, set a small learning rate and turn regularization off In the code below:\n",
        "\n",
        "*   Take the first 20 examples\n",
        "*   turn off regularization(reg=0.0)\n",
        "*   use simple vanilla 'sgd'"
      ]
    },
    {
      "cell_type": "code",
      "metadata": {
        "colab": {
          "base_uri": "https://localhost:8080/"
        },
        "id": "9kp8MhYKaH-g",
        "outputId": "98647cb5-6dad-4fa6-e3d4-949eb2af023e"
      },
      "source": [
        "%time\n",
        "lr = 0.001\n",
        "Lambda = 0\n",
        "train_and_test_loop(5000, lr, Lambda)"
      ],
      "execution_count": 42,
      "outputs": [
        {
          "output_type": "stream",
          "text": [
            "CPU times: user 3 µs, sys: 0 ns, total: 3 µs\n",
            "Wall time: 5.96 µs\n",
            "Epoch 0/5000: Loss = 2.302585560613877 | Training Accuracy = 0.25\n",
            "Epoch 50/5000: Loss = 2.2993515989242357 | Training Accuracy = 0.25\n",
            "Epoch 100/5000: Loss = 2.2961498719261715 | Training Accuracy = 0.25\n",
            "Epoch 150/5000: Loss = 2.2929801119822977 | Training Accuracy = 0.25\n",
            "Epoch 200/5000: Loss = 2.2898420522393947 | Training Accuracy = 0.25\n",
            "Epoch 250/5000: Loss = 2.2867354266485527 | Training Accuracy = 0.25\n",
            "Epoch 300/5000: Loss = 2.283659969985244 | Training Accuracy = 0.25\n",
            "Epoch 350/5000: Loss = 2.280615417869293 | Training Accuracy = 0.25\n",
            "Epoch 400/5000: Loss = 2.277601506784756 | Training Accuracy = 0.25\n",
            "Epoch 450/5000: Loss = 2.2746179740996704 | Training Accuracy = 0.25\n",
            "Epoch 500/5000: Loss = 2.271664558085676 | Training Accuracy = 0.25\n",
            "Epoch 550/5000: Loss = 2.2687409979374964 | Training Accuracy = 0.25\n",
            "Epoch 600/5000: Loss = 2.2658470337922565 | Training Accuracy = 0.25\n",
            "Epoch 650/5000: Loss = 2.2629824067486353 | Training Accuracy = 0.25\n",
            "Epoch 700/5000: Loss = 2.2601468588858338 | Training Accuracy = 0.25\n",
            "Epoch 750/5000: Loss = 2.257340133282354 | Training Accuracy = 0.25\n",
            "Epoch 800/5000: Loss = 2.2545619740345675 | Training Accuracy = 0.25\n",
            "Epoch 850/5000: Loss = 2.2518121262750768 | Training Accuracy = 0.25\n",
            "Epoch 900/5000: Loss = 2.249090336190844 | Training Accuracy = 0.25\n",
            "Epoch 950/5000: Loss = 2.2463963510410876 | Training Accuracy = 0.25\n",
            "Epoch 1000/5000: Loss = 2.2437299191749314 | Training Accuracy = 0.25\n",
            "Epoch 1050/5000: Loss = 2.241090790048798 | Training Accuracy = 0.25\n",
            "Epoch 1100/5000: Loss = 2.238478714243543 | Training Accuracy = 0.25\n",
            "Epoch 1150/5000: Loss = 2.2358934434813023 | Training Accuracy = 0.25\n",
            "Epoch 1200/5000: Loss = 2.233334730642075 | Training Accuracy = 0.25\n",
            "Epoch 1250/5000: Loss = 2.230802329780003 | Training Accuracy = 0.25\n",
            "Epoch 1300/5000: Loss = 2.228295996139358 | Training Accuracy = 0.25\n",
            "Epoch 1350/5000: Loss = 2.2258154861702257 | Training Accuracy = 0.25\n",
            "Epoch 1400/5000: Loss = 2.223360557543871 | Training Accuracy = 0.25\n",
            "Epoch 1450/5000: Loss = 2.2209309691677896 | Training Accuracy = 0.25\n",
            "Epoch 1500/5000: Loss = 2.2185264812004357 | Training Accuracy = 0.25\n",
            "Epoch 1550/5000: Loss = 2.2161468550656096 | Training Accuracy = 0.25\n",
            "Epoch 1600/5000: Loss = 2.21379185346652 | Training Accuracy = 0.25\n",
            "Epoch 1650/5000: Loss = 2.211461240399497 | Training Accuracy = 0.25\n",
            "Epoch 1700/5000: Loss = 2.2091547811673578 | Training Accuracy = 0.25\n",
            "Epoch 1750/5000: Loss = 2.2068722423924245 | Training Accuracy = 0.25\n",
            "Epoch 1800/5000: Loss = 2.2046133920291804 | Training Accuracy = 0.25\n",
            "Epoch 1850/5000: Loss = 2.2023779993765755 | Training Accuracy = 0.25\n",
            "Epoch 1900/5000: Loss = 2.200165835089956 | Training Accuracy = 0.25\n",
            "Epoch 1950/5000: Loss = 2.197976671192638 | Training Accuracy = 0.25\n",
            "Epoch 2000/5000: Loss = 2.195810281087105 | Training Accuracy = 0.25\n",
            "Epoch 2050/5000: Loss = 2.193666439565839 | Training Accuracy = 0.25\n",
            "Epoch 2100/5000: Loss = 2.191544922821767 | Training Accuracy = 0.25\n",
            "Epoch 2150/5000: Loss = 2.189445508458342 | Training Accuracy = 0.25\n",
            "Epoch 2200/5000: Loss = 2.187367975499241 | Training Accuracy = 0.25\n",
            "Epoch 2250/5000: Loss = 2.1853121043976813 | Training Accuracy = 0.25\n",
            "Epoch 2300/5000: Loss = 2.183277677045359 | Training Accuracy = 0.25\n",
            "Epoch 2350/5000: Loss = 2.1812644767810068 | Training Accuracy = 0.25\n",
            "Epoch 2400/5000: Loss = 2.179272288398569 | Training Accuracy = 0.25\n",
            "Epoch 2450/5000: Loss = 2.1773008981549915 | Training Accuracy = 0.25\n",
            "Epoch 2500/5000: Loss = 2.1753500937776358 | Training Accuracy = 0.25\n",
            "Epoch 2550/5000: Loss = 2.17341966447131 | Training Accuracy = 0.25\n",
            "Epoch 2600/5000: Loss = 2.17150940092491 | Training Accuracy = 0.25\n",
            "Epoch 2650/5000: Loss = 2.1696190953176986 | Training Accuracy = 0.25\n",
            "Epoch 2700/5000: Loss = 2.167748541325187 | Training Accuracy = 0.25\n",
            "Epoch 2750/5000: Loss = 2.1658975341246545 | Training Accuracy = 0.25\n",
            "Epoch 2800/5000: Loss = 2.164065870400279 | Training Accuracy = 0.25\n",
            "Epoch 2850/5000: Loss = 2.162253348347906 | Training Accuracy = 0.25\n",
            "Epoch 2900/5000: Loss = 2.160459767679435 | Training Accuracy = 0.25\n",
            "Epoch 2950/5000: Loss = 2.158684929626848 | Training Accuracy = 0.25\n",
            "Epoch 3000/5000: Loss = 2.15692863694586 | Training Accuracy = 0.25\n",
            "Epoch 3050/5000: Loss = 2.1551906939192107 | Training Accuracy = 0.25\n",
            "Epoch 3100/5000: Loss = 2.1534709063596 | Training Accuracy = 0.25\n",
            "Epoch 3150/5000: Loss = 2.1517690816122523 | Training Accuracy = 0.25\n",
            "Epoch 3200/5000: Loss = 2.150085028557144 | Training Accuracy = 0.25\n",
            "Epoch 3250/5000: Loss = 2.1484185576108623 | Training Accuracy = 0.25\n",
            "Epoch 3300/5000: Loss = 2.1467694807281283 | Training Accuracy = 0.25\n",
            "Epoch 3350/5000: Loss = 2.1451376114029728 | Training Accuracy = 0.25\n",
            "Epoch 3400/5000: Loss = 2.143522764669574 | Training Accuracy = 0.25\n",
            "Epoch 3450/5000: Loss = 2.141924757102754 | Training Accuracy = 0.25\n",
            "Epoch 3500/5000: Loss = 2.1403434068181557 | Training Accuracy = 0.25\n",
            "Epoch 3550/5000: Loss = 2.13877853347208 | Training Accuracy = 0.25\n",
            "Epoch 3600/5000: Loss = 2.1372299582610106 | Training Accuracy = 0.25\n",
            "Epoch 3650/5000: Loss = 2.1356975039208175 | Training Accuracy = 0.25\n",
            "Epoch 3700/5000: Loss = 2.134180994725646 | Training Accuracy = 0.25\n",
            "Epoch 3750/5000: Loss = 2.1326802564865055 | Training Accuracy = 0.25\n",
            "Epoch 3800/5000: Loss = 2.131195116549546 | Training Accuracy = 0.25\n",
            "Epoch 3850/5000: Loss = 2.129725403794043 | Training Accuracy = 0.25\n",
            "Epoch 3900/5000: Loss = 2.1282709486300893 | Training Accuracy = 0.25\n",
            "Epoch 3950/5000: Loss = 2.1268315829959974 | Training Accuracy = 0.25\n",
            "Epoch 4000/5000: Loss = 2.1254071403554247 | Training Accuracy = 0.25\n",
            "Epoch 4050/5000: Loss = 2.123997455694217 | Training Accuracy = 0.25\n",
            "Epoch 4100/5000: Loss = 2.122602365516987 | Training Accuracy = 0.25\n",
            "Epoch 4150/5000: Loss = 2.1212217078434166 | Training Accuracy = 0.25\n",
            "Epoch 4200/5000: Loss = 2.119855322204317 | Training Accuracy = 0.25\n",
            "Epoch 4250/5000: Loss = 2.1185030496374178 | Training Accuracy = 0.25\n",
            "Epoch 4300/5000: Loss = 2.1171647326829155 | Training Accuracy = 0.25\n",
            "Epoch 4350/5000: Loss = 2.115840215378783 | Training Accuracy = 0.25\n",
            "Epoch 4400/5000: Loss = 2.114529343255831 | Training Accuracy = 0.25\n",
            "Epoch 4450/5000: Loss = 2.1132319633325483 | Training Accuracy = 0.25\n",
            "Epoch 4500/5000: Loss = 2.1119479241097108 | Training Accuracy = 0.25\n",
            "Epoch 4550/5000: Loss = 2.1106770755647766 | Training Accuracy = 0.25\n",
            "Epoch 4600/5000: Loss = 2.109419269146059 | Training Accuracy = 0.25\n",
            "Epoch 4650/5000: Loss = 2.1081743577666985 | Training Accuracy = 0.25\n",
            "Epoch 4700/5000: Loss = 2.106942195798428 | Training Accuracy = 0.25\n",
            "Epoch 4750/5000: Loss = 2.1057226390651436 | Training Accuracy = 0.25\n",
            "Epoch 4800/5000: Loss = 2.104515544836286 | Training Accuracy = 0.25\n",
            "Epoch 4850/5000: Loss = 2.103320771820031 | Training Accuracy = 0.25\n",
            "Epoch 4900/5000: Loss = 2.1021381801563073 | Training Accuracy = 0.25\n",
            "Epoch 4950/5000: Loss = 2.1009676314096373 | Training Accuracy = 0.25\n"
          ],
          "name": "stdout"
        },
        {
          "output_type": "execute_result",
          "data": {
            "text/plain": [
              "0.10077777777777777"
            ]
          },
          "metadata": {
            "tags": []
          },
          "execution_count": 42
        }
      ]
    },
    {
      "cell_type": "markdown",
      "metadata": {
        "id": "OnfM0EN2bi1F"
      },
      "source": [
        "**Loading the original dataset again**"
      ]
    },
    {
      "cell_type": "code",
      "metadata": {
        "colab": {
          "base_uri": "https://localhost:8080/"
        },
        "id": "Mo4q995YacYp",
        "outputId": "cf759594-541b-4dfb-a8ca-41a9e81dd1f8"
      },
      "source": [
        "# Read the h5 file\n",
        "h5_Vehicle = h5py.File('Part - 4 - Autonomous_Vehicles_SVHN_single_grey1.h5', 'r')\n",
        "\n",
        "# Load the training, validation and test sets\n",
        "X_train = h5_Vehicle['X_train'][:]\n",
        "y_train_o = h5_Vehicle['y_train'][:]\n",
        "X_val = h5_Vehicle['X_val'][:]\n",
        "y_val_o = h5_Vehicle['y_val'][:]\n",
        "X_test = h5_Vehicle['X_test'][:]\n",
        "y_test_o = h5_Vehicle['y_test'][:]\n",
        "\n",
        "print('Reshaping X data: (n, 32, 32) => (n, 1024)'); print('--'*40)\n",
        "X_train = X_train.reshape((X_train.shape[0], -1))\n",
        "X_val = X_val.reshape((X_val.shape[0], -1))\n",
        "X_test = X_test.reshape((X_test.shape[0], -1))\n",
        "\n",
        "print('Making sure that the values are float so that we can get decimal points after division'); print('--'*40)\n",
        "X_train = X_train.astype('float32')\n",
        "X_val = X_val.astype('float32')\n",
        "X_test = X_test.astype('float32')\n",
        "\n",
        "print('Normalizing the RGB codes by dividing it to the max RGB value'); print('--'*40)\n",
        "X_train /= 255\n",
        "X_val /= 255\n",
        "X_test /= 255\n",
        "\n",
        "print('Converting y data into categorical (one-hot encoding)'); print('--'*40)\n",
        "y_train = to_categorical(y_train_o)\n",
        "y_val = to_categorical(y_val_o)\n",
        "y_test = to_categorical(y_test_o)"
      ],
      "execution_count": 44,
      "outputs": [
        {
          "output_type": "stream",
          "text": [
            "Reshaping X data: (n, 32, 32) => (n, 1024)\n",
            "--------------------------------------------------------------------------------\n",
            "Making sure that the values are float so that we can get decimal points after division\n",
            "--------------------------------------------------------------------------------\n",
            "Normalizing the RGB codes by dividing it to the max RGB value\n",
            "--------------------------------------------------------------------------------\n",
            "Converting y data into categorical (one-hot encoding)\n",
            "--------------------------------------------------------------------------------\n"
          ],
          "name": "stdout"
        }
      ]
    },
    {
      "cell_type": "markdown",
      "metadata": {
        "id": "kIQuqXBvb6tA"
      },
      "source": [
        "**Start with small regularization and find learning rate that makes the loss go down.**"
      ]
    },
    {
      "cell_type": "code",
      "metadata": {
        "colab": {
          "base_uri": "https://localhost:8080/"
        },
        "id": "KAOZs2xFby0b",
        "outputId": "ae4a3dbf-0008-4fb1-85f1-70c6ed3d9ec5"
      },
      "source": [
        "lr = 1e-7\n",
        "Lambda = 1e-7\n",
        "train_and_test_loop(500, lr, Lambda)"
      ],
      "execution_count": 45,
      "outputs": [
        {
          "output_type": "stream",
          "text": [
            "Epoch 0/500: Loss = 2.3100252019112637 | Training Accuracy = 0.10245238095238095\n",
            "Epoch 50/500: Loss = 2.3075806310263567 | Training Accuracy = 0.10207142857142858\n",
            "Epoch 100/500: Loss = 2.306031700087846 | Training Accuracy = 0.1015\n",
            "Epoch 150/500: Loss = 2.305042411579897 | Training Accuracy = 0.10019047619047619\n",
            "Epoch 200/500: Loss = 2.3044056325756435 | Training Accuracy = 0.09988095238095238\n",
            "Epoch 250/500: Loss = 2.3039921173807456 | Training Accuracy = 0.09854761904761905\n",
            "Epoch 300/500: Loss = 2.3037205595440673 | Training Accuracy = 0.09671428571428571\n",
            "Epoch 350/500: Loss = 2.303539522404581 | Training Accuracy = 0.09511904761904762\n",
            "Epoch 400/500: Loss = 2.3034163366739833 | Training Accuracy = 0.09416666666666666\n",
            "Epoch 450/500: Loss = 2.3033301932319805 | Training Accuracy = 0.09264285714285714\n"
          ],
          "name": "stdout"
        },
        {
          "output_type": "execute_result",
          "data": {
            "text/plain": [
              "0.08572222222222223"
            ]
          },
          "metadata": {
            "tags": []
          },
          "execution_count": 45
        }
      ]
    },
    {
      "cell_type": "code",
      "metadata": {
        "colab": {
          "base_uri": "https://localhost:8080/"
        },
        "id": "bTOj52Lib9uM",
        "outputId": "dc6d2ad0-636b-4077-d1aa-dfb5fbd92332"
      },
      "source": [
        "# Changing learning rate to 1e-3\n",
        "\n",
        "lr = 0.001\n",
        "Lambda = 1e-7\n",
        "train_and_test_loop(500, lr, Lambda)"
      ],
      "execution_count": 46,
      "outputs": [
        {
          "output_type": "stream",
          "text": [
            "Epoch 0/500: Loss = 2.3054600951507305 | Training Accuracy = 0.11395238095238096\n",
            "Epoch 50/500: Loss = 2.259522161398282 | Training Accuracy = 0.19652380952380952\n",
            "Epoch 100/500: Loss = 2.2509994247963587 | Training Accuracy = 0.20873809523809525\n",
            "Epoch 150/500: Loss = 2.2466623930996477 | Training Accuracy = 0.2149047619047619\n",
            "Epoch 200/500: Loss = 2.2437567193893795 | Training Accuracy = 0.21921428571428572\n",
            "Epoch 250/500: Loss = 2.2415719552403033 | Training Accuracy = 0.22171428571428572\n",
            "Epoch 300/500: Loss = 2.2398229369841203 | Training Accuracy = 0.2241904761904762\n",
            "Epoch 350/500: Loss = 2.2383653065434563 | Training Accuracy = 0.22564285714285715\n",
            "Epoch 400/500: Loss = 2.237115482633667 | Training Accuracy = 0.22628571428571428\n",
            "Epoch 450/500: Loss = 2.236020749372444 | Training Accuracy = 0.22785714285714287\n"
          ],
          "name": "stdout"
        },
        {
          "output_type": "execute_result",
          "data": {
            "text/plain": [
              "0.21066666666666667"
            ]
          },
          "metadata": {
            "tags": []
          },
          "execution_count": 46
        }
      ]
    },
    {
      "cell_type": "markdown",
      "metadata": {
        "id": "MdM-urYOcStj"
      },
      "source": [
        "**Optimizing hyperparameter and running a deeper search**"
      ]
    },
    {
      "cell_type": "code",
      "metadata": {
        "colab": {
          "base_uri": "https://localhost:8080/"
        },
        "id": "AlEFFLu8cKHL",
        "outputId": "2559e00f-7a57-4299-a859-8e371d9a2d5f"
      },
      "source": [
        "import math\n",
        "for i in range(1, 10):\n",
        "    lr = math.pow(10, np.random.uniform(-3.0, -2.0))\n",
        "    Lambda = math.pow(10, np.random.uniform(-5, 2))\n",
        "    best_acc = train_and_test_loop(100, lr, Lambda, False)\n",
        "    print(\"Try {0}/{1}: Best_val_acc: {2}, lr: {3}, Lambda: {4}\\n\".format(i, 10, best_acc, lr, Lambda))"
      ],
      "execution_count": 47,
      "outputs": [
        {
          "output_type": "stream",
          "text": [
            "Try 1/10: Best_val_acc: 0.183, lr: 0.006194881356749269, Lambda: 3.0674849905942456e-05\n",
            "\n",
            "Try 2/10: Best_val_acc: 0.204, lr: 0.005446364406380019, Lambda: 51.87240826024816\n",
            "\n",
            "Try 3/10: Best_val_acc: 0.2088888888888889, lr: 0.0016522382707245898, Lambda: 0.1939116277632319\n",
            "\n",
            "Try 4/10: Best_val_acc: 0.19822222222222222, lr: 0.0017057627561567893, Lambda: 2.518863723902807\n",
            "\n",
            "Try 5/10: Best_val_acc: 0.19066666666666668, lr: 0.005152224038963205, Lambda: 1.2143041794020415e-05\n",
            "\n",
            "Try 6/10: Best_val_acc: 0.20827777777777778, lr: 0.00921935228718037, Lambda: 0.0004350800957907299\n",
            "\n",
            "Try 7/10: Best_val_acc: 0.18577777777777776, lr: 0.00878261288169845, Lambda: 0.0035111612834760712\n",
            "\n",
            "Try 8/10: Best_val_acc: 0.19533333333333333, lr: 0.006090543136815944, Lambda: 13.609433466281665\n",
            "\n",
            "Try 9/10: Best_val_acc: 0.18994444444444444, lr: 0.007509709326301158, Lambda: 2.3352940673188255e-05\n",
            "\n"
          ],
          "name": "stdout"
        }
      ]
    },
    {
      "cell_type": "markdown",
      "metadata": {
        "id": "RTRo6SxPcpj2"
      },
      "source": [
        "**Observation:**\n",
        "\n",
        "Best accuracy achieved using this method after hyperparameter optimization: ~21%"
      ]
    },
    {
      "cell_type": "markdown",
      "metadata": {
        "id": "19rU6AE4c-bu"
      },
      "source": [
        "## **Modelling - Neural Network**\n",
        "\n",
        "**NN model, Sigmoid activation functions, SGD optimizer**"
      ]
    },
    {
      "cell_type": "code",
      "metadata": {
        "colab": {
          "base_uri": "https://localhost:8080/"
        },
        "id": "eiMbYU5vchKU",
        "outputId": "82050953-75be-412f-de22-02148edaf1ef"
      },
      "source": [
        "print('NN model with sigmoid activations'); print('----'*20)\n",
        "# Initialize the neural network classifier\n",
        "model = Sequential()\n",
        "\n",
        "# Input Layer - adding input layer and activation functions sigmoid\n",
        "model.add(Dense(128, input_shape = (1024, )))\n",
        "# Adding activation function\n",
        "model.add(Activation('sigmoid'))\n",
        "\n",
        "#Hidden Layer 1 - adding first hidden layer\n",
        "model.add(Dense(64))\n",
        "# Adding activation function\n",
        "model.add(Activation('sigmoid'))\n",
        "\n",
        "# Output Layer - adding output layer which is of 10 nodes (digits)\n",
        "model.add(Dense(10))\n",
        "# Adding activation function - softmax for multiclass classification\n",
        "model.add(Activation('softmax'))"
      ],
      "execution_count": 48,
      "outputs": [
        {
          "output_type": "stream",
          "text": [
            "NN model with sigmoid activations\n",
            "--------------------------------------------------------------------------------\n"
          ],
          "name": "stdout"
        }
      ]
    },
    {
      "cell_type": "code",
      "metadata": {
        "colab": {
          "base_uri": "https://localhost:8080/"
        },
        "id": "v77mS5DldSoJ",
        "outputId": "6b0e5d0b-562c-4f5b-dc41-c2813c5eb8e0"
      },
      "source": [
        "model.summary()"
      ],
      "execution_count": 49,
      "outputs": [
        {
          "output_type": "stream",
          "text": [
            "Model: \"sequential\"\n",
            "_________________________________________________________________\n",
            "Layer (type)                 Output Shape              Param #   \n",
            "=================================================================\n",
            "dense (Dense)                (None, 128)               131200    \n",
            "_________________________________________________________________\n",
            "activation (Activation)      (None, 128)               0         \n",
            "_________________________________________________________________\n",
            "dense_1 (Dense)              (None, 64)                8256      \n",
            "_________________________________________________________________\n",
            "activation_1 (Activation)    (None, 64)                0         \n",
            "_________________________________________________________________\n",
            "dense_2 (Dense)              (None, 10)                650       \n",
            "_________________________________________________________________\n",
            "activation_2 (Activation)    (None, 10)                0         \n",
            "=================================================================\n",
            "Total params: 140,106\n",
            "Trainable params: 140,106\n",
            "Non-trainable params: 0\n",
            "_________________________________________________________________\n"
          ],
          "name": "stdout"
        }
      ]
    },
    {
      "cell_type": "code",
      "metadata": {
        "colab": {
          "base_uri": "https://localhost:8080/"
        },
        "id": "ClKQXxSKdVZr",
        "outputId": "bf66aab0-0607-41f1-d8f6-0732f98336da"
      },
      "source": [
        "# compiling the neural network classifier, sgd optimizer\n",
        "sgd = optimizers.SGD(lr = 0.01)\n",
        "model.compile(optimizer = sgd, loss = 'categorical_crossentropy', metrics = ['accuracy'])\n",
        "\n",
        "# Fitting the neural network for training\n",
        "history = model.fit(X_train, y_train, validation_data = (X_val, y_val), batch_size = 200, epochs = 100, verbose = 1)"
      ],
      "execution_count": 51,
      "outputs": [
        {
          "output_type": "stream",
          "text": [
            "Epoch 1/100\n",
            "210/210 [==============================] - 3s 12ms/step - loss: 2.3747 - accuracy: 0.1006 - val_loss: 2.3027 - val_accuracy: 0.1032\n",
            "Epoch 2/100\n",
            "210/210 [==============================] - 2s 10ms/step - loss: 2.3030 - accuracy: 0.1005 - val_loss: 2.3028 - val_accuracy: 0.1006\n",
            "Epoch 3/100\n",
            "210/210 [==============================] - 2s 10ms/step - loss: 2.3030 - accuracy: 0.1003 - val_loss: 2.3028 - val_accuracy: 0.1019\n",
            "Epoch 4/100\n",
            "210/210 [==============================] - 2s 10ms/step - loss: 2.3029 - accuracy: 0.0995 - val_loss: 2.3026 - val_accuracy: 0.1011\n",
            "Epoch 5/100\n",
            "210/210 [==============================] - 2s 10ms/step - loss: 2.3028 - accuracy: 0.1025 - val_loss: 2.3027 - val_accuracy: 0.0993\n",
            "Epoch 6/100\n",
            "210/210 [==============================] - 2s 10ms/step - loss: 2.3028 - accuracy: 0.0998 - val_loss: 2.3025 - val_accuracy: 0.1060\n",
            "Epoch 7/100\n",
            "210/210 [==============================] - 2s 9ms/step - loss: 2.3027 - accuracy: 0.1037 - val_loss: 2.3025 - val_accuracy: 0.1028\n",
            "Epoch 8/100\n",
            "210/210 [==============================] - 2s 10ms/step - loss: 2.3025 - accuracy: 0.1040 - val_loss: 2.3024 - val_accuracy: 0.1097\n",
            "Epoch 9/100\n",
            "210/210 [==============================] - 2s 10ms/step - loss: 2.3024 - accuracy: 0.1096 - val_loss: 2.3024 - val_accuracy: 0.1068\n",
            "Epoch 10/100\n",
            "210/210 [==============================] - 2s 10ms/step - loss: 2.3023 - accuracy: 0.1051 - val_loss: 2.3025 - val_accuracy: 0.1048\n",
            "Epoch 11/100\n",
            "210/210 [==============================] - 2s 10ms/step - loss: 2.3026 - accuracy: 0.1023 - val_loss: 2.3027 - val_accuracy: 0.1076\n",
            "Epoch 12/100\n",
            "210/210 [==============================] - 2s 10ms/step - loss: 2.3021 - accuracy: 0.1088 - val_loss: 2.3022 - val_accuracy: 0.1039\n",
            "Epoch 13/100\n",
            "210/210 [==============================] - 2s 10ms/step - loss: 2.3023 - accuracy: 0.1063 - val_loss: 2.3022 - val_accuracy: 0.1130\n",
            "Epoch 14/100\n",
            "210/210 [==============================] - 2s 10ms/step - loss: 2.3022 - accuracy: 0.1088 - val_loss: 2.3021 - val_accuracy: 0.1049\n",
            "Epoch 15/100\n",
            "210/210 [==============================] - 2s 10ms/step - loss: 2.3023 - accuracy: 0.1045 - val_loss: 2.3023 - val_accuracy: 0.1038\n",
            "Epoch 16/100\n",
            "210/210 [==============================] - 2s 10ms/step - loss: 2.3024 - accuracy: 0.1042 - val_loss: 2.3023 - val_accuracy: 0.1017\n",
            "Epoch 17/100\n",
            "210/210 [==============================] - 2s 10ms/step - loss: 2.3023 - accuracy: 0.1081 - val_loss: 2.3022 - val_accuracy: 0.1137\n",
            "Epoch 18/100\n",
            "210/210 [==============================] - 2s 10ms/step - loss: 2.3020 - accuracy: 0.1099 - val_loss: 2.3021 - val_accuracy: 0.1041\n",
            "Epoch 19/100\n",
            "210/210 [==============================] - 2s 10ms/step - loss: 2.3020 - accuracy: 0.1075 - val_loss: 2.3020 - val_accuracy: 0.1096\n",
            "Epoch 20/100\n",
            "210/210 [==============================] - 2s 10ms/step - loss: 2.3021 - accuracy: 0.1062 - val_loss: 2.3020 - val_accuracy: 0.1116\n",
            "Epoch 21/100\n",
            "210/210 [==============================] - 2s 10ms/step - loss: 2.3020 - accuracy: 0.1100 - val_loss: 2.3019 - val_accuracy: 0.1041\n",
            "Epoch 22/100\n",
            "210/210 [==============================] - 2s 10ms/step - loss: 2.3018 - accuracy: 0.1033 - val_loss: 2.3020 - val_accuracy: 0.1163\n",
            "Epoch 23/100\n",
            "210/210 [==============================] - 2s 10ms/step - loss: 2.3021 - accuracy: 0.1114 - val_loss: 2.3018 - val_accuracy: 0.1148\n",
            "Epoch 24/100\n",
            "210/210 [==============================] - 2s 10ms/step - loss: 2.3019 - accuracy: 0.1076 - val_loss: 2.3018 - val_accuracy: 0.1087\n",
            "Epoch 25/100\n",
            "210/210 [==============================] - 2s 10ms/step - loss: 2.3018 - accuracy: 0.1097 - val_loss: 2.3018 - val_accuracy: 0.1031\n",
            "Epoch 26/100\n",
            "210/210 [==============================] - 2s 10ms/step - loss: 2.3020 - accuracy: 0.1091 - val_loss: 2.3017 - val_accuracy: 0.1125\n",
            "Epoch 27/100\n",
            "210/210 [==============================] - 2s 10ms/step - loss: 2.3017 - accuracy: 0.1093 - val_loss: 2.3016 - val_accuracy: 0.1111\n",
            "Epoch 28/100\n",
            "210/210 [==============================] - 2s 10ms/step - loss: 2.3017 - accuracy: 0.1113 - val_loss: 2.3017 - val_accuracy: 0.1091\n",
            "Epoch 29/100\n",
            "210/210 [==============================] - 2s 10ms/step - loss: 2.3018 - accuracy: 0.1096 - val_loss: 2.3018 - val_accuracy: 0.1021\n",
            "Epoch 30/100\n",
            "210/210 [==============================] - 2s 10ms/step - loss: 2.3015 - accuracy: 0.1106 - val_loss: 2.3016 - val_accuracy: 0.1130\n",
            "Epoch 31/100\n",
            "210/210 [==============================] - 2s 10ms/step - loss: 2.3016 - accuracy: 0.1111 - val_loss: 2.3015 - val_accuracy: 0.1068\n",
            "Epoch 32/100\n",
            "210/210 [==============================] - 2s 10ms/step - loss: 2.3016 - accuracy: 0.1091 - val_loss: 2.3015 - val_accuracy: 0.1090\n",
            "Epoch 33/100\n",
            "210/210 [==============================] - 2s 10ms/step - loss: 2.3017 - accuracy: 0.1093 - val_loss: 2.3015 - val_accuracy: 0.1131\n",
            "Epoch 34/100\n",
            "210/210 [==============================] - 2s 10ms/step - loss: 2.3018 - accuracy: 0.1118 - val_loss: 2.3015 - val_accuracy: 0.1143\n",
            "Epoch 35/100\n",
            "210/210 [==============================] - 2s 10ms/step - loss: 2.3015 - accuracy: 0.1138 - val_loss: 2.3014 - val_accuracy: 0.1084\n",
            "Epoch 36/100\n",
            "210/210 [==============================] - 2s 9ms/step - loss: 2.3014 - accuracy: 0.1091 - val_loss: 2.3015 - val_accuracy: 0.1060\n",
            "Epoch 37/100\n",
            "210/210 [==============================] - 2s 10ms/step - loss: 2.3015 - accuracy: 0.1098 - val_loss: 2.3013 - val_accuracy: 0.1225\n",
            "Epoch 38/100\n",
            "210/210 [==============================] - 2s 10ms/step - loss: 2.3013 - accuracy: 0.1156 - val_loss: 2.3014 - val_accuracy: 0.1104\n",
            "Epoch 39/100\n",
            "210/210 [==============================] - 2s 10ms/step - loss: 2.3015 - accuracy: 0.1113 - val_loss: 2.3012 - val_accuracy: 0.1089\n",
            "Epoch 40/100\n",
            "210/210 [==============================] - 2s 10ms/step - loss: 2.3013 - accuracy: 0.1135 - val_loss: 2.3013 - val_accuracy: 0.1163\n",
            "Epoch 41/100\n",
            "210/210 [==============================] - 2s 10ms/step - loss: 2.3011 - accuracy: 0.1129 - val_loss: 2.3011 - val_accuracy: 0.1194\n",
            "Epoch 42/100\n",
            "210/210 [==============================] - 2s 10ms/step - loss: 2.3011 - accuracy: 0.1203 - val_loss: 2.3011 - val_accuracy: 0.1261\n",
            "Epoch 43/100\n",
            "210/210 [==============================] - 2s 10ms/step - loss: 2.3013 - accuracy: 0.1177 - val_loss: 2.3012 - val_accuracy: 0.1149\n",
            "Epoch 44/100\n",
            "210/210 [==============================] - 2s 10ms/step - loss: 2.3011 - accuracy: 0.1153 - val_loss: 2.3011 - val_accuracy: 0.1160\n",
            "Epoch 45/100\n",
            "210/210 [==============================] - 2s 10ms/step - loss: 2.3011 - accuracy: 0.1142 - val_loss: 2.3010 - val_accuracy: 0.1193\n",
            "Epoch 46/100\n",
            "210/210 [==============================] - 2s 10ms/step - loss: 2.3010 - accuracy: 0.1185 - val_loss: 2.3010 - val_accuracy: 0.1135\n",
            "Epoch 47/100\n",
            "210/210 [==============================] - 2s 10ms/step - loss: 2.3011 - accuracy: 0.1138 - val_loss: 2.3011 - val_accuracy: 0.1118\n",
            "Epoch 48/100\n",
            "210/210 [==============================] - 2s 10ms/step - loss: 2.3010 - accuracy: 0.1175 - val_loss: 2.3009 - val_accuracy: 0.1193\n",
            "Epoch 49/100\n",
            "210/210 [==============================] - 2s 10ms/step - loss: 2.3010 - accuracy: 0.1179 - val_loss: 2.3009 - val_accuracy: 0.1196\n",
            "Epoch 50/100\n",
            "210/210 [==============================] - 2s 10ms/step - loss: 2.3009 - accuracy: 0.1198 - val_loss: 2.3008 - val_accuracy: 0.1278\n",
            "Epoch 51/100\n",
            "210/210 [==============================] - 2s 10ms/step - loss: 2.3007 - accuracy: 0.1262 - val_loss: 2.3009 - val_accuracy: 0.1211\n",
            "Epoch 52/100\n",
            "210/210 [==============================] - 2s 10ms/step - loss: 2.3010 - accuracy: 0.1159 - val_loss: 2.3008 - val_accuracy: 0.1262\n",
            "Epoch 53/100\n",
            "210/210 [==============================] - 2s 10ms/step - loss: 2.3008 - accuracy: 0.1183 - val_loss: 2.3009 - val_accuracy: 0.1168\n",
            "Epoch 54/100\n",
            "210/210 [==============================] - 2s 10ms/step - loss: 2.3009 - accuracy: 0.1208 - val_loss: 2.3009 - val_accuracy: 0.1118\n",
            "Epoch 55/100\n",
            "210/210 [==============================] - 2s 10ms/step - loss: 2.3009 - accuracy: 0.1161 - val_loss: 2.3008 - val_accuracy: 0.1151\n",
            "Epoch 56/100\n",
            "210/210 [==============================] - 2s 10ms/step - loss: 2.3009 - accuracy: 0.1154 - val_loss: 2.3008 - val_accuracy: 0.1181\n",
            "Epoch 57/100\n",
            "210/210 [==============================] - 2s 10ms/step - loss: 2.3009 - accuracy: 0.1164 - val_loss: 2.3006 - val_accuracy: 0.1358\n",
            "Epoch 58/100\n",
            "210/210 [==============================] - 2s 10ms/step - loss: 2.3007 - accuracy: 0.1232 - val_loss: 2.3007 - val_accuracy: 0.1190\n",
            "Epoch 59/100\n",
            "210/210 [==============================] - 2s 10ms/step - loss: 2.3008 - accuracy: 0.1218 - val_loss: 2.3006 - val_accuracy: 0.1115\n",
            "Epoch 60/100\n",
            "210/210 [==============================] - 2s 10ms/step - loss: 2.3007 - accuracy: 0.1152 - val_loss: 2.3005 - val_accuracy: 0.1307\n",
            "Epoch 61/100\n",
            "210/210 [==============================] - 2s 10ms/step - loss: 2.3004 - accuracy: 0.1228 - val_loss: 2.3005 - val_accuracy: 0.1320\n",
            "Epoch 62/100\n",
            "210/210 [==============================] - 2s 10ms/step - loss: 2.3005 - accuracy: 0.1265 - val_loss: 2.3006 - val_accuracy: 0.1233\n",
            "Epoch 63/100\n",
            "210/210 [==============================] - 2s 10ms/step - loss: 2.3005 - accuracy: 0.1213 - val_loss: 2.3005 - val_accuracy: 0.1299\n",
            "Epoch 64/100\n",
            "210/210 [==============================] - 2s 10ms/step - loss: 2.3004 - accuracy: 0.1262 - val_loss: 2.3006 - val_accuracy: 0.1145\n",
            "Epoch 65/100\n",
            "210/210 [==============================] - 2s 10ms/step - loss: 2.3005 - accuracy: 0.1235 - val_loss: 2.3004 - val_accuracy: 0.1319\n",
            "Epoch 66/100\n",
            "210/210 [==============================] - 2s 10ms/step - loss: 2.3005 - accuracy: 0.1218 - val_loss: 2.3004 - val_accuracy: 0.1331\n",
            "Epoch 67/100\n",
            "210/210 [==============================] - 2s 11ms/step - loss: 2.3008 - accuracy: 0.1189 - val_loss: 2.3004 - val_accuracy: 0.1199\n",
            "Epoch 68/100\n",
            "210/210 [==============================] - 2s 10ms/step - loss: 2.3005 - accuracy: 0.1236 - val_loss: 2.3003 - val_accuracy: 0.1344\n",
            "Epoch 69/100\n",
            "210/210 [==============================] - 2s 10ms/step - loss: 2.3003 - accuracy: 0.1216 - val_loss: 2.3003 - val_accuracy: 0.1412\n",
            "Epoch 70/100\n",
            "210/210 [==============================] - 2s 11ms/step - loss: 2.3004 - accuracy: 0.1317 - val_loss: 2.3002 - val_accuracy: 0.1169\n",
            "Epoch 71/100\n",
            "210/210 [==============================] - 2s 11ms/step - loss: 2.3003 - accuracy: 0.1171 - val_loss: 2.3002 - val_accuracy: 0.1291\n",
            "Epoch 72/100\n",
            "210/210 [==============================] - 2s 11ms/step - loss: 2.3004 - accuracy: 0.1251 - val_loss: 2.3001 - val_accuracy: 0.1216\n",
            "Epoch 73/100\n",
            "210/210 [==============================] - 2s 11ms/step - loss: 2.3004 - accuracy: 0.1221 - val_loss: 2.3001 - val_accuracy: 0.1256\n",
            "Epoch 74/100\n",
            "210/210 [==============================] - 2s 11ms/step - loss: 2.3003 - accuracy: 0.1267 - val_loss: 2.3001 - val_accuracy: 0.1174\n",
            "Epoch 75/100\n",
            "210/210 [==============================] - 2s 11ms/step - loss: 2.3003 - accuracy: 0.1195 - val_loss: 2.3000 - val_accuracy: 0.1288\n",
            "Epoch 76/100\n",
            "210/210 [==============================] - 2s 11ms/step - loss: 2.3000 - accuracy: 0.1251 - val_loss: 2.3002 - val_accuracy: 0.1236\n",
            "Epoch 77/100\n",
            "210/210 [==============================] - 2s 10ms/step - loss: 2.3004 - accuracy: 0.1238 - val_loss: 2.3000 - val_accuracy: 0.1255\n",
            "Epoch 78/100\n",
            "210/210 [==============================] - 2s 10ms/step - loss: 2.3003 - accuracy: 0.1303 - val_loss: 2.2999 - val_accuracy: 0.1260\n",
            "Epoch 79/100\n",
            "210/210 [==============================] - 2s 11ms/step - loss: 2.2998 - accuracy: 0.1248 - val_loss: 2.2999 - val_accuracy: 0.1429\n",
            "Epoch 80/100\n",
            "210/210 [==============================] - 2s 10ms/step - loss: 2.3002 - accuracy: 0.1343 - val_loss: 2.2998 - val_accuracy: 0.1285\n",
            "Epoch 81/100\n",
            "210/210 [==============================] - 2s 10ms/step - loss: 2.3001 - accuracy: 0.1280 - val_loss: 2.2998 - val_accuracy: 0.1279\n",
            "Epoch 82/100\n",
            "210/210 [==============================] - 2s 10ms/step - loss: 2.2998 - accuracy: 0.1174 - val_loss: 2.3000 - val_accuracy: 0.1258\n",
            "Epoch 83/100\n",
            "210/210 [==============================] - 2s 10ms/step - loss: 2.2999 - accuracy: 0.1301 - val_loss: 2.2998 - val_accuracy: 0.1241\n",
            "Epoch 84/100\n",
            "210/210 [==============================] - 2s 10ms/step - loss: 2.2997 - accuracy: 0.1294 - val_loss: 2.2997 - val_accuracy: 0.1276\n",
            "Epoch 85/100\n",
            "210/210 [==============================] - 2s 10ms/step - loss: 2.2998 - accuracy: 0.1278 - val_loss: 2.2997 - val_accuracy: 0.1187\n",
            "Epoch 86/100\n",
            "210/210 [==============================] - 2s 10ms/step - loss: 2.2999 - accuracy: 0.1231 - val_loss: 2.2997 - val_accuracy: 0.1394\n",
            "Epoch 87/100\n",
            "210/210 [==============================] - 2s 10ms/step - loss: 2.2999 - accuracy: 0.1305 - val_loss: 2.2998 - val_accuracy: 0.1219\n",
            "Epoch 88/100\n",
            "210/210 [==============================] - 2s 10ms/step - loss: 2.2998 - accuracy: 0.1308 - val_loss: 2.2996 - val_accuracy: 0.1315\n",
            "Epoch 89/100\n",
            "210/210 [==============================] - 2s 10ms/step - loss: 2.2993 - accuracy: 0.1363 - val_loss: 2.2996 - val_accuracy: 0.1100\n",
            "Epoch 90/100\n",
            "210/210 [==============================] - 2s 10ms/step - loss: 2.2997 - accuracy: 0.1205 - val_loss: 2.2995 - val_accuracy: 0.1472\n",
            "Epoch 91/100\n",
            "210/210 [==============================] - 2s 10ms/step - loss: 2.2996 - accuracy: 0.1379 - val_loss: 2.2996 - val_accuracy: 0.1285\n",
            "Epoch 92/100\n",
            "210/210 [==============================] - 2s 10ms/step - loss: 2.2996 - accuracy: 0.1334 - val_loss: 2.2994 - val_accuracy: 0.1283\n",
            "Epoch 93/100\n",
            "210/210 [==============================] - 2s 10ms/step - loss: 2.2996 - accuracy: 0.1360 - val_loss: 2.2994 - val_accuracy: 0.1297\n",
            "Epoch 94/100\n",
            "210/210 [==============================] - 2s 10ms/step - loss: 2.2995 - accuracy: 0.1273 - val_loss: 2.2995 - val_accuracy: 0.1405\n",
            "Epoch 95/100\n",
            "210/210 [==============================] - 2s 10ms/step - loss: 2.2995 - accuracy: 0.1301 - val_loss: 2.2994 - val_accuracy: 0.1409\n",
            "Epoch 96/100\n",
            "210/210 [==============================] - 2s 10ms/step - loss: 2.2995 - accuracy: 0.1307 - val_loss: 2.2993 - val_accuracy: 0.1452\n",
            "Epoch 97/100\n",
            "210/210 [==============================] - 2s 10ms/step - loss: 2.2996 - accuracy: 0.1296 - val_loss: 2.2993 - val_accuracy: 0.1268\n",
            "Epoch 98/100\n",
            "210/210 [==============================] - 2s 11ms/step - loss: 2.2992 - accuracy: 0.1299 - val_loss: 2.2992 - val_accuracy: 0.1282\n",
            "Epoch 99/100\n",
            "210/210 [==============================] - 2s 10ms/step - loss: 2.2991 - accuracy: 0.1319 - val_loss: 2.2993 - val_accuracy: 0.1341\n",
            "Epoch 100/100\n",
            "210/210 [==============================] - 2s 10ms/step - loss: 2.2991 - accuracy: 0.1300 - val_loss: 2.2991 - val_accuracy: 0.1480\n"
          ],
          "name": "stdout"
        }
      ]
    },
    {
      "cell_type": "code",
      "metadata": {
        "colab": {
          "base_uri": "https://localhost:8080/"
        },
        "id": "hWS4LAF0fBo9",
        "outputId": "669f7dae-aab7-4686-ee38-c576b021f61a"
      },
      "source": [
        "print('Evaluate NN model with sigmoid activations'); print('----'*20)\n",
        "results1 = model.evaluate(X_val, y_val)\n",
        "print('Validation accuracy: {}'.format(round(results1[1]*100, 2), '%'))"
      ],
      "execution_count": 52,
      "outputs": [
        {
          "output_type": "stream",
          "text": [
            "Evaluate NN model with sigmoid activations\n",
            "--------------------------------------------------------------------------------\n",
            "1875/1875 [==============================] - 4s 2ms/step - loss: 2.2991 - accuracy: 0.1480\n",
            "Validation accuracy: 14.8\n"
          ],
          "name": "stdout"
        }
      ]
    },
    {
      "cell_type": "markdown",
      "metadata": {
        "id": "n5GcygiIfVl9"
      },
      "source": [
        "**NN model, Sigmoid activation functions, SGD optimizer: Changing Learning Rate**"
      ]
    },
    {
      "cell_type": "code",
      "metadata": {
        "colab": {
          "base_uri": "https://localhost:8080/"
        },
        "id": "rWMHoxiZfO8W",
        "outputId": "1f88f71d-5288-479d-9e9f-e191b06ef68d"
      },
      "source": [
        "print('NN model with sigmoid activations - changing learning rate'); print('----'*20)\n",
        "# compiling the neural network classifier, sgd optimizer\n",
        "sgd = optimizers.SGD(lr = 0.001)\n",
        "model.compile(optimizer = sgd, loss = 'categorical_crossentropy', metrics = ['accuracy'])\n",
        "\n",
        "# Fitting the neural network for training\n",
        "history = model.fit(X_train, y_train, validation_data = (X_val, y_val), batch_size = 200, epochs = 100, verbose = 1)"
      ],
      "execution_count": 53,
      "outputs": [
        {
          "output_type": "stream",
          "text": [
            "NN model with sigmoid activations - changing learning rate\n",
            "--------------------------------------------------------------------------------\n",
            "Epoch 1/100\n",
            "210/210 [==============================] - 3s 11ms/step - loss: 2.2990 - accuracy: 0.1490 - val_loss: 2.2991 - val_accuracy: 0.1528\n",
            "Epoch 2/100\n",
            "210/210 [==============================] - 2s 10ms/step - loss: 2.2988 - accuracy: 0.1517 - val_loss: 2.2991 - val_accuracy: 0.1496\n",
            "Epoch 3/100\n",
            "210/210 [==============================] - 2s 10ms/step - loss: 2.2990 - accuracy: 0.1443 - val_loss: 2.2990 - val_accuracy: 0.1476\n",
            "Epoch 4/100\n",
            "210/210 [==============================] - 2s 10ms/step - loss: 2.2989 - accuracy: 0.1463 - val_loss: 2.2990 - val_accuracy: 0.1460\n",
            "Epoch 5/100\n",
            "210/210 [==============================] - 2s 10ms/step - loss: 2.2986 - accuracy: 0.1481 - val_loss: 2.2990 - val_accuracy: 0.1455\n",
            "Epoch 6/100\n",
            "210/210 [==============================] - 2s 10ms/step - loss: 2.2990 - accuracy: 0.1476 - val_loss: 2.2990 - val_accuracy: 0.1445\n",
            "Epoch 7/100\n",
            "210/210 [==============================] - 2s 10ms/step - loss: 2.2990 - accuracy: 0.1452 - val_loss: 2.2990 - val_accuracy: 0.1435\n",
            "Epoch 8/100\n",
            "210/210 [==============================] - 2s 10ms/step - loss: 2.2990 - accuracy: 0.1470 - val_loss: 2.2990 - val_accuracy: 0.1422\n",
            "Epoch 9/100\n",
            "210/210 [==============================] - 2s 10ms/step - loss: 2.2988 - accuracy: 0.1456 - val_loss: 2.2990 - val_accuracy: 0.1439\n",
            "Epoch 10/100\n",
            "210/210 [==============================] - 2s 10ms/step - loss: 2.2988 - accuracy: 0.1469 - val_loss: 2.2990 - val_accuracy: 0.1437\n",
            "Epoch 11/100\n",
            "210/210 [==============================] - 2s 10ms/step - loss: 2.2989 - accuracy: 0.1427 - val_loss: 2.2990 - val_accuracy: 0.1436\n",
            "Epoch 12/100\n",
            "210/210 [==============================] - 2s 10ms/step - loss: 2.2988 - accuracy: 0.1432 - val_loss: 2.2990 - val_accuracy: 0.1442\n",
            "Epoch 13/100\n",
            "210/210 [==============================] - 2s 10ms/step - loss: 2.2990 - accuracy: 0.1448 - val_loss: 2.2990 - val_accuracy: 0.1438\n",
            "Epoch 14/100\n",
            "210/210 [==============================] - 2s 10ms/step - loss: 2.2988 - accuracy: 0.1480 - val_loss: 2.2990 - val_accuracy: 0.1436\n",
            "Epoch 15/100\n",
            "210/210 [==============================] - 2s 10ms/step - loss: 2.2990 - accuracy: 0.1399 - val_loss: 2.2990 - val_accuracy: 0.1448\n",
            "Epoch 16/100\n",
            "210/210 [==============================] - 2s 10ms/step - loss: 2.2987 - accuracy: 0.1457 - val_loss: 2.2990 - val_accuracy: 0.1441\n",
            "Epoch 17/100\n",
            "210/210 [==============================] - 2s 10ms/step - loss: 2.2985 - accuracy: 0.1456 - val_loss: 2.2990 - val_accuracy: 0.1445\n",
            "Epoch 18/100\n",
            "210/210 [==============================] - 2s 10ms/step - loss: 2.2990 - accuracy: 0.1484 - val_loss: 2.2990 - val_accuracy: 0.1448\n",
            "Epoch 19/100\n",
            "210/210 [==============================] - 2s 10ms/step - loss: 2.2989 - accuracy: 0.1474 - val_loss: 2.2990 - val_accuracy: 0.1447\n",
            "Epoch 20/100\n",
            "210/210 [==============================] - 2s 10ms/step - loss: 2.2987 - accuracy: 0.1456 - val_loss: 2.2990 - val_accuracy: 0.1443\n",
            "Epoch 21/100\n",
            "210/210 [==============================] - 2s 10ms/step - loss: 2.2987 - accuracy: 0.1486 - val_loss: 2.2990 - val_accuracy: 0.1443\n",
            "Epoch 22/100\n",
            "210/210 [==============================] - 2s 10ms/step - loss: 2.2990 - accuracy: 0.1505 - val_loss: 2.2990 - val_accuracy: 0.1439\n",
            "Epoch 23/100\n",
            "210/210 [==============================] - 2s 10ms/step - loss: 2.2988 - accuracy: 0.1467 - val_loss: 2.2990 - val_accuracy: 0.1430\n",
            "Epoch 24/100\n",
            "210/210 [==============================] - 2s 10ms/step - loss: 2.2988 - accuracy: 0.1445 - val_loss: 2.2990 - val_accuracy: 0.1429\n",
            "Epoch 25/100\n",
            "210/210 [==============================] - 2s 10ms/step - loss: 2.2987 - accuracy: 0.1487 - val_loss: 2.2990 - val_accuracy: 0.1436\n",
            "Epoch 26/100\n",
            "210/210 [==============================] - 2s 10ms/step - loss: 2.2987 - accuracy: 0.1426 - val_loss: 2.2990 - val_accuracy: 0.1448\n",
            "Epoch 27/100\n",
            "210/210 [==============================] - 2s 10ms/step - loss: 2.2989 - accuracy: 0.1480 - val_loss: 2.2989 - val_accuracy: 0.1448\n",
            "Epoch 28/100\n",
            "210/210 [==============================] - 2s 10ms/step - loss: 2.2989 - accuracy: 0.1465 - val_loss: 2.2989 - val_accuracy: 0.1441\n",
            "Epoch 29/100\n",
            "210/210 [==============================] - 2s 10ms/step - loss: 2.2989 - accuracy: 0.1459 - val_loss: 2.2989 - val_accuracy: 0.1446\n",
            "Epoch 30/100\n",
            "210/210 [==============================] - 2s 10ms/step - loss: 2.2989 - accuracy: 0.1470 - val_loss: 2.2989 - val_accuracy: 0.1447\n",
            "Epoch 31/100\n",
            "210/210 [==============================] - 2s 10ms/step - loss: 2.2990 - accuracy: 0.1396 - val_loss: 2.2989 - val_accuracy: 0.1460\n",
            "Epoch 32/100\n",
            "210/210 [==============================] - 2s 10ms/step - loss: 2.2992 - accuracy: 0.1455 - val_loss: 2.2989 - val_accuracy: 0.1459\n",
            "Epoch 33/100\n",
            "210/210 [==============================] - 2s 10ms/step - loss: 2.2990 - accuracy: 0.1477 - val_loss: 2.2989 - val_accuracy: 0.1448\n",
            "Epoch 34/100\n",
            "210/210 [==============================] - 2s 10ms/step - loss: 2.2988 - accuracy: 0.1456 - val_loss: 2.2989 - val_accuracy: 0.1453\n",
            "Epoch 35/100\n",
            "210/210 [==============================] - 2s 10ms/step - loss: 2.2990 - accuracy: 0.1456 - val_loss: 2.2989 - val_accuracy: 0.1436\n",
            "Epoch 36/100\n",
            "210/210 [==============================] - 2s 10ms/step - loss: 2.2989 - accuracy: 0.1415 - val_loss: 2.2989 - val_accuracy: 0.1449\n",
            "Epoch 37/100\n",
            "210/210 [==============================] - 2s 10ms/step - loss: 2.2987 - accuracy: 0.1486 - val_loss: 2.2989 - val_accuracy: 0.1439\n",
            "Epoch 38/100\n",
            "210/210 [==============================] - 2s 10ms/step - loss: 2.2988 - accuracy: 0.1452 - val_loss: 2.2989 - val_accuracy: 0.1450\n",
            "Epoch 39/100\n",
            "210/210 [==============================] - 2s 10ms/step - loss: 2.2987 - accuracy: 0.1478 - val_loss: 2.2989 - val_accuracy: 0.1450\n",
            "Epoch 40/100\n",
            "210/210 [==============================] - 2s 10ms/step - loss: 2.2988 - accuracy: 0.1474 - val_loss: 2.2989 - val_accuracy: 0.1459\n",
            "Epoch 41/100\n",
            "210/210 [==============================] - 2s 10ms/step - loss: 2.2987 - accuracy: 0.1449 - val_loss: 2.2989 - val_accuracy: 0.1464\n",
            "Epoch 42/100\n",
            "210/210 [==============================] - 2s 10ms/step - loss: 2.2986 - accuracy: 0.1514 - val_loss: 2.2989 - val_accuracy: 0.1451\n",
            "Epoch 43/100\n",
            "210/210 [==============================] - 2s 10ms/step - loss: 2.2988 - accuracy: 0.1482 - val_loss: 2.2989 - val_accuracy: 0.1435\n",
            "Epoch 44/100\n",
            "210/210 [==============================] - 2s 10ms/step - loss: 2.2986 - accuracy: 0.1475 - val_loss: 2.2989 - val_accuracy: 0.1440\n",
            "Epoch 45/100\n",
            "210/210 [==============================] - 2s 10ms/step - loss: 2.2987 - accuracy: 0.1494 - val_loss: 2.2989 - val_accuracy: 0.1431\n",
            "Epoch 46/100\n",
            "210/210 [==============================] - 2s 10ms/step - loss: 2.2989 - accuracy: 0.1421 - val_loss: 2.2989 - val_accuracy: 0.1457\n",
            "Epoch 47/100\n",
            "210/210 [==============================] - 2s 10ms/step - loss: 2.2987 - accuracy: 0.1486 - val_loss: 2.2989 - val_accuracy: 0.1452\n",
            "Epoch 48/100\n",
            "210/210 [==============================] - 2s 10ms/step - loss: 2.2988 - accuracy: 0.1487 - val_loss: 2.2989 - val_accuracy: 0.1433\n",
            "Epoch 49/100\n",
            "210/210 [==============================] - 2s 10ms/step - loss: 2.2989 - accuracy: 0.1442 - val_loss: 2.2989 - val_accuracy: 0.1436\n",
            "Epoch 50/100\n",
            "210/210 [==============================] - 2s 11ms/step - loss: 2.2990 - accuracy: 0.1420 - val_loss: 2.2989 - val_accuracy: 0.1451\n",
            "Epoch 51/100\n",
            "210/210 [==============================] - 2s 10ms/step - loss: 2.2988 - accuracy: 0.1467 - val_loss: 2.2989 - val_accuracy: 0.1452\n",
            "Epoch 52/100\n",
            "210/210 [==============================] - 2s 10ms/step - loss: 2.2990 - accuracy: 0.1476 - val_loss: 2.2989 - val_accuracy: 0.1441\n",
            "Epoch 53/100\n",
            "210/210 [==============================] - 2s 10ms/step - loss: 2.2987 - accuracy: 0.1422 - val_loss: 2.2988 - val_accuracy: 0.1454\n",
            "Epoch 54/100\n",
            "210/210 [==============================] - 2s 10ms/step - loss: 2.2986 - accuracy: 0.1462 - val_loss: 2.2988 - val_accuracy: 0.1450\n",
            "Epoch 55/100\n",
            "210/210 [==============================] - 2s 11ms/step - loss: 2.2988 - accuracy: 0.1459 - val_loss: 2.2988 - val_accuracy: 0.1450\n",
            "Epoch 56/100\n",
            "210/210 [==============================] - 2s 10ms/step - loss: 2.2988 - accuracy: 0.1479 - val_loss: 2.2988 - val_accuracy: 0.1426\n",
            "Epoch 57/100\n",
            "210/210 [==============================] - 2s 10ms/step - loss: 2.2989 - accuracy: 0.1451 - val_loss: 2.2988 - val_accuracy: 0.1420\n",
            "Epoch 58/100\n",
            "210/210 [==============================] - 2s 10ms/step - loss: 2.2988 - accuracy: 0.1437 - val_loss: 2.2988 - val_accuracy: 0.1436\n",
            "Epoch 59/100\n",
            "210/210 [==============================] - 2s 10ms/step - loss: 2.2988 - accuracy: 0.1447 - val_loss: 2.2988 - val_accuracy: 0.1451\n",
            "Epoch 60/100\n",
            "210/210 [==============================] - 2s 10ms/step - loss: 2.2989 - accuracy: 0.1440 - val_loss: 2.2988 - val_accuracy: 0.1455\n",
            "Epoch 61/100\n",
            "210/210 [==============================] - 2s 10ms/step - loss: 2.2987 - accuracy: 0.1408 - val_loss: 2.2988 - val_accuracy: 0.1462\n",
            "Epoch 62/100\n",
            "210/210 [==============================] - 2s 10ms/step - loss: 2.2986 - accuracy: 0.1509 - val_loss: 2.2988 - val_accuracy: 0.1453\n",
            "Epoch 63/100\n",
            "210/210 [==============================] - 2s 10ms/step - loss: 2.2987 - accuracy: 0.1485 - val_loss: 2.2988 - val_accuracy: 0.1446\n",
            "Epoch 64/100\n",
            "210/210 [==============================] - 2s 10ms/step - loss: 2.2989 - accuracy: 0.1431 - val_loss: 2.2988 - val_accuracy: 0.1450\n",
            "Epoch 65/100\n",
            "210/210 [==============================] - 2s 10ms/step - loss: 2.2987 - accuracy: 0.1447 - val_loss: 2.2988 - val_accuracy: 0.1455\n",
            "Epoch 66/100\n",
            "210/210 [==============================] - 2s 10ms/step - loss: 2.2986 - accuracy: 0.1496 - val_loss: 2.2988 - val_accuracy: 0.1456\n",
            "Epoch 67/100\n",
            "210/210 [==============================] - 2s 10ms/step - loss: 2.2987 - accuracy: 0.1447 - val_loss: 2.2988 - val_accuracy: 0.1460\n",
            "Epoch 68/100\n",
            "210/210 [==============================] - 2s 10ms/step - loss: 2.2987 - accuracy: 0.1517 - val_loss: 2.2988 - val_accuracy: 0.1446\n",
            "Epoch 69/100\n",
            "210/210 [==============================] - 2s 10ms/step - loss: 2.2985 - accuracy: 0.1478 - val_loss: 2.2988 - val_accuracy: 0.1442\n",
            "Epoch 70/100\n",
            "210/210 [==============================] - 2s 10ms/step - loss: 2.2985 - accuracy: 0.1447 - val_loss: 2.2988 - val_accuracy: 0.1451\n",
            "Epoch 71/100\n",
            "210/210 [==============================] - 2s 10ms/step - loss: 2.2987 - accuracy: 0.1452 - val_loss: 2.2988 - val_accuracy: 0.1456\n",
            "Epoch 72/100\n",
            "210/210 [==============================] - 2s 9ms/step - loss: 2.2985 - accuracy: 0.1476 - val_loss: 2.2988 - val_accuracy: 0.1468\n",
            "Epoch 73/100\n",
            "210/210 [==============================] - 2s 10ms/step - loss: 2.2985 - accuracy: 0.1466 - val_loss: 2.2988 - val_accuracy: 0.1470\n",
            "Epoch 74/100\n",
            "210/210 [==============================] - 2s 10ms/step - loss: 2.2987 - accuracy: 0.1475 - val_loss: 2.2988 - val_accuracy: 0.1476\n",
            "Epoch 75/100\n",
            "210/210 [==============================] - 2s 10ms/step - loss: 2.2986 - accuracy: 0.1519 - val_loss: 2.2988 - val_accuracy: 0.1455\n",
            "Epoch 76/100\n",
            "210/210 [==============================] - 2s 10ms/step - loss: 2.2986 - accuracy: 0.1427 - val_loss: 2.2987 - val_accuracy: 0.1477\n",
            "Epoch 77/100\n",
            "210/210 [==============================] - 2s 10ms/step - loss: 2.2987 - accuracy: 0.1510 - val_loss: 2.2987 - val_accuracy: 0.1460\n",
            "Epoch 78/100\n",
            "210/210 [==============================] - 2s 10ms/step - loss: 2.2985 - accuracy: 0.1443 - val_loss: 2.2987 - val_accuracy: 0.1463\n",
            "Epoch 79/100\n",
            "210/210 [==============================] - 2s 10ms/step - loss: 2.2987 - accuracy: 0.1455 - val_loss: 2.2987 - val_accuracy: 0.1449\n",
            "Epoch 80/100\n",
            "210/210 [==============================] - 2s 10ms/step - loss: 2.2984 - accuracy: 0.1459 - val_loss: 2.2987 - val_accuracy: 0.1460\n",
            "Epoch 81/100\n",
            "210/210 [==============================] - 2s 10ms/step - loss: 2.2988 - accuracy: 0.1467 - val_loss: 2.2987 - val_accuracy: 0.1465\n",
            "Epoch 82/100\n",
            "210/210 [==============================] - 2s 10ms/step - loss: 2.2984 - accuracy: 0.1483 - val_loss: 2.2987 - val_accuracy: 0.1473\n",
            "Epoch 83/100\n",
            "210/210 [==============================] - 2s 10ms/step - loss: 2.2985 - accuracy: 0.1443 - val_loss: 2.2987 - val_accuracy: 0.1482\n",
            "Epoch 84/100\n",
            "210/210 [==============================] - 2s 10ms/step - loss: 2.2986 - accuracy: 0.1490 - val_loss: 2.2987 - val_accuracy: 0.1479\n",
            "Epoch 85/100\n",
            "210/210 [==============================] - 2s 10ms/step - loss: 2.2986 - accuracy: 0.1473 - val_loss: 2.2987 - val_accuracy: 0.1473\n",
            "Epoch 86/100\n",
            "210/210 [==============================] - 2s 10ms/step - loss: 2.2984 - accuracy: 0.1485 - val_loss: 2.2987 - val_accuracy: 0.1470\n",
            "Epoch 87/100\n",
            "210/210 [==============================] - 2s 10ms/step - loss: 2.2987 - accuracy: 0.1480 - val_loss: 2.2987 - val_accuracy: 0.1466\n",
            "Epoch 88/100\n",
            "210/210 [==============================] - 2s 10ms/step - loss: 2.2983 - accuracy: 0.1495 - val_loss: 2.2987 - val_accuracy: 0.1451\n",
            "Epoch 89/100\n",
            "210/210 [==============================] - 2s 10ms/step - loss: 2.2984 - accuracy: 0.1450 - val_loss: 2.2987 - val_accuracy: 0.1456\n",
            "Epoch 90/100\n",
            "210/210 [==============================] - 2s 10ms/step - loss: 2.2985 - accuracy: 0.1489 - val_loss: 2.2987 - val_accuracy: 0.1453\n",
            "Epoch 91/100\n",
            "210/210 [==============================] - 2s 10ms/step - loss: 2.2987 - accuracy: 0.1511 - val_loss: 2.2987 - val_accuracy: 0.1441\n",
            "Epoch 92/100\n",
            "210/210 [==============================] - 2s 10ms/step - loss: 2.2987 - accuracy: 0.1454 - val_loss: 2.2987 - val_accuracy: 0.1444\n",
            "Epoch 93/100\n",
            "210/210 [==============================] - 2s 10ms/step - loss: 2.2986 - accuracy: 0.1469 - val_loss: 2.2987 - val_accuracy: 0.1454\n",
            "Epoch 94/100\n",
            "210/210 [==============================] - 2s 10ms/step - loss: 2.2987 - accuracy: 0.1462 - val_loss: 2.2987 - val_accuracy: 0.1459\n",
            "Epoch 95/100\n",
            "210/210 [==============================] - 2s 10ms/step - loss: 2.2984 - accuracy: 0.1495 - val_loss: 2.2987 - val_accuracy: 0.1458\n",
            "Epoch 96/100\n",
            "210/210 [==============================] - 2s 10ms/step - loss: 2.2984 - accuracy: 0.1439 - val_loss: 2.2987 - val_accuracy: 0.1472\n",
            "Epoch 97/100\n",
            "210/210 [==============================] - 2s 10ms/step - loss: 2.2987 - accuracy: 0.1473 - val_loss: 2.2987 - val_accuracy: 0.1466\n",
            "Epoch 98/100\n",
            "210/210 [==============================] - 2s 10ms/step - loss: 2.2986 - accuracy: 0.1477 - val_loss: 2.2987 - val_accuracy: 0.1457\n",
            "Epoch 99/100\n",
            "210/210 [==============================] - 2s 10ms/step - loss: 2.2984 - accuracy: 0.1487 - val_loss: 2.2987 - val_accuracy: 0.1460\n",
            "Epoch 100/100\n",
            "210/210 [==============================] - 2s 10ms/step - loss: 2.2986 - accuracy: 0.1502 - val_loss: 2.2987 - val_accuracy: 0.1445\n"
          ],
          "name": "stdout"
        }
      ]
    },
    {
      "cell_type": "code",
      "metadata": {
        "colab": {
          "base_uri": "https://localhost:8080/"
        },
        "id": "DNyMqalpfjzf",
        "outputId": "a3c06926-a7f6-4179-fba0-880fdd3c9811"
      },
      "source": [
        "print('Evaluate NN model with sigmoid activations - changing learning rate'); print('--'*40)\n",
        "results1 = model.evaluate(X_val, y_val)\n",
        "print('Validation accuracy: {}'.format(round(results1[1]*100, 2), '%'))"
      ],
      "execution_count": 54,
      "outputs": [
        {
          "output_type": "stream",
          "text": [
            "Evaluate NN model with sigmoid activations - changing learning rate\n",
            "--------------------------------------------------------------------------------\n",
            "1875/1875 [==============================] - 4s 2ms/step - loss: 2.2987 - accuracy: 0.1445\n",
            "Validation accuracy: 14.45\n"
          ],
          "name": "stdout"
        }
      ]
    },
    {
      "cell_type": "markdown",
      "metadata": {
        "id": "6ElrYTDzuWIg"
      },
      "source": [
        "**Observation:**\n",
        "\n",
        "*   Validation score is very low, changing learning rate further reduces it.\n",
        "*   Optimizing the network in order to better learn the patterns in the dataset.\n",
        "*   Best model out of the above is the one with lower learning rate using SGD optimizer and sigmoid activations.\n",
        "\n",
        "Let's use ReLU activations and see if the score improves."
      ]
    },
    {
      "cell_type": "code",
      "metadata": {
        "colab": {
          "base_uri": "https://localhost:8080/"
        },
        "id": "33hcnoYZfxYw",
        "outputId": "f9e4fbe8-be51-420b-cbcb-0f2ba01c44c5"
      },
      "source": [
        "%time\n",
        "print('NN model with relu activations and sgd optimizers'); print('--'*40)\n",
        "# Initialize the neural network classifier\n",
        "model2 = Sequential()\n",
        "\n",
        "# Input Layer - adding input layer and activation functions relu\n",
        "model2.add(Dense(128, input_shape = (1024, )))\n",
        "# Adding activation function\n",
        "model2.add(Activation('relu'))\n",
        "\n",
        "#Hidden Layer 1 - adding first hidden layer\n",
        "model2.add(Dense(64))\n",
        "# Adding activation function\n",
        "model2.add(Activation('relu'))\n",
        "\n",
        "# Output Layer - adding output layer which is of 10 nodes (digits)\n",
        "model2.add(Dense(10))\n",
        "# Adding activation function - softmax for multiclass classification\n",
        "model2.add(Activation('softmax'))"
      ],
      "execution_count": 55,
      "outputs": [
        {
          "output_type": "stream",
          "text": [
            "CPU times: user 2 µs, sys: 2 µs, total: 4 µs\n",
            "Wall time: 6.91 µs\n",
            "NN model with relu activations and sgd optimizers\n",
            "--------------------------------------------------------------------------------\n"
          ],
          "name": "stdout"
        }
      ]
    },
    {
      "cell_type": "code",
      "metadata": {
        "colab": {
          "base_uri": "https://localhost:8080/"
        },
        "id": "_1pN4IN-uyrH",
        "outputId": "ef6c77d1-352a-4e52-cb3d-61efab0b815d"
      },
      "source": [
        "model2.summary()"
      ],
      "execution_count": 56,
      "outputs": [
        {
          "output_type": "stream",
          "text": [
            "Model: \"sequential_1\"\n",
            "_________________________________________________________________\n",
            "Layer (type)                 Output Shape              Param #   \n",
            "=================================================================\n",
            "dense_3 (Dense)              (None, 128)               131200    \n",
            "_________________________________________________________________\n",
            "activation_3 (Activation)    (None, 128)               0         \n",
            "_________________________________________________________________\n",
            "dense_4 (Dense)              (None, 64)                8256      \n",
            "_________________________________________________________________\n",
            "activation_4 (Activation)    (None, 64)                0         \n",
            "_________________________________________________________________\n",
            "dense_5 (Dense)              (None, 10)                650       \n",
            "_________________________________________________________________\n",
            "activation_5 (Activation)    (None, 10)                0         \n",
            "=================================================================\n",
            "Total params: 140,106\n",
            "Trainable params: 140,106\n",
            "Non-trainable params: 0\n",
            "_________________________________________________________________\n"
          ],
          "name": "stdout"
        }
      ]
    },
    {
      "cell_type": "code",
      "metadata": {
        "colab": {
          "base_uri": "https://localhost:8080/"
        },
        "id": "tqqxZWsJu4oE",
        "outputId": "fe3f1813-cb55-443e-d6e0-b18eaf088f3a"
      },
      "source": [
        "# compiling the neural network classifier, sgd optimizer\n",
        "sgd = optimizers.SGD(lr = 0.01)\n",
        "model2.compile(optimizer = sgd, loss = 'categorical_crossentropy', metrics = ['accuracy'])\n",
        "\n",
        "# Fitting the neural network for training\n",
        "history = model2.fit(X_train, y_train, validation_data = (X_val, y_val), batch_size = 200, epochs = 100, verbose = 1)"
      ],
      "execution_count": 57,
      "outputs": [
        {
          "output_type": "stream",
          "text": [
            "Epoch 1/100\n",
            "210/210 [==============================] - 3s 11ms/step - loss: 2.3087 - accuracy: 0.1109 - val_loss: 2.2927 - val_accuracy: 0.1367\n",
            "Epoch 2/100\n",
            "210/210 [==============================] - 2s 10ms/step - loss: 2.2904 - accuracy: 0.1413 - val_loss: 2.2816 - val_accuracy: 0.1444\n",
            "Epoch 3/100\n",
            "210/210 [==============================] - 2s 11ms/step - loss: 2.2793 - accuracy: 0.1625 - val_loss: 2.2703 - val_accuracy: 0.1745\n",
            "Epoch 4/100\n",
            "210/210 [==============================] - 2s 10ms/step - loss: 2.2673 - accuracy: 0.1877 - val_loss: 2.2549 - val_accuracy: 0.2130\n",
            "Epoch 5/100\n",
            "210/210 [==============================] - 2s 11ms/step - loss: 2.2507 - accuracy: 0.2151 - val_loss: 2.2376 - val_accuracy: 0.2480\n",
            "Epoch 6/100\n",
            "210/210 [==============================] - 2s 10ms/step - loss: 2.2340 - accuracy: 0.2443 - val_loss: 2.2171 - val_accuracy: 0.2613\n",
            "Epoch 7/100\n",
            "210/210 [==============================] - 2s 10ms/step - loss: 2.2107 - accuracy: 0.2687 - val_loss: 2.1904 - val_accuracy: 0.2929\n",
            "Epoch 8/100\n",
            "210/210 [==============================] - 2s 10ms/step - loss: 2.1842 - accuracy: 0.2992 - val_loss: 2.1569 - val_accuracy: 0.3244\n",
            "Epoch 9/100\n",
            "210/210 [==============================] - 2s 10ms/step - loss: 2.1492 - accuracy: 0.3238 - val_loss: 2.1177 - val_accuracy: 0.3527\n",
            "Epoch 10/100\n",
            "210/210 [==============================] - 2s 10ms/step - loss: 2.1073 - accuracy: 0.3552 - val_loss: 2.0707 - val_accuracy: 0.3692\n",
            "Epoch 11/100\n",
            "210/210 [==============================] - 2s 10ms/step - loss: 2.0602 - accuracy: 0.3735 - val_loss: 2.0190 - val_accuracy: 0.3600\n",
            "Epoch 12/100\n",
            "210/210 [==============================] - 2s 10ms/step - loss: 2.0047 - accuracy: 0.3942 - val_loss: 1.9553 - val_accuracy: 0.4248\n",
            "Epoch 13/100\n",
            "210/210 [==============================] - 2s 10ms/step - loss: 1.9415 - accuracy: 0.4252 - val_loss: 1.8918 - val_accuracy: 0.4531\n",
            "Epoch 14/100\n",
            "210/210 [==============================] - 2s 10ms/step - loss: 1.8783 - accuracy: 0.4493 - val_loss: 1.8263 - val_accuracy: 0.4716\n",
            "Epoch 15/100\n",
            "210/210 [==============================] - 2s 10ms/step - loss: 1.8106 - accuracy: 0.4732 - val_loss: 1.7648 - val_accuracy: 0.4876\n",
            "Epoch 16/100\n",
            "210/210 [==============================] - 2s 10ms/step - loss: 1.7501 - accuracy: 0.4900 - val_loss: 1.6997 - val_accuracy: 0.5102\n",
            "Epoch 17/100\n",
            "210/210 [==============================] - 2s 10ms/step - loss: 1.6858 - accuracy: 0.5132 - val_loss: 1.6406 - val_accuracy: 0.5429\n",
            "Epoch 18/100\n",
            "210/210 [==============================] - 2s 10ms/step - loss: 1.6311 - accuracy: 0.5343 - val_loss: 1.5936 - val_accuracy: 0.5467\n",
            "Epoch 19/100\n",
            "210/210 [==============================] - 2s 10ms/step - loss: 1.5787 - accuracy: 0.5478 - val_loss: 1.5486 - val_accuracy: 0.5555\n",
            "Epoch 20/100\n",
            "210/210 [==============================] - 2s 10ms/step - loss: 1.5374 - accuracy: 0.5642 - val_loss: 1.5152 - val_accuracy: 0.5559\n",
            "Epoch 21/100\n",
            "210/210 [==============================] - 2s 11ms/step - loss: 1.4915 - accuracy: 0.5814 - val_loss: 1.4586 - val_accuracy: 0.5875\n",
            "Epoch 22/100\n",
            "210/210 [==============================] - 2s 10ms/step - loss: 1.4524 - accuracy: 0.5852 - val_loss: 1.4152 - val_accuracy: 0.6000\n",
            "Epoch 23/100\n",
            "210/210 [==============================] - 2s 10ms/step - loss: 1.4043 - accuracy: 0.5988 - val_loss: 1.4039 - val_accuracy: 0.5937\n",
            "Epoch 24/100\n",
            "210/210 [==============================] - 2s 10ms/step - loss: 1.3740 - accuracy: 0.6065 - val_loss: 1.3466 - val_accuracy: 0.6116\n",
            "Epoch 25/100\n",
            "210/210 [==============================] - 2s 10ms/step - loss: 1.3432 - accuracy: 0.6157 - val_loss: 1.3244 - val_accuracy: 0.6164\n",
            "Epoch 26/100\n",
            "210/210 [==============================] - 2s 10ms/step - loss: 1.3168 - accuracy: 0.6219 - val_loss: 1.2851 - val_accuracy: 0.6332\n",
            "Epoch 27/100\n",
            "210/210 [==============================] - 2s 10ms/step - loss: 1.2946 - accuracy: 0.6303 - val_loss: 1.2564 - val_accuracy: 0.6387\n",
            "Epoch 28/100\n",
            "210/210 [==============================] - 2s 10ms/step - loss: 1.2705 - accuracy: 0.6343 - val_loss: 1.2417 - val_accuracy: 0.6376\n",
            "Epoch 29/100\n",
            "210/210 [==============================] - 2s 10ms/step - loss: 1.2486 - accuracy: 0.6359 - val_loss: 1.2241 - val_accuracy: 0.6462\n",
            "Epoch 30/100\n",
            "210/210 [==============================] - 2s 10ms/step - loss: 1.2152 - accuracy: 0.6480 - val_loss: 1.1941 - val_accuracy: 0.6576\n",
            "Epoch 31/100\n",
            "210/210 [==============================] - 2s 10ms/step - loss: 1.2056 - accuracy: 0.6481 - val_loss: 1.1768 - val_accuracy: 0.6607\n",
            "Epoch 32/100\n",
            "210/210 [==============================] - 2s 10ms/step - loss: 1.1874 - accuracy: 0.6584 - val_loss: 1.2612 - val_accuracy: 0.6216\n",
            "Epoch 33/100\n",
            "210/210 [==============================] - 2s 10ms/step - loss: 1.1779 - accuracy: 0.6569 - val_loss: 1.1660 - val_accuracy: 0.6548\n",
            "Epoch 34/100\n",
            "210/210 [==============================] - 2s 10ms/step - loss: 1.1511 - accuracy: 0.6642 - val_loss: 1.1378 - val_accuracy: 0.6699\n",
            "Epoch 35/100\n",
            "210/210 [==============================] - 2s 10ms/step - loss: 1.1386 - accuracy: 0.6679 - val_loss: 1.1188 - val_accuracy: 0.6759\n",
            "Epoch 36/100\n",
            "210/210 [==============================] - 2s 10ms/step - loss: 1.1324 - accuracy: 0.6709 - val_loss: 1.1168 - val_accuracy: 0.6672\n",
            "Epoch 37/100\n",
            "210/210 [==============================] - 2s 10ms/step - loss: 1.1062 - accuracy: 0.6725 - val_loss: 1.1122 - val_accuracy: 0.6668\n",
            "Epoch 38/100\n",
            "210/210 [==============================] - 2s 10ms/step - loss: 1.1149 - accuracy: 0.6713 - val_loss: 1.0973 - val_accuracy: 0.6775\n",
            "Epoch 39/100\n",
            "210/210 [==============================] - 2s 10ms/step - loss: 1.0878 - accuracy: 0.6818 - val_loss: 1.0586 - val_accuracy: 0.6937\n",
            "Epoch 40/100\n",
            "210/210 [==============================] - 2s 10ms/step - loss: 1.0751 - accuracy: 0.6867 - val_loss: 1.0557 - val_accuracy: 0.6945\n",
            "Epoch 41/100\n",
            "210/210 [==============================] - 2s 10ms/step - loss: 1.0604 - accuracy: 0.6895 - val_loss: 1.0715 - val_accuracy: 0.6855\n",
            "Epoch 42/100\n",
            "210/210 [==============================] - 2s 10ms/step - loss: 1.0552 - accuracy: 0.6889 - val_loss: 1.0998 - val_accuracy: 0.6715\n",
            "Epoch 43/100\n",
            "210/210 [==============================] - 2s 10ms/step - loss: 1.0411 - accuracy: 0.6937 - val_loss: 1.0342 - val_accuracy: 0.6978\n",
            "Epoch 44/100\n",
            "210/210 [==============================] - 2s 10ms/step - loss: 1.0343 - accuracy: 0.6943 - val_loss: 1.0307 - val_accuracy: 0.6958\n",
            "Epoch 45/100\n",
            "210/210 [==============================] - 2s 10ms/step - loss: 1.0268 - accuracy: 0.6954 - val_loss: 1.0410 - val_accuracy: 0.6917\n",
            "Epoch 46/100\n",
            "210/210 [==============================] - 2s 10ms/step - loss: 1.0168 - accuracy: 0.7018 - val_loss: 1.1079 - val_accuracy: 0.6533\n",
            "Epoch 47/100\n",
            "210/210 [==============================] - 2s 10ms/step - loss: 1.0103 - accuracy: 0.6986 - val_loss: 1.0031 - val_accuracy: 0.7046\n",
            "Epoch 48/100\n",
            "210/210 [==============================] - 2s 10ms/step - loss: 1.0061 - accuracy: 0.7034 - val_loss: 1.0023 - val_accuracy: 0.7047\n",
            "Epoch 49/100\n",
            "210/210 [==============================] - 2s 10ms/step - loss: 0.9870 - accuracy: 0.7101 - val_loss: 0.9824 - val_accuracy: 0.7103\n",
            "Epoch 50/100\n",
            "210/210 [==============================] - 2s 10ms/step - loss: 0.9877 - accuracy: 0.7040 - val_loss: 0.9895 - val_accuracy: 0.7064\n",
            "Epoch 51/100\n",
            "210/210 [==============================] - 2s 10ms/step - loss: 0.9827 - accuracy: 0.7081 - val_loss: 1.0047 - val_accuracy: 0.7008\n",
            "Epoch 52/100\n",
            "210/210 [==============================] - 2s 10ms/step - loss: 0.9699 - accuracy: 0.7136 - val_loss: 0.9562 - val_accuracy: 0.7183\n",
            "Epoch 53/100\n",
            "210/210 [==============================] - 2s 10ms/step - loss: 0.9656 - accuracy: 0.7118 - val_loss: 0.9484 - val_accuracy: 0.7218\n",
            "Epoch 54/100\n",
            "210/210 [==============================] - 2s 10ms/step - loss: 0.9450 - accuracy: 0.7187 - val_loss: 0.9413 - val_accuracy: 0.7232\n",
            "Epoch 55/100\n",
            "210/210 [==============================] - 2s 10ms/step - loss: 0.9504 - accuracy: 0.7168 - val_loss: 0.9304 - val_accuracy: 0.7258\n",
            "Epoch 56/100\n",
            "210/210 [==============================] - 2s 10ms/step - loss: 0.9508 - accuracy: 0.7184 - val_loss: 0.9373 - val_accuracy: 0.7232\n",
            "Epoch 57/100\n",
            "210/210 [==============================] - 2s 10ms/step - loss: 0.9326 - accuracy: 0.7226 - val_loss: 0.9322 - val_accuracy: 0.7254\n",
            "Epoch 58/100\n",
            "210/210 [==============================] - 2s 10ms/step - loss: 0.9159 - accuracy: 0.7286 - val_loss: 0.9128 - val_accuracy: 0.7313\n",
            "Epoch 59/100\n",
            "210/210 [==============================] - 2s 10ms/step - loss: 0.9143 - accuracy: 0.7276 - val_loss: 0.9101 - val_accuracy: 0.7312\n",
            "Epoch 60/100\n",
            "210/210 [==============================] - 2s 10ms/step - loss: 0.9116 - accuracy: 0.7334 - val_loss: 0.9031 - val_accuracy: 0.7352\n",
            "Epoch 61/100\n",
            "210/210 [==============================] - 2s 10ms/step - loss: 0.9139 - accuracy: 0.7269 - val_loss: 0.9236 - val_accuracy: 0.7253\n",
            "Epoch 62/100\n",
            "210/210 [==============================] - 2s 10ms/step - loss: 0.8991 - accuracy: 0.7320 - val_loss: 0.8918 - val_accuracy: 0.7378\n",
            "Epoch 63/100\n",
            "210/210 [==============================] - 2s 10ms/step - loss: 0.8891 - accuracy: 0.7363 - val_loss: 0.8996 - val_accuracy: 0.7328\n",
            "Epoch 64/100\n",
            "210/210 [==============================] - 2s 10ms/step - loss: 0.8951 - accuracy: 0.7360 - val_loss: 0.8895 - val_accuracy: 0.7360\n",
            "Epoch 65/100\n",
            "210/210 [==============================] - 2s 10ms/step - loss: 0.8920 - accuracy: 0.7371 - val_loss: 0.9079 - val_accuracy: 0.7281\n",
            "Epoch 66/100\n",
            "210/210 [==============================] - 2s 10ms/step - loss: 0.8655 - accuracy: 0.7429 - val_loss: 0.8707 - val_accuracy: 0.7429\n",
            "Epoch 67/100\n",
            "210/210 [==============================] - 2s 10ms/step - loss: 0.8791 - accuracy: 0.7379 - val_loss: 0.8589 - val_accuracy: 0.7487\n",
            "Epoch 68/100\n",
            "210/210 [==============================] - 2s 10ms/step - loss: 0.8675 - accuracy: 0.7405 - val_loss: 0.8787 - val_accuracy: 0.7398\n",
            "Epoch 69/100\n",
            "210/210 [==============================] - 2s 10ms/step - loss: 0.8653 - accuracy: 0.7433 - val_loss: 0.8632 - val_accuracy: 0.7448\n",
            "Epoch 70/100\n",
            "210/210 [==============================] - 2s 10ms/step - loss: 0.8556 - accuracy: 0.7488 - val_loss: 0.8660 - val_accuracy: 0.7438\n",
            "Epoch 71/100\n",
            "210/210 [==============================] - 2s 10ms/step - loss: 0.8496 - accuracy: 0.7478 - val_loss: 0.8471 - val_accuracy: 0.7498\n",
            "Epoch 72/100\n",
            "210/210 [==============================] - 2s 10ms/step - loss: 0.8459 - accuracy: 0.7495 - val_loss: 0.8582 - val_accuracy: 0.7453\n",
            "Epoch 73/100\n",
            "210/210 [==============================] - 2s 10ms/step - loss: 0.8309 - accuracy: 0.7555 - val_loss: 0.8845 - val_accuracy: 0.7358\n",
            "Epoch 74/100\n",
            "210/210 [==============================] - 2s 10ms/step - loss: 0.8389 - accuracy: 0.7511 - val_loss: 0.8604 - val_accuracy: 0.7458\n",
            "Epoch 75/100\n",
            "210/210 [==============================] - 2s 10ms/step - loss: 0.8295 - accuracy: 0.7566 - val_loss: 0.8347 - val_accuracy: 0.7549\n",
            "Epoch 76/100\n",
            "210/210 [==============================] - 2s 10ms/step - loss: 0.8250 - accuracy: 0.7582 - val_loss: 0.8367 - val_accuracy: 0.7522\n",
            "Epoch 77/100\n",
            "210/210 [==============================] - 2s 10ms/step - loss: 0.8302 - accuracy: 0.7531 - val_loss: 0.8108 - val_accuracy: 0.7635\n",
            "Epoch 78/100\n",
            "210/210 [==============================] - 2s 10ms/step - loss: 0.8163 - accuracy: 0.7588 - val_loss: 0.8302 - val_accuracy: 0.7537\n",
            "Epoch 79/100\n",
            "210/210 [==============================] - 2s 10ms/step - loss: 0.8183 - accuracy: 0.7561 - val_loss: 0.8162 - val_accuracy: 0.7597\n",
            "Epoch 80/100\n",
            "210/210 [==============================] - 2s 10ms/step - loss: 0.8012 - accuracy: 0.7647 - val_loss: 0.8024 - val_accuracy: 0.7652\n",
            "Epoch 81/100\n",
            "210/210 [==============================] - 2s 10ms/step - loss: 0.8063 - accuracy: 0.7584 - val_loss: 0.8146 - val_accuracy: 0.7601\n",
            "Epoch 82/100\n",
            "210/210 [==============================] - 2s 10ms/step - loss: 0.8015 - accuracy: 0.7647 - val_loss: 0.8042 - val_accuracy: 0.7631\n",
            "Epoch 83/100\n",
            "210/210 [==============================] - 2s 10ms/step - loss: 0.7882 - accuracy: 0.7675 - val_loss: 0.8773 - val_accuracy: 0.7303\n",
            "Epoch 84/100\n",
            "210/210 [==============================] - 2s 10ms/step - loss: 0.7840 - accuracy: 0.7676 - val_loss: 0.8141 - val_accuracy: 0.7595\n",
            "Epoch 85/100\n",
            "210/210 [==============================] - 2s 11ms/step - loss: 0.7927 - accuracy: 0.7656 - val_loss: 0.7815 - val_accuracy: 0.7711\n",
            "Epoch 86/100\n",
            "210/210 [==============================] - 2s 10ms/step - loss: 0.7905 - accuracy: 0.7659 - val_loss: 0.8179 - val_accuracy: 0.7566\n",
            "Epoch 87/100\n",
            "210/210 [==============================] - 2s 10ms/step - loss: 0.7809 - accuracy: 0.7666 - val_loss: 0.7757 - val_accuracy: 0.7726\n",
            "Epoch 88/100\n",
            "210/210 [==============================] - 2s 10ms/step - loss: 0.7632 - accuracy: 0.7757 - val_loss: 0.8120 - val_accuracy: 0.7554\n",
            "Epoch 89/100\n",
            "210/210 [==============================] - 2s 10ms/step - loss: 0.7718 - accuracy: 0.7714 - val_loss: 0.7794 - val_accuracy: 0.7703\n",
            "Epoch 90/100\n",
            "210/210 [==============================] - 2s 10ms/step - loss: 0.7714 - accuracy: 0.7696 - val_loss: 0.7675 - val_accuracy: 0.7763\n",
            "Epoch 91/100\n",
            "210/210 [==============================] - 2s 10ms/step - loss: 0.7583 - accuracy: 0.7753 - val_loss: 0.7720 - val_accuracy: 0.7724\n",
            "Epoch 92/100\n",
            "210/210 [==============================] - 2s 10ms/step - loss: 0.7632 - accuracy: 0.7724 - val_loss: 0.7796 - val_accuracy: 0.7703\n",
            "Epoch 93/100\n",
            "210/210 [==============================] - 2s 10ms/step - loss: 0.7584 - accuracy: 0.7747 - val_loss: 0.7849 - val_accuracy: 0.7680\n",
            "Epoch 94/100\n",
            "210/210 [==============================] - 2s 10ms/step - loss: 0.7500 - accuracy: 0.7787 - val_loss: 0.7667 - val_accuracy: 0.7749\n",
            "Epoch 95/100\n",
            "210/210 [==============================] - 2s 10ms/step - loss: 0.7421 - accuracy: 0.7799 - val_loss: 0.7656 - val_accuracy: 0.7746\n",
            "Epoch 96/100\n",
            "210/210 [==============================] - 2s 10ms/step - loss: 0.7500 - accuracy: 0.7788 - val_loss: 0.7434 - val_accuracy: 0.7831\n",
            "Epoch 97/100\n",
            "210/210 [==============================] - 2s 10ms/step - loss: 0.7489 - accuracy: 0.7798 - val_loss: 0.7574 - val_accuracy: 0.7766\n",
            "Epoch 98/100\n",
            "210/210 [==============================] - 2s 10ms/step - loss: 0.7383 - accuracy: 0.7800 - val_loss: 0.7401 - val_accuracy: 0.7840\n",
            "Epoch 99/100\n",
            "210/210 [==============================] - 2s 10ms/step - loss: 0.7324 - accuracy: 0.7833 - val_loss: 0.7521 - val_accuracy: 0.7787\n",
            "Epoch 100/100\n",
            "210/210 [==============================] - 2s 10ms/step - loss: 0.7301 - accuracy: 0.7828 - val_loss: 0.7518 - val_accuracy: 0.7784\n"
          ],
          "name": "stdout"
        }
      ]
    },
    {
      "cell_type": "code",
      "metadata": {
        "colab": {
          "base_uri": "https://localhost:8080/"
        },
        "id": "nN1w9V3du926",
        "outputId": "1d6cc4d3-82d2-44fa-ef47-e71362b34534"
      },
      "source": [
        "print('Evaluate NN model with relu activations'); print('--'*40)\n",
        "results2 = model2.evaluate(X_val, y_val)\n",
        "print('Validation accuracy: {}'.format(round(results2[1]*100, 2), '%'))"
      ],
      "execution_count": 58,
      "outputs": [
        {
          "output_type": "stream",
          "text": [
            "Evaluate NN model with relu activations\n",
            "--------------------------------------------------------------------------------\n",
            "1875/1875 [==============================] - 4s 2ms/step - loss: 0.7518 - accuracy: 0.7784\n",
            "Validation accuracy: 77.84\n"
          ],
          "name": "stdout"
        }
      ]
    },
    {
      "cell_type": "markdown",
      "metadata": {
        "id": "AC3LqPtHv2Xk"
      },
      "source": [
        "**NN model, ReLU activations, SGD optimizer: Changing Learning Rate**"
      ]
    },
    {
      "cell_type": "code",
      "metadata": {
        "colab": {
          "base_uri": "https://localhost:8080/"
        },
        "id": "cHqUccsVvA5H",
        "outputId": "6b2b2062-7b6c-4ace-e822-ddfdaf519ee8"
      },
      "source": [
        "%time\n",
        "print('NN model with relu activations and sgd optimizers - changing learning rate'); print('--'*40)\n",
        "# compiling the neural network classifier, sgd optimizer\n",
        "sgd = optimizers.SGD(lr = 0.001)\n",
        "model2.compile(optimizer = sgd, loss = 'categorical_crossentropy', metrics = ['accuracy'])\n",
        "\n",
        "# Fitting the neural network for training\n",
        "history = model2.fit(X_train, y_train, validation_data = (X_val, y_val), batch_size = 200, epochs = 100, verbose = 1)"
      ],
      "execution_count": 59,
      "outputs": [
        {
          "output_type": "stream",
          "text": [
            "CPU times: user 3 µs, sys: 1e+03 ns, total: 4 µs\n",
            "Wall time: 10.3 µs\n",
            "NN model with relu activations and sgd optimizers - changing learning rate\n",
            "--------------------------------------------------------------------------------\n",
            "Epoch 1/100\n",
            "210/210 [==============================] - 3s 11ms/step - loss: 0.6992 - accuracy: 0.7966 - val_loss: 0.7166 - val_accuracy: 0.7931\n",
            "Epoch 2/100\n",
            "210/210 [==============================] - 2s 10ms/step - loss: 0.6903 - accuracy: 0.8008 - val_loss: 0.7162 - val_accuracy: 0.7931\n",
            "Epoch 3/100\n",
            "210/210 [==============================] - 2s 10ms/step - loss: 0.6970 - accuracy: 0.7976 - val_loss: 0.7156 - val_accuracy: 0.7937\n",
            "Epoch 4/100\n",
            "210/210 [==============================] - 2s 10ms/step - loss: 0.6938 - accuracy: 0.8003 - val_loss: 0.7150 - val_accuracy: 0.7934\n",
            "Epoch 5/100\n",
            "210/210 [==============================] - 2s 10ms/step - loss: 0.7019 - accuracy: 0.7970 - val_loss: 0.7152 - val_accuracy: 0.7935\n",
            "Epoch 6/100\n",
            "210/210 [==============================] - 2s 10ms/step - loss: 0.6912 - accuracy: 0.8010 - val_loss: 0.7152 - val_accuracy: 0.7929\n",
            "Epoch 7/100\n",
            "210/210 [==============================] - 2s 10ms/step - loss: 0.6932 - accuracy: 0.7986 - val_loss: 0.7139 - val_accuracy: 0.7941\n",
            "Epoch 8/100\n",
            "210/210 [==============================] - 2s 10ms/step - loss: 0.6854 - accuracy: 0.8019 - val_loss: 0.7130 - val_accuracy: 0.7943\n",
            "Epoch 9/100\n",
            "210/210 [==============================] - 2s 10ms/step - loss: 0.6960 - accuracy: 0.8016 - val_loss: 0.7132 - val_accuracy: 0.7941\n",
            "Epoch 10/100\n",
            "210/210 [==============================] - 2s 9ms/step - loss: 0.6938 - accuracy: 0.7987 - val_loss: 0.7129 - val_accuracy: 0.7939\n",
            "Epoch 11/100\n",
            "210/210 [==============================] - 2s 10ms/step - loss: 0.6924 - accuracy: 0.8010 - val_loss: 0.7132 - val_accuracy: 0.7936\n",
            "Epoch 12/100\n",
            "210/210 [==============================] - 2s 10ms/step - loss: 0.6855 - accuracy: 0.8005 - val_loss: 0.7126 - val_accuracy: 0.7938\n",
            "Epoch 13/100\n",
            "210/210 [==============================] - 2s 10ms/step - loss: 0.6920 - accuracy: 0.7966 - val_loss: 0.7115 - val_accuracy: 0.7944\n",
            "Epoch 14/100\n",
            "210/210 [==============================] - 2s 10ms/step - loss: 0.6951 - accuracy: 0.7974 - val_loss: 0.7114 - val_accuracy: 0.7942\n",
            "Epoch 15/100\n",
            "210/210 [==============================] - 2s 10ms/step - loss: 0.6910 - accuracy: 0.8005 - val_loss: 0.7118 - val_accuracy: 0.7945\n",
            "Epoch 16/100\n",
            "210/210 [==============================] - 2s 10ms/step - loss: 0.6861 - accuracy: 0.8007 - val_loss: 0.7107 - val_accuracy: 0.7942\n",
            "Epoch 17/100\n",
            "210/210 [==============================] - 2s 10ms/step - loss: 0.6894 - accuracy: 0.8006 - val_loss: 0.7102 - val_accuracy: 0.7956\n",
            "Epoch 18/100\n",
            "210/210 [==============================] - 2s 10ms/step - loss: 0.6870 - accuracy: 0.7988 - val_loss: 0.7111 - val_accuracy: 0.7941\n",
            "Epoch 19/100\n",
            "210/210 [==============================] - 2s 10ms/step - loss: 0.6934 - accuracy: 0.7994 - val_loss: 0.7092 - val_accuracy: 0.7954\n",
            "Epoch 20/100\n",
            "210/210 [==============================] - 2s 10ms/step - loss: 0.6919 - accuracy: 0.7989 - val_loss: 0.7102 - val_accuracy: 0.7952\n",
            "Epoch 21/100\n",
            "210/210 [==============================] - 2s 10ms/step - loss: 0.6811 - accuracy: 0.8000 - val_loss: 0.7089 - val_accuracy: 0.7961\n",
            "Epoch 22/100\n",
            "210/210 [==============================] - 2s 10ms/step - loss: 0.6776 - accuracy: 0.8013 - val_loss: 0.7089 - val_accuracy: 0.7959\n",
            "Epoch 23/100\n",
            "210/210 [==============================] - 2s 10ms/step - loss: 0.6799 - accuracy: 0.8017 - val_loss: 0.7095 - val_accuracy: 0.7956\n",
            "Epoch 24/100\n",
            "210/210 [==============================] - 2s 10ms/step - loss: 0.6920 - accuracy: 0.8024 - val_loss: 0.7080 - val_accuracy: 0.7958\n",
            "Epoch 25/100\n",
            "210/210 [==============================] - 2s 10ms/step - loss: 0.6856 - accuracy: 0.8002 - val_loss: 0.7077 - val_accuracy: 0.7948\n",
            "Epoch 26/100\n",
            "210/210 [==============================] - 2s 10ms/step - loss: 0.6825 - accuracy: 0.8010 - val_loss: 0.7075 - val_accuracy: 0.7965\n",
            "Epoch 27/100\n",
            "210/210 [==============================] - 2s 10ms/step - loss: 0.6843 - accuracy: 0.7998 - val_loss: 0.7064 - val_accuracy: 0.7962\n",
            "Epoch 28/100\n",
            "210/210 [==============================] - 2s 10ms/step - loss: 0.6826 - accuracy: 0.8014 - val_loss: 0.7067 - val_accuracy: 0.7957\n",
            "Epoch 29/100\n",
            "210/210 [==============================] - 2s 10ms/step - loss: 0.6791 - accuracy: 0.8010 - val_loss: 0.7071 - val_accuracy: 0.7949\n",
            "Epoch 30/100\n",
            "210/210 [==============================] - 2s 10ms/step - loss: 0.6830 - accuracy: 0.8026 - val_loss: 0.7063 - val_accuracy: 0.7962\n",
            "Epoch 31/100\n",
            "210/210 [==============================] - 2s 10ms/step - loss: 0.6741 - accuracy: 0.8039 - val_loss: 0.7058 - val_accuracy: 0.7961\n",
            "Epoch 32/100\n",
            "210/210 [==============================] - 2s 10ms/step - loss: 0.6815 - accuracy: 0.8014 - val_loss: 0.7059 - val_accuracy: 0.7952\n",
            "Epoch 33/100\n",
            "210/210 [==============================] - 2s 10ms/step - loss: 0.6802 - accuracy: 0.8026 - val_loss: 0.7059 - val_accuracy: 0.7959\n",
            "Epoch 34/100\n",
            "210/210 [==============================] - 2s 10ms/step - loss: 0.6862 - accuracy: 0.7996 - val_loss: 0.7045 - val_accuracy: 0.7964\n",
            "Epoch 35/100\n",
            "210/210 [==============================] - 2s 10ms/step - loss: 0.6781 - accuracy: 0.8017 - val_loss: 0.7042 - val_accuracy: 0.7967\n",
            "Epoch 36/100\n",
            "210/210 [==============================] - 2s 10ms/step - loss: 0.6818 - accuracy: 0.8019 - val_loss: 0.7049 - val_accuracy: 0.7970\n",
            "Epoch 37/100\n",
            "210/210 [==============================] - 2s 10ms/step - loss: 0.6807 - accuracy: 0.8019 - val_loss: 0.7033 - val_accuracy: 0.7964\n",
            "Epoch 38/100\n",
            "210/210 [==============================] - 2s 10ms/step - loss: 0.6807 - accuracy: 0.8013 - val_loss: 0.7044 - val_accuracy: 0.7959\n",
            "Epoch 39/100\n",
            "210/210 [==============================] - 2s 10ms/step - loss: 0.6822 - accuracy: 0.8018 - val_loss: 0.7029 - val_accuracy: 0.7969\n",
            "Epoch 40/100\n",
            "210/210 [==============================] - 2s 10ms/step - loss: 0.6699 - accuracy: 0.8060 - val_loss: 0.7031 - val_accuracy: 0.7970\n",
            "Epoch 41/100\n",
            "210/210 [==============================] - 2s 10ms/step - loss: 0.6787 - accuracy: 0.8020 - val_loss: 0.7026 - val_accuracy: 0.7969\n",
            "Epoch 42/100\n",
            "210/210 [==============================] - 2s 10ms/step - loss: 0.6774 - accuracy: 0.8042 - val_loss: 0.7025 - val_accuracy: 0.7974\n",
            "Epoch 43/100\n",
            "210/210 [==============================] - 2s 10ms/step - loss: 0.6817 - accuracy: 0.8019 - val_loss: 0.7018 - val_accuracy: 0.7977\n",
            "Epoch 44/100\n",
            "210/210 [==============================] - 2s 10ms/step - loss: 0.6856 - accuracy: 0.8020 - val_loss: 0.7029 - val_accuracy: 0.7970\n",
            "Epoch 45/100\n",
            "210/210 [==============================] - 2s 10ms/step - loss: 0.6830 - accuracy: 0.8020 - val_loss: 0.7015 - val_accuracy: 0.7978\n",
            "Epoch 46/100\n",
            "210/210 [==============================] - 2s 10ms/step - loss: 0.6803 - accuracy: 0.8040 - val_loss: 0.7006 - val_accuracy: 0.7978\n",
            "Epoch 47/100\n",
            "210/210 [==============================] - 2s 10ms/step - loss: 0.6744 - accuracy: 0.8040 - val_loss: 0.7012 - val_accuracy: 0.7976\n",
            "Epoch 48/100\n",
            "210/210 [==============================] - 2s 10ms/step - loss: 0.6817 - accuracy: 0.8036 - val_loss: 0.7020 - val_accuracy: 0.7968\n",
            "Epoch 49/100\n",
            "210/210 [==============================] - 2s 10ms/step - loss: 0.6820 - accuracy: 0.8012 - val_loss: 0.6999 - val_accuracy: 0.7970\n",
            "Epoch 50/100\n",
            "210/210 [==============================] - 2s 10ms/step - loss: 0.6853 - accuracy: 0.8029 - val_loss: 0.6996 - val_accuracy: 0.7978\n",
            "Epoch 51/100\n",
            "210/210 [==============================] - 2s 10ms/step - loss: 0.6859 - accuracy: 0.8034 - val_loss: 0.6992 - val_accuracy: 0.7979\n",
            "Epoch 52/100\n",
            "210/210 [==============================] - 2s 10ms/step - loss: 0.6666 - accuracy: 0.8064 - val_loss: 0.6990 - val_accuracy: 0.7981\n",
            "Epoch 53/100\n",
            "210/210 [==============================] - 2s 10ms/step - loss: 0.6781 - accuracy: 0.8034 - val_loss: 0.6991 - val_accuracy: 0.7982\n",
            "Epoch 54/100\n",
            "210/210 [==============================] - 2s 10ms/step - loss: 0.6704 - accuracy: 0.8062 - val_loss: 0.6985 - val_accuracy: 0.7985\n",
            "Epoch 55/100\n",
            "210/210 [==============================] - 2s 10ms/step - loss: 0.6785 - accuracy: 0.8042 - val_loss: 0.6996 - val_accuracy: 0.7980\n",
            "Epoch 56/100\n",
            "210/210 [==============================] - 2s 11ms/step - loss: 0.6710 - accuracy: 0.8031 - val_loss: 0.6980 - val_accuracy: 0.7983\n",
            "Epoch 57/100\n",
            "210/210 [==============================] - 2s 10ms/step - loss: 0.6780 - accuracy: 0.8003 - val_loss: 0.6980 - val_accuracy: 0.7988\n",
            "Epoch 58/100\n",
            "210/210 [==============================] - 2s 10ms/step - loss: 0.6693 - accuracy: 0.8046 - val_loss: 0.6968 - val_accuracy: 0.7982\n",
            "Epoch 59/100\n",
            "210/210 [==============================] - 2s 10ms/step - loss: 0.6789 - accuracy: 0.8025 - val_loss: 0.6968 - val_accuracy: 0.7990\n",
            "Epoch 60/100\n",
            "210/210 [==============================] - 2s 10ms/step - loss: 0.6705 - accuracy: 0.8065 - val_loss: 0.6971 - val_accuracy: 0.7985\n",
            "Epoch 61/100\n",
            "210/210 [==============================] - 2s 11ms/step - loss: 0.6815 - accuracy: 0.8022 - val_loss: 0.6964 - val_accuracy: 0.7979\n",
            "Epoch 62/100\n",
            "210/210 [==============================] - 2s 10ms/step - loss: 0.6754 - accuracy: 0.8029 - val_loss: 0.6953 - val_accuracy: 0.7995\n",
            "Epoch 63/100\n",
            "210/210 [==============================] - 2s 10ms/step - loss: 0.6743 - accuracy: 0.8036 - val_loss: 0.6957 - val_accuracy: 0.7995\n",
            "Epoch 64/100\n",
            "210/210 [==============================] - 2s 10ms/step - loss: 0.6769 - accuracy: 0.8033 - val_loss: 0.6956 - val_accuracy: 0.7993\n",
            "Epoch 65/100\n",
            "210/210 [==============================] - 2s 10ms/step - loss: 0.6774 - accuracy: 0.8036 - val_loss: 0.6952 - val_accuracy: 0.7986\n",
            "Epoch 66/100\n",
            "210/210 [==============================] - 2s 10ms/step - loss: 0.6676 - accuracy: 0.8064 - val_loss: 0.6947 - val_accuracy: 0.7986\n",
            "Epoch 67/100\n",
            "210/210 [==============================] - 2s 10ms/step - loss: 0.6625 - accuracy: 0.8086 - val_loss: 0.6953 - val_accuracy: 0.7984\n",
            "Epoch 68/100\n",
            "210/210 [==============================] - 2s 10ms/step - loss: 0.6674 - accuracy: 0.8083 - val_loss: 0.6944 - val_accuracy: 0.7992\n",
            "Epoch 69/100\n",
            "210/210 [==============================] - 2s 11ms/step - loss: 0.6700 - accuracy: 0.8060 - val_loss: 0.6938 - val_accuracy: 0.7992\n",
            "Epoch 70/100\n",
            "210/210 [==============================] - 2s 10ms/step - loss: 0.6702 - accuracy: 0.8058 - val_loss: 0.6935 - val_accuracy: 0.7998\n",
            "Epoch 71/100\n",
            "210/210 [==============================] - 2s 10ms/step - loss: 0.6601 - accuracy: 0.8080 - val_loss: 0.6943 - val_accuracy: 0.7994\n",
            "Epoch 72/100\n",
            "210/210 [==============================] - 2s 10ms/step - loss: 0.6714 - accuracy: 0.8043 - val_loss: 0.6937 - val_accuracy: 0.7998\n",
            "Epoch 73/100\n",
            "210/210 [==============================] - 2s 10ms/step - loss: 0.6638 - accuracy: 0.8087 - val_loss: 0.6941 - val_accuracy: 0.7992\n",
            "Epoch 74/100\n",
            "210/210 [==============================] - 2s 10ms/step - loss: 0.6648 - accuracy: 0.8083 - val_loss: 0.6922 - val_accuracy: 0.8000\n",
            "Epoch 75/100\n",
            "210/210 [==============================] - 2s 10ms/step - loss: 0.6633 - accuracy: 0.8075 - val_loss: 0.6921 - val_accuracy: 0.8003\n",
            "Epoch 76/100\n",
            "210/210 [==============================] - 2s 10ms/step - loss: 0.6692 - accuracy: 0.8048 - val_loss: 0.6911 - val_accuracy: 0.7994\n",
            "Epoch 77/100\n",
            "210/210 [==============================] - 2s 10ms/step - loss: 0.6714 - accuracy: 0.8072 - val_loss: 0.6918 - val_accuracy: 0.8007\n",
            "Epoch 78/100\n",
            "210/210 [==============================] - 2s 10ms/step - loss: 0.6698 - accuracy: 0.8070 - val_loss: 0.6922 - val_accuracy: 0.7997\n",
            "Epoch 79/100\n",
            "210/210 [==============================] - 2s 10ms/step - loss: 0.6587 - accuracy: 0.8081 - val_loss: 0.6907 - val_accuracy: 0.8002\n",
            "Epoch 80/100\n",
            "210/210 [==============================] - 2s 10ms/step - loss: 0.6552 - accuracy: 0.8091 - val_loss: 0.6908 - val_accuracy: 0.8010\n",
            "Epoch 81/100\n",
            "210/210 [==============================] - 2s 10ms/step - loss: 0.6548 - accuracy: 0.8094 - val_loss: 0.6904 - val_accuracy: 0.8008\n",
            "Epoch 82/100\n",
            "210/210 [==============================] - 2s 10ms/step - loss: 0.6711 - accuracy: 0.8029 - val_loss: 0.6914 - val_accuracy: 0.7999\n",
            "Epoch 83/100\n",
            "210/210 [==============================] - 2s 10ms/step - loss: 0.6631 - accuracy: 0.8075 - val_loss: 0.6894 - val_accuracy: 0.8013\n",
            "Epoch 84/100\n",
            "210/210 [==============================] - 2s 10ms/step - loss: 0.6595 - accuracy: 0.8087 - val_loss: 0.6898 - val_accuracy: 0.8008\n",
            "Epoch 85/100\n",
            "210/210 [==============================] - 2s 10ms/step - loss: 0.6657 - accuracy: 0.8091 - val_loss: 0.6891 - val_accuracy: 0.8012\n",
            "Epoch 86/100\n",
            "210/210 [==============================] - 2s 10ms/step - loss: 0.6686 - accuracy: 0.8049 - val_loss: 0.6891 - val_accuracy: 0.8004\n",
            "Epoch 87/100\n",
            "210/210 [==============================] - 2s 10ms/step - loss: 0.6676 - accuracy: 0.8051 - val_loss: 0.6886 - val_accuracy: 0.8004\n",
            "Epoch 88/100\n",
            "210/210 [==============================] - 2s 10ms/step - loss: 0.6653 - accuracy: 0.8073 - val_loss: 0.6878 - val_accuracy: 0.8013\n",
            "Epoch 89/100\n",
            "210/210 [==============================] - 2s 11ms/step - loss: 0.6616 - accuracy: 0.8083 - val_loss: 0.6875 - val_accuracy: 0.8013\n",
            "Epoch 90/100\n",
            "210/210 [==============================] - 2s 11ms/step - loss: 0.6579 - accuracy: 0.8084 - val_loss: 0.6882 - val_accuracy: 0.8011\n",
            "Epoch 91/100\n",
            "210/210 [==============================] - 2s 10ms/step - loss: 0.6574 - accuracy: 0.8077 - val_loss: 0.6878 - val_accuracy: 0.8018\n",
            "Epoch 92/100\n",
            "210/210 [==============================] - 2s 10ms/step - loss: 0.6613 - accuracy: 0.8055 - val_loss: 0.6879 - val_accuracy: 0.8013\n",
            "Epoch 93/100\n",
            "210/210 [==============================] - 2s 10ms/step - loss: 0.6531 - accuracy: 0.8091 - val_loss: 0.6872 - val_accuracy: 0.8020\n",
            "Epoch 94/100\n",
            "210/210 [==============================] - 2s 10ms/step - loss: 0.6685 - accuracy: 0.8052 - val_loss: 0.6863 - val_accuracy: 0.8019\n",
            "Epoch 95/100\n",
            "210/210 [==============================] - 2s 11ms/step - loss: 0.6654 - accuracy: 0.8081 - val_loss: 0.6869 - val_accuracy: 0.8011\n",
            "Epoch 96/100\n",
            "210/210 [==============================] - 2s 10ms/step - loss: 0.6591 - accuracy: 0.8084 - val_loss: 0.6861 - val_accuracy: 0.8022\n",
            "Epoch 97/100\n",
            "210/210 [==============================] - 2s 11ms/step - loss: 0.6452 - accuracy: 0.8124 - val_loss: 0.6858 - val_accuracy: 0.8021\n",
            "Epoch 98/100\n",
            "210/210 [==============================] - 2s 10ms/step - loss: 0.6592 - accuracy: 0.8081 - val_loss: 0.6856 - val_accuracy: 0.8024\n",
            "Epoch 99/100\n",
            "210/210 [==============================] - 2s 10ms/step - loss: 0.6562 - accuracy: 0.8103 - val_loss: 0.6853 - val_accuracy: 0.8019\n",
            "Epoch 100/100\n",
            "210/210 [==============================] - 2s 10ms/step - loss: 0.6615 - accuracy: 0.8098 - val_loss: 0.6889 - val_accuracy: 0.8011\n"
          ],
          "name": "stdout"
        }
      ]
    },
    {
      "cell_type": "code",
      "metadata": {
        "colab": {
          "base_uri": "https://localhost:8080/"
        },
        "id": "lMC2UWAXwHlY",
        "outputId": "789d01bf-967f-48d5-e730-7d081e8ee61d"
      },
      "source": [
        "print('Evaluate NN model with relu activations'); print('--'*40)\n",
        "results2 = model2.evaluate(X_val, y_val)\n",
        "print('Validation accuracy: {}'.format(round(results2[1]*100, 2), '%'))"
      ],
      "execution_count": 60,
      "outputs": [
        {
          "output_type": "stream",
          "text": [
            "Evaluate NN model with relu activations\n",
            "--------------------------------------------------------------------------------\n",
            "1875/1875 [==============================] - 4s 2ms/step - loss: 0.6889 - accuracy: 0.8011\n",
            "Validation accuracy: 80.11\n"
          ],
          "name": "stdout"
        }
      ]
    },
    {
      "cell_type": "markdown",
      "metadata": {
        "id": "sI8bFpNdwNPv"
      },
      "source": [
        "**NN model, ReLU activations, Adam optimizer**"
      ]
    },
    {
      "cell_type": "code",
      "metadata": {
        "colab": {
          "base_uri": "https://localhost:8080/"
        },
        "id": "6mYuwO16wLz5",
        "outputId": "6e1834a5-5572-4755-be2e-e8abb18ccb99"
      },
      "source": [
        "%time\n",
        "print('NN model with relu activations and adam optimizer'); print('--'*40)\n",
        "# compiling the neural network classifier, adam optimizer\n",
        "adam = optimizers.Adam(lr = 0.01)\n",
        "model2.compile(optimizer = adam, loss = 'categorical_crossentropy', metrics = ['accuracy'])\n",
        "\n",
        "# Fitting the neural network for training\n",
        "history = model2.fit(X_train, y_train, validation_data = (X_val, y_val), batch_size = 200, epochs = 100, verbose = 1)"
      ],
      "execution_count": 61,
      "outputs": [
        {
          "output_type": "stream",
          "text": [
            "CPU times: user 4 µs, sys: 1e+03 ns, total: 5 µs\n",
            "Wall time: 7.87 µs\n",
            "NN model with relu activations and adam optimizer\n",
            "--------------------------------------------------------------------------------\n",
            "Epoch 1/100\n",
            "210/210 [==============================] - 3s 11ms/step - loss: 6.6549 - accuracy: 0.1595 - val_loss: 1.9363 - val_accuracy: 0.2973\n",
            "Epoch 2/100\n",
            "210/210 [==============================] - 2s 10ms/step - loss: 1.8963 - accuracy: 0.3120 - val_loss: 1.6418 - val_accuracy: 0.4301\n",
            "Epoch 3/100\n",
            "210/210 [==============================] - 2s 10ms/step - loss: 1.4858 - accuracy: 0.5075 - val_loss: 1.1934 - val_accuracy: 0.6210\n",
            "Epoch 4/100\n",
            "210/210 [==============================] - 2s 11ms/step - loss: 1.2725 - accuracy: 0.5885 - val_loss: 1.2380 - val_accuracy: 0.6027\n",
            "Epoch 5/100\n",
            "210/210 [==============================] - 2s 10ms/step - loss: 1.2166 - accuracy: 0.6081 - val_loss: 1.1509 - val_accuracy: 0.6299\n",
            "Epoch 6/100\n",
            "210/210 [==============================] - 2s 10ms/step - loss: 1.1465 - accuracy: 0.6381 - val_loss: 1.0718 - val_accuracy: 0.6685\n",
            "Epoch 7/100\n",
            "210/210 [==============================] - 2s 10ms/step - loss: 1.1023 - accuracy: 0.6522 - val_loss: 1.0848 - val_accuracy: 0.6591\n",
            "Epoch 8/100\n",
            "210/210 [==============================] - 2s 11ms/step - loss: 1.0603 - accuracy: 0.6716 - val_loss: 1.1060 - val_accuracy: 0.6507\n",
            "Epoch 9/100\n",
            "210/210 [==============================] - 2s 10ms/step - loss: 1.0153 - accuracy: 0.6875 - val_loss: 1.0462 - val_accuracy: 0.6781\n",
            "Epoch 10/100\n",
            "210/210 [==============================] - 2s 11ms/step - loss: 1.0142 - accuracy: 0.6840 - val_loss: 1.0798 - val_accuracy: 0.6605\n",
            "Epoch 11/100\n",
            "210/210 [==============================] - 2s 10ms/step - loss: 0.9965 - accuracy: 0.6907 - val_loss: 1.0275 - val_accuracy: 0.6821\n",
            "Epoch 12/100\n",
            "210/210 [==============================] - 2s 10ms/step - loss: 0.9758 - accuracy: 0.6968 - val_loss: 0.9266 - val_accuracy: 0.7181\n",
            "Epoch 13/100\n",
            "210/210 [==============================] - 2s 10ms/step - loss: 0.9388 - accuracy: 0.7110 - val_loss: 0.9802 - val_accuracy: 0.6930\n",
            "Epoch 14/100\n",
            "210/210 [==============================] - 2s 11ms/step - loss: 0.9701 - accuracy: 0.6996 - val_loss: 1.0141 - val_accuracy: 0.6876\n",
            "Epoch 15/100\n",
            "210/210 [==============================] - 2s 10ms/step - loss: 0.9430 - accuracy: 0.7122 - val_loss: 1.0317 - val_accuracy: 0.6862\n",
            "Epoch 16/100\n",
            "210/210 [==============================] - 2s 11ms/step - loss: 0.9426 - accuracy: 0.7088 - val_loss: 0.9097 - val_accuracy: 0.7279\n",
            "Epoch 17/100\n",
            "210/210 [==============================] - 2s 11ms/step - loss: 0.9335 - accuracy: 0.7142 - val_loss: 0.8778 - val_accuracy: 0.7313\n",
            "Epoch 18/100\n",
            "210/210 [==============================] - 2s 11ms/step - loss: 0.8868 - accuracy: 0.7267 - val_loss: 0.9847 - val_accuracy: 0.6937\n",
            "Epoch 19/100\n",
            "210/210 [==============================] - 2s 10ms/step - loss: 0.9145 - accuracy: 0.7213 - val_loss: 0.9480 - val_accuracy: 0.7115\n",
            "Epoch 20/100\n",
            "210/210 [==============================] - 2s 10ms/step - loss: 0.9092 - accuracy: 0.7169 - val_loss: 0.9914 - val_accuracy: 0.6923\n",
            "Epoch 21/100\n",
            "210/210 [==============================] - 2s 10ms/step - loss: 0.8933 - accuracy: 0.7216 - val_loss: 0.9467 - val_accuracy: 0.7107\n",
            "Epoch 22/100\n",
            "210/210 [==============================] - 2s 10ms/step - loss: 0.8871 - accuracy: 0.7235 - val_loss: 0.8352 - val_accuracy: 0.7476\n",
            "Epoch 23/100\n",
            "210/210 [==============================] - 2s 10ms/step - loss: 0.8836 - accuracy: 0.7253 - val_loss: 0.9748 - val_accuracy: 0.6988\n",
            "Epoch 24/100\n",
            "210/210 [==============================] - 2s 11ms/step - loss: 0.8631 - accuracy: 0.7340 - val_loss: 0.9074 - val_accuracy: 0.7213\n",
            "Epoch 25/100\n",
            "210/210 [==============================] - 2s 11ms/step - loss: 0.8486 - accuracy: 0.7400 - val_loss: 0.8554 - val_accuracy: 0.7408\n",
            "Epoch 26/100\n",
            "210/210 [==============================] - 2s 11ms/step - loss: 0.8484 - accuracy: 0.7410 - val_loss: 0.8383 - val_accuracy: 0.7501\n",
            "Epoch 27/100\n",
            "210/210 [==============================] - 2s 11ms/step - loss: 0.8694 - accuracy: 0.7338 - val_loss: 0.8757 - val_accuracy: 0.7330\n",
            "Epoch 28/100\n",
            "210/210 [==============================] - 2s 11ms/step - loss: 0.8747 - accuracy: 0.7320 - val_loss: 0.8261 - val_accuracy: 0.7498\n",
            "Epoch 29/100\n",
            "210/210 [==============================] - 2s 11ms/step - loss: 0.8508 - accuracy: 0.7377 - val_loss: 0.9092 - val_accuracy: 0.7221\n",
            "Epoch 30/100\n",
            "210/210 [==============================] - 2s 10ms/step - loss: 0.8841 - accuracy: 0.7289 - val_loss: 0.8919 - val_accuracy: 0.7278\n",
            "Epoch 31/100\n",
            "210/210 [==============================] - 2s 11ms/step - loss: 0.8507 - accuracy: 0.7399 - val_loss: 0.8896 - val_accuracy: 0.7280\n",
            "Epoch 32/100\n",
            "210/210 [==============================] - 2s 11ms/step - loss: 0.8583 - accuracy: 0.7379 - val_loss: 0.8347 - val_accuracy: 0.7467\n",
            "Epoch 33/100\n",
            "210/210 [==============================] - 2s 10ms/step - loss: 0.8333 - accuracy: 0.7438 - val_loss: 0.8631 - val_accuracy: 0.7384\n",
            "Epoch 34/100\n",
            "210/210 [==============================] - 2s 10ms/step - loss: 0.7994 - accuracy: 0.7570 - val_loss: 0.8113 - val_accuracy: 0.7547\n",
            "Epoch 35/100\n",
            "210/210 [==============================] - 2s 10ms/step - loss: 0.8334 - accuracy: 0.7459 - val_loss: 0.8595 - val_accuracy: 0.7370\n",
            "Epoch 36/100\n",
            "210/210 [==============================] - 2s 10ms/step - loss: 0.8137 - accuracy: 0.7495 - val_loss: 0.7741 - val_accuracy: 0.7687\n",
            "Epoch 37/100\n",
            "210/210 [==============================] - 2s 10ms/step - loss: 0.8146 - accuracy: 0.7513 - val_loss: 0.8916 - val_accuracy: 0.7306\n",
            "Epoch 38/100\n",
            "210/210 [==============================] - 2s 10ms/step - loss: 0.8171 - accuracy: 0.7514 - val_loss: 0.9230 - val_accuracy: 0.7160\n",
            "Epoch 39/100\n",
            "210/210 [==============================] - 2s 10ms/step - loss: 0.8366 - accuracy: 0.7418 - val_loss: 0.8489 - val_accuracy: 0.7422\n",
            "Epoch 40/100\n",
            "210/210 [==============================] - 2s 10ms/step - loss: 0.8040 - accuracy: 0.7508 - val_loss: 0.8189 - val_accuracy: 0.7501\n",
            "Epoch 41/100\n",
            "210/210 [==============================] - 2s 10ms/step - loss: 0.8074 - accuracy: 0.7544 - val_loss: 0.8091 - val_accuracy: 0.7578\n",
            "Epoch 42/100\n",
            "210/210 [==============================] - 2s 10ms/step - loss: 0.7935 - accuracy: 0.7547 - val_loss: 0.8988 - val_accuracy: 0.7233\n",
            "Epoch 43/100\n",
            "210/210 [==============================] - 2s 10ms/step - loss: 0.8190 - accuracy: 0.7491 - val_loss: 0.8430 - val_accuracy: 0.7487\n",
            "Epoch 44/100\n",
            "210/210 [==============================] - 2s 10ms/step - loss: 0.8056 - accuracy: 0.7523 - val_loss: 0.7833 - val_accuracy: 0.7628\n",
            "Epoch 45/100\n",
            "210/210 [==============================] - 2s 10ms/step - loss: 0.8085 - accuracy: 0.7544 - val_loss: 0.8229 - val_accuracy: 0.7486\n",
            "Epoch 46/100\n",
            "210/210 [==============================] - 2s 11ms/step - loss: 0.7902 - accuracy: 0.7576 - val_loss: 0.7860 - val_accuracy: 0.7617\n",
            "Epoch 47/100\n",
            "210/210 [==============================] - 2s 10ms/step - loss: 0.7742 - accuracy: 0.7659 - val_loss: 0.7924 - val_accuracy: 0.7606\n",
            "Epoch 48/100\n",
            "210/210 [==============================] - 2s 10ms/step - loss: 0.7957 - accuracy: 0.7557 - val_loss: 0.8302 - val_accuracy: 0.7495\n",
            "Epoch 49/100\n",
            "210/210 [==============================] - 2s 10ms/step - loss: 0.8115 - accuracy: 0.7527 - val_loss: 0.8287 - val_accuracy: 0.7485\n",
            "Epoch 50/100\n",
            "210/210 [==============================] - 2s 10ms/step - loss: 0.7906 - accuracy: 0.7590 - val_loss: 0.9191 - val_accuracy: 0.7143\n",
            "Epoch 51/100\n",
            "210/210 [==============================] - 2s 10ms/step - loss: 0.8110 - accuracy: 0.7488 - val_loss: 0.7465 - val_accuracy: 0.7752\n",
            "Epoch 52/100\n",
            "210/210 [==============================] - 2s 10ms/step - loss: 0.7816 - accuracy: 0.7605 - val_loss: 0.7910 - val_accuracy: 0.7614\n",
            "Epoch 53/100\n",
            "210/210 [==============================] - 2s 10ms/step - loss: 0.7746 - accuracy: 0.7618 - val_loss: 0.8227 - val_accuracy: 0.7509\n",
            "Epoch 54/100\n",
            "210/210 [==============================] - 2s 11ms/step - loss: 0.7891 - accuracy: 0.7588 - val_loss: 0.8162 - val_accuracy: 0.7487\n",
            "Epoch 55/100\n",
            "210/210 [==============================] - 2s 11ms/step - loss: 0.7848 - accuracy: 0.7581 - val_loss: 0.8404 - val_accuracy: 0.7486\n",
            "Epoch 56/100\n",
            "210/210 [==============================] - 2s 11ms/step - loss: 0.7891 - accuracy: 0.7592 - val_loss: 0.7478 - val_accuracy: 0.7758\n",
            "Epoch 57/100\n",
            "210/210 [==============================] - 2s 11ms/step - loss: 0.7709 - accuracy: 0.7649 - val_loss: 0.7651 - val_accuracy: 0.7708\n",
            "Epoch 58/100\n",
            "210/210 [==============================] - 2s 10ms/step - loss: 0.7892 - accuracy: 0.7616 - val_loss: 0.8965 - val_accuracy: 0.7264\n",
            "Epoch 59/100\n",
            "210/210 [==============================] - 2s 10ms/step - loss: 0.7956 - accuracy: 0.7554 - val_loss: 0.7780 - val_accuracy: 0.7628\n",
            "Epoch 60/100\n",
            "210/210 [==============================] - 2s 10ms/step - loss: 0.7815 - accuracy: 0.7592 - val_loss: 0.7772 - val_accuracy: 0.7651\n",
            "Epoch 61/100\n",
            "210/210 [==============================] - 2s 10ms/step - loss: 0.7714 - accuracy: 0.7622 - val_loss: 0.7504 - val_accuracy: 0.7754\n",
            "Epoch 62/100\n",
            "210/210 [==============================] - 2s 11ms/step - loss: 0.7534 - accuracy: 0.7714 - val_loss: 0.7474 - val_accuracy: 0.7761\n",
            "Epoch 63/100\n",
            "210/210 [==============================] - 2s 11ms/step - loss: 0.7735 - accuracy: 0.7616 - val_loss: 0.7461 - val_accuracy: 0.7747\n",
            "Epoch 64/100\n",
            "210/210 [==============================] - 2s 10ms/step - loss: 0.7884 - accuracy: 0.7594 - val_loss: 0.7816 - val_accuracy: 0.7645\n",
            "Epoch 65/100\n",
            "210/210 [==============================] - 2s 10ms/step - loss: 0.7763 - accuracy: 0.7622 - val_loss: 0.7937 - val_accuracy: 0.7620\n",
            "Epoch 66/100\n",
            "210/210 [==============================] - 2s 10ms/step - loss: 0.7768 - accuracy: 0.7599 - val_loss: 0.7654 - val_accuracy: 0.7673\n",
            "Epoch 67/100\n",
            "210/210 [==============================] - 2s 10ms/step - loss: 0.7709 - accuracy: 0.7644 - val_loss: 0.7817 - val_accuracy: 0.7654\n",
            "Epoch 68/100\n",
            "210/210 [==============================] - 2s 10ms/step - loss: 0.7681 - accuracy: 0.7637 - val_loss: 0.8131 - val_accuracy: 0.7577\n",
            "Epoch 69/100\n",
            "210/210 [==============================] - 2s 10ms/step - loss: 0.7804 - accuracy: 0.7572 - val_loss: 0.7446 - val_accuracy: 0.7761\n",
            "Epoch 70/100\n",
            "210/210 [==============================] - 2s 10ms/step - loss: 0.7661 - accuracy: 0.7667 - val_loss: 0.8336 - val_accuracy: 0.7430\n",
            "Epoch 71/100\n",
            "210/210 [==============================] - 2s 10ms/step - loss: 0.7670 - accuracy: 0.7671 - val_loss: 0.8654 - val_accuracy: 0.7355\n",
            "Epoch 72/100\n",
            "210/210 [==============================] - 2s 10ms/step - loss: 0.7800 - accuracy: 0.7637 - val_loss: 0.8527 - val_accuracy: 0.7394\n",
            "Epoch 73/100\n",
            "210/210 [==============================] - 2s 10ms/step - loss: 0.7895 - accuracy: 0.7536 - val_loss: 0.7664 - val_accuracy: 0.7709\n",
            "Epoch 74/100\n",
            "210/210 [==============================] - 2s 10ms/step - loss: 0.7770 - accuracy: 0.7625 - val_loss: 0.8028 - val_accuracy: 0.7536\n",
            "Epoch 75/100\n",
            "210/210 [==============================] - 2s 10ms/step - loss: 0.7769 - accuracy: 0.7625 - val_loss: 0.7814 - val_accuracy: 0.7650\n",
            "Epoch 76/100\n",
            "210/210 [==============================] - 2s 10ms/step - loss: 0.7636 - accuracy: 0.7677 - val_loss: 0.7875 - val_accuracy: 0.7598\n",
            "Epoch 77/100\n",
            "210/210 [==============================] - 2s 10ms/step - loss: 0.7633 - accuracy: 0.7684 - val_loss: 0.8447 - val_accuracy: 0.7394\n",
            "Epoch 78/100\n",
            "210/210 [==============================] - 2s 10ms/step - loss: 0.7661 - accuracy: 0.7647 - val_loss: 0.7661 - val_accuracy: 0.7693\n",
            "Epoch 79/100\n",
            "210/210 [==============================] - 2s 10ms/step - loss: 0.7603 - accuracy: 0.7663 - val_loss: 0.7200 - val_accuracy: 0.7843\n",
            "Epoch 80/100\n",
            "210/210 [==============================] - 2s 10ms/step - loss: 0.7610 - accuracy: 0.7646 - val_loss: 0.7683 - val_accuracy: 0.7673\n",
            "Epoch 81/100\n",
            "210/210 [==============================] - 2s 10ms/step - loss: 0.7560 - accuracy: 0.7662 - val_loss: 0.7464 - val_accuracy: 0.7748\n",
            "Epoch 82/100\n",
            "210/210 [==============================] - 2s 10ms/step - loss: 0.7655 - accuracy: 0.7647 - val_loss: 0.7792 - val_accuracy: 0.7630\n",
            "Epoch 83/100\n",
            "210/210 [==============================] - 2s 10ms/step - loss: 0.7577 - accuracy: 0.7655 - val_loss: 0.7513 - val_accuracy: 0.7738\n",
            "Epoch 84/100\n",
            "210/210 [==============================] - 2s 10ms/step - loss: 0.7482 - accuracy: 0.7686 - val_loss: 0.7771 - val_accuracy: 0.7695\n",
            "Epoch 85/100\n",
            "210/210 [==============================] - 2s 10ms/step - loss: 0.7471 - accuracy: 0.7714 - val_loss: 0.7681 - val_accuracy: 0.7698\n",
            "Epoch 86/100\n",
            "210/210 [==============================] - 2s 11ms/step - loss: 0.7423 - accuracy: 0.7723 - val_loss: 0.7693 - val_accuracy: 0.7675\n",
            "Epoch 87/100\n",
            "210/210 [==============================] - 2s 11ms/step - loss: 0.7501 - accuracy: 0.7702 - val_loss: 0.7801 - val_accuracy: 0.7604\n",
            "Epoch 88/100\n",
            "210/210 [==============================] - 2s 10ms/step - loss: 0.7450 - accuracy: 0.7708 - val_loss: 0.8032 - val_accuracy: 0.7569\n",
            "Epoch 89/100\n",
            "210/210 [==============================] - 2s 11ms/step - loss: 0.7450 - accuracy: 0.7736 - val_loss: 0.7624 - val_accuracy: 0.7700\n",
            "Epoch 90/100\n",
            "210/210 [==============================] - 2s 11ms/step - loss: 0.7367 - accuracy: 0.7743 - val_loss: 0.7813 - val_accuracy: 0.7666\n",
            "Epoch 91/100\n",
            "210/210 [==============================] - 2s 11ms/step - loss: 0.7505 - accuracy: 0.7715 - val_loss: 0.7372 - val_accuracy: 0.7794\n",
            "Epoch 92/100\n",
            "210/210 [==============================] - 2s 10ms/step - loss: 0.7550 - accuracy: 0.7703 - val_loss: 0.7575 - val_accuracy: 0.7691\n",
            "Epoch 93/100\n",
            "210/210 [==============================] - 2s 11ms/step - loss: 0.7475 - accuracy: 0.7711 - val_loss: 0.7647 - val_accuracy: 0.7735\n",
            "Epoch 94/100\n",
            "210/210 [==============================] - 2s 11ms/step - loss: 0.7662 - accuracy: 0.7637 - val_loss: 0.7650 - val_accuracy: 0.7702\n",
            "Epoch 95/100\n",
            "210/210 [==============================] - 2s 11ms/step - loss: 0.7565 - accuracy: 0.7668 - val_loss: 0.7517 - val_accuracy: 0.7746\n",
            "Epoch 96/100\n",
            "210/210 [==============================] - 2s 10ms/step - loss: 0.7405 - accuracy: 0.7723 - val_loss: 0.8107 - val_accuracy: 0.7551\n",
            "Epoch 97/100\n",
            "210/210 [==============================] - 2s 11ms/step - loss: 0.7462 - accuracy: 0.7739 - val_loss: 0.8016 - val_accuracy: 0.7564\n",
            "Epoch 98/100\n",
            "210/210 [==============================] - 2s 11ms/step - loss: 0.7696 - accuracy: 0.7635 - val_loss: 0.7573 - val_accuracy: 0.7755\n",
            "Epoch 99/100\n",
            "210/210 [==============================] - 2s 10ms/step - loss: 0.7428 - accuracy: 0.7709 - val_loss: 0.7680 - val_accuracy: 0.7697\n",
            "Epoch 100/100\n",
            "210/210 [==============================] - 2s 11ms/step - loss: 0.7442 - accuracy: 0.7700 - val_loss: 0.7597 - val_accuracy: 0.7688\n"
          ],
          "name": "stdout"
        }
      ]
    },
    {
      "cell_type": "code",
      "metadata": {
        "colab": {
          "base_uri": "https://localhost:8080/"
        },
        "id": "dPh51mLmwcP4",
        "outputId": "7f20ee3f-4971-45ca-f78e-3178f956956c"
      },
      "source": [
        "print('Evaluate NN model with relu activations'); print('--'*40)\n",
        "results2 = model2.evaluate(X_val, y_val)\n",
        "print('Validation accuracy: {}'.format(round(results2[1]*100, 2), '%'))"
      ],
      "execution_count": 62,
      "outputs": [
        {
          "output_type": "stream",
          "text": [
            "Evaluate NN model with relu activations\n",
            "--------------------------------------------------------------------------------\n",
            "1875/1875 [==============================] - 4s 2ms/step - loss: 0.7597 - accuracy: 0.7688\n",
            "Validation accuracy: 76.88\n"
          ],
          "name": "stdout"
        }
      ]
    },
    {
      "cell_type": "markdown",
      "metadata": {
        "id": "9pNkJhpVwhSH"
      },
      "source": [
        "**NN model, ReLU activations, Adam optimizer: Changing Learning Rate**"
      ]
    },
    {
      "cell_type": "code",
      "metadata": {
        "colab": {
          "base_uri": "https://localhost:8080/"
        },
        "id": "moEPldXHwftk",
        "outputId": "38098e99-8f9e-4f2c-f10e-457e8893fe47"
      },
      "source": [
        "%time\n",
        "print('NN model with relu activations and adam optimizer'); print('--'*40)\n",
        "# compiling the neural network classifier, adam optimizer\n",
        "adam = optimizers.Adam(lr = 0.001)\n",
        "model2.compile(optimizer = adam, loss = 'categorical_crossentropy', metrics = ['accuracy'])\n",
        "\n",
        "# Fitting the neural network for training\n",
        "history = model2.fit(X_train, y_train, validation_data = (X_val, y_val), batch_size = 200, epochs = 100, verbose = 1)"
      ],
      "execution_count": 63,
      "outputs": [
        {
          "output_type": "stream",
          "text": [
            "CPU times: user 3 µs, sys: 1 µs, total: 4 µs\n",
            "Wall time: 10.5 µs\n",
            "NN model with relu activations and adam optimizer\n",
            "--------------------------------------------------------------------------------\n",
            "Epoch 1/100\n",
            "210/210 [==============================] - 3s 11ms/step - loss: 0.6387 - accuracy: 0.8050 - val_loss: 0.6610 - val_accuracy: 0.8040\n",
            "Epoch 2/100\n",
            "210/210 [==============================] - 2s 10ms/step - loss: 0.6147 - accuracy: 0.8140 - val_loss: 0.6486 - val_accuracy: 0.8076\n",
            "Epoch 3/100\n",
            "210/210 [==============================] - 2s 10ms/step - loss: 0.6124 - accuracy: 0.8142 - val_loss: 0.6552 - val_accuracy: 0.8055\n",
            "Epoch 4/100\n",
            "210/210 [==============================] - 2s 10ms/step - loss: 0.6152 - accuracy: 0.8120 - val_loss: 0.6450 - val_accuracy: 0.8094\n",
            "Epoch 5/100\n",
            "210/210 [==============================] - 2s 10ms/step - loss: 0.6041 - accuracy: 0.8157 - val_loss: 0.6459 - val_accuracy: 0.8090\n",
            "Epoch 6/100\n",
            "210/210 [==============================] - 2s 10ms/step - loss: 0.6030 - accuracy: 0.8177 - val_loss: 0.6471 - val_accuracy: 0.8086\n",
            "Epoch 7/100\n",
            "210/210 [==============================] - 2s 10ms/step - loss: 0.6053 - accuracy: 0.8177 - val_loss: 0.6436 - val_accuracy: 0.8105\n",
            "Epoch 8/100\n",
            "210/210 [==============================] - 2s 10ms/step - loss: 0.5964 - accuracy: 0.8207 - val_loss: 0.6496 - val_accuracy: 0.8090\n",
            "Epoch 9/100\n",
            "210/210 [==============================] - 2s 10ms/step - loss: 0.5915 - accuracy: 0.8187 - val_loss: 0.6564 - val_accuracy: 0.8045\n",
            "Epoch 10/100\n",
            "210/210 [==============================] - 2s 10ms/step - loss: 0.6086 - accuracy: 0.8153 - val_loss: 0.6394 - val_accuracy: 0.8109\n",
            "Epoch 11/100\n",
            "210/210 [==============================] - 2s 10ms/step - loss: 0.6018 - accuracy: 0.8198 - val_loss: 0.6365 - val_accuracy: 0.8128\n",
            "Epoch 12/100\n",
            "210/210 [==============================] - 2s 10ms/step - loss: 0.6070 - accuracy: 0.8183 - val_loss: 0.6430 - val_accuracy: 0.8104\n",
            "Epoch 13/100\n",
            "210/210 [==============================] - 2s 10ms/step - loss: 0.6082 - accuracy: 0.8175 - val_loss: 0.6403 - val_accuracy: 0.8110\n",
            "Epoch 14/100\n",
            "210/210 [==============================] - 2s 10ms/step - loss: 0.6008 - accuracy: 0.8166 - val_loss: 0.6451 - val_accuracy: 0.8077\n",
            "Epoch 15/100\n",
            "210/210 [==============================] - 2s 10ms/step - loss: 0.5911 - accuracy: 0.8228 - val_loss: 0.6384 - val_accuracy: 0.8119\n",
            "Epoch 16/100\n",
            "210/210 [==============================] - 2s 10ms/step - loss: 0.5948 - accuracy: 0.8193 - val_loss: 0.6403 - val_accuracy: 0.8113\n",
            "Epoch 17/100\n",
            "210/210 [==============================] - 2s 10ms/step - loss: 0.5969 - accuracy: 0.8203 - val_loss: 0.6473 - val_accuracy: 0.8092\n",
            "Epoch 18/100\n",
            "210/210 [==============================] - 2s 10ms/step - loss: 0.5879 - accuracy: 0.8238 - val_loss: 0.6439 - val_accuracy: 0.8103\n",
            "Epoch 19/100\n",
            "210/210 [==============================] - 2s 10ms/step - loss: 0.5965 - accuracy: 0.8225 - val_loss: 0.6457 - val_accuracy: 0.8084\n",
            "Epoch 20/100\n",
            "210/210 [==============================] - 2s 10ms/step - loss: 0.5931 - accuracy: 0.8196 - val_loss: 0.6316 - val_accuracy: 0.8141\n",
            "Epoch 21/100\n",
            "210/210 [==============================] - 2s 10ms/step - loss: 0.5969 - accuracy: 0.8214 - val_loss: 0.6490 - val_accuracy: 0.8080\n",
            "Epoch 22/100\n",
            "210/210 [==============================] - 2s 10ms/step - loss: 0.6008 - accuracy: 0.8181 - val_loss: 0.6346 - val_accuracy: 0.8144\n",
            "Epoch 23/100\n",
            "210/210 [==============================] - 2s 10ms/step - loss: 0.6040 - accuracy: 0.8177 - val_loss: 0.6304 - val_accuracy: 0.8140\n",
            "Epoch 24/100\n",
            "210/210 [==============================] - 2s 10ms/step - loss: 0.5946 - accuracy: 0.8202 - val_loss: 0.6362 - val_accuracy: 0.8122\n",
            "Epoch 25/100\n",
            "210/210 [==============================] - 2s 10ms/step - loss: 0.5989 - accuracy: 0.8205 - val_loss: 0.6420 - val_accuracy: 0.8098\n",
            "Epoch 26/100\n",
            "210/210 [==============================] - 2s 10ms/step - loss: 0.5921 - accuracy: 0.8219 - val_loss: 0.6347 - val_accuracy: 0.8129\n",
            "Epoch 27/100\n",
            "210/210 [==============================] - 2s 10ms/step - loss: 0.5770 - accuracy: 0.8263 - val_loss: 0.6352 - val_accuracy: 0.8129\n",
            "Epoch 28/100\n",
            "210/210 [==============================] - 2s 10ms/step - loss: 0.5947 - accuracy: 0.8179 - val_loss: 0.6344 - val_accuracy: 0.8138\n",
            "Epoch 29/100\n",
            "210/210 [==============================] - 2s 10ms/step - loss: 0.5923 - accuracy: 0.8209 - val_loss: 0.6416 - val_accuracy: 0.8109\n",
            "Epoch 30/100\n",
            "210/210 [==============================] - 2s 10ms/step - loss: 0.6053 - accuracy: 0.8160 - val_loss: 0.6348 - val_accuracy: 0.8125\n",
            "Epoch 31/100\n",
            "210/210 [==============================] - 2s 10ms/step - loss: 0.5969 - accuracy: 0.8171 - val_loss: 0.6372 - val_accuracy: 0.8121\n",
            "Epoch 32/100\n",
            "210/210 [==============================] - 2s 10ms/step - loss: 0.6024 - accuracy: 0.8170 - val_loss: 0.6370 - val_accuracy: 0.8135\n",
            "Epoch 33/100\n",
            "210/210 [==============================] - 2s 10ms/step - loss: 0.5817 - accuracy: 0.8223 - val_loss: 0.6531 - val_accuracy: 0.8061\n",
            "Epoch 34/100\n",
            "210/210 [==============================] - 2s 10ms/step - loss: 0.5907 - accuracy: 0.8212 - val_loss: 0.6348 - val_accuracy: 0.8128\n",
            "Epoch 35/100\n",
            "210/210 [==============================] - 2s 10ms/step - loss: 0.6008 - accuracy: 0.8172 - val_loss: 0.6361 - val_accuracy: 0.8121\n",
            "Epoch 36/100\n",
            "210/210 [==============================] - 2s 10ms/step - loss: 0.5937 - accuracy: 0.8206 - val_loss: 0.6483 - val_accuracy: 0.8090\n",
            "Epoch 37/100\n",
            "210/210 [==============================] - 2s 10ms/step - loss: 0.5905 - accuracy: 0.8219 - val_loss: 0.6383 - val_accuracy: 0.8108\n",
            "Epoch 38/100\n",
            "210/210 [==============================] - 2s 10ms/step - loss: 0.5883 - accuracy: 0.8214 - val_loss: 0.6335 - val_accuracy: 0.8136\n",
            "Epoch 39/100\n",
            "210/210 [==============================] - 2s 10ms/step - loss: 0.5912 - accuracy: 0.8223 - val_loss: 0.6341 - val_accuracy: 0.8128\n",
            "Epoch 40/100\n",
            "210/210 [==============================] - 2s 10ms/step - loss: 0.5855 - accuracy: 0.8203 - val_loss: 0.6326 - val_accuracy: 0.8144\n",
            "Epoch 41/100\n",
            "210/210 [==============================] - 2s 10ms/step - loss: 0.5864 - accuracy: 0.8217 - val_loss: 0.6417 - val_accuracy: 0.8101\n",
            "Epoch 42/100\n",
            "210/210 [==============================] - 2s 10ms/step - loss: 0.5966 - accuracy: 0.8184 - val_loss: 0.6322 - val_accuracy: 0.8151\n",
            "Epoch 43/100\n",
            "210/210 [==============================] - 2s 10ms/step - loss: 0.5980 - accuracy: 0.8158 - val_loss: 0.6333 - val_accuracy: 0.8147\n",
            "Epoch 44/100\n",
            "210/210 [==============================] - 2s 10ms/step - loss: 0.5980 - accuracy: 0.8195 - val_loss: 0.6321 - val_accuracy: 0.8135\n",
            "Epoch 45/100\n",
            "210/210 [==============================] - 2s 10ms/step - loss: 0.5993 - accuracy: 0.8206 - val_loss: 0.6401 - val_accuracy: 0.8119\n",
            "Epoch 46/100\n",
            "210/210 [==============================] - 2s 10ms/step - loss: 0.5838 - accuracy: 0.8232 - val_loss: 0.6281 - val_accuracy: 0.8153\n",
            "Epoch 47/100\n",
            "210/210 [==============================] - 2s 10ms/step - loss: 0.5878 - accuracy: 0.8214 - val_loss: 0.6455 - val_accuracy: 0.8073\n",
            "Epoch 48/100\n",
            "210/210 [==============================] - 2s 10ms/step - loss: 0.5896 - accuracy: 0.8221 - val_loss: 0.6335 - val_accuracy: 0.8131\n",
            "Epoch 49/100\n",
            "210/210 [==============================] - 2s 10ms/step - loss: 0.5951 - accuracy: 0.8215 - val_loss: 0.6338 - val_accuracy: 0.8125\n",
            "Epoch 50/100\n",
            "210/210 [==============================] - 2s 10ms/step - loss: 0.5852 - accuracy: 0.8217 - val_loss: 0.6419 - val_accuracy: 0.8108\n",
            "Epoch 51/100\n",
            "210/210 [==============================] - 2s 10ms/step - loss: 0.5879 - accuracy: 0.8216 - val_loss: 0.6375 - val_accuracy: 0.8116\n",
            "Epoch 52/100\n",
            "210/210 [==============================] - 2s 10ms/step - loss: 0.5877 - accuracy: 0.8206 - val_loss: 0.6298 - val_accuracy: 0.8140\n",
            "Epoch 53/100\n",
            "210/210 [==============================] - 2s 10ms/step - loss: 0.5877 - accuracy: 0.8243 - val_loss: 0.6277 - val_accuracy: 0.8154\n",
            "Epoch 54/100\n",
            "210/210 [==============================] - 2s 10ms/step - loss: 0.5820 - accuracy: 0.8249 - val_loss: 0.6274 - val_accuracy: 0.8156\n",
            "Epoch 55/100\n",
            "210/210 [==============================] - 2s 10ms/step - loss: 0.5761 - accuracy: 0.8261 - val_loss: 0.6292 - val_accuracy: 0.8158\n",
            "Epoch 56/100\n",
            "210/210 [==============================] - 2s 10ms/step - loss: 0.5951 - accuracy: 0.8206 - val_loss: 0.6295 - val_accuracy: 0.8146\n",
            "Epoch 57/100\n",
            "210/210 [==============================] - 2s 10ms/step - loss: 0.5792 - accuracy: 0.8233 - val_loss: 0.6299 - val_accuracy: 0.8139\n",
            "Epoch 58/100\n",
            "210/210 [==============================] - 2s 10ms/step - loss: 0.6018 - accuracy: 0.8181 - val_loss: 0.6326 - val_accuracy: 0.8131\n",
            "Epoch 59/100\n",
            "210/210 [==============================] - 2s 10ms/step - loss: 0.5843 - accuracy: 0.8227 - val_loss: 0.6304 - val_accuracy: 0.8141\n",
            "Epoch 60/100\n",
            "210/210 [==============================] - 2s 10ms/step - loss: 0.5912 - accuracy: 0.8215 - val_loss: 0.6268 - val_accuracy: 0.8157\n",
            "Epoch 61/100\n",
            "210/210 [==============================] - 2s 10ms/step - loss: 0.5855 - accuracy: 0.8226 - val_loss: 0.6367 - val_accuracy: 0.8128\n",
            "Epoch 62/100\n",
            "210/210 [==============================] - 2s 10ms/step - loss: 0.5832 - accuracy: 0.8221 - val_loss: 0.6365 - val_accuracy: 0.8127\n",
            "Epoch 63/100\n",
            "210/210 [==============================] - 2s 10ms/step - loss: 0.5790 - accuracy: 0.8272 - val_loss: 0.6318 - val_accuracy: 0.8138\n",
            "Epoch 64/100\n",
            "210/210 [==============================] - 2s 10ms/step - loss: 0.5811 - accuracy: 0.8211 - val_loss: 0.6294 - val_accuracy: 0.8154\n",
            "Epoch 65/100\n",
            "210/210 [==============================] - 2s 10ms/step - loss: 0.5811 - accuracy: 0.8243 - val_loss: 0.6271 - val_accuracy: 0.8162\n",
            "Epoch 66/100\n",
            "210/210 [==============================] - 2s 10ms/step - loss: 0.5801 - accuracy: 0.8256 - val_loss: 0.6310 - val_accuracy: 0.8138\n",
            "Epoch 67/100\n",
            "210/210 [==============================] - 2s 10ms/step - loss: 0.5847 - accuracy: 0.8222 - val_loss: 0.6318 - val_accuracy: 0.8145\n",
            "Epoch 68/100\n",
            "210/210 [==============================] - 2s 10ms/step - loss: 0.5737 - accuracy: 0.8266 - val_loss: 0.6263 - val_accuracy: 0.8152\n",
            "Epoch 69/100\n",
            "210/210 [==============================] - 2s 11ms/step - loss: 0.5759 - accuracy: 0.8269 - val_loss: 0.6280 - val_accuracy: 0.8155\n",
            "Epoch 70/100\n",
            "210/210 [==============================] - 2s 11ms/step - loss: 0.5687 - accuracy: 0.8247 - val_loss: 0.6308 - val_accuracy: 0.8140\n",
            "Epoch 71/100\n",
            "210/210 [==============================] - 2s 11ms/step - loss: 0.5874 - accuracy: 0.8196 - val_loss: 0.6383 - val_accuracy: 0.8109\n",
            "Epoch 72/100\n",
            "210/210 [==============================] - 2s 11ms/step - loss: 0.5762 - accuracy: 0.8263 - val_loss: 0.6275 - val_accuracy: 0.8147\n",
            "Epoch 73/100\n",
            "210/210 [==============================] - 2s 11ms/step - loss: 0.5783 - accuracy: 0.8233 - val_loss: 0.6248 - val_accuracy: 0.8163\n",
            "Epoch 74/100\n",
            "210/210 [==============================] - 2s 10ms/step - loss: 0.5819 - accuracy: 0.8254 - val_loss: 0.6360 - val_accuracy: 0.8121\n",
            "Epoch 75/100\n",
            "210/210 [==============================] - 2s 10ms/step - loss: 0.5939 - accuracy: 0.8200 - val_loss: 0.6281 - val_accuracy: 0.8146\n",
            "Epoch 76/100\n",
            "210/210 [==============================] - 2s 10ms/step - loss: 0.5796 - accuracy: 0.8263 - val_loss: 0.6300 - val_accuracy: 0.8151\n",
            "Epoch 77/100\n",
            "210/210 [==============================] - 2s 10ms/step - loss: 0.5757 - accuracy: 0.8274 - val_loss: 0.6264 - val_accuracy: 0.8158\n",
            "Epoch 78/100\n",
            "210/210 [==============================] - 2s 10ms/step - loss: 0.5793 - accuracy: 0.8252 - val_loss: 0.6248 - val_accuracy: 0.8152\n",
            "Epoch 79/100\n",
            "210/210 [==============================] - 2s 10ms/step - loss: 0.5765 - accuracy: 0.8237 - val_loss: 0.6244 - val_accuracy: 0.8156\n",
            "Epoch 80/100\n",
            "210/210 [==============================] - 2s 10ms/step - loss: 0.5791 - accuracy: 0.8240 - val_loss: 0.6336 - val_accuracy: 0.8126\n",
            "Epoch 81/100\n",
            "210/210 [==============================] - 2s 10ms/step - loss: 0.5771 - accuracy: 0.8260 - val_loss: 0.6247 - val_accuracy: 0.8157\n",
            "Epoch 82/100\n",
            "210/210 [==============================] - 2s 10ms/step - loss: 0.5803 - accuracy: 0.8222 - val_loss: 0.6300 - val_accuracy: 0.8138\n",
            "Epoch 83/100\n",
            "210/210 [==============================] - 2s 10ms/step - loss: 0.5796 - accuracy: 0.8241 - val_loss: 0.6273 - val_accuracy: 0.8158\n",
            "Epoch 84/100\n",
            "210/210 [==============================] - 2s 10ms/step - loss: 0.5767 - accuracy: 0.8258 - val_loss: 0.6308 - val_accuracy: 0.8135\n",
            "Epoch 85/100\n",
            "210/210 [==============================] - 2s 10ms/step - loss: 0.5731 - accuracy: 0.8265 - val_loss: 0.6376 - val_accuracy: 0.8124\n",
            "Epoch 86/100\n",
            "210/210 [==============================] - 2s 10ms/step - loss: 0.5764 - accuracy: 0.8258 - val_loss: 0.6237 - val_accuracy: 0.8163\n",
            "Epoch 87/100\n",
            "210/210 [==============================] - 2s 10ms/step - loss: 0.5834 - accuracy: 0.8234 - val_loss: 0.6290 - val_accuracy: 0.8146\n",
            "Epoch 88/100\n",
            "210/210 [==============================] - 2s 10ms/step - loss: 0.5816 - accuracy: 0.8258 - val_loss: 0.6317 - val_accuracy: 0.8133\n",
            "Epoch 89/100\n",
            "210/210 [==============================] - 2s 10ms/step - loss: 0.5744 - accuracy: 0.8278 - val_loss: 0.6313 - val_accuracy: 0.8136\n",
            "Epoch 90/100\n",
            "210/210 [==============================] - 2s 10ms/step - loss: 0.5838 - accuracy: 0.8235 - val_loss: 0.6252 - val_accuracy: 0.8158\n",
            "Epoch 91/100\n",
            "210/210 [==============================] - 2s 10ms/step - loss: 0.5875 - accuracy: 0.8204 - val_loss: 0.6259 - val_accuracy: 0.8168\n",
            "Epoch 92/100\n",
            "210/210 [==============================] - 2s 10ms/step - loss: 0.5831 - accuracy: 0.8218 - val_loss: 0.6342 - val_accuracy: 0.8110\n",
            "Epoch 93/100\n",
            "210/210 [==============================] - 2s 10ms/step - loss: 0.5875 - accuracy: 0.8197 - val_loss: 0.6293 - val_accuracy: 0.8146\n",
            "Epoch 94/100\n",
            "210/210 [==============================] - 2s 10ms/step - loss: 0.5812 - accuracy: 0.8238 - val_loss: 0.6268 - val_accuracy: 0.8163\n",
            "Epoch 95/100\n",
            "210/210 [==============================] - 2s 10ms/step - loss: 0.5876 - accuracy: 0.8194 - val_loss: 0.6204 - val_accuracy: 0.8186\n",
            "Epoch 96/100\n",
            "210/210 [==============================] - 2s 10ms/step - loss: 0.5752 - accuracy: 0.8260 - val_loss: 0.6329 - val_accuracy: 0.8133\n",
            "Epoch 97/100\n",
            "210/210 [==============================] - 2s 10ms/step - loss: 0.5757 - accuracy: 0.8258 - val_loss: 0.6257 - val_accuracy: 0.8150\n",
            "Epoch 98/100\n",
            "210/210 [==============================] - 2s 10ms/step - loss: 0.5735 - accuracy: 0.8262 - val_loss: 0.6287 - val_accuracy: 0.8139\n",
            "Epoch 99/100\n",
            "210/210 [==============================] - 2s 10ms/step - loss: 0.5776 - accuracy: 0.8254 - val_loss: 0.6268 - val_accuracy: 0.8156\n",
            "Epoch 100/100\n",
            "210/210 [==============================] - 2s 10ms/step - loss: 0.5795 - accuracy: 0.8235 - val_loss: 0.6320 - val_accuracy: 0.8142\n"
          ],
          "name": "stdout"
        }
      ]
    },
    {
      "cell_type": "code",
      "metadata": {
        "colab": {
          "base_uri": "https://localhost:8080/"
        },
        "id": "PD45sue4wm-V",
        "outputId": "ff4e54bc-405b-4cf1-dd8d-060d136d20ae"
      },
      "source": [
        "print('Evaluate NN model with relu activations'); print('--'*40)\n",
        "results2 = model2.evaluate(X_val, y_val)\n",
        "print('Validation accuracy: {}'.format(round(results2[1]*100, 2), '%'))"
      ],
      "execution_count": 64,
      "outputs": [
        {
          "output_type": "stream",
          "text": [
            "Evaluate NN model with relu activations\n",
            "--------------------------------------------------------------------------------\n",
            "1875/1875 [==============================] - 4s 2ms/step - loss: 0.6320 - accuracy: 0.8142\n",
            "Validation accuracy: 81.42\n"
          ],
          "name": "stdout"
        }
      ]
    },
    {
      "cell_type": "markdown",
      "metadata": {
        "id": "frgWa2eMwrkB"
      },
      "source": [
        "**Observation:**\n",
        "\n",
        "*   Improves the accuracy score considerably\n",
        "*   Best accuracy achieved till now is using relu activations, SGD optimizer, changing learning rate to 0.001.\n",
        "\n",
        "Let's try and change the number of activators and see if the score improves.\n",
        "\n",
        "\n",
        "\n",
        "### **NN model, ReLU activations, Changing Number of Activators, SGD optimizers**\n",
        "\n"
      ]
    },
    {
      "cell_type": "code",
      "metadata": {
        "colab": {
          "base_uri": "https://localhost:8080/"
        },
        "id": "KoqaEmSqwq6V",
        "outputId": "89a2e59a-dc1d-4c2c-d7f5-a20a8a258cd6"
      },
      "source": [
        "print('NN model with relu activations and changing number of activators'); print('--'*40)\n",
        "# Initialize the neural network classifier\n",
        "model3 = Sequential()\n",
        "\n",
        "# Input Layer - adding input layer and activation functions relu\n",
        "model3.add(Dense(256, input_shape = (1024, )))\n",
        "# Adding activation function\n",
        "model3.add(Activation('relu'))\n",
        "\n",
        "#Hidden Layer 1 - adding first hidden layer\n",
        "model3.add(Dense(128))\n",
        "# Adding activation function\n",
        "model3.add(Activation('relu'))\n",
        "\n",
        "#Hidden Layer 2 - Adding second hidden layer\n",
        "model3.add(Dense(64))\n",
        "# Adding activation function\n",
        "model3.add(Activation('relu'))\n",
        "\n",
        "# Output Layer - adding output layer which is of 10 nodes (digits)\n",
        "model3.add(Dense(10))\n",
        "# Adding activation function - softmax for multiclass classification\n",
        "model3.add(Activation('softmax'))"
      ],
      "execution_count": 65,
      "outputs": [
        {
          "output_type": "stream",
          "text": [
            "NN model with relu activations and changing number of activators\n",
            "--------------------------------------------------------------------------------\n"
          ],
          "name": "stdout"
        }
      ]
    },
    {
      "cell_type": "code",
      "metadata": {
        "colab": {
          "base_uri": "https://localhost:8080/"
        },
        "id": "hV6VH2_Tx21p",
        "outputId": "0f97d37b-04a0-49f0-de71-034639091eca"
      },
      "source": [
        "model3.summary()"
      ],
      "execution_count": 66,
      "outputs": [
        {
          "output_type": "stream",
          "text": [
            "Model: \"sequential_2\"\n",
            "_________________________________________________________________\n",
            "Layer (type)                 Output Shape              Param #   \n",
            "=================================================================\n",
            "dense_6 (Dense)              (None, 256)               262400    \n",
            "_________________________________________________________________\n",
            "activation_6 (Activation)    (None, 256)               0         \n",
            "_________________________________________________________________\n",
            "dense_7 (Dense)              (None, 128)               32896     \n",
            "_________________________________________________________________\n",
            "activation_7 (Activation)    (None, 128)               0         \n",
            "_________________________________________________________________\n",
            "dense_8 (Dense)              (None, 64)                8256      \n",
            "_________________________________________________________________\n",
            "activation_8 (Activation)    (None, 64)                0         \n",
            "_________________________________________________________________\n",
            "dense_9 (Dense)              (None, 10)                650       \n",
            "_________________________________________________________________\n",
            "activation_9 (Activation)    (None, 10)                0         \n",
            "=================================================================\n",
            "Total params: 304,202\n",
            "Trainable params: 304,202\n",
            "Non-trainable params: 0\n",
            "_________________________________________________________________\n"
          ],
          "name": "stdout"
        }
      ]
    },
    {
      "cell_type": "code",
      "metadata": {
        "colab": {
          "base_uri": "https://localhost:8080/"
        },
        "id": "2kGpQb5Xx5F0",
        "outputId": "0d8ba79e-60c5-4df6-d140-e46004915d5f"
      },
      "source": [
        "# compiling the neural network classifier, sgd optimizer\n",
        "sgd = optimizers.SGD(lr = 0.01)\n",
        "model3.compile(optimizer = sgd, loss = 'categorical_crossentropy', metrics = ['accuracy'])\n",
        "\n",
        "# Fitting the neural network for training\n",
        "history = model3.fit(X_train, y_train, validation_data = (X_val, y_val), batch_size = 200, epochs = 100, verbose = 1)"
      ],
      "execution_count": 67,
      "outputs": [
        {
          "output_type": "stream",
          "text": [
            "Epoch 1/100\n",
            "210/210 [==============================] - 4s 18ms/step - loss: 2.3066 - accuracy: 0.1046 - val_loss: 2.2892 - val_accuracy: 0.1432\n",
            "Epoch 2/100\n",
            "210/210 [==============================] - 3s 16ms/step - loss: 2.2862 - accuracy: 0.1448 - val_loss: 2.2770 - val_accuracy: 0.1590\n",
            "Epoch 3/100\n",
            "210/210 [==============================] - 3s 16ms/step - loss: 2.2739 - accuracy: 0.1652 - val_loss: 2.2613 - val_accuracy: 0.2002\n",
            "Epoch 4/100\n",
            "210/210 [==============================] - 3s 16ms/step - loss: 2.2565 - accuracy: 0.2062 - val_loss: 2.2418 - val_accuracy: 0.1943\n",
            "Epoch 5/100\n",
            "210/210 [==============================] - 3s 16ms/step - loss: 2.2340 - accuracy: 0.2412 - val_loss: 2.2121 - val_accuracy: 0.2813\n",
            "Epoch 6/100\n",
            "210/210 [==============================] - 3s 16ms/step - loss: 2.2021 - accuracy: 0.2896 - val_loss: 2.1710 - val_accuracy: 0.3191\n",
            "Epoch 7/100\n",
            "210/210 [==============================] - 3s 16ms/step - loss: 2.1604 - accuracy: 0.3091 - val_loss: 2.1176 - val_accuracy: 0.3325\n",
            "Epoch 8/100\n",
            "210/210 [==============================] - 3s 16ms/step - loss: 2.1026 - accuracy: 0.3408 - val_loss: 2.0488 - val_accuracy: 0.3575\n",
            "Epoch 9/100\n",
            "210/210 [==============================] - 3s 16ms/step - loss: 2.0288 - accuracy: 0.3670 - val_loss: 1.9746 - val_accuracy: 0.3965\n",
            "Epoch 10/100\n",
            "210/210 [==============================] - 3s 16ms/step - loss: 1.9525 - accuracy: 0.3899 - val_loss: 1.8958 - val_accuracy: 0.4141\n",
            "Epoch 11/100\n",
            "210/210 [==============================] - 3s 16ms/step - loss: 1.8731 - accuracy: 0.4174 - val_loss: 1.8142 - val_accuracy: 0.4290\n",
            "Epoch 12/100\n",
            "210/210 [==============================] - 3s 16ms/step - loss: 1.7954 - accuracy: 0.4334 - val_loss: 1.7364 - val_accuracy: 0.4509\n",
            "Epoch 13/100\n",
            "210/210 [==============================] - 3s 16ms/step - loss: 1.7163 - accuracy: 0.4619 - val_loss: 1.6550 - val_accuracy: 0.4772\n",
            "Epoch 14/100\n",
            "210/210 [==============================] - 3s 16ms/step - loss: 1.6472 - accuracy: 0.4847 - val_loss: 1.5819 - val_accuracy: 0.5126\n",
            "Epoch 15/100\n",
            "210/210 [==============================] - 3s 16ms/step - loss: 1.5879 - accuracy: 0.5070 - val_loss: 1.5600 - val_accuracy: 0.5063\n",
            "Epoch 16/100\n",
            "210/210 [==============================] - 3s 16ms/step - loss: 1.5252 - accuracy: 0.5262 - val_loss: 1.4980 - val_accuracy: 0.5253\n",
            "Epoch 17/100\n",
            "210/210 [==============================] - 3s 16ms/step - loss: 1.4742 - accuracy: 0.5453 - val_loss: 1.4620 - val_accuracy: 0.5435\n",
            "Epoch 18/100\n",
            "210/210 [==============================] - 3s 16ms/step - loss: 1.4223 - accuracy: 0.5606 - val_loss: 1.4098 - val_accuracy: 0.5599\n",
            "Epoch 19/100\n",
            "210/210 [==============================] - 3s 16ms/step - loss: 1.4013 - accuracy: 0.5639 - val_loss: 1.3434 - val_accuracy: 0.5862\n",
            "Epoch 20/100\n",
            "210/210 [==============================] - 3s 16ms/step - loss: 1.3327 - accuracy: 0.5953 - val_loss: 1.3211 - val_accuracy: 0.5881\n",
            "Epoch 21/100\n",
            "210/210 [==============================] - 3s 16ms/step - loss: 1.3074 - accuracy: 0.5975 - val_loss: 1.3106 - val_accuracy: 0.5901\n",
            "Epoch 22/100\n",
            "210/210 [==============================] - 3s 17ms/step - loss: 1.2826 - accuracy: 0.6061 - val_loss: 1.2377 - val_accuracy: 0.6233\n",
            "Epoch 23/100\n",
            "210/210 [==============================] - 3s 16ms/step - loss: 1.2506 - accuracy: 0.6166 - val_loss: 1.2049 - val_accuracy: 0.6349\n",
            "Epoch 24/100\n",
            "210/210 [==============================] - 3s 16ms/step - loss: 1.2173 - accuracy: 0.6284 - val_loss: 1.1840 - val_accuracy: 0.6413\n",
            "Epoch 25/100\n",
            "210/210 [==============================] - 3s 16ms/step - loss: 1.2098 - accuracy: 0.6271 - val_loss: 1.2040 - val_accuracy: 0.6227\n",
            "Epoch 26/100\n",
            "210/210 [==============================] - 3s 16ms/step - loss: 1.1671 - accuracy: 0.6423 - val_loss: 1.1883 - val_accuracy: 0.6314\n",
            "Epoch 27/100\n",
            "210/210 [==============================] - 3s 16ms/step - loss: 1.1587 - accuracy: 0.6440 - val_loss: 1.1240 - val_accuracy: 0.6639\n",
            "Epoch 28/100\n",
            "210/210 [==============================] - 3s 16ms/step - loss: 1.1399 - accuracy: 0.6533 - val_loss: 1.1325 - val_accuracy: 0.6555\n",
            "Epoch 29/100\n",
            "210/210 [==============================] - 3s 16ms/step - loss: 1.1067 - accuracy: 0.6670 - val_loss: 1.1200 - val_accuracy: 0.6536\n",
            "Epoch 30/100\n",
            "210/210 [==============================] - 3s 16ms/step - loss: 1.1024 - accuracy: 0.6652 - val_loss: 1.0888 - val_accuracy: 0.6709\n",
            "Epoch 31/100\n",
            "210/210 [==============================] - 3s 17ms/step - loss: 1.0932 - accuracy: 0.6679 - val_loss: 1.0693 - val_accuracy: 0.6779\n",
            "Epoch 32/100\n",
            "210/210 [==============================] - 3s 16ms/step - loss: 1.0650 - accuracy: 0.6791 - val_loss: 1.0659 - val_accuracy: 0.6780\n",
            "Epoch 33/100\n",
            "210/210 [==============================] - 3s 16ms/step - loss: 1.0594 - accuracy: 0.6786 - val_loss: 1.0594 - val_accuracy: 0.6787\n",
            "Epoch 34/100\n",
            "210/210 [==============================] - 3s 17ms/step - loss: 1.0459 - accuracy: 0.6853 - val_loss: 1.0114 - val_accuracy: 0.6966\n",
            "Epoch 35/100\n",
            "210/210 [==============================] - 3s 16ms/step - loss: 1.0220 - accuracy: 0.6869 - val_loss: 1.0102 - val_accuracy: 0.6951\n",
            "Epoch 36/100\n",
            "210/210 [==============================] - 3s 17ms/step - loss: 1.0114 - accuracy: 0.6947 - val_loss: 0.9976 - val_accuracy: 0.6975\n",
            "Epoch 37/100\n",
            "210/210 [==============================] - 3s 16ms/step - loss: 0.9961 - accuracy: 0.7016 - val_loss: 1.0104 - val_accuracy: 0.6908\n",
            "Epoch 38/100\n",
            "210/210 [==============================] - 3s 16ms/step - loss: 0.9873 - accuracy: 0.7025 - val_loss: 0.9679 - val_accuracy: 0.7075\n",
            "Epoch 39/100\n",
            "210/210 [==============================] - 3s 16ms/step - loss: 0.9798 - accuracy: 0.7041 - val_loss: 0.9648 - val_accuracy: 0.7103\n",
            "Epoch 40/100\n",
            "210/210 [==============================] - 3s 16ms/step - loss: 0.9646 - accuracy: 0.7096 - val_loss: 0.9773 - val_accuracy: 0.7031\n",
            "Epoch 41/100\n",
            "210/210 [==============================] - 3s 16ms/step - loss: 0.9592 - accuracy: 0.7097 - val_loss: 0.9402 - val_accuracy: 0.7154\n",
            "Epoch 42/100\n",
            "210/210 [==============================] - 3s 16ms/step - loss: 0.9415 - accuracy: 0.7184 - val_loss: 0.9258 - val_accuracy: 0.7223\n",
            "Epoch 43/100\n",
            "210/210 [==============================] - 3s 16ms/step - loss: 0.9387 - accuracy: 0.7141 - val_loss: 0.9189 - val_accuracy: 0.7230\n",
            "Epoch 44/100\n",
            "210/210 [==============================] - 3s 16ms/step - loss: 0.9348 - accuracy: 0.7183 - val_loss: 0.9864 - val_accuracy: 0.6968\n",
            "Epoch 45/100\n",
            "210/210 [==============================] - 3s 16ms/step - loss: 0.9217 - accuracy: 0.7228 - val_loss: 0.9270 - val_accuracy: 0.7205\n",
            "Epoch 46/100\n",
            "210/210 [==============================] - 3s 16ms/step - loss: 0.9120 - accuracy: 0.7232 - val_loss: 0.9013 - val_accuracy: 0.7286\n",
            "Epoch 47/100\n",
            "210/210 [==============================] - 3s 16ms/step - loss: 0.8966 - accuracy: 0.7300 - val_loss: 0.8781 - val_accuracy: 0.7355\n",
            "Epoch 48/100\n",
            "210/210 [==============================] - 3s 16ms/step - loss: 0.8972 - accuracy: 0.7265 - val_loss: 0.8911 - val_accuracy: 0.7308\n",
            "Epoch 49/100\n",
            "210/210 [==============================] - 3s 16ms/step - loss: 0.8897 - accuracy: 0.7322 - val_loss: 0.8727 - val_accuracy: 0.7360\n",
            "Epoch 50/100\n",
            "210/210 [==============================] - 3s 16ms/step - loss: 0.8794 - accuracy: 0.7333 - val_loss: 0.8963 - val_accuracy: 0.7274\n",
            "Epoch 51/100\n",
            "210/210 [==============================] - 3s 16ms/step - loss: 0.8723 - accuracy: 0.7375 - val_loss: 0.8489 - val_accuracy: 0.7446\n",
            "Epoch 52/100\n",
            "210/210 [==============================] - 3s 16ms/step - loss: 0.8592 - accuracy: 0.7390 - val_loss: 0.8696 - val_accuracy: 0.7358\n",
            "Epoch 53/100\n",
            "210/210 [==============================] - 3s 16ms/step - loss: 0.8628 - accuracy: 0.7416 - val_loss: 0.8773 - val_accuracy: 0.7316\n",
            "Epoch 54/100\n",
            "210/210 [==============================] - 3s 16ms/step - loss: 0.8509 - accuracy: 0.7435 - val_loss: 0.8475 - val_accuracy: 0.7425\n",
            "Epoch 55/100\n",
            "210/210 [==============================] - 3s 16ms/step - loss: 0.8419 - accuracy: 0.7448 - val_loss: 0.8276 - val_accuracy: 0.7501\n",
            "Epoch 56/100\n",
            "210/210 [==============================] - 3s 16ms/step - loss: 0.8353 - accuracy: 0.7468 - val_loss: 0.8559 - val_accuracy: 0.7397\n",
            "Epoch 57/100\n",
            "210/210 [==============================] - 3s 16ms/step - loss: 0.8280 - accuracy: 0.7507 - val_loss: 0.8418 - val_accuracy: 0.7428\n",
            "Epoch 58/100\n",
            "210/210 [==============================] - 3s 16ms/step - loss: 0.8121 - accuracy: 0.7547 - val_loss: 0.8084 - val_accuracy: 0.7557\n",
            "Epoch 59/100\n",
            "210/210 [==============================] - 3s 16ms/step - loss: 0.8068 - accuracy: 0.7567 - val_loss: 0.8138 - val_accuracy: 0.7570\n",
            "Epoch 60/100\n",
            "210/210 [==============================] - 3s 16ms/step - loss: 0.8030 - accuracy: 0.7563 - val_loss: 0.7996 - val_accuracy: 0.7585\n",
            "Epoch 61/100\n",
            "210/210 [==============================] - 3s 16ms/step - loss: 0.8053 - accuracy: 0.7565 - val_loss: 0.8021 - val_accuracy: 0.7559\n",
            "Epoch 62/100\n",
            "210/210 [==============================] - 3s 16ms/step - loss: 0.7891 - accuracy: 0.7591 - val_loss: 0.7829 - val_accuracy: 0.7653\n",
            "Epoch 63/100\n",
            "210/210 [==============================] - 3s 16ms/step - loss: 0.7801 - accuracy: 0.7632 - val_loss: 0.7917 - val_accuracy: 0.7610\n",
            "Epoch 64/100\n",
            "210/210 [==============================] - 3s 16ms/step - loss: 0.7840 - accuracy: 0.7624 - val_loss: 0.7840 - val_accuracy: 0.7624\n",
            "Epoch 65/100\n",
            "210/210 [==============================] - 3s 16ms/step - loss: 0.7734 - accuracy: 0.7660 - val_loss: 0.7862 - val_accuracy: 0.7624\n",
            "Epoch 66/100\n",
            "210/210 [==============================] - 3s 16ms/step - loss: 0.7755 - accuracy: 0.7653 - val_loss: 0.7767 - val_accuracy: 0.7654\n",
            "Epoch 67/100\n",
            "210/210 [==============================] - 3s 17ms/step - loss: 0.7540 - accuracy: 0.7730 - val_loss: 0.7709 - val_accuracy: 0.7675\n",
            "Epoch 68/100\n",
            "210/210 [==============================] - 3s 17ms/step - loss: 0.7471 - accuracy: 0.7734 - val_loss: 0.7741 - val_accuracy: 0.7659\n",
            "Epoch 69/100\n",
            "210/210 [==============================] - 3s 17ms/step - loss: 0.7637 - accuracy: 0.7680 - val_loss: 0.7526 - val_accuracy: 0.7734\n",
            "Epoch 70/100\n",
            "210/210 [==============================] - 3s 17ms/step - loss: 0.7453 - accuracy: 0.7736 - val_loss: 0.7563 - val_accuracy: 0.7707\n",
            "Epoch 71/100\n",
            "210/210 [==============================] - 3s 17ms/step - loss: 0.7381 - accuracy: 0.7785 - val_loss: 0.7550 - val_accuracy: 0.7730\n",
            "Epoch 72/100\n",
            "210/210 [==============================] - 3s 16ms/step - loss: 0.7347 - accuracy: 0.7773 - val_loss: 0.7480 - val_accuracy: 0.7753\n",
            "Epoch 73/100\n",
            "210/210 [==============================] - 3s 16ms/step - loss: 0.7265 - accuracy: 0.7797 - val_loss: 0.7470 - val_accuracy: 0.7739\n",
            "Epoch 74/100\n",
            "210/210 [==============================] - 3s 16ms/step - loss: 0.7256 - accuracy: 0.7794 - val_loss: 0.7410 - val_accuracy: 0.7766\n",
            "Epoch 75/100\n",
            "210/210 [==============================] - 3s 16ms/step - loss: 0.7133 - accuracy: 0.7837 - val_loss: 0.7329 - val_accuracy: 0.7816\n",
            "Epoch 76/100\n",
            "210/210 [==============================] - 3s 17ms/step - loss: 0.7033 - accuracy: 0.7869 - val_loss: 0.7537 - val_accuracy: 0.7698\n",
            "Epoch 77/100\n",
            "210/210 [==============================] - 3s 16ms/step - loss: 0.7151 - accuracy: 0.7852 - val_loss: 0.7035 - val_accuracy: 0.7882\n",
            "Epoch 78/100\n",
            "210/210 [==============================] - 3s 16ms/step - loss: 0.7159 - accuracy: 0.7858 - val_loss: 0.7178 - val_accuracy: 0.7843\n",
            "Epoch 79/100\n",
            "210/210 [==============================] - 3s 16ms/step - loss: 0.7008 - accuracy: 0.7880 - val_loss: 0.7345 - val_accuracy: 0.7771\n",
            "Epoch 80/100\n",
            "210/210 [==============================] - 3s 16ms/step - loss: 0.6982 - accuracy: 0.7877 - val_loss: 0.7105 - val_accuracy: 0.7864\n",
            "Epoch 81/100\n",
            "210/210 [==============================] - 3s 16ms/step - loss: 0.6850 - accuracy: 0.7931 - val_loss: 0.6984 - val_accuracy: 0.7919\n",
            "Epoch 82/100\n",
            "210/210 [==============================] - 3s 16ms/step - loss: 0.6873 - accuracy: 0.7910 - val_loss: 0.7299 - val_accuracy: 0.7821\n",
            "Epoch 83/100\n",
            "210/210 [==============================] - 3s 16ms/step - loss: 0.6858 - accuracy: 0.7923 - val_loss: 0.6973 - val_accuracy: 0.7902\n",
            "Epoch 84/100\n",
            "210/210 [==============================] - 4s 17ms/step - loss: 0.6858 - accuracy: 0.7937 - val_loss: 0.6843 - val_accuracy: 0.7961\n",
            "Epoch 85/100\n",
            "210/210 [==============================] - 4s 17ms/step - loss: 0.6733 - accuracy: 0.7952 - val_loss: 0.6931 - val_accuracy: 0.7933\n",
            "Epoch 86/100\n",
            "210/210 [==============================] - 4s 17ms/step - loss: 0.6762 - accuracy: 0.7950 - val_loss: 0.6755 - val_accuracy: 0.7969\n",
            "Epoch 87/100\n",
            "210/210 [==============================] - 3s 17ms/step - loss: 0.6695 - accuracy: 0.7999 - val_loss: 0.6804 - val_accuracy: 0.7958\n",
            "Epoch 88/100\n",
            "210/210 [==============================] - 3s 16ms/step - loss: 0.6635 - accuracy: 0.8005 - val_loss: 0.6990 - val_accuracy: 0.7901\n",
            "Epoch 89/100\n",
            "210/210 [==============================] - 3s 16ms/step - loss: 0.6609 - accuracy: 0.7999 - val_loss: 0.6589 - val_accuracy: 0.8043\n",
            "Epoch 90/100\n",
            "210/210 [==============================] - 3s 16ms/step - loss: 0.6612 - accuracy: 0.7987 - val_loss: 0.6670 - val_accuracy: 0.8012\n",
            "Epoch 91/100\n",
            "210/210 [==============================] - 4s 17ms/step - loss: 0.6582 - accuracy: 0.8009 - val_loss: 0.6513 - val_accuracy: 0.8065\n",
            "Epoch 92/100\n",
            "210/210 [==============================] - 4s 17ms/step - loss: 0.6392 - accuracy: 0.8067 - val_loss: 0.6721 - val_accuracy: 0.7980\n",
            "Epoch 93/100\n",
            "210/210 [==============================] - 3s 17ms/step - loss: 0.6456 - accuracy: 0.8077 - val_loss: 0.7441 - val_accuracy: 0.7707\n",
            "Epoch 94/100\n",
            "210/210 [==============================] - 3s 16ms/step - loss: 0.6430 - accuracy: 0.8057 - val_loss: 0.6844 - val_accuracy: 0.7948\n",
            "Epoch 95/100\n",
            "210/210 [==============================] - 4s 17ms/step - loss: 0.6422 - accuracy: 0.8074 - val_loss: 0.6704 - val_accuracy: 0.8008\n",
            "Epoch 96/100\n",
            "210/210 [==============================] - 3s 16ms/step - loss: 0.6267 - accuracy: 0.8107 - val_loss: 0.6536 - val_accuracy: 0.8043\n",
            "Epoch 97/100\n",
            "210/210 [==============================] - 3s 16ms/step - loss: 0.6348 - accuracy: 0.8074 - val_loss: 0.6622 - val_accuracy: 0.8016\n",
            "Epoch 98/100\n",
            "210/210 [==============================] - 3s 16ms/step - loss: 0.6294 - accuracy: 0.8114 - val_loss: 0.6527 - val_accuracy: 0.8045\n",
            "Epoch 99/100\n",
            "210/210 [==============================] - 3s 16ms/step - loss: 0.6159 - accuracy: 0.8134 - val_loss: 0.6533 - val_accuracy: 0.8030\n",
            "Epoch 100/100\n",
            "210/210 [==============================] - 3s 16ms/step - loss: 0.6174 - accuracy: 0.8145 - val_loss: 0.6237 - val_accuracy: 0.8153\n"
          ],
          "name": "stdout"
        }
      ]
    },
    {
      "cell_type": "code",
      "metadata": {
        "colab": {
          "base_uri": "https://localhost:8080/"
        },
        "id": "n2F1XKecx8K0",
        "outputId": "22fd6624-5109-4156-d612-5a9c457da6a3"
      },
      "source": [
        "print('Evaluate NN model with relu activations and changing the number of activators'); print('--'*40)\n",
        "results3 = model3.evaluate(X_val, y_val)\n",
        "print('Validation accuracy: {}'.format(round(results3[1]*100, 2), '%'))"
      ],
      "execution_count": 68,
      "outputs": [
        {
          "output_type": "stream",
          "text": [
            "Evaluate NN model with relu activations and changing the number of activators\n",
            "--------------------------------------------------------------------------------\n",
            "1875/1875 [==============================] - 5s 3ms/step - loss: 0.6237 - accuracy: 0.8153\n",
            "Validation accuracy: 81.53\n"
          ],
          "name": "stdout"
        }
      ]
    },
    {
      "cell_type": "markdown",
      "metadata": {
        "id": "M8U9yGJFyMF3"
      },
      "source": [
        "**NN model, ReLU activations, Changing Number of Activators, Adam optimizers**"
      ]
    },
    {
      "cell_type": "code",
      "metadata": {
        "colab": {
          "base_uri": "https://localhost:8080/"
        },
        "id": "KC5iqt9rx_s4",
        "outputId": "b42e2d99-1182-4dde-a8a2-1841e8e1a7c9"
      },
      "source": [
        "# compiling the neural network classifier, adam optimizer\n",
        "adam = optimizers.Adam(lr = 0.001)\n",
        "model3.compile(optimizer = adam, loss = 'categorical_crossentropy', metrics = ['accuracy'])\n",
        "\n",
        "# Fitting the neural network for training\n",
        "history = model3.fit(X_train, y_train, validation_data = (X_val, y_val), batch_size = 200, epochs = 100, verbose = 1)"
      ],
      "execution_count": 69,
      "outputs": [
        {
          "output_type": "stream",
          "text": [
            "Epoch 1/100\n",
            "210/210 [==============================] - 4s 18ms/step - loss: 1.3323 - accuracy: 0.6453 - val_loss: 0.7212 - val_accuracy: 0.7808\n",
            "Epoch 2/100\n",
            "210/210 [==============================] - 4s 17ms/step - loss: 0.7631 - accuracy: 0.7678 - val_loss: 0.7862 - val_accuracy: 0.7602\n",
            "Epoch 3/100\n",
            "210/210 [==============================] - 4s 17ms/step - loss: 0.7729 - accuracy: 0.7608 - val_loss: 0.7934 - val_accuracy: 0.7605\n",
            "Epoch 4/100\n",
            "210/210 [==============================] - 4s 17ms/step - loss: 0.7550 - accuracy: 0.7682 - val_loss: 0.7202 - val_accuracy: 0.7819\n",
            "Epoch 5/100\n",
            "210/210 [==============================] - 4s 17ms/step - loss: 0.7219 - accuracy: 0.7779 - val_loss: 0.7496 - val_accuracy: 0.7735\n",
            "Epoch 6/100\n",
            "210/210 [==============================] - 4s 17ms/step - loss: 0.7364 - accuracy: 0.7739 - val_loss: 0.6836 - val_accuracy: 0.7957\n",
            "Epoch 7/100\n",
            "210/210 [==============================] - 4s 17ms/step - loss: 0.6935 - accuracy: 0.7867 - val_loss: 0.6689 - val_accuracy: 0.7981\n",
            "Epoch 8/100\n",
            "210/210 [==============================] - 4s 17ms/step - loss: 0.6760 - accuracy: 0.7931 - val_loss: 0.7449 - val_accuracy: 0.7715\n",
            "Epoch 9/100\n",
            "210/210 [==============================] - 4s 17ms/step - loss: 0.6680 - accuracy: 0.7945 - val_loss: 0.7114 - val_accuracy: 0.7827\n",
            "Epoch 10/100\n",
            "210/210 [==============================] - 4s 17ms/step - loss: 0.6601 - accuracy: 0.7983 - val_loss: 0.7047 - val_accuracy: 0.7858\n",
            "Epoch 11/100\n",
            "210/210 [==============================] - 4s 17ms/step - loss: 0.6557 - accuracy: 0.7980 - val_loss: 0.6362 - val_accuracy: 0.8131\n",
            "Epoch 12/100\n",
            "210/210 [==============================] - 4s 17ms/step - loss: 0.6021 - accuracy: 0.8145 - val_loss: 0.6253 - val_accuracy: 0.8116\n",
            "Epoch 13/100\n",
            "210/210 [==============================] - 3s 16ms/step - loss: 0.6118 - accuracy: 0.8092 - val_loss: 0.6628 - val_accuracy: 0.7982\n",
            "Epoch 14/100\n",
            "210/210 [==============================] - 4s 17ms/step - loss: 0.6110 - accuracy: 0.8109 - val_loss: 0.7121 - val_accuracy: 0.7868\n",
            "Epoch 15/100\n",
            "210/210 [==============================] - 3s 17ms/step - loss: 0.6119 - accuracy: 0.8139 - val_loss: 0.6335 - val_accuracy: 0.8083\n",
            "Epoch 16/100\n",
            "210/210 [==============================] - 4s 17ms/step - loss: 0.5794 - accuracy: 0.8224 - val_loss: 0.6100 - val_accuracy: 0.8156\n",
            "Epoch 17/100\n",
            "210/210 [==============================] - 4s 17ms/step - loss: 0.5689 - accuracy: 0.8250 - val_loss: 0.6064 - val_accuracy: 0.8186\n",
            "Epoch 18/100\n",
            "210/210 [==============================] - 4s 17ms/step - loss: 0.5577 - accuracy: 0.8295 - val_loss: 0.5702 - val_accuracy: 0.8286\n",
            "Epoch 19/100\n",
            "210/210 [==============================] - 4s 17ms/step - loss: 0.5607 - accuracy: 0.8267 - val_loss: 0.5404 - val_accuracy: 0.8391\n",
            "Epoch 20/100\n",
            "210/210 [==============================] - 4s 17ms/step - loss: 0.5259 - accuracy: 0.8375 - val_loss: 0.5606 - val_accuracy: 0.8331\n",
            "Epoch 21/100\n",
            "210/210 [==============================] - 4s 17ms/step - loss: 0.5302 - accuracy: 0.8377 - val_loss: 0.5350 - val_accuracy: 0.8397\n",
            "Epoch 22/100\n",
            "210/210 [==============================] - 4s 17ms/step - loss: 0.5121 - accuracy: 0.8399 - val_loss: 0.5604 - val_accuracy: 0.8308\n",
            "Epoch 23/100\n",
            "210/210 [==============================] - 4s 17ms/step - loss: 0.5137 - accuracy: 0.8402 - val_loss: 0.5466 - val_accuracy: 0.8375\n",
            "Epoch 24/100\n",
            "210/210 [==============================] - 4s 17ms/step - loss: 0.5037 - accuracy: 0.8429 - val_loss: 0.5737 - val_accuracy: 0.8260\n",
            "Epoch 25/100\n",
            "210/210 [==============================] - 4s 17ms/step - loss: 0.5014 - accuracy: 0.8444 - val_loss: 0.5269 - val_accuracy: 0.8411\n",
            "Epoch 26/100\n",
            "210/210 [==============================] - 4s 17ms/step - loss: 0.5060 - accuracy: 0.8442 - val_loss: 0.5641 - val_accuracy: 0.8289\n",
            "Epoch 27/100\n",
            "210/210 [==============================] - 4s 17ms/step - loss: 0.4812 - accuracy: 0.8533 - val_loss: 0.5202 - val_accuracy: 0.8451\n",
            "Epoch 28/100\n",
            "210/210 [==============================] - 4s 17ms/step - loss: 0.4777 - accuracy: 0.8532 - val_loss: 0.5637 - val_accuracy: 0.8298\n",
            "Epoch 29/100\n",
            "210/210 [==============================] - 4s 17ms/step - loss: 0.4827 - accuracy: 0.8505 - val_loss: 0.5045 - val_accuracy: 0.8504\n",
            "Epoch 30/100\n",
            "210/210 [==============================] - 4s 17ms/step - loss: 0.4586 - accuracy: 0.8570 - val_loss: 0.5230 - val_accuracy: 0.8416\n",
            "Epoch 31/100\n",
            "210/210 [==============================] - 3s 17ms/step - loss: 0.4569 - accuracy: 0.8598 - val_loss: 0.5203 - val_accuracy: 0.8413\n",
            "Epoch 32/100\n",
            "210/210 [==============================] - 3s 17ms/step - loss: 0.4530 - accuracy: 0.8595 - val_loss: 0.5342 - val_accuracy: 0.8375\n",
            "Epoch 33/100\n",
            "210/210 [==============================] - 3s 17ms/step - loss: 0.4507 - accuracy: 0.8599 - val_loss: 0.5024 - val_accuracy: 0.8502\n",
            "Epoch 34/100\n",
            "210/210 [==============================] - 4s 17ms/step - loss: 0.4423 - accuracy: 0.8632 - val_loss: 0.4992 - val_accuracy: 0.8495\n",
            "Epoch 35/100\n",
            "210/210 [==============================] - 4s 17ms/step - loss: 0.4450 - accuracy: 0.8628 - val_loss: 0.4643 - val_accuracy: 0.8633\n",
            "Epoch 36/100\n",
            "210/210 [==============================] - 4s 17ms/step - loss: 0.4267 - accuracy: 0.8705 - val_loss: 0.5087 - val_accuracy: 0.8472\n",
            "Epoch 37/100\n",
            "210/210 [==============================] - 4s 17ms/step - loss: 0.4400 - accuracy: 0.8621 - val_loss: 0.4566 - val_accuracy: 0.8655\n",
            "Epoch 38/100\n",
            "210/210 [==============================] - 4s 17ms/step - loss: 0.4143 - accuracy: 0.8707 - val_loss: 0.4695 - val_accuracy: 0.8614\n",
            "Epoch 39/100\n",
            "210/210 [==============================] - 4s 17ms/step - loss: 0.4384 - accuracy: 0.8619 - val_loss: 0.4459 - val_accuracy: 0.8702\n",
            "Epoch 40/100\n",
            "210/210 [==============================] - 4s 17ms/step - loss: 0.4065 - accuracy: 0.8707 - val_loss: 0.4562 - val_accuracy: 0.8652\n",
            "Epoch 41/100\n",
            "210/210 [==============================] - 4s 17ms/step - loss: 0.3974 - accuracy: 0.8760 - val_loss: 0.5021 - val_accuracy: 0.8483\n",
            "Epoch 42/100\n",
            "210/210 [==============================] - 4s 17ms/step - loss: 0.4153 - accuracy: 0.8717 - val_loss: 0.4500 - val_accuracy: 0.8664\n",
            "Epoch 43/100\n",
            "210/210 [==============================] - 4s 17ms/step - loss: 0.4045 - accuracy: 0.8752 - val_loss: 0.4343 - val_accuracy: 0.8730\n",
            "Epoch 44/100\n",
            "210/210 [==============================] - 4s 17ms/step - loss: 0.3919 - accuracy: 0.8789 - val_loss: 0.4803 - val_accuracy: 0.8569\n",
            "Epoch 45/100\n",
            "210/210 [==============================] - 4s 17ms/step - loss: 0.4017 - accuracy: 0.8747 - val_loss: 0.5143 - val_accuracy: 0.8454\n",
            "Epoch 46/100\n",
            "210/210 [==============================] - 4s 17ms/step - loss: 0.3812 - accuracy: 0.8828 - val_loss: 0.4244 - val_accuracy: 0.8746\n",
            "Epoch 47/100\n",
            "210/210 [==============================] - 4s 17ms/step - loss: 0.3899 - accuracy: 0.8774 - val_loss: 0.4534 - val_accuracy: 0.8650\n",
            "Epoch 48/100\n",
            "210/210 [==============================] - 4s 17ms/step - loss: 0.3809 - accuracy: 0.8803 - val_loss: 0.4703 - val_accuracy: 0.8605\n",
            "Epoch 49/100\n",
            "210/210 [==============================] - 4s 17ms/step - loss: 0.3760 - accuracy: 0.8821 - val_loss: 0.4757 - val_accuracy: 0.8564\n",
            "Epoch 50/100\n",
            "210/210 [==============================] - 4s 17ms/step - loss: 0.3825 - accuracy: 0.8779 - val_loss: 0.4178 - val_accuracy: 0.8775\n",
            "Epoch 51/100\n",
            "210/210 [==============================] - 4s 17ms/step - loss: 0.3764 - accuracy: 0.8812 - val_loss: 0.4741 - val_accuracy: 0.8573\n",
            "Epoch 52/100\n",
            "210/210 [==============================] - 4s 17ms/step - loss: 0.3920 - accuracy: 0.8770 - val_loss: 0.4479 - val_accuracy: 0.8653\n",
            "Epoch 53/100\n",
            "210/210 [==============================] - 4s 18ms/step - loss: 0.3673 - accuracy: 0.8830 - val_loss: 0.4819 - val_accuracy: 0.8551\n",
            "Epoch 54/100\n",
            "210/210 [==============================] - 4s 17ms/step - loss: 0.3562 - accuracy: 0.8866 - val_loss: 0.4197 - val_accuracy: 0.8778\n",
            "Epoch 55/100\n",
            "210/210 [==============================] - 4s 17ms/step - loss: 0.3614 - accuracy: 0.8867 - val_loss: 0.4303 - val_accuracy: 0.8721\n",
            "Epoch 56/100\n",
            "210/210 [==============================] - 4s 17ms/step - loss: 0.3440 - accuracy: 0.8929 - val_loss: 0.4632 - val_accuracy: 0.8649\n",
            "Epoch 57/100\n",
            "210/210 [==============================] - 4s 18ms/step - loss: 0.3622 - accuracy: 0.8848 - val_loss: 0.4254 - val_accuracy: 0.8772\n",
            "Epoch 58/100\n",
            "210/210 [==============================] - 4s 17ms/step - loss: 0.3394 - accuracy: 0.8929 - val_loss: 0.4462 - val_accuracy: 0.8677\n",
            "Epoch 59/100\n",
            "210/210 [==============================] - 4s 17ms/step - loss: 0.3481 - accuracy: 0.8897 - val_loss: 0.4472 - val_accuracy: 0.8684\n",
            "Epoch 60/100\n",
            "210/210 [==============================] - 4s 17ms/step - loss: 0.3466 - accuracy: 0.8892 - val_loss: 0.3916 - val_accuracy: 0.8866\n",
            "Epoch 61/100\n",
            "210/210 [==============================] - 4s 17ms/step - loss: 0.3268 - accuracy: 0.8968 - val_loss: 0.4321 - val_accuracy: 0.8735\n",
            "Epoch 62/100\n",
            "210/210 [==============================] - 4s 17ms/step - loss: 0.3359 - accuracy: 0.8921 - val_loss: 0.4266 - val_accuracy: 0.8777\n",
            "Epoch 63/100\n",
            "210/210 [==============================] - 4s 17ms/step - loss: 0.3374 - accuracy: 0.8922 - val_loss: 0.4308 - val_accuracy: 0.8746\n",
            "Epoch 64/100\n",
            "210/210 [==============================] - 4s 17ms/step - loss: 0.3144 - accuracy: 0.9005 - val_loss: 0.4298 - val_accuracy: 0.8761\n",
            "Epoch 65/100\n",
            "210/210 [==============================] - 4s 17ms/step - loss: 0.3079 - accuracy: 0.9032 - val_loss: 0.4064 - val_accuracy: 0.8824\n",
            "Epoch 66/100\n",
            "210/210 [==============================] - 4s 17ms/step - loss: 0.3294 - accuracy: 0.8966 - val_loss: 0.4135 - val_accuracy: 0.8804\n",
            "Epoch 67/100\n",
            "210/210 [==============================] - 4s 17ms/step - loss: 0.3221 - accuracy: 0.8965 - val_loss: 0.4718 - val_accuracy: 0.8641\n",
            "Epoch 68/100\n",
            "210/210 [==============================] - 4s 18ms/step - loss: 0.3380 - accuracy: 0.8940 - val_loss: 0.4519 - val_accuracy: 0.8679\n",
            "Epoch 69/100\n",
            "210/210 [==============================] - 4s 18ms/step - loss: 0.3226 - accuracy: 0.8979 - val_loss: 0.3941 - val_accuracy: 0.8868\n",
            "Epoch 70/100\n",
            "210/210 [==============================] - 4s 17ms/step - loss: 0.3092 - accuracy: 0.9010 - val_loss: 0.4168 - val_accuracy: 0.8806\n",
            "Epoch 71/100\n",
            "210/210 [==============================] - 4s 17ms/step - loss: 0.3060 - accuracy: 0.9008 - val_loss: 0.4016 - val_accuracy: 0.8867\n",
            "Epoch 72/100\n",
            "210/210 [==============================] - 4s 17ms/step - loss: 0.3011 - accuracy: 0.9034 - val_loss: 0.4503 - val_accuracy: 0.8719\n",
            "Epoch 73/100\n",
            "210/210 [==============================] - 4s 17ms/step - loss: 0.3190 - accuracy: 0.8946 - val_loss: 0.4931 - val_accuracy: 0.8556\n",
            "Epoch 74/100\n",
            "210/210 [==============================] - 4s 17ms/step - loss: 0.3201 - accuracy: 0.8946 - val_loss: 0.4009 - val_accuracy: 0.8867\n",
            "Epoch 75/100\n",
            "210/210 [==============================] - 4s 17ms/step - loss: 0.2834 - accuracy: 0.9090 - val_loss: 0.4242 - val_accuracy: 0.8777\n",
            "Epoch 76/100\n",
            "210/210 [==============================] - 4s 17ms/step - loss: 0.3066 - accuracy: 0.9000 - val_loss: 0.3922 - val_accuracy: 0.8875\n",
            "Epoch 77/100\n",
            "210/210 [==============================] - 4s 17ms/step - loss: 0.2904 - accuracy: 0.9073 - val_loss: 0.4101 - val_accuracy: 0.8840\n",
            "Epoch 78/100\n",
            "210/210 [==============================] - 4s 17ms/step - loss: 0.2787 - accuracy: 0.9079 - val_loss: 0.3995 - val_accuracy: 0.8842\n",
            "Epoch 79/100\n",
            "210/210 [==============================] - 4s 17ms/step - loss: 0.2779 - accuracy: 0.9106 - val_loss: 0.3945 - val_accuracy: 0.8892\n",
            "Epoch 80/100\n",
            "210/210 [==============================] - 4s 18ms/step - loss: 0.2738 - accuracy: 0.9125 - val_loss: 0.4444 - val_accuracy: 0.8735\n",
            "Epoch 81/100\n",
            "210/210 [==============================] - 4s 18ms/step - loss: 0.2825 - accuracy: 0.9086 - val_loss: 0.4131 - val_accuracy: 0.8824\n",
            "Epoch 82/100\n",
            "210/210 [==============================] - 4s 18ms/step - loss: 0.2911 - accuracy: 0.9031 - val_loss: 0.3914 - val_accuracy: 0.8908\n",
            "Epoch 83/100\n",
            "210/210 [==============================] - 4s 17ms/step - loss: 0.2626 - accuracy: 0.9146 - val_loss: 0.4267 - val_accuracy: 0.8809\n",
            "Epoch 84/100\n",
            "210/210 [==============================] - 4s 18ms/step - loss: 0.2743 - accuracy: 0.9121 - val_loss: 0.4245 - val_accuracy: 0.8796\n",
            "Epoch 85/100\n",
            "210/210 [==============================] - 4s 18ms/step - loss: 0.2669 - accuracy: 0.9142 - val_loss: 0.3999 - val_accuracy: 0.8885\n",
            "Epoch 86/100\n",
            "210/210 [==============================] - 4s 18ms/step - loss: 0.2929 - accuracy: 0.9048 - val_loss: 0.4091 - val_accuracy: 0.8830\n",
            "Epoch 87/100\n",
            "210/210 [==============================] - 4s 18ms/step - loss: 0.2491 - accuracy: 0.9185 - val_loss: 0.4059 - val_accuracy: 0.8860\n",
            "Epoch 88/100\n",
            "210/210 [==============================] - 4s 18ms/step - loss: 0.2762 - accuracy: 0.9100 - val_loss: 0.4151 - val_accuracy: 0.8821\n",
            "Epoch 89/100\n",
            "210/210 [==============================] - 4s 18ms/step - loss: 0.2585 - accuracy: 0.9147 - val_loss: 0.3850 - val_accuracy: 0.8921\n",
            "Epoch 90/100\n",
            "210/210 [==============================] - 4s 18ms/step - loss: 0.2502 - accuracy: 0.9190 - val_loss: 0.3924 - val_accuracy: 0.8898\n",
            "Epoch 91/100\n",
            "210/210 [==============================] - 4s 17ms/step - loss: 0.2703 - accuracy: 0.9122 - val_loss: 0.3827 - val_accuracy: 0.8925\n",
            "Epoch 92/100\n",
            "210/210 [==============================] - 4s 17ms/step - loss: 0.2522 - accuracy: 0.9195 - val_loss: 0.3857 - val_accuracy: 0.8928\n",
            "Epoch 93/100\n",
            "210/210 [==============================] - 4s 17ms/step - loss: 0.2743 - accuracy: 0.9105 - val_loss: 0.4115 - val_accuracy: 0.8828\n",
            "Epoch 94/100\n",
            "210/210 [==============================] - 4s 17ms/step - loss: 0.2381 - accuracy: 0.9230 - val_loss: 0.4005 - val_accuracy: 0.8906\n",
            "Epoch 95/100\n",
            "210/210 [==============================] - 4s 17ms/step - loss: 0.2587 - accuracy: 0.9169 - val_loss: 0.4222 - val_accuracy: 0.8819\n",
            "Epoch 96/100\n",
            "210/210 [==============================] - 4s 17ms/step - loss: 0.2513 - accuracy: 0.9167 - val_loss: 0.4017 - val_accuracy: 0.8878\n",
            "Epoch 97/100\n",
            "210/210 [==============================] - 4s 17ms/step - loss: 0.2663 - accuracy: 0.9129 - val_loss: 0.3610 - val_accuracy: 0.9034\n",
            "Epoch 98/100\n",
            "210/210 [==============================] - 4s 17ms/step - loss: 0.2415 - accuracy: 0.9218 - val_loss: 0.3553 - val_accuracy: 0.9050\n",
            "Epoch 99/100\n",
            "210/210 [==============================] - 4s 17ms/step - loss: 0.2398 - accuracy: 0.9218 - val_loss: 0.3748 - val_accuracy: 0.9014\n",
            "Epoch 100/100\n",
            "210/210 [==============================] - 4s 17ms/step - loss: 0.2406 - accuracy: 0.9221 - val_loss: 0.3653 - val_accuracy: 0.9032\n"
          ],
          "name": "stdout"
        }
      ]
    },
    {
      "cell_type": "code",
      "metadata": {
        "colab": {
          "base_uri": "https://localhost:8080/"
        },
        "id": "qmaVbuTGyUAT",
        "outputId": "cd07b504-87ab-4b05-be6c-2f9a9b6f37f1"
      },
      "source": [
        "print('Evaluate NN model with relu activations and changing the number of activators'); print('--'*40)\n",
        "results3 = model3.evaluate(X_val, y_val)\n",
        "print('Validation accuracy: {}'.format(round(results3[1]*100, 2), '%'))"
      ],
      "execution_count": 70,
      "outputs": [
        {
          "output_type": "stream",
          "text": [
            "Evaluate NN model with relu activations and changing the number of activators\n",
            "--------------------------------------------------------------------------------\n",
            "1875/1875 [==============================] - 5s 3ms/step - loss: 0.3653 - accuracy: 0.9032\n",
            "Validation accuracy: 90.32\n"
          ],
          "name": "stdout"
        }
      ]
    },
    {
      "cell_type": "markdown",
      "metadata": {
        "id": "wzBrkanZ0DpB"
      },
      "source": [
        "**Observation:**\n",
        "\n",
        "\n",
        "\n",
        "*   Adding ReLU activations and changing activators results in improvement of score.\n",
        "*   Best accuracy achieved till now is using relu activations, changing number of activators and Adam optimizers with a learning rate of 0.001\n",
        "\n",
        "Let's try adding weight initilization\n",
        "\n"
      ]
    },
    {
      "cell_type": "markdown",
      "metadata": {
        "id": "bAvZOM9S0XF3"
      },
      "source": [
        "## **With Weight Initializers**\n",
        "\n",
        "Changing weight initialization scheme can significantly improve training of the model by preventing vanishing gradient problem up to some degree.\n",
        "\n",
        "**NN model, relu activations, SGD optimizers with weight initializers**"
      ]
    },
    {
      "cell_type": "code",
      "metadata": {
        "colab": {
          "base_uri": "https://localhost:8080/"
        },
        "id": "wVFpN7MayXgG",
        "outputId": "5147448f-2ac5-418e-8d09-8325122eacec"
      },
      "source": [
        "print('NN model with weight initializers'); print('--'*40)\n",
        "# Initialize the neural network classifier\n",
        "model4 = Sequential()\n",
        "\n",
        "# Input Layer - adding input layer and activation functions relu and weight initializer\n",
        "model4.add(Dense(256, input_shape = (1024, ), kernel_initializer = 'he_normal'))\n",
        "# Adding activation function\n",
        "model4.add(Activation('relu'))\n",
        "\n",
        "#Hidden Layer 1 - adding first hidden layer\n",
        "model4.add(Dense(128, kernel_initializer = 'he_normal', bias_initializer = 'he_uniform'))\n",
        "# Adding activation function\n",
        "model4.add(Activation('relu'))\n",
        "\n",
        "#Hidden Layer 2 - adding second hidden layer\n",
        "model4.add(Dense(64, kernel_initializer = 'he_normal', bias_initializer = 'he_uniform'))\n",
        "# Adding activation function\n",
        "model4.add(Activation('relu'))\n",
        "\n",
        "#Hidden Layer 3 - adding third hidden layer\n",
        "model4.add(Dense(32, kernel_initializer = 'he_normal', bias_initializer = 'he_uniform'))\n",
        "# Adding activation function\n",
        "model4.add(Activation('relu'))\n",
        "\n",
        "# Output Layer - adding output layer which is of 10 nodes (digits)\n",
        "model4.add(Dense(10, kernel_initializer = 'he_normal', bias_initializer = 'he_uniform'))\n",
        "# Adding activation function\n",
        "model4.add(Activation('softmax'))"
      ],
      "execution_count": 71,
      "outputs": [
        {
          "output_type": "stream",
          "text": [
            "NN model with weight initializers\n",
            "--------------------------------------------------------------------------------\n"
          ],
          "name": "stdout"
        }
      ]
    },
    {
      "cell_type": "code",
      "metadata": {
        "colab": {
          "base_uri": "https://localhost:8080/"
        },
        "id": "iUxcObyi0rAB",
        "outputId": "44113e3c-bab9-4590-e66c-68fbcfe5d5c6"
      },
      "source": [
        "model4.summary()"
      ],
      "execution_count": 72,
      "outputs": [
        {
          "output_type": "stream",
          "text": [
            "Model: \"sequential_3\"\n",
            "_________________________________________________________________\n",
            "Layer (type)                 Output Shape              Param #   \n",
            "=================================================================\n",
            "dense_10 (Dense)             (None, 256)               262400    \n",
            "_________________________________________________________________\n",
            "activation_10 (Activation)   (None, 256)               0         \n",
            "_________________________________________________________________\n",
            "dense_11 (Dense)             (None, 128)               32896     \n",
            "_________________________________________________________________\n",
            "activation_11 (Activation)   (None, 128)               0         \n",
            "_________________________________________________________________\n",
            "dense_12 (Dense)             (None, 64)                8256      \n",
            "_________________________________________________________________\n",
            "activation_12 (Activation)   (None, 64)                0         \n",
            "_________________________________________________________________\n",
            "dense_13 (Dense)             (None, 32)                2080      \n",
            "_________________________________________________________________\n",
            "activation_13 (Activation)   (None, 32)                0         \n",
            "_________________________________________________________________\n",
            "dense_14 (Dense)             (None, 10)                330       \n",
            "_________________________________________________________________\n",
            "activation_14 (Activation)   (None, 10)                0         \n",
            "=================================================================\n",
            "Total params: 305,962\n",
            "Trainable params: 305,962\n",
            "Non-trainable params: 0\n",
            "_________________________________________________________________\n"
          ],
          "name": "stdout"
        }
      ]
    },
    {
      "cell_type": "code",
      "metadata": {
        "colab": {
          "base_uri": "https://localhost:8080/"
        },
        "id": "YoKoLfcA0xIK",
        "outputId": "9484b312-ec60-4621-8798-b89f54ed01a7"
      },
      "source": [
        "# compiling the neural network classifier, sgd optimizer\n",
        "sgd = optimizers.SGD(lr = 0.01)\n",
        "# Adding activation function - softmax for multiclass classification\n",
        "model4.compile(optimizer = sgd, loss = 'categorical_crossentropy', metrics = ['accuracy'])\n",
        "\n",
        "# Fitting the neural network for training\n",
        "history = model4.fit(X_train, y_train, validation_data = (X_val, y_val), batch_size = 200, epochs = 100, verbose = 1)"
      ],
      "execution_count": 73,
      "outputs": [
        {
          "output_type": "stream",
          "text": [
            "Epoch 1/100\n",
            "210/210 [==============================] - 4s 17ms/step - loss: 2.3271 - accuracy: 0.1108 - val_loss: 2.2864 - val_accuracy: 0.1426\n",
            "Epoch 2/100\n",
            "210/210 [==============================] - 3s 16ms/step - loss: 2.2814 - accuracy: 0.1452 - val_loss: 2.2565 - val_accuracy: 0.1655\n",
            "Epoch 3/100\n",
            "210/210 [==============================] - 3s 16ms/step - loss: 2.2466 - accuracy: 0.1727 - val_loss: 2.2117 - val_accuracy: 0.1960\n",
            "Epoch 4/100\n",
            "210/210 [==============================] - 3s 16ms/step - loss: 2.1966 - accuracy: 0.2075 - val_loss: 2.1527 - val_accuracy: 0.2381\n",
            "Epoch 5/100\n",
            "210/210 [==============================] - 3s 16ms/step - loss: 2.1332 - accuracy: 0.2461 - val_loss: 2.0663 - val_accuracy: 0.2698\n",
            "Epoch 6/100\n",
            "210/210 [==============================] - 3s 16ms/step - loss: 2.0562 - accuracy: 0.2791 - val_loss: 2.1436 - val_accuracy: 0.2275\n",
            "Epoch 7/100\n",
            "210/210 [==============================] - 3s 16ms/step - loss: 1.9809 - accuracy: 0.3183 - val_loss: 1.9157 - val_accuracy: 0.3434\n",
            "Epoch 8/100\n",
            "210/210 [==============================] - 3s 16ms/step - loss: 1.8863 - accuracy: 0.3627 - val_loss: 1.8350 - val_accuracy: 0.3724\n",
            "Epoch 9/100\n",
            "210/210 [==============================] - 3s 17ms/step - loss: 1.7850 - accuracy: 0.4029 - val_loss: 1.6541 - val_accuracy: 0.4662\n",
            "Epoch 10/100\n",
            "210/210 [==============================] - 4s 17ms/step - loss: 1.6829 - accuracy: 0.4439 - val_loss: 1.5671 - val_accuracy: 0.5017\n",
            "Epoch 11/100\n",
            "210/210 [==============================] - 3s 17ms/step - loss: 1.5950 - accuracy: 0.4862 - val_loss: 1.5607 - val_accuracy: 0.4914\n",
            "Epoch 12/100\n",
            "210/210 [==============================] - 3s 16ms/step - loss: 1.5356 - accuracy: 0.5068 - val_loss: 1.5545 - val_accuracy: 0.4778\n",
            "Epoch 13/100\n",
            "210/210 [==============================] - 4s 17ms/step - loss: 1.4512 - accuracy: 0.5365 - val_loss: 1.3640 - val_accuracy: 0.5716\n",
            "Epoch 14/100\n",
            "210/210 [==============================] - 3s 16ms/step - loss: 1.3887 - accuracy: 0.5639 - val_loss: 1.3360 - val_accuracy: 0.5704\n",
            "Epoch 15/100\n",
            "210/210 [==============================] - 3s 16ms/step - loss: 1.3431 - accuracy: 0.5789 - val_loss: 1.4505 - val_accuracy: 0.5255\n",
            "Epoch 16/100\n",
            "210/210 [==============================] - 3s 16ms/step - loss: 1.2864 - accuracy: 0.5971 - val_loss: 1.2414 - val_accuracy: 0.6152\n",
            "Epoch 17/100\n",
            "210/210 [==============================] - 3s 16ms/step - loss: 1.2374 - accuracy: 0.6098 - val_loss: 1.1972 - val_accuracy: 0.6290\n",
            "Epoch 18/100\n",
            "210/210 [==============================] - 3s 16ms/step - loss: 1.1964 - accuracy: 0.6250 - val_loss: 1.1461 - val_accuracy: 0.6451\n",
            "Epoch 19/100\n",
            "210/210 [==============================] - 3s 16ms/step - loss: 1.1671 - accuracy: 0.6381 - val_loss: 1.1252 - val_accuracy: 0.6525\n",
            "Epoch 20/100\n",
            "210/210 [==============================] - 3s 16ms/step - loss: 1.1486 - accuracy: 0.6415 - val_loss: 1.1736 - val_accuracy: 0.6244\n",
            "Epoch 21/100\n",
            "210/210 [==============================] - 3s 16ms/step - loss: 1.1202 - accuracy: 0.6487 - val_loss: 1.1169 - val_accuracy: 0.6492\n",
            "Epoch 22/100\n",
            "210/210 [==============================] - 4s 17ms/step - loss: 1.0958 - accuracy: 0.6608 - val_loss: 1.0901 - val_accuracy: 0.6594\n",
            "Epoch 23/100\n",
            "210/210 [==============================] - 3s 16ms/step - loss: 1.0726 - accuracy: 0.6659 - val_loss: 1.0288 - val_accuracy: 0.6873\n",
            "Epoch 24/100\n",
            "210/210 [==============================] - 3s 17ms/step - loss: 1.0503 - accuracy: 0.6754 - val_loss: 1.0798 - val_accuracy: 0.6668\n",
            "Epoch 25/100\n",
            "210/210 [==============================] - 3s 16ms/step - loss: 1.0318 - accuracy: 0.6842 - val_loss: 1.0027 - val_accuracy: 0.6889\n",
            "Epoch 26/100\n",
            "210/210 [==============================] - 3s 16ms/step - loss: 0.9966 - accuracy: 0.6946 - val_loss: 1.0057 - val_accuracy: 0.6914\n",
            "Epoch 27/100\n",
            "210/210 [==============================] - 3s 16ms/step - loss: 0.9748 - accuracy: 0.7065 - val_loss: 0.9664 - val_accuracy: 0.7030\n",
            "Epoch 28/100\n",
            "210/210 [==============================] - 3s 16ms/step - loss: 0.9559 - accuracy: 0.7049 - val_loss: 1.0282 - val_accuracy: 0.6718\n",
            "Epoch 29/100\n",
            "210/210 [==============================] - 3s 16ms/step - loss: 0.9541 - accuracy: 0.7089 - val_loss: 1.0311 - val_accuracy: 0.6790\n",
            "Epoch 30/100\n",
            "210/210 [==============================] - 3s 16ms/step - loss: 0.9254 - accuracy: 0.7164 - val_loss: 0.9117 - val_accuracy: 0.7226\n",
            "Epoch 31/100\n",
            "210/210 [==============================] - 3s 16ms/step - loss: 0.9199 - accuracy: 0.7203 - val_loss: 0.9010 - val_accuracy: 0.7243\n",
            "Epoch 32/100\n",
            "210/210 [==============================] - 3s 16ms/step - loss: 0.8937 - accuracy: 0.7288 - val_loss: 0.8900 - val_accuracy: 0.7292\n",
            "Epoch 33/100\n",
            "210/210 [==============================] - 3s 16ms/step - loss: 0.8655 - accuracy: 0.7358 - val_loss: 0.8661 - val_accuracy: 0.7395\n",
            "Epoch 34/100\n",
            "210/210 [==============================] - 3s 16ms/step - loss: 0.8701 - accuracy: 0.7341 - val_loss: 0.8694 - val_accuracy: 0.7358\n",
            "Epoch 35/100\n",
            "210/210 [==============================] - 3s 17ms/step - loss: 0.8489 - accuracy: 0.7427 - val_loss: 0.8558 - val_accuracy: 0.7388\n",
            "Epoch 36/100\n",
            "210/210 [==============================] - 3s 16ms/step - loss: 0.8517 - accuracy: 0.7391 - val_loss: 0.9033 - val_accuracy: 0.7235\n",
            "Epoch 37/100\n",
            "210/210 [==============================] - 3s 16ms/step - loss: 0.8339 - accuracy: 0.7458 - val_loss: 0.8672 - val_accuracy: 0.7365\n",
            "Epoch 38/100\n",
            "210/210 [==============================] - 3s 17ms/step - loss: 0.8308 - accuracy: 0.7463 - val_loss: 0.8207 - val_accuracy: 0.7494\n",
            "Epoch 39/100\n",
            "210/210 [==============================] - 3s 16ms/step - loss: 0.8058 - accuracy: 0.7550 - val_loss: 0.8027 - val_accuracy: 0.7582\n",
            "Epoch 40/100\n",
            "210/210 [==============================] - 3s 16ms/step - loss: 0.8035 - accuracy: 0.7538 - val_loss: 0.8848 - val_accuracy: 0.7289\n",
            "Epoch 41/100\n",
            "210/210 [==============================] - 4s 17ms/step - loss: 0.7879 - accuracy: 0.7627 - val_loss: 0.7991 - val_accuracy: 0.7582\n",
            "Epoch 42/100\n",
            "210/210 [==============================] - 3s 16ms/step - loss: 0.7732 - accuracy: 0.7674 - val_loss: 0.7646 - val_accuracy: 0.7677\n",
            "Epoch 43/100\n",
            "210/210 [==============================] - 3s 16ms/step - loss: 0.7699 - accuracy: 0.7673 - val_loss: 0.7513 - val_accuracy: 0.7748\n",
            "Epoch 44/100\n",
            "210/210 [==============================] - 3s 17ms/step - loss: 0.7537 - accuracy: 0.7686 - val_loss: 0.7434 - val_accuracy: 0.7761\n",
            "Epoch 45/100\n",
            "210/210 [==============================] - 3s 16ms/step - loss: 0.7422 - accuracy: 0.7751 - val_loss: 0.7614 - val_accuracy: 0.7654\n",
            "Epoch 46/100\n",
            "210/210 [==============================] - 3s 16ms/step - loss: 0.7552 - accuracy: 0.7702 - val_loss: 0.7437 - val_accuracy: 0.7755\n",
            "Epoch 47/100\n",
            "210/210 [==============================] - 3s 16ms/step - loss: 0.7402 - accuracy: 0.7755 - val_loss: 0.7412 - val_accuracy: 0.7742\n",
            "Epoch 48/100\n",
            "210/210 [==============================] - 3s 16ms/step - loss: 0.7268 - accuracy: 0.7771 - val_loss: 0.7279 - val_accuracy: 0.7811\n",
            "Epoch 49/100\n",
            "210/210 [==============================] - 3s 16ms/step - loss: 0.7205 - accuracy: 0.7806 - val_loss: 0.7623 - val_accuracy: 0.7663\n",
            "Epoch 50/100\n",
            "210/210 [==============================] - 4s 17ms/step - loss: 0.7239 - accuracy: 0.7763 - val_loss: 0.7027 - val_accuracy: 0.7893\n",
            "Epoch 51/100\n",
            "210/210 [==============================] - 3s 16ms/step - loss: 0.7103 - accuracy: 0.7842 - val_loss: 0.7069 - val_accuracy: 0.7841\n",
            "Epoch 52/100\n",
            "210/210 [==============================] - 3s 16ms/step - loss: 0.6938 - accuracy: 0.7880 - val_loss: 0.7055 - val_accuracy: 0.7880\n",
            "Epoch 53/100\n",
            "210/210 [==============================] - 3s 16ms/step - loss: 0.6913 - accuracy: 0.7863 - val_loss: 0.6945 - val_accuracy: 0.7923\n",
            "Epoch 54/100\n",
            "210/210 [==============================] - 3s 17ms/step - loss: 0.6867 - accuracy: 0.7872 - val_loss: 0.6770 - val_accuracy: 0.7983\n",
            "Epoch 55/100\n",
            "210/210 [==============================] - 3s 17ms/step - loss: 0.6918 - accuracy: 0.7895 - val_loss: 0.6697 - val_accuracy: 0.8005\n",
            "Epoch 56/100\n",
            "210/210 [==============================] - 3s 17ms/step - loss: 0.6729 - accuracy: 0.7912 - val_loss: 0.7062 - val_accuracy: 0.7834\n",
            "Epoch 57/100\n",
            "210/210 [==============================] - 3s 17ms/step - loss: 0.6692 - accuracy: 0.7940 - val_loss: 0.6681 - val_accuracy: 0.7988\n",
            "Epoch 58/100\n",
            "210/210 [==============================] - 3s 16ms/step - loss: 0.6648 - accuracy: 0.7969 - val_loss: 0.6519 - val_accuracy: 0.8050\n",
            "Epoch 59/100\n",
            "210/210 [==============================] - 3s 16ms/step - loss: 0.6602 - accuracy: 0.7991 - val_loss: 0.6809 - val_accuracy: 0.7936\n",
            "Epoch 60/100\n",
            "210/210 [==============================] - 3s 17ms/step - loss: 0.6536 - accuracy: 0.7974 - val_loss: 0.7243 - val_accuracy: 0.7764\n",
            "Epoch 61/100\n",
            "210/210 [==============================] - 4s 17ms/step - loss: 0.6444 - accuracy: 0.8027 - val_loss: 0.7016 - val_accuracy: 0.7843\n",
            "Epoch 62/100\n",
            "210/210 [==============================] - 3s 16ms/step - loss: 0.6205 - accuracy: 0.8094 - val_loss: 0.6281 - val_accuracy: 0.8122\n",
            "Epoch 63/100\n",
            "210/210 [==============================] - 3s 16ms/step - loss: 0.6434 - accuracy: 0.8016 - val_loss: 0.6382 - val_accuracy: 0.8076\n",
            "Epoch 64/100\n",
            "210/210 [==============================] - 3s 16ms/step - loss: 0.6261 - accuracy: 0.8065 - val_loss: 0.7587 - val_accuracy: 0.7682\n",
            "Epoch 65/100\n",
            "210/210 [==============================] - 3s 17ms/step - loss: 0.6265 - accuracy: 0.8061 - val_loss: 0.6715 - val_accuracy: 0.7958\n",
            "Epoch 66/100\n",
            "210/210 [==============================] - 3s 17ms/step - loss: 0.6184 - accuracy: 0.8090 - val_loss: 0.6069 - val_accuracy: 0.8184\n",
            "Epoch 67/100\n",
            "210/210 [==============================] - 4s 17ms/step - loss: 0.6065 - accuracy: 0.8121 - val_loss: 0.6185 - val_accuracy: 0.8138\n",
            "Epoch 68/100\n",
            "210/210 [==============================] - 4s 17ms/step - loss: 0.5993 - accuracy: 0.8154 - val_loss: 0.6367 - val_accuracy: 0.8087\n",
            "Epoch 69/100\n",
            "210/210 [==============================] - 4s 17ms/step - loss: 0.6078 - accuracy: 0.8123 - val_loss: 0.6006 - val_accuracy: 0.8201\n",
            "Epoch 70/100\n",
            "210/210 [==============================] - 4s 17ms/step - loss: 0.6006 - accuracy: 0.8143 - val_loss: 0.6435 - val_accuracy: 0.8030\n",
            "Epoch 71/100\n",
            "210/210 [==============================] - 4s 17ms/step - loss: 0.5966 - accuracy: 0.8148 - val_loss: 0.5997 - val_accuracy: 0.8200\n",
            "Epoch 72/100\n",
            "210/210 [==============================] - 4s 17ms/step - loss: 0.5917 - accuracy: 0.8176 - val_loss: 0.7120 - val_accuracy: 0.7792\n",
            "Epoch 73/100\n",
            "210/210 [==============================] - 3s 16ms/step - loss: 0.5857 - accuracy: 0.8204 - val_loss: 0.5975 - val_accuracy: 0.8217\n",
            "Epoch 74/100\n",
            "210/210 [==============================] - 3s 17ms/step - loss: 0.5645 - accuracy: 0.8271 - val_loss: 0.5983 - val_accuracy: 0.8186\n",
            "Epoch 75/100\n",
            "210/210 [==============================] - 3s 16ms/step - loss: 0.5811 - accuracy: 0.8200 - val_loss: 0.6602 - val_accuracy: 0.7978\n",
            "Epoch 76/100\n",
            "210/210 [==============================] - 3s 17ms/step - loss: 0.5789 - accuracy: 0.8230 - val_loss: 0.5904 - val_accuracy: 0.8214\n",
            "Epoch 77/100\n",
            "210/210 [==============================] - 3s 16ms/step - loss: 0.5591 - accuracy: 0.8256 - val_loss: 0.6026 - val_accuracy: 0.8177\n",
            "Epoch 78/100\n",
            "210/210 [==============================] - 3s 16ms/step - loss: 0.5683 - accuracy: 0.8264 - val_loss: 0.6676 - val_accuracy: 0.7946\n",
            "Epoch 79/100\n",
            "210/210 [==============================] - 3s 16ms/step - loss: 0.5633 - accuracy: 0.8265 - val_loss: 0.6083 - val_accuracy: 0.8155\n",
            "Epoch 80/100\n",
            "210/210 [==============================] - 4s 17ms/step - loss: 0.5524 - accuracy: 0.8272 - val_loss: 0.5805 - val_accuracy: 0.8260\n",
            "Epoch 81/100\n",
            "210/210 [==============================] - 3s 16ms/step - loss: 0.5600 - accuracy: 0.8256 - val_loss: 0.6037 - val_accuracy: 0.8145\n",
            "Epoch 82/100\n",
            "210/210 [==============================] - 3s 16ms/step - loss: 0.5400 - accuracy: 0.8348 - val_loss: 0.6210 - val_accuracy: 0.8086\n",
            "Epoch 83/100\n",
            "210/210 [==============================] - 3s 16ms/step - loss: 0.5516 - accuracy: 0.8305 - val_loss: 0.5822 - val_accuracy: 0.8228\n",
            "Epoch 84/100\n",
            "210/210 [==============================] - 3s 16ms/step - loss: 0.5444 - accuracy: 0.8322 - val_loss: 0.5700 - val_accuracy: 0.8268\n",
            "Epoch 85/100\n",
            "210/210 [==============================] - 4s 17ms/step - loss: 0.5405 - accuracy: 0.8343 - val_loss: 0.5489 - val_accuracy: 0.8363\n",
            "Epoch 86/100\n",
            "210/210 [==============================] - 4s 17ms/step - loss: 0.5271 - accuracy: 0.8393 - val_loss: 0.5588 - val_accuracy: 0.8316\n",
            "Epoch 87/100\n",
            "210/210 [==============================] - 4s 17ms/step - loss: 0.5389 - accuracy: 0.8328 - val_loss: 0.5843 - val_accuracy: 0.8224\n",
            "Epoch 88/100\n",
            "210/210 [==============================] - 4s 17ms/step - loss: 0.5182 - accuracy: 0.8435 - val_loss: 0.5513 - val_accuracy: 0.8347\n",
            "Epoch 89/100\n",
            "210/210 [==============================] - 4s 17ms/step - loss: 0.5309 - accuracy: 0.8354 - val_loss: 0.5543 - val_accuracy: 0.8322\n",
            "Epoch 90/100\n",
            "210/210 [==============================] - 4s 17ms/step - loss: 0.5154 - accuracy: 0.8410 - val_loss: 0.5776 - val_accuracy: 0.8258\n",
            "Epoch 91/100\n",
            "210/210 [==============================] - 4s 17ms/step - loss: 0.5221 - accuracy: 0.8391 - val_loss: 0.5543 - val_accuracy: 0.8318\n",
            "Epoch 92/100\n",
            "210/210 [==============================] - 3s 16ms/step - loss: 0.5056 - accuracy: 0.8447 - val_loss: 0.5483 - val_accuracy: 0.8364\n",
            "Epoch 93/100\n",
            "210/210 [==============================] - 3s 17ms/step - loss: 0.5154 - accuracy: 0.8383 - val_loss: 0.5613 - val_accuracy: 0.8303\n",
            "Epoch 94/100\n",
            "210/210 [==============================] - 3s 17ms/step - loss: 0.5195 - accuracy: 0.8395 - val_loss: 0.5333 - val_accuracy: 0.8397\n",
            "Epoch 95/100\n",
            "210/210 [==============================] - 3s 16ms/step - loss: 0.5200 - accuracy: 0.8390 - val_loss: 0.5117 - val_accuracy: 0.8485\n",
            "Epoch 96/100\n",
            "210/210 [==============================] - 3s 16ms/step - loss: 0.4961 - accuracy: 0.8446 - val_loss: 0.5211 - val_accuracy: 0.8459\n",
            "Epoch 97/100\n",
            "210/210 [==============================] - 3s 17ms/step - loss: 0.5057 - accuracy: 0.8424 - val_loss: 0.5243 - val_accuracy: 0.8434\n",
            "Epoch 98/100\n",
            "210/210 [==============================] - 3s 16ms/step - loss: 0.5050 - accuracy: 0.8442 - val_loss: 0.5191 - val_accuracy: 0.8451\n",
            "Epoch 99/100\n",
            "210/210 [==============================] - 3s 17ms/step - loss: 0.4986 - accuracy: 0.8474 - val_loss: 0.5184 - val_accuracy: 0.8450\n",
            "Epoch 100/100\n",
            "210/210 [==============================] - 4s 17ms/step - loss: 0.4922 - accuracy: 0.8485 - val_loss: 0.5270 - val_accuracy: 0.8430\n"
          ],
          "name": "stdout"
        }
      ]
    },
    {
      "cell_type": "code",
      "metadata": {
        "colab": {
          "base_uri": "https://localhost:8080/"
        },
        "id": "od27J28G0z4w",
        "outputId": "120fcc6c-36d3-4e30-96e3-0d93358e5691"
      },
      "source": [
        "print('NN with weight initializers'); print('--'*40)\n",
        "results4 = model4.evaluate(X_val, y_val)\n",
        "print('Validation accuracy: {}'.format(round(results4[1]*100, 2), '%'))"
      ],
      "execution_count": 74,
      "outputs": [
        {
          "output_type": "stream",
          "text": [
            "NN with weight initializers\n",
            "--------------------------------------------------------------------------------\n",
            "1875/1875 [==============================] - 5s 3ms/step - loss: 0.5270 - accuracy: 0.8430\n",
            "Validation accuracy: 84.3\n"
          ],
          "name": "stdout"
        }
      ]
    },
    {
      "cell_type": "markdown",
      "metadata": {
        "id": "0B_Q6Y5y07oj"
      },
      "source": [
        "**NN model, ReLU activations, Adam optimizers with weight initializers**"
      ]
    },
    {
      "cell_type": "code",
      "metadata": {
        "colab": {
          "base_uri": "https://localhost:8080/"
        },
        "id": "Dgcly-cJ03Vi",
        "outputId": "2e4cbcfb-e243-4ac9-a265-de507face2a9"
      },
      "source": [
        "# compiling the neural network classifier, adam optimizer\n",
        "adam = optimizers.Adam(lr = 0.001)\n",
        "# Adding activation function - softmax for multiclass classification\n",
        "model4.compile(optimizer = adam, loss = 'categorical_crossentropy', metrics = ['accuracy'])\n",
        "\n",
        "# Fitting the neural network for training\n",
        "history = model4.fit(X_train, y_train, validation_data = (X_val, y_val), batch_size = 200, epochs = 100, verbose = 1)"
      ],
      "execution_count": 75,
      "outputs": [
        {
          "output_type": "stream",
          "text": [
            "Epoch 1/100\n",
            "210/210 [==============================] - 4s 18ms/step - loss: 1.4406 - accuracy: 0.6152 - val_loss: 0.7655 - val_accuracy: 0.7584\n",
            "Epoch 2/100\n",
            "210/210 [==============================] - 4s 17ms/step - loss: 0.7367 - accuracy: 0.7714 - val_loss: 0.7668 - val_accuracy: 0.7565\n",
            "Epoch 3/100\n",
            "210/210 [==============================] - 4s 17ms/step - loss: 0.7105 - accuracy: 0.7780 - val_loss: 0.6869 - val_accuracy: 0.7933\n",
            "Epoch 4/100\n",
            "210/210 [==============================] - 4s 17ms/step - loss: 0.6847 - accuracy: 0.7878 - val_loss: 0.6585 - val_accuracy: 0.7973\n",
            "Epoch 5/100\n",
            "210/210 [==============================] - 4s 17ms/step - loss: 0.6831 - accuracy: 0.7859 - val_loss: 0.6863 - val_accuracy: 0.7905\n",
            "Epoch 6/100\n",
            "210/210 [==============================] - 4s 17ms/step - loss: 0.6605 - accuracy: 0.7938 - val_loss: 0.6469 - val_accuracy: 0.7993\n",
            "Epoch 7/100\n",
            "210/210 [==============================] - 4s 17ms/step - loss: 0.6631 - accuracy: 0.7918 - val_loss: 0.6732 - val_accuracy: 0.7925\n",
            "Epoch 8/100\n",
            "210/210 [==============================] - 4s 17ms/step - loss: 0.6455 - accuracy: 0.7992 - val_loss: 0.6968 - val_accuracy: 0.7886\n",
            "Epoch 9/100\n",
            "210/210 [==============================] - 4s 17ms/step - loss: 0.6288 - accuracy: 0.8020 - val_loss: 0.7186 - val_accuracy: 0.7722\n",
            "Epoch 10/100\n",
            "210/210 [==============================] - 4s 17ms/step - loss: 0.6303 - accuracy: 0.8028 - val_loss: 0.6285 - val_accuracy: 0.8076\n",
            "Epoch 11/100\n",
            "210/210 [==============================] - 4s 17ms/step - loss: 0.5924 - accuracy: 0.8158 - val_loss: 0.5854 - val_accuracy: 0.8217\n",
            "Epoch 12/100\n",
            "210/210 [==============================] - 4s 17ms/step - loss: 0.5845 - accuracy: 0.8186 - val_loss: 0.6417 - val_accuracy: 0.7995\n",
            "Epoch 13/100\n",
            "210/210 [==============================] - 4s 17ms/step - loss: 0.5734 - accuracy: 0.8228 - val_loss: 0.6255 - val_accuracy: 0.8088\n",
            "Epoch 14/100\n",
            "210/210 [==============================] - 4s 17ms/step - loss: 0.5785 - accuracy: 0.8172 - val_loss: 0.5823 - val_accuracy: 0.8236\n",
            "Epoch 15/100\n",
            "210/210 [==============================] - 4s 17ms/step - loss: 0.5640 - accuracy: 0.8236 - val_loss: 0.6177 - val_accuracy: 0.8112\n",
            "Epoch 16/100\n",
            "210/210 [==============================] - 4s 17ms/step - loss: 0.5477 - accuracy: 0.8316 - val_loss: 0.5945 - val_accuracy: 0.8173\n",
            "Epoch 17/100\n",
            "210/210 [==============================] - 4s 17ms/step - loss: 0.5546 - accuracy: 0.8262 - val_loss: 0.5371 - val_accuracy: 0.8363\n",
            "Epoch 18/100\n",
            "210/210 [==============================] - 4s 17ms/step - loss: 0.5105 - accuracy: 0.8403 - val_loss: 0.5573 - val_accuracy: 0.8281\n",
            "Epoch 19/100\n",
            "210/210 [==============================] - 4s 17ms/step - loss: 0.5272 - accuracy: 0.8356 - val_loss: 0.5360 - val_accuracy: 0.8354\n",
            "Epoch 20/100\n",
            "210/210 [==============================] - 4s 17ms/step - loss: 0.5259 - accuracy: 0.8340 - val_loss: 0.5738 - val_accuracy: 0.8215\n",
            "Epoch 21/100\n",
            "210/210 [==============================] - 4s 17ms/step - loss: 0.4974 - accuracy: 0.8437 - val_loss: 0.5583 - val_accuracy: 0.8273\n",
            "Epoch 22/100\n",
            "210/210 [==============================] - 4s 17ms/step - loss: 0.4993 - accuracy: 0.8392 - val_loss: 0.5822 - val_accuracy: 0.8201\n",
            "Epoch 23/100\n",
            "210/210 [==============================] - 4s 17ms/step - loss: 0.4924 - accuracy: 0.8443 - val_loss: 0.5219 - val_accuracy: 0.8368\n",
            "Epoch 24/100\n",
            "210/210 [==============================] - 4s 17ms/step - loss: 0.4901 - accuracy: 0.8441 - val_loss: 0.5140 - val_accuracy: 0.8409\n",
            "Epoch 25/100\n",
            "210/210 [==============================] - 4s 17ms/step - loss: 0.4697 - accuracy: 0.8504 - val_loss: 0.4841 - val_accuracy: 0.8525\n",
            "Epoch 26/100\n",
            "210/210 [==============================] - 4s 17ms/step - loss: 0.4678 - accuracy: 0.8517 - val_loss: 0.5091 - val_accuracy: 0.8422\n",
            "Epoch 27/100\n",
            "210/210 [==============================] - 4s 17ms/step - loss: 0.4773 - accuracy: 0.8490 - val_loss: 0.4903 - val_accuracy: 0.8506\n",
            "Epoch 28/100\n",
            "210/210 [==============================] - 4s 17ms/step - loss: 0.4689 - accuracy: 0.8521 - val_loss: 0.4951 - val_accuracy: 0.8489\n",
            "Epoch 29/100\n",
            "210/210 [==============================] - 4s 17ms/step - loss: 0.4783 - accuracy: 0.8487 - val_loss: 0.4858 - val_accuracy: 0.8502\n",
            "Epoch 30/100\n",
            "210/210 [==============================] - 4s 17ms/step - loss: 0.4360 - accuracy: 0.8610 - val_loss: 0.4969 - val_accuracy: 0.8478\n",
            "Epoch 31/100\n",
            "210/210 [==============================] - 4s 17ms/step - loss: 0.4541 - accuracy: 0.8550 - val_loss: 0.5776 - val_accuracy: 0.8218\n",
            "Epoch 32/100\n",
            "210/210 [==============================] - 4s 17ms/step - loss: 0.4453 - accuracy: 0.8584 - val_loss: 0.5008 - val_accuracy: 0.8464\n",
            "Epoch 33/100\n",
            "210/210 [==============================] - 4s 17ms/step - loss: 0.4490 - accuracy: 0.8579 - val_loss: 0.5283 - val_accuracy: 0.8346\n",
            "Epoch 34/100\n",
            "210/210 [==============================] - 4s 18ms/step - loss: 0.4199 - accuracy: 0.8668 - val_loss: 0.5421 - val_accuracy: 0.8336\n",
            "Epoch 35/100\n",
            "210/210 [==============================] - 4s 17ms/step - loss: 0.4315 - accuracy: 0.8623 - val_loss: 0.4724 - val_accuracy: 0.8549\n",
            "Epoch 36/100\n",
            "210/210 [==============================] - 4s 17ms/step - loss: 0.4116 - accuracy: 0.8689 - val_loss: 0.4790 - val_accuracy: 0.8536\n",
            "Epoch 37/100\n",
            "210/210 [==============================] - 4s 17ms/step - loss: 0.4204 - accuracy: 0.8662 - val_loss: 0.4550 - val_accuracy: 0.8617\n",
            "Epoch 38/100\n",
            "210/210 [==============================] - 4s 17ms/step - loss: 0.4150 - accuracy: 0.8665 - val_loss: 0.4425 - val_accuracy: 0.8643\n",
            "Epoch 39/100\n",
            "210/210 [==============================] - 4s 17ms/step - loss: 0.4269 - accuracy: 0.8624 - val_loss: 0.4403 - val_accuracy: 0.8660\n",
            "Epoch 40/100\n",
            "210/210 [==============================] - 4s 17ms/step - loss: 0.3904 - accuracy: 0.8762 - val_loss: 0.5341 - val_accuracy: 0.8344\n",
            "Epoch 41/100\n",
            "210/210 [==============================] - 4s 17ms/step - loss: 0.4167 - accuracy: 0.8651 - val_loss: 0.4907 - val_accuracy: 0.8481\n",
            "Epoch 42/100\n",
            "210/210 [==============================] - 4s 17ms/step - loss: 0.4088 - accuracy: 0.8676 - val_loss: 0.4440 - val_accuracy: 0.8638\n",
            "Epoch 43/100\n",
            "210/210 [==============================] - 4s 17ms/step - loss: 0.4078 - accuracy: 0.8680 - val_loss: 0.4295 - val_accuracy: 0.8713\n",
            "Epoch 44/100\n",
            "210/210 [==============================] - 4s 17ms/step - loss: 0.3840 - accuracy: 0.8767 - val_loss: 0.4371 - val_accuracy: 0.8670\n",
            "Epoch 45/100\n",
            "210/210 [==============================] - 4s 17ms/step - loss: 0.3767 - accuracy: 0.8798 - val_loss: 0.4595 - val_accuracy: 0.8607\n",
            "Epoch 46/100\n",
            "210/210 [==============================] - 4s 17ms/step - loss: 0.3750 - accuracy: 0.8785 - val_loss: 0.3908 - val_accuracy: 0.8828\n",
            "Epoch 47/100\n",
            "210/210 [==============================] - 4s 17ms/step - loss: 0.3512 - accuracy: 0.8871 - val_loss: 0.4421 - val_accuracy: 0.8655\n",
            "Epoch 48/100\n",
            "210/210 [==============================] - 4s 17ms/step - loss: 0.3950 - accuracy: 0.8736 - val_loss: 0.4123 - val_accuracy: 0.8762\n",
            "Epoch 49/100\n",
            "210/210 [==============================] - 4s 17ms/step - loss: 0.3542 - accuracy: 0.8858 - val_loss: 0.4429 - val_accuracy: 0.8663\n",
            "Epoch 50/100\n",
            "210/210 [==============================] - 4s 17ms/step - loss: 0.3660 - accuracy: 0.8812 - val_loss: 0.4157 - val_accuracy: 0.8757\n",
            "Epoch 51/100\n",
            "210/210 [==============================] - 4s 17ms/step - loss: 0.3643 - accuracy: 0.8827 - val_loss: 0.4111 - val_accuracy: 0.8773\n",
            "Epoch 52/100\n",
            "210/210 [==============================] - 4s 17ms/step - loss: 0.3477 - accuracy: 0.8884 - val_loss: 0.4532 - val_accuracy: 0.8628\n",
            "Epoch 53/100\n",
            "210/210 [==============================] - 4s 18ms/step - loss: 0.3600 - accuracy: 0.8831 - val_loss: 0.4307 - val_accuracy: 0.8709\n",
            "Epoch 54/100\n",
            "210/210 [==============================] - 4s 18ms/step - loss: 0.3405 - accuracy: 0.8878 - val_loss: 0.4327 - val_accuracy: 0.8704\n",
            "Epoch 55/100\n",
            "210/210 [==============================] - 4s 18ms/step - loss: 0.3483 - accuracy: 0.8879 - val_loss: 0.4240 - val_accuracy: 0.8727\n",
            "Epoch 56/100\n",
            "210/210 [==============================] - 4s 18ms/step - loss: 0.3451 - accuracy: 0.8884 - val_loss: 0.4236 - val_accuracy: 0.8707\n",
            "Epoch 57/100\n",
            "210/210 [==============================] - 4s 18ms/step - loss: 0.3493 - accuracy: 0.8873 - val_loss: 0.4257 - val_accuracy: 0.8726\n",
            "Epoch 58/100\n",
            "210/210 [==============================] - 4s 17ms/step - loss: 0.3425 - accuracy: 0.8896 - val_loss: 0.4423 - val_accuracy: 0.8648\n",
            "Epoch 59/100\n",
            "210/210 [==============================] - 4s 17ms/step - loss: 0.3147 - accuracy: 0.8980 - val_loss: 0.4636 - val_accuracy: 0.8570\n",
            "Epoch 60/100\n",
            "210/210 [==============================] - 4s 17ms/step - loss: 0.3245 - accuracy: 0.8941 - val_loss: 0.3817 - val_accuracy: 0.8888\n",
            "Epoch 61/100\n",
            "210/210 [==============================] - 4s 17ms/step - loss: 0.3332 - accuracy: 0.8913 - val_loss: 0.4170 - val_accuracy: 0.8762\n",
            "Epoch 62/100\n",
            "210/210 [==============================] - 4s 17ms/step - loss: 0.3071 - accuracy: 0.9018 - val_loss: 0.3685 - val_accuracy: 0.8921\n",
            "Epoch 63/100\n",
            "210/210 [==============================] - 4s 17ms/step - loss: 0.3253 - accuracy: 0.8965 - val_loss: 0.3969 - val_accuracy: 0.8835\n",
            "Epoch 64/100\n",
            "210/210 [==============================] - 4s 17ms/step - loss: 0.3121 - accuracy: 0.8975 - val_loss: 0.4108 - val_accuracy: 0.8786\n",
            "Epoch 65/100\n",
            "210/210 [==============================] - 4s 17ms/step - loss: 0.3149 - accuracy: 0.8995 - val_loss: 0.4098 - val_accuracy: 0.8799\n",
            "Epoch 66/100\n",
            "210/210 [==============================] - 4s 17ms/step - loss: 0.3037 - accuracy: 0.9012 - val_loss: 0.4022 - val_accuracy: 0.8801\n",
            "Epoch 67/100\n",
            "210/210 [==============================] - 4s 17ms/step - loss: 0.3163 - accuracy: 0.8963 - val_loss: 0.4015 - val_accuracy: 0.8811\n",
            "Epoch 68/100\n",
            "210/210 [==============================] - 4s 17ms/step - loss: 0.3036 - accuracy: 0.9020 - val_loss: 0.4834 - val_accuracy: 0.8538\n",
            "Epoch 69/100\n",
            "210/210 [==============================] - 4s 17ms/step - loss: 0.3205 - accuracy: 0.8960 - val_loss: 0.4020 - val_accuracy: 0.8824\n",
            "Epoch 70/100\n",
            "210/210 [==============================] - 4s 17ms/step - loss: 0.2971 - accuracy: 0.9039 - val_loss: 0.3909 - val_accuracy: 0.8846\n",
            "Epoch 71/100\n",
            "210/210 [==============================] - 4s 17ms/step - loss: 0.2999 - accuracy: 0.9022 - val_loss: 0.4220 - val_accuracy: 0.8774\n",
            "Epoch 72/100\n",
            "210/210 [==============================] - 4s 17ms/step - loss: 0.2926 - accuracy: 0.9061 - val_loss: 0.3857 - val_accuracy: 0.8855\n",
            "Epoch 73/100\n",
            "210/210 [==============================] - 4s 18ms/step - loss: 0.3082 - accuracy: 0.8992 - val_loss: 0.3930 - val_accuracy: 0.8850\n",
            "Epoch 74/100\n",
            "210/210 [==============================] - 4s 17ms/step - loss: 0.2943 - accuracy: 0.9017 - val_loss: 0.4138 - val_accuracy: 0.8777\n",
            "Epoch 75/100\n",
            "210/210 [==============================] - 4s 17ms/step - loss: 0.2795 - accuracy: 0.9080 - val_loss: 0.4533 - val_accuracy: 0.8675\n",
            "Epoch 76/100\n",
            "210/210 [==============================] - 4s 17ms/step - loss: 0.2880 - accuracy: 0.9074 - val_loss: 0.4387 - val_accuracy: 0.8711\n",
            "Epoch 77/100\n",
            "210/210 [==============================] - 4s 17ms/step - loss: 0.2932 - accuracy: 0.9008 - val_loss: 0.3823 - val_accuracy: 0.8900\n",
            "Epoch 78/100\n",
            "210/210 [==============================] - 4s 17ms/step - loss: 0.2770 - accuracy: 0.9097 - val_loss: 0.3953 - val_accuracy: 0.8849\n",
            "Epoch 79/100\n",
            "210/210 [==============================] - 4s 17ms/step - loss: 0.2772 - accuracy: 0.9115 - val_loss: 0.3842 - val_accuracy: 0.8928\n",
            "Epoch 80/100\n",
            "210/210 [==============================] - 4s 17ms/step - loss: 0.2752 - accuracy: 0.9092 - val_loss: 0.3599 - val_accuracy: 0.8981\n",
            "Epoch 81/100\n",
            "210/210 [==============================] - 4s 18ms/step - loss: 0.2650 - accuracy: 0.9137 - val_loss: 0.3540 - val_accuracy: 0.8988\n",
            "Epoch 82/100\n",
            "210/210 [==============================] - 4s 17ms/step - loss: 0.2726 - accuracy: 0.9110 - val_loss: 0.4104 - val_accuracy: 0.8830\n",
            "Epoch 83/100\n",
            "210/210 [==============================] - 4s 17ms/step - loss: 0.2733 - accuracy: 0.9112 - val_loss: 0.3923 - val_accuracy: 0.8866\n",
            "Epoch 84/100\n",
            "210/210 [==============================] - 4s 18ms/step - loss: 0.2662 - accuracy: 0.9106 - val_loss: 0.4166 - val_accuracy: 0.8795\n",
            "Epoch 85/100\n",
            "210/210 [==============================] - 4s 18ms/step - loss: 0.2794 - accuracy: 0.9083 - val_loss: 0.3972 - val_accuracy: 0.8864\n",
            "Epoch 86/100\n",
            "210/210 [==============================] - 4s 17ms/step - loss: 0.2501 - accuracy: 0.9195 - val_loss: 0.3766 - val_accuracy: 0.8942\n",
            "Epoch 87/100\n",
            "210/210 [==============================] - 4s 17ms/step - loss: 0.2466 - accuracy: 0.9175 - val_loss: 0.4011 - val_accuracy: 0.8878\n",
            "Epoch 88/100\n",
            "210/210 [==============================] - 4s 17ms/step - loss: 0.2476 - accuracy: 0.9182 - val_loss: 0.4504 - val_accuracy: 0.8728\n",
            "Epoch 89/100\n",
            "210/210 [==============================] - 4s 17ms/step - loss: 0.2763 - accuracy: 0.9080 - val_loss: 0.4308 - val_accuracy: 0.8760\n",
            "Epoch 90/100\n",
            "210/210 [==============================] - 4s 17ms/step - loss: 0.2541 - accuracy: 0.9167 - val_loss: 0.3529 - val_accuracy: 0.9046\n",
            "Epoch 91/100\n",
            "210/210 [==============================] - 4s 18ms/step - loss: 0.2490 - accuracy: 0.9174 - val_loss: 0.4163 - val_accuracy: 0.8810\n",
            "Epoch 92/100\n",
            "210/210 [==============================] - 4s 17ms/step - loss: 0.2673 - accuracy: 0.9103 - val_loss: 0.3860 - val_accuracy: 0.8900\n",
            "Epoch 93/100\n",
            "210/210 [==============================] - 4s 17ms/step - loss: 0.2471 - accuracy: 0.9193 - val_loss: 0.3547 - val_accuracy: 0.9029\n",
            "Epoch 94/100\n",
            "210/210 [==============================] - 4s 17ms/step - loss: 0.2362 - accuracy: 0.9236 - val_loss: 0.3771 - val_accuracy: 0.8957\n",
            "Epoch 95/100\n",
            "210/210 [==============================] - 4s 17ms/step - loss: 0.2442 - accuracy: 0.9202 - val_loss: 0.3750 - val_accuracy: 0.8974\n",
            "Epoch 96/100\n",
            "210/210 [==============================] - 4s 17ms/step - loss: 0.2369 - accuracy: 0.9210 - val_loss: 0.4158 - val_accuracy: 0.8837\n",
            "Epoch 97/100\n",
            "210/210 [==============================] - 4s 17ms/step - loss: 0.2455 - accuracy: 0.9175 - val_loss: 0.3847 - val_accuracy: 0.8951\n",
            "Epoch 98/100\n",
            "210/210 [==============================] - 4s 17ms/step - loss: 0.2341 - accuracy: 0.9233 - val_loss: 0.3710 - val_accuracy: 0.9006\n",
            "Epoch 99/100\n",
            "210/210 [==============================] - 4s 17ms/step - loss: 0.2275 - accuracy: 0.9237 - val_loss: 0.3924 - val_accuracy: 0.8922\n",
            "Epoch 100/100\n",
            "210/210 [==============================] - 4s 17ms/step - loss: 0.2457 - accuracy: 0.9177 - val_loss: 0.4104 - val_accuracy: 0.8823\n"
          ],
          "name": "stdout"
        }
      ]
    },
    {
      "cell_type": "code",
      "metadata": {
        "colab": {
          "base_uri": "https://localhost:8080/"
        },
        "id": "YhIiQLZx1V3L",
        "outputId": "d0cb0678-ffb6-4fba-f649-6aa252567625"
      },
      "source": [
        "print('NN with weight initializers'); print('--'*40)\n",
        "results4 = model4.evaluate(X_val, y_val)\n",
        "print('Validation accuracy: {}'.format(round(results4[1]*100, 2), '%'))"
      ],
      "execution_count": 76,
      "outputs": [
        {
          "output_type": "stream",
          "text": [
            "NN with weight initializers\n",
            "--------------------------------------------------------------------------------\n",
            "1875/1875 [==============================] - 5s 3ms/step - loss: 0.4104 - accuracy: 0.8823\n",
            "Validation accuracy: 88.23\n"
          ],
          "name": "stdout"
        }
      ]
    },
    {
      "cell_type": "markdown",
      "metadata": {
        "id": "G8465ONn1das"
      },
      "source": [
        "**Observation:**\n",
        "\n",
        "*   Adding weight initialiers didn't result in improvement of score.\n",
        "*   ReLU activations, changing number of activators, Adam optimizers gives the best score out of the ones tried as of now.\n",
        "\n",
        "Let's try Batch Normalization\n",
        "\n"
      ]
    },
    {
      "cell_type": "markdown",
      "metadata": {
        "id": "1E81O8Su10hz"
      },
      "source": [
        "## **Batch Normalization**\n",
        "Batch Normalization, one of the methods to prevent the \"internal covariance shift\" problem, has proven to be highly effective. Normalize each mini-batch before nonlinearity.\n",
        "\n",
        "NN model, relu activations, SGD optimizers with weight initializers and batch normalization"
      ]
    },
    {
      "cell_type": "code",
      "metadata": {
        "colab": {
          "base_uri": "https://localhost:8080/"
        },
        "id": "2UzDjrSw1aSp",
        "outputId": "13f91656-6ddf-4a3a-b154-e6ea8c9ab3cc"
      },
      "source": [
        "print('NN model with batch normalization'); print('--'*40)\n",
        "# Initialize the neural network classifier\n",
        "model5 = Sequential()\n",
        "\n",
        "# Input Layer - adding input layer and activation functions relu and weight initializer\n",
        "model5.add(Dense(256, input_shape = (1024, ), kernel_initializer = 'he_normal'))\n",
        "# Adding batch normalization\n",
        "model5.add(BatchNormalization())\n",
        "# Adding activation function\n",
        "model5.add(Activation('relu'))\n",
        "\n",
        "#Hidden Layer 1 - adding first hidden layer\n",
        "model5.add(Dense(128, kernel_initializer = 'he_normal', bias_initializer = 'he_uniform'))\n",
        "# Adding batch normalization\n",
        "model5.add(BatchNormalization())\n",
        "# Adding activation function\n",
        "model5.add(Activation('relu'))\n",
        "\n",
        "#Hidden Layer 2 - adding second hidden layer\n",
        "model5.add(Dense(64, kernel_initializer = 'he_normal', bias_initializer = 'he_uniform'))\n",
        "# Adding batch normalization\n",
        "model5.add(BatchNormalization())\n",
        "# Adding activation function\n",
        "model5.add(Activation('relu'))\n",
        "\n",
        "#Hidden Layer 3 - adding third hidden layer\n",
        "model5.add(Dense(32, kernel_initializer = 'he_normal', bias_initializer = 'he_uniform'))\n",
        "# Adding batch normalization\n",
        "model5.add(BatchNormalization())\n",
        "# Adding activation function\n",
        "model5.add(Activation('relu'))\n",
        "\n",
        "# Output Layer - adding output layer which is of 10 nodes (digits)\n",
        "model5.add(Dense(10, kernel_initializer = 'he_normal', bias_initializer = 'he_uniform'))\n",
        "# Adding activation function\n",
        "model5.add(Activation('softmax'))"
      ],
      "execution_count": 77,
      "outputs": [
        {
          "output_type": "stream",
          "text": [
            "NN model with batch normalization\n",
            "--------------------------------------------------------------------------------\n"
          ],
          "name": "stdout"
        }
      ]
    },
    {
      "cell_type": "code",
      "metadata": {
        "colab": {
          "base_uri": "https://localhost:8080/"
        },
        "id": "sdBJeOPa2H8d",
        "outputId": "a71e1096-a09f-4b6d-f7c9-f6005c18ca7b"
      },
      "source": [
        "model5.summary()"
      ],
      "execution_count": 78,
      "outputs": [
        {
          "output_type": "stream",
          "text": [
            "Model: \"sequential_4\"\n",
            "_________________________________________________________________\n",
            "Layer (type)                 Output Shape              Param #   \n",
            "=================================================================\n",
            "dense_15 (Dense)             (None, 256)               262400    \n",
            "_________________________________________________________________\n",
            "batch_normalization (BatchNo (None, 256)               1024      \n",
            "_________________________________________________________________\n",
            "activation_15 (Activation)   (None, 256)               0         \n",
            "_________________________________________________________________\n",
            "dense_16 (Dense)             (None, 128)               32896     \n",
            "_________________________________________________________________\n",
            "batch_normalization_1 (Batch (None, 128)               512       \n",
            "_________________________________________________________________\n",
            "activation_16 (Activation)   (None, 128)               0         \n",
            "_________________________________________________________________\n",
            "dense_17 (Dense)             (None, 64)                8256      \n",
            "_________________________________________________________________\n",
            "batch_normalization_2 (Batch (None, 64)                256       \n",
            "_________________________________________________________________\n",
            "activation_17 (Activation)   (None, 64)                0         \n",
            "_________________________________________________________________\n",
            "dense_18 (Dense)             (None, 32)                2080      \n",
            "_________________________________________________________________\n",
            "batch_normalization_3 (Batch (None, 32)                128       \n",
            "_________________________________________________________________\n",
            "activation_18 (Activation)   (None, 32)                0         \n",
            "_________________________________________________________________\n",
            "dense_19 (Dense)             (None, 10)                330       \n",
            "_________________________________________________________________\n",
            "activation_19 (Activation)   (None, 10)                0         \n",
            "=================================================================\n",
            "Total params: 307,882\n",
            "Trainable params: 306,922\n",
            "Non-trainable params: 960\n",
            "_________________________________________________________________\n"
          ],
          "name": "stdout"
        }
      ]
    },
    {
      "cell_type": "code",
      "metadata": {
        "colab": {
          "base_uri": "https://localhost:8080/"
        },
        "id": "NlZb1Syq2K9Q",
        "outputId": "ce876f66-abdc-41dc-d1ad-afdc0e71b095"
      },
      "source": [
        "# compiling the neural network classifier, sgd optimizer\n",
        "sgd = optimizers.SGD(lr = 0.01)\n",
        "# Adding activation function - softmax for multiclass classification\n",
        "model5.compile(optimizer = sgd, loss = 'categorical_crossentropy', metrics = ['accuracy'])\n",
        "\n",
        "# Fitting the neural network for training\n",
        "history = model5.fit(X_train, y_train, validation_data = (X_val, y_val), batch_size = 200, epochs = 100, verbose = 1)"
      ],
      "execution_count": 79,
      "outputs": [
        {
          "output_type": "stream",
          "text": [
            "Epoch 1/100\n",
            "210/210 [==============================] - 5s 20ms/step - loss: 2.4738 - accuracy: 0.1502 - val_loss: 2.2160 - val_accuracy: 0.2208\n",
            "Epoch 2/100\n",
            "210/210 [==============================] - 4s 18ms/step - loss: 1.9336 - accuracy: 0.3419 - val_loss: 1.8018 - val_accuracy: 0.4123\n",
            "Epoch 3/100\n",
            "210/210 [==============================] - 4s 19ms/step - loss: 1.6274 - accuracy: 0.4837 - val_loss: 1.5493 - val_accuracy: 0.5087\n",
            "Epoch 4/100\n",
            "210/210 [==============================] - 4s 19ms/step - loss: 1.4170 - accuracy: 0.5659 - val_loss: 1.3813 - val_accuracy: 0.5732\n",
            "Epoch 5/100\n",
            "210/210 [==============================] - 4s 19ms/step - loss: 1.2611 - accuracy: 0.6217 - val_loss: 1.2302 - val_accuracy: 0.6233\n",
            "Epoch 6/100\n",
            "210/210 [==============================] - 4s 19ms/step - loss: 1.1453 - accuracy: 0.6573 - val_loss: 1.1797 - val_accuracy: 0.6337\n",
            "Epoch 7/100\n",
            "210/210 [==============================] - 4s 19ms/step - loss: 1.0531 - accuracy: 0.6848 - val_loss: 1.1204 - val_accuracy: 0.6531\n",
            "Epoch 8/100\n",
            "210/210 [==============================] - 4s 19ms/step - loss: 0.9889 - accuracy: 0.7032 - val_loss: 1.0916 - val_accuracy: 0.6571\n",
            "Epoch 9/100\n",
            "210/210 [==============================] - 4s 19ms/step - loss: 0.9332 - accuracy: 0.7173 - val_loss: 0.9644 - val_accuracy: 0.7008\n",
            "Epoch 10/100\n",
            "210/210 [==============================] - 4s 19ms/step - loss: 0.8907 - accuracy: 0.7306 - val_loss: 0.9244 - val_accuracy: 0.7134\n",
            "Epoch 11/100\n",
            "210/210 [==============================] - 4s 19ms/step - loss: 0.8387 - accuracy: 0.7451 - val_loss: 0.9139 - val_accuracy: 0.7165\n",
            "Epoch 12/100\n",
            "210/210 [==============================] - 4s 19ms/step - loss: 0.8076 - accuracy: 0.7547 - val_loss: 0.9292 - val_accuracy: 0.7106\n",
            "Epoch 13/100\n",
            "210/210 [==============================] - 4s 19ms/step - loss: 0.7708 - accuracy: 0.7622 - val_loss: 0.9007 - val_accuracy: 0.7157\n",
            "Epoch 14/100\n",
            "210/210 [==============================] - 4s 19ms/step - loss: 0.7450 - accuracy: 0.7756 - val_loss: 0.9610 - val_accuracy: 0.6926\n",
            "Epoch 15/100\n",
            "210/210 [==============================] - 4s 19ms/step - loss: 0.7151 - accuracy: 0.7777 - val_loss: 0.9401 - val_accuracy: 0.7001\n",
            "Epoch 16/100\n",
            "210/210 [==============================] - 4s 19ms/step - loss: 0.6927 - accuracy: 0.7866 - val_loss: 0.8212 - val_accuracy: 0.7439\n",
            "Epoch 17/100\n",
            "210/210 [==============================] - 4s 18ms/step - loss: 0.6709 - accuracy: 0.7950 - val_loss: 0.9943 - val_accuracy: 0.6885\n",
            "Epoch 18/100\n",
            "210/210 [==============================] - 4s 18ms/step - loss: 0.6592 - accuracy: 0.7976 - val_loss: 0.8747 - val_accuracy: 0.7284\n",
            "Epoch 19/100\n",
            "210/210 [==============================] - 4s 18ms/step - loss: 0.6283 - accuracy: 0.8065 - val_loss: 0.8666 - val_accuracy: 0.7313\n",
            "Epoch 20/100\n",
            "210/210 [==============================] - 4s 19ms/step - loss: 0.6195 - accuracy: 0.8096 - val_loss: 0.7985 - val_accuracy: 0.7495\n",
            "Epoch 21/100\n",
            "210/210 [==============================] - 4s 18ms/step - loss: 0.5937 - accuracy: 0.8151 - val_loss: 0.7552 - val_accuracy: 0.7602\n",
            "Epoch 22/100\n",
            "210/210 [==============================] - 4s 18ms/step - loss: 0.5808 - accuracy: 0.8218 - val_loss: 0.8026 - val_accuracy: 0.7488\n",
            "Epoch 23/100\n",
            "210/210 [==============================] - 4s 19ms/step - loss: 0.5677 - accuracy: 0.8222 - val_loss: 0.8387 - val_accuracy: 0.7341\n",
            "Epoch 24/100\n",
            "210/210 [==============================] - 4s 18ms/step - loss: 0.5479 - accuracy: 0.8311 - val_loss: 0.9163 - val_accuracy: 0.7165\n",
            "Epoch 25/100\n",
            "210/210 [==============================] - 4s 18ms/step - loss: 0.5362 - accuracy: 0.8330 - val_loss: 1.1330 - val_accuracy: 0.6772\n",
            "Epoch 26/100\n",
            "210/210 [==============================] - 4s 19ms/step - loss: 0.5281 - accuracy: 0.8359 - val_loss: 0.7263 - val_accuracy: 0.7724\n",
            "Epoch 27/100\n",
            "210/210 [==============================] - 4s 18ms/step - loss: 0.5125 - accuracy: 0.8414 - val_loss: 0.7824 - val_accuracy: 0.7533\n",
            "Epoch 28/100\n",
            "210/210 [==============================] - 4s 19ms/step - loss: 0.4993 - accuracy: 0.8459 - val_loss: 0.9306 - val_accuracy: 0.7129\n",
            "Epoch 29/100\n",
            "210/210 [==============================] - 4s 19ms/step - loss: 0.4955 - accuracy: 0.8468 - val_loss: 0.9731 - val_accuracy: 0.7047\n",
            "Epoch 30/100\n",
            "210/210 [==============================] - 4s 19ms/step - loss: 0.4815 - accuracy: 0.8525 - val_loss: 0.6472 - val_accuracy: 0.7962\n",
            "Epoch 31/100\n",
            "210/210 [==============================] - 4s 19ms/step - loss: 0.4758 - accuracy: 0.8531 - val_loss: 0.8410 - val_accuracy: 0.7441\n",
            "Epoch 32/100\n",
            "210/210 [==============================] - 4s 19ms/step - loss: 0.4595 - accuracy: 0.8594 - val_loss: 0.7177 - val_accuracy: 0.7721\n",
            "Epoch 33/100\n",
            "210/210 [==============================] - 4s 19ms/step - loss: 0.4594 - accuracy: 0.8591 - val_loss: 0.7094 - val_accuracy: 0.7734\n",
            "Epoch 34/100\n",
            "210/210 [==============================] - 4s 19ms/step - loss: 0.4396 - accuracy: 0.8638 - val_loss: 0.8067 - val_accuracy: 0.7538\n",
            "Epoch 35/100\n",
            "210/210 [==============================] - 4s 19ms/step - loss: 0.4379 - accuracy: 0.8642 - val_loss: 0.8316 - val_accuracy: 0.7430\n",
            "Epoch 36/100\n",
            "210/210 [==============================] - 4s 19ms/step - loss: 0.4239 - accuracy: 0.8696 - val_loss: 0.6568 - val_accuracy: 0.7928\n",
            "Epoch 37/100\n",
            "210/210 [==============================] - 4s 19ms/step - loss: 0.4138 - accuracy: 0.8721 - val_loss: 0.6513 - val_accuracy: 0.7966\n",
            "Epoch 38/100\n",
            "210/210 [==============================] - 4s 19ms/step - loss: 0.4177 - accuracy: 0.8706 - val_loss: 0.7677 - val_accuracy: 0.7567\n",
            "Epoch 39/100\n",
            "210/210 [==============================] - 4s 19ms/step - loss: 0.4051 - accuracy: 0.8750 - val_loss: 0.7790 - val_accuracy: 0.7575\n",
            "Epoch 40/100\n",
            "210/210 [==============================] - 4s 19ms/step - loss: 0.4012 - accuracy: 0.8776 - val_loss: 0.6443 - val_accuracy: 0.7983\n",
            "Epoch 41/100\n",
            "210/210 [==============================] - 4s 19ms/step - loss: 0.3882 - accuracy: 0.8799 - val_loss: 0.6283 - val_accuracy: 0.8001\n",
            "Epoch 42/100\n",
            "210/210 [==============================] - 4s 18ms/step - loss: 0.3872 - accuracy: 0.8798 - val_loss: 1.1654 - val_accuracy: 0.6830\n",
            "Epoch 43/100\n",
            "210/210 [==============================] - 4s 18ms/step - loss: 0.3706 - accuracy: 0.8881 - val_loss: 0.6613 - val_accuracy: 0.7943\n",
            "Epoch 44/100\n",
            "210/210 [==============================] - 4s 19ms/step - loss: 0.3737 - accuracy: 0.8852 - val_loss: 0.6025 - val_accuracy: 0.8149\n",
            "Epoch 45/100\n",
            "210/210 [==============================] - 4s 19ms/step - loss: 0.3592 - accuracy: 0.8882 - val_loss: 1.1373 - val_accuracy: 0.6967\n",
            "Epoch 46/100\n",
            "210/210 [==============================] - 4s 19ms/step - loss: 0.3526 - accuracy: 0.8939 - val_loss: 0.7095 - val_accuracy: 0.7768\n",
            "Epoch 47/100\n",
            "210/210 [==============================] - 4s 19ms/step - loss: 0.3569 - accuracy: 0.8895 - val_loss: 0.6617 - val_accuracy: 0.7906\n",
            "Epoch 48/100\n",
            "210/210 [==============================] - 4s 19ms/step - loss: 0.3524 - accuracy: 0.8891 - val_loss: 0.7179 - val_accuracy: 0.7822\n",
            "Epoch 49/100\n",
            "210/210 [==============================] - 4s 19ms/step - loss: 0.3355 - accuracy: 0.8959 - val_loss: 0.5571 - val_accuracy: 0.8310\n",
            "Epoch 50/100\n",
            "210/210 [==============================] - 4s 19ms/step - loss: 0.3371 - accuracy: 0.8976 - val_loss: 0.7391 - val_accuracy: 0.7846\n",
            "Epoch 51/100\n",
            "210/210 [==============================] - 4s 19ms/step - loss: 0.3453 - accuracy: 0.8944 - val_loss: 0.7923 - val_accuracy: 0.7679\n",
            "Epoch 52/100\n",
            "210/210 [==============================] - 4s 19ms/step - loss: 0.3340 - accuracy: 0.8962 - val_loss: 0.5712 - val_accuracy: 0.8221\n",
            "Epoch 53/100\n",
            "210/210 [==============================] - 4s 19ms/step - loss: 0.3205 - accuracy: 0.9016 - val_loss: 0.8397 - val_accuracy: 0.7495\n",
            "Epoch 54/100\n",
            "210/210 [==============================] - 4s 19ms/step - loss: 0.3172 - accuracy: 0.9035 - val_loss: 0.6153 - val_accuracy: 0.8083\n",
            "Epoch 55/100\n",
            "210/210 [==============================] - 4s 19ms/step - loss: 0.3241 - accuracy: 0.8988 - val_loss: 1.2984 - val_accuracy: 0.6625\n",
            "Epoch 56/100\n",
            "210/210 [==============================] - 4s 19ms/step - loss: 0.3057 - accuracy: 0.9058 - val_loss: 2.5086 - val_accuracy: 0.5250\n",
            "Epoch 57/100\n",
            "210/210 [==============================] - 4s 19ms/step - loss: 0.3042 - accuracy: 0.9081 - val_loss: 0.7751 - val_accuracy: 0.7760\n",
            "Epoch 58/100\n",
            "210/210 [==============================] - 4s 19ms/step - loss: 0.2948 - accuracy: 0.9093 - val_loss: 0.6391 - val_accuracy: 0.8100\n",
            "Epoch 59/100\n",
            "210/210 [==============================] - 4s 19ms/step - loss: 0.2909 - accuracy: 0.9111 - val_loss: 0.6850 - val_accuracy: 0.8002\n",
            "Epoch 60/100\n",
            "210/210 [==============================] - 4s 19ms/step - loss: 0.2965 - accuracy: 0.9075 - val_loss: 1.0782 - val_accuracy: 0.7264\n",
            "Epoch 61/100\n",
            "210/210 [==============================] - 4s 19ms/step - loss: 0.2877 - accuracy: 0.9122 - val_loss: 0.5412 - val_accuracy: 0.8343\n",
            "Epoch 62/100\n",
            "210/210 [==============================] - 4s 19ms/step - loss: 0.2769 - accuracy: 0.9179 - val_loss: 0.5675 - val_accuracy: 0.8267\n",
            "Epoch 63/100\n",
            "210/210 [==============================] - 4s 18ms/step - loss: 0.2828 - accuracy: 0.9143 - val_loss: 0.5951 - val_accuracy: 0.8156\n",
            "Epoch 64/100\n",
            "210/210 [==============================] - 4s 19ms/step - loss: 0.2784 - accuracy: 0.9142 - val_loss: 0.6195 - val_accuracy: 0.8139\n",
            "Epoch 65/100\n",
            "210/210 [==============================] - 4s 18ms/step - loss: 0.2723 - accuracy: 0.9175 - val_loss: 0.5720 - val_accuracy: 0.8255\n",
            "Epoch 66/100\n",
            "210/210 [==============================] - 4s 18ms/step - loss: 0.2621 - accuracy: 0.9214 - val_loss: 0.7653 - val_accuracy: 0.7821\n",
            "Epoch 67/100\n",
            "210/210 [==============================] - 4s 18ms/step - loss: 0.2562 - accuracy: 0.9231 - val_loss: 0.7636 - val_accuracy: 0.7850\n",
            "Epoch 68/100\n",
            "210/210 [==============================] - 4s 18ms/step - loss: 0.2637 - accuracy: 0.9212 - val_loss: 0.6995 - val_accuracy: 0.7971\n",
            "Epoch 69/100\n",
            "210/210 [==============================] - 4s 18ms/step - loss: 0.2590 - accuracy: 0.9209 - val_loss: 0.5984 - val_accuracy: 0.8194\n",
            "Epoch 70/100\n",
            "210/210 [==============================] - 4s 19ms/step - loss: 0.2524 - accuracy: 0.9227 - val_loss: 1.0150 - val_accuracy: 0.7333\n",
            "Epoch 71/100\n",
            "210/210 [==============================] - 4s 19ms/step - loss: 0.2465 - accuracy: 0.9262 - val_loss: 0.5391 - val_accuracy: 0.8372\n",
            "Epoch 72/100\n",
            "210/210 [==============================] - 4s 19ms/step - loss: 0.2485 - accuracy: 0.9246 - val_loss: 0.5369 - val_accuracy: 0.8385\n",
            "Epoch 73/100\n",
            "210/210 [==============================] - 4s 19ms/step - loss: 0.2402 - accuracy: 0.9271 - val_loss: 0.5525 - val_accuracy: 0.8328\n",
            "Epoch 74/100\n",
            "210/210 [==============================] - 4s 19ms/step - loss: 0.2365 - accuracy: 0.9300 - val_loss: 0.5519 - val_accuracy: 0.8340\n",
            "Epoch 75/100\n",
            "210/210 [==============================] - 4s 19ms/step - loss: 0.2365 - accuracy: 0.9265 - val_loss: 0.6648 - val_accuracy: 0.8041\n",
            "Epoch 76/100\n",
            "210/210 [==============================] - 4s 19ms/step - loss: 0.2361 - accuracy: 0.9283 - val_loss: 0.4782 - val_accuracy: 0.8571\n",
            "Epoch 77/100\n",
            "210/210 [==============================] - 4s 19ms/step - loss: 0.2306 - accuracy: 0.9303 - val_loss: 0.5365 - val_accuracy: 0.8403\n",
            "Epoch 78/100\n",
            "210/210 [==============================] - 4s 19ms/step - loss: 0.2330 - accuracy: 0.9314 - val_loss: 0.6596 - val_accuracy: 0.8098\n",
            "Epoch 79/100\n",
            "210/210 [==============================] - 4s 19ms/step - loss: 0.2284 - accuracy: 0.9310 - val_loss: 0.7573 - val_accuracy: 0.7840\n",
            "Epoch 80/100\n",
            "210/210 [==============================] - 4s 19ms/step - loss: 0.2122 - accuracy: 0.9365 - val_loss: 0.5213 - val_accuracy: 0.8443\n",
            "Epoch 81/100\n",
            "210/210 [==============================] - 4s 19ms/step - loss: 0.2243 - accuracy: 0.9325 - val_loss: 0.4998 - val_accuracy: 0.8534\n",
            "Epoch 82/100\n",
            "210/210 [==============================] - 4s 19ms/step - loss: 0.2124 - accuracy: 0.9374 - val_loss: 0.5673 - val_accuracy: 0.8331\n",
            "Epoch 83/100\n",
            "210/210 [==============================] - 4s 19ms/step - loss: 0.2170 - accuracy: 0.9335 - val_loss: 0.5825 - val_accuracy: 0.8282\n",
            "Epoch 84/100\n",
            "210/210 [==============================] - 4s 18ms/step - loss: 0.2116 - accuracy: 0.9324 - val_loss: 0.6037 - val_accuracy: 0.8223\n",
            "Epoch 85/100\n",
            "210/210 [==============================] - 4s 18ms/step - loss: 0.2120 - accuracy: 0.9339 - val_loss: 0.7147 - val_accuracy: 0.8078\n",
            "Epoch 86/100\n",
            "210/210 [==============================] - 4s 19ms/step - loss: 0.2072 - accuracy: 0.9359 - val_loss: 0.5619 - val_accuracy: 0.8320\n",
            "Epoch 87/100\n",
            "210/210 [==============================] - 4s 19ms/step - loss: 0.2070 - accuracy: 0.9374 - val_loss: 0.6372 - val_accuracy: 0.8151\n",
            "Epoch 88/100\n",
            "210/210 [==============================] - 4s 19ms/step - loss: 0.2079 - accuracy: 0.9380 - val_loss: 0.4769 - val_accuracy: 0.8605\n",
            "Epoch 89/100\n",
            "210/210 [==============================] - 4s 19ms/step - loss: 0.1979 - accuracy: 0.9413 - val_loss: 0.5679 - val_accuracy: 0.8379\n",
            "Epoch 90/100\n",
            "210/210 [==============================] - 4s 19ms/step - loss: 0.1906 - accuracy: 0.9420 - val_loss: 0.7124 - val_accuracy: 0.7992\n",
            "Epoch 91/100\n",
            "210/210 [==============================] - 4s 19ms/step - loss: 0.1925 - accuracy: 0.9421 - val_loss: 0.5101 - val_accuracy: 0.8463\n",
            "Epoch 92/100\n",
            "210/210 [==============================] - 4s 20ms/step - loss: 0.1896 - accuracy: 0.9437 - val_loss: 0.5542 - val_accuracy: 0.8402\n",
            "Epoch 93/100\n",
            "210/210 [==============================] - 4s 20ms/step - loss: 0.1787 - accuracy: 0.9467 - val_loss: 0.6299 - val_accuracy: 0.8303\n",
            "Epoch 94/100\n",
            "210/210 [==============================] - 4s 19ms/step - loss: 0.1818 - accuracy: 0.9451 - val_loss: 0.6389 - val_accuracy: 0.8202\n",
            "Epoch 95/100\n",
            "210/210 [==============================] - 4s 19ms/step - loss: 0.1802 - accuracy: 0.9454 - val_loss: 0.5778 - val_accuracy: 0.8332\n",
            "Epoch 96/100\n",
            "210/210 [==============================] - 4s 19ms/step - loss: 0.1776 - accuracy: 0.9443 - val_loss: 0.5887 - val_accuracy: 0.8347\n",
            "Epoch 97/100\n",
            "210/210 [==============================] - 4s 19ms/step - loss: 0.1775 - accuracy: 0.9460 - val_loss: 0.6191 - val_accuracy: 0.8226\n",
            "Epoch 98/100\n",
            "210/210 [==============================] - 4s 19ms/step - loss: 0.1758 - accuracy: 0.9460 - val_loss: 0.7422 - val_accuracy: 0.8011\n",
            "Epoch 99/100\n",
            "210/210 [==============================] - 4s 19ms/step - loss: 0.1712 - accuracy: 0.9494 - val_loss: 0.5084 - val_accuracy: 0.8577\n",
            "Epoch 100/100\n",
            "210/210 [==============================] - 4s 19ms/step - loss: 0.1691 - accuracy: 0.9484 - val_loss: 0.5233 - val_accuracy: 0.8529\n"
          ],
          "name": "stdout"
        }
      ]
    },
    {
      "cell_type": "code",
      "metadata": {
        "colab": {
          "base_uri": "https://localhost:8080/"
        },
        "id": "Y5IjvNEE2OMl",
        "outputId": "756942ff-41b9-48e3-ad72-d3dacf21211d"
      },
      "source": [
        "print('NN with batch normalization'); print('--'*40)\n",
        "results5 = model5.evaluate(X_val, y_val)\n",
        "print('Validation accuracy: {}'.format(round(results5[1]*100, 2), '%'))"
      ],
      "execution_count": 80,
      "outputs": [
        {
          "output_type": "stream",
          "text": [
            "NN with batch normalization\n",
            "--------------------------------------------------------------------------------\n",
            "1875/1875 [==============================] - 6s 3ms/step - loss: 0.5233 - accuracy: 0.8529\n",
            "Validation accuracy: 85.29\n"
          ],
          "name": "stdout"
        }
      ]
    },
    {
      "cell_type": "markdown",
      "metadata": {
        "id": "wnZ8lqR52VP4"
      },
      "source": [
        "**NN model, ReLU activations, Adam optimizers with weight initializers and batch normalization**"
      ]
    },
    {
      "cell_type": "code",
      "metadata": {
        "colab": {
          "base_uri": "https://localhost:8080/"
        },
        "id": "ro3t-gFJ2SIo",
        "outputId": "b1725369-3a45-4d62-ded6-12936c784a2a"
      },
      "source": [
        "# compiling the neural network classifier, adam optimizer\n",
        "adam = optimizers.Adam(lr = 0.001)\n",
        "# Adding activation function - softmax for multiclass classification\n",
        "model5.compile(optimizer = adam, loss = 'categorical_crossentropy', metrics = ['accuracy'])\n",
        "\n",
        "# Fitting the neural network for training\n",
        "history = model5.fit(X_train, y_train, validation_data = (X_val, y_val), batch_size = 200, epochs = 100, verbose = 1)"
      ],
      "execution_count": 81,
      "outputs": [
        {
          "output_type": "stream",
          "text": [
            "Epoch 1/100\n",
            "210/210 [==============================] - 6s 20ms/step - loss: 0.8799 - accuracy: 0.7454 - val_loss: 4.0018 - val_accuracy: 0.3689\n",
            "Epoch 2/100\n",
            "210/210 [==============================] - 4s 19ms/step - loss: 0.5694 - accuracy: 0.8159 - val_loss: 1.9536 - val_accuracy: 0.4557\n",
            "Epoch 3/100\n",
            "210/210 [==============================] - 4s 19ms/step - loss: 0.5365 - accuracy: 0.8280 - val_loss: 1.4517 - val_accuracy: 0.5662\n",
            "Epoch 4/100\n",
            "210/210 [==============================] - 4s 19ms/step - loss: 0.4818 - accuracy: 0.8431 - val_loss: 1.5266 - val_accuracy: 0.5638\n",
            "Epoch 5/100\n",
            "210/210 [==============================] - 4s 19ms/step - loss: 0.4604 - accuracy: 0.8517 - val_loss: 1.1952 - val_accuracy: 0.5969\n",
            "Epoch 6/100\n",
            "210/210 [==============================] - 4s 19ms/step - loss: 0.4360 - accuracy: 0.8597 - val_loss: 1.6678 - val_accuracy: 0.5344\n",
            "Epoch 7/100\n",
            "210/210 [==============================] - 4s 19ms/step - loss: 0.4063 - accuracy: 0.8684 - val_loss: 1.4184 - val_accuracy: 0.6083\n",
            "Epoch 8/100\n",
            "210/210 [==============================] - 4s 19ms/step - loss: 0.3859 - accuracy: 0.8750 - val_loss: 1.5037 - val_accuracy: 0.5767\n",
            "Epoch 9/100\n",
            "210/210 [==============================] - 4s 20ms/step - loss: 0.3858 - accuracy: 0.8758 - val_loss: 1.5134 - val_accuracy: 0.5879\n",
            "Epoch 10/100\n",
            "210/210 [==============================] - 4s 19ms/step - loss: 0.3734 - accuracy: 0.8796 - val_loss: 1.1029 - val_accuracy: 0.6593\n",
            "Epoch 11/100\n",
            "210/210 [==============================] - 4s 19ms/step - loss: 0.3563 - accuracy: 0.8859 - val_loss: 1.0725 - val_accuracy: 0.6717\n",
            "Epoch 12/100\n",
            "210/210 [==============================] - 4s 19ms/step - loss: 0.3435 - accuracy: 0.8875 - val_loss: 1.5664 - val_accuracy: 0.5732\n",
            "Epoch 13/100\n",
            "210/210 [==============================] - 4s 19ms/step - loss: 0.3393 - accuracy: 0.8897 - val_loss: 1.2126 - val_accuracy: 0.6393\n",
            "Epoch 14/100\n",
            "210/210 [==============================] - 4s 19ms/step - loss: 0.3206 - accuracy: 0.8966 - val_loss: 1.7822 - val_accuracy: 0.5769\n",
            "Epoch 15/100\n",
            "210/210 [==============================] - 4s 20ms/step - loss: 0.3214 - accuracy: 0.8955 - val_loss: 1.3541 - val_accuracy: 0.6197\n",
            "Epoch 16/100\n",
            "210/210 [==============================] - 4s 20ms/step - loss: 0.3150 - accuracy: 0.8978 - val_loss: 0.9177 - val_accuracy: 0.7175\n",
            "Epoch 17/100\n",
            "210/210 [==============================] - 4s 21ms/step - loss: 0.2998 - accuracy: 0.9039 - val_loss: 1.4925 - val_accuracy: 0.6016\n",
            "Epoch 18/100\n",
            "210/210 [==============================] - 4s 20ms/step - loss: 0.2991 - accuracy: 0.9020 - val_loss: 0.7876 - val_accuracy: 0.7496\n",
            "Epoch 19/100\n",
            "210/210 [==============================] - 4s 20ms/step - loss: 0.2881 - accuracy: 0.9070 - val_loss: 1.2688 - val_accuracy: 0.6638\n",
            "Epoch 20/100\n",
            "210/210 [==============================] - 4s 20ms/step - loss: 0.2770 - accuracy: 0.9104 - val_loss: 1.2842 - val_accuracy: 0.6253\n",
            "Epoch 21/100\n",
            "210/210 [==============================] - 4s 20ms/step - loss: 0.2791 - accuracy: 0.9081 - val_loss: 1.3821 - val_accuracy: 0.6152\n",
            "Epoch 22/100\n",
            "210/210 [==============================] - 4s 20ms/step - loss: 0.2633 - accuracy: 0.9161 - val_loss: 1.0403 - val_accuracy: 0.6942\n",
            "Epoch 23/100\n",
            "210/210 [==============================] - 4s 20ms/step - loss: 0.2506 - accuracy: 0.9191 - val_loss: 1.1537 - val_accuracy: 0.7018\n",
            "Epoch 24/100\n",
            "210/210 [==============================] - 4s 19ms/step - loss: 0.2464 - accuracy: 0.9196 - val_loss: 0.8330 - val_accuracy: 0.7660\n",
            "Epoch 25/100\n",
            "210/210 [==============================] - 4s 19ms/step - loss: 0.2428 - accuracy: 0.9205 - val_loss: 1.1624 - val_accuracy: 0.6759\n",
            "Epoch 26/100\n",
            "210/210 [==============================] - 4s 19ms/step - loss: 0.2266 - accuracy: 0.9280 - val_loss: 1.0431 - val_accuracy: 0.7129\n",
            "Epoch 27/100\n",
            "210/210 [==============================] - 4s 19ms/step - loss: 0.2236 - accuracy: 0.9282 - val_loss: 1.6539 - val_accuracy: 0.6207\n",
            "Epoch 28/100\n",
            "210/210 [==============================] - 4s 19ms/step - loss: 0.2216 - accuracy: 0.9285 - val_loss: 1.0635 - val_accuracy: 0.6990\n",
            "Epoch 29/100\n",
            "210/210 [==============================] - 4s 19ms/step - loss: 0.2046 - accuracy: 0.9355 - val_loss: 1.5488 - val_accuracy: 0.6486\n",
            "Epoch 30/100\n",
            "210/210 [==============================] - 4s 19ms/step - loss: 0.2048 - accuracy: 0.9318 - val_loss: 1.1470 - val_accuracy: 0.7020\n",
            "Epoch 31/100\n",
            "210/210 [==============================] - 4s 19ms/step - loss: 0.2132 - accuracy: 0.9294 - val_loss: 1.1728 - val_accuracy: 0.7021\n",
            "Epoch 32/100\n",
            "210/210 [==============================] - 4s 19ms/step - loss: 0.2156 - accuracy: 0.9306 - val_loss: 1.1069 - val_accuracy: 0.7106\n",
            "Epoch 33/100\n",
            "210/210 [==============================] - 4s 20ms/step - loss: 0.1872 - accuracy: 0.9400 - val_loss: 0.9083 - val_accuracy: 0.7524\n",
            "Epoch 34/100\n",
            "210/210 [==============================] - 4s 20ms/step - loss: 0.1794 - accuracy: 0.9408 - val_loss: 1.4811 - val_accuracy: 0.6622\n",
            "Epoch 35/100\n",
            "210/210 [==============================] - 4s 20ms/step - loss: 0.1919 - accuracy: 0.9371 - val_loss: 1.0956 - val_accuracy: 0.7197\n",
            "Epoch 36/100\n",
            "210/210 [==============================] - 4s 20ms/step - loss: 0.1907 - accuracy: 0.9378 - val_loss: 1.0875 - val_accuracy: 0.7132\n",
            "Epoch 37/100\n",
            "210/210 [==============================] - 4s 20ms/step - loss: 0.1794 - accuracy: 0.9410 - val_loss: 0.9777 - val_accuracy: 0.7388\n",
            "Epoch 38/100\n",
            "210/210 [==============================] - 4s 20ms/step - loss: 0.1824 - accuracy: 0.9394 - val_loss: 1.0976 - val_accuracy: 0.7239\n",
            "Epoch 39/100\n",
            "210/210 [==============================] - 4s 20ms/step - loss: 0.1737 - accuracy: 0.9430 - val_loss: 0.7905 - val_accuracy: 0.7840\n",
            "Epoch 40/100\n",
            "210/210 [==============================] - 4s 20ms/step - loss: 0.1632 - accuracy: 0.9481 - val_loss: 1.5093 - val_accuracy: 0.6772\n",
            "Epoch 41/100\n",
            "210/210 [==============================] - 4s 20ms/step - loss: 0.1667 - accuracy: 0.9447 - val_loss: 1.2550 - val_accuracy: 0.7085\n",
            "Epoch 42/100\n",
            "210/210 [==============================] - 4s 20ms/step - loss: 0.1546 - accuracy: 0.9484 - val_loss: 1.1234 - val_accuracy: 0.7296\n",
            "Epoch 43/100\n",
            "210/210 [==============================] - 4s 20ms/step - loss: 0.1521 - accuracy: 0.9508 - val_loss: 1.1578 - val_accuracy: 0.7149\n",
            "Epoch 44/100\n",
            "210/210 [==============================] - 4s 20ms/step - loss: 0.1595 - accuracy: 0.9475 - val_loss: 1.2534 - val_accuracy: 0.7269\n",
            "Epoch 45/100\n",
            "210/210 [==============================] - 4s 20ms/step - loss: 0.1588 - accuracy: 0.9480 - val_loss: 1.0752 - val_accuracy: 0.7448\n",
            "Epoch 46/100\n",
            "210/210 [==============================] - 4s 20ms/step - loss: 0.1410 - accuracy: 0.9535 - val_loss: 1.6254 - val_accuracy: 0.6601\n",
            "Epoch 47/100\n",
            "210/210 [==============================] - 4s 20ms/step - loss: 0.1549 - accuracy: 0.9486 - val_loss: 0.9235 - val_accuracy: 0.7695\n",
            "Epoch 48/100\n",
            "210/210 [==============================] - 4s 20ms/step - loss: 0.1436 - accuracy: 0.9518 - val_loss: 0.6784 - val_accuracy: 0.8106\n",
            "Epoch 49/100\n",
            "210/210 [==============================] - 4s 19ms/step - loss: 0.1508 - accuracy: 0.9507 - val_loss: 1.1589 - val_accuracy: 0.7451\n",
            "Epoch 50/100\n",
            "210/210 [==============================] - 4s 20ms/step - loss: 0.1432 - accuracy: 0.9525 - val_loss: 1.2747 - val_accuracy: 0.7223\n",
            "Epoch 51/100\n",
            "210/210 [==============================] - 4s 20ms/step - loss: 0.1278 - accuracy: 0.9578 - val_loss: 0.8118 - val_accuracy: 0.7944\n",
            "Epoch 52/100\n",
            "210/210 [==============================] - 4s 20ms/step - loss: 0.1403 - accuracy: 0.9539 - val_loss: 0.9293 - val_accuracy: 0.7586\n",
            "Epoch 53/100\n",
            "210/210 [==============================] - 4s 20ms/step - loss: 0.1385 - accuracy: 0.9554 - val_loss: 1.0947 - val_accuracy: 0.7577\n",
            "Epoch 54/100\n",
            "210/210 [==============================] - 4s 20ms/step - loss: 0.1415 - accuracy: 0.9528 - val_loss: 1.3872 - val_accuracy: 0.7318\n",
            "Epoch 55/100\n",
            "210/210 [==============================] - 4s 20ms/step - loss: 0.1294 - accuracy: 0.9566 - val_loss: 0.9057 - val_accuracy: 0.7838\n",
            "Epoch 56/100\n",
            "210/210 [==============================] - 4s 20ms/step - loss: 0.1282 - accuracy: 0.9563 - val_loss: 0.8890 - val_accuracy: 0.7943\n",
            "Epoch 57/100\n",
            "210/210 [==============================] - 4s 20ms/step - loss: 0.1234 - accuracy: 0.9581 - val_loss: 1.1527 - val_accuracy: 0.7504\n",
            "Epoch 58/100\n",
            "210/210 [==============================] - 4s 20ms/step - loss: 0.1313 - accuracy: 0.9560 - val_loss: 0.9918 - val_accuracy: 0.7648\n",
            "Epoch 59/100\n",
            "210/210 [==============================] - 4s 20ms/step - loss: 0.1173 - accuracy: 0.9611 - val_loss: 0.9671 - val_accuracy: 0.7596\n",
            "Epoch 60/100\n",
            "210/210 [==============================] - 4s 20ms/step - loss: 0.1364 - accuracy: 0.9554 - val_loss: 0.8000 - val_accuracy: 0.8108\n",
            "Epoch 61/100\n",
            "210/210 [==============================] - 4s 21ms/step - loss: 0.1107 - accuracy: 0.9631 - val_loss: 1.0319 - val_accuracy: 0.7606\n",
            "Epoch 62/100\n",
            "210/210 [==============================] - 4s 20ms/step - loss: 0.1129 - accuracy: 0.9622 - val_loss: 1.1580 - val_accuracy: 0.7474\n",
            "Epoch 63/100\n",
            "210/210 [==============================] - 4s 20ms/step - loss: 0.1085 - accuracy: 0.9635 - val_loss: 1.0283 - val_accuracy: 0.7627\n",
            "Epoch 64/100\n",
            "210/210 [==============================] - 4s 20ms/step - loss: 0.1198 - accuracy: 0.9594 - val_loss: 1.1549 - val_accuracy: 0.7336\n",
            "Epoch 65/100\n",
            "210/210 [==============================] - 4s 20ms/step - loss: 0.1187 - accuracy: 0.9603 - val_loss: 1.2560 - val_accuracy: 0.7395\n",
            "Epoch 66/100\n",
            "210/210 [==============================] - 4s 20ms/step - loss: 0.1116 - accuracy: 0.9636 - val_loss: 0.9066 - val_accuracy: 0.7892\n",
            "Epoch 67/100\n",
            "210/210 [==============================] - 4s 20ms/step - loss: 0.1082 - accuracy: 0.9642 - val_loss: 1.1253 - val_accuracy: 0.7606\n",
            "Epoch 68/100\n",
            "210/210 [==============================] - 4s 20ms/step - loss: 0.1071 - accuracy: 0.9659 - val_loss: 1.1118 - val_accuracy: 0.7486\n",
            "Epoch 69/100\n",
            "210/210 [==============================] - 4s 20ms/step - loss: 0.0988 - accuracy: 0.9665 - val_loss: 1.2527 - val_accuracy: 0.7403\n",
            "Epoch 70/100\n",
            "210/210 [==============================] - 4s 20ms/step - loss: 0.1126 - accuracy: 0.9630 - val_loss: 0.7439 - val_accuracy: 0.8241\n",
            "Epoch 71/100\n",
            "210/210 [==============================] - 4s 20ms/step - loss: 0.1048 - accuracy: 0.9639 - val_loss: 0.9888 - val_accuracy: 0.7922\n",
            "Epoch 72/100\n",
            "210/210 [==============================] - 4s 20ms/step - loss: 0.0961 - accuracy: 0.9681 - val_loss: 0.8171 - val_accuracy: 0.7972\n",
            "Epoch 73/100\n",
            "210/210 [==============================] - 4s 20ms/step - loss: 0.1042 - accuracy: 0.9662 - val_loss: 0.8105 - val_accuracy: 0.7951\n",
            "Epoch 74/100\n",
            "210/210 [==============================] - 4s 20ms/step - loss: 0.0997 - accuracy: 0.9661 - val_loss: 1.1635 - val_accuracy: 0.7741\n",
            "Epoch 75/100\n",
            "210/210 [==============================] - 4s 20ms/step - loss: 0.0994 - accuracy: 0.9672 - val_loss: 1.0336 - val_accuracy: 0.7685\n",
            "Epoch 76/100\n",
            "210/210 [==============================] - 4s 20ms/step - loss: 0.0950 - accuracy: 0.9679 - val_loss: 0.7576 - val_accuracy: 0.8179\n",
            "Epoch 77/100\n",
            "210/210 [==============================] - 4s 20ms/step - loss: 0.1147 - accuracy: 0.9618 - val_loss: 1.0805 - val_accuracy: 0.7751\n",
            "Epoch 78/100\n",
            "210/210 [==============================] - 4s 20ms/step - loss: 0.0974 - accuracy: 0.9680 - val_loss: 0.9541 - val_accuracy: 0.7929\n",
            "Epoch 79/100\n",
            "210/210 [==============================] - 4s 20ms/step - loss: 0.1084 - accuracy: 0.9645 - val_loss: 0.6266 - val_accuracy: 0.8521\n",
            "Epoch 80/100\n",
            "210/210 [==============================] - 4s 20ms/step - loss: 0.0871 - accuracy: 0.9710 - val_loss: 0.9951 - val_accuracy: 0.7848\n",
            "Epoch 81/100\n",
            "210/210 [==============================] - 4s 20ms/step - loss: 0.0925 - accuracy: 0.9687 - val_loss: 1.1380 - val_accuracy: 0.7649\n",
            "Epoch 82/100\n",
            "210/210 [==============================] - 4s 20ms/step - loss: 0.0859 - accuracy: 0.9717 - val_loss: 1.4141 - val_accuracy: 0.7361\n",
            "Epoch 83/100\n",
            "210/210 [==============================] - 4s 20ms/step - loss: 0.0874 - accuracy: 0.9703 - val_loss: 1.0907 - val_accuracy: 0.7681\n",
            "Epoch 84/100\n",
            "210/210 [==============================] - 4s 20ms/step - loss: 0.0844 - accuracy: 0.9709 - val_loss: 1.4420 - val_accuracy: 0.7336\n",
            "Epoch 85/100\n",
            "210/210 [==============================] - 4s 20ms/step - loss: 0.0819 - accuracy: 0.9723 - val_loss: 1.3284 - val_accuracy: 0.7580\n",
            "Epoch 86/100\n",
            "210/210 [==============================] - 4s 20ms/step - loss: 0.1003 - accuracy: 0.9659 - val_loss: 0.7377 - val_accuracy: 0.8297\n",
            "Epoch 87/100\n",
            "210/210 [==============================] - 4s 20ms/step - loss: 0.0839 - accuracy: 0.9726 - val_loss: 0.9362 - val_accuracy: 0.8020\n",
            "Epoch 88/100\n",
            "210/210 [==============================] - 4s 20ms/step - loss: 0.0872 - accuracy: 0.9717 - val_loss: 0.6999 - val_accuracy: 0.8359\n",
            "Epoch 89/100\n",
            "210/210 [==============================] - 4s 20ms/step - loss: 0.0860 - accuracy: 0.9716 - val_loss: 0.8591 - val_accuracy: 0.8083\n",
            "Epoch 90/100\n",
            "210/210 [==============================] - 4s 21ms/step - loss: 0.0747 - accuracy: 0.9757 - val_loss: 0.8779 - val_accuracy: 0.8103\n",
            "Epoch 91/100\n",
            "210/210 [==============================] - 4s 21ms/step - loss: 0.0743 - accuracy: 0.9751 - val_loss: 1.4909 - val_accuracy: 0.7368\n",
            "Epoch 92/100\n",
            "210/210 [==============================] - 4s 21ms/step - loss: 0.0890 - accuracy: 0.9692 - val_loss: 1.0718 - val_accuracy: 0.7867\n",
            "Epoch 93/100\n",
            "210/210 [==============================] - 4s 20ms/step - loss: 0.0757 - accuracy: 0.9756 - val_loss: 0.6951 - val_accuracy: 0.8417\n",
            "Epoch 94/100\n",
            "210/210 [==============================] - 4s 20ms/step - loss: 0.0713 - accuracy: 0.9763 - val_loss: 0.9775 - val_accuracy: 0.8036\n",
            "Epoch 95/100\n",
            "210/210 [==============================] - 4s 20ms/step - loss: 0.0753 - accuracy: 0.9741 - val_loss: 0.7881 - val_accuracy: 0.8328\n",
            "Epoch 96/100\n",
            "210/210 [==============================] - 4s 20ms/step - loss: 0.0744 - accuracy: 0.9743 - val_loss: 1.0602 - val_accuracy: 0.7847\n",
            "Epoch 97/100\n",
            "210/210 [==============================] - 4s 21ms/step - loss: 0.0695 - accuracy: 0.9767 - val_loss: 0.6664 - val_accuracy: 0.8515\n",
            "Epoch 98/100\n",
            "210/210 [==============================] - 4s 20ms/step - loss: 0.0741 - accuracy: 0.9751 - val_loss: 1.0473 - val_accuracy: 0.8089\n",
            "Epoch 99/100\n",
            "210/210 [==============================] - 4s 20ms/step - loss: 0.0773 - accuracy: 0.9734 - val_loss: 1.2078 - val_accuracy: 0.7683\n",
            "Epoch 100/100\n",
            "210/210 [==============================] - 4s 20ms/step - loss: 0.0846 - accuracy: 0.9726 - val_loss: 0.8550 - val_accuracy: 0.8205\n"
          ],
          "name": "stdout"
        }
      ]
    },
    {
      "cell_type": "code",
      "metadata": {
        "colab": {
          "base_uri": "https://localhost:8080/"
        },
        "id": "QRr4S0af2bqk",
        "outputId": "5ba9f506-da64-4e07-b74e-850407a2fda3"
      },
      "source": [
        "print('NN with batch normalization'); print('--'*40)\n",
        "results5 = model5.evaluate(X_val, y_val)\n",
        "print('Validation accuracy: {}'.format(round(results5[1]*100, 2), '%'))"
      ],
      "execution_count": 82,
      "outputs": [
        {
          "output_type": "stream",
          "text": [
            "NN with batch normalization\n",
            "--------------------------------------------------------------------------------\n",
            "1875/1875 [==============================] - 6s 3ms/step - loss: 0.8550 - accuracy: 0.8205\n",
            "Validation accuracy: 82.05\n"
          ],
          "name": "stdout"
        }
      ]
    },
    {
      "cell_type": "markdown",
      "metadata": {
        "id": "aPo2CHbd2hnh"
      },
      "source": [
        "**Observation:**\n",
        "\n",
        "*   Batch normalization didn't result in improvement of score.\n",
        "*   ReLU activations, changing number of activators, Adam optimizers achieved the best score.\n",
        "\n",
        "Let's try Batch Normalization with  Dropout\n",
        "\n"
      ]
    },
    {
      "cell_type": "markdown",
      "metadata": {
        "id": "8poapebQ2xRy"
      },
      "source": [
        "## **Dropout**\n",
        "\n",
        "**NN model, relu activations, SGD optimizers with weight initializers, batch normalization and dropout**"
      ]
    },
    {
      "cell_type": "code",
      "metadata": {
        "colab": {
          "base_uri": "https://localhost:8080/"
        },
        "id": "cp8Cw_rJ2fZE",
        "outputId": "e916627f-e2de-472c-9403-1c0b901f6ec8"
      },
      "source": [
        "print('NN model with dropout - sgd optimizer'); print('--'*40)\n",
        "# Initialize the neural network classifier\n",
        "model6 = Sequential()\n",
        "# Input Layer - adding input layer and activation functions relu and weight initializer\n",
        "model6.add(Dense(512, input_shape = (1024, ), kernel_initializer = 'he_normal'))\n",
        "# Adding batch normalization\n",
        "model6.add(BatchNormalization()) \n",
        "# Adding activation function\n",
        "model6.add(Activation('relu'))\n",
        "# Adding dropout layer\n",
        "model6.add(Dropout(0.2))\n",
        "\n",
        "#Hidden Layer 1 - adding first hidden layer\n",
        "model6.add(Dense(256, kernel_initializer = 'he_normal', bias_initializer = 'he_uniform'))\n",
        "# Adding batch normalization\n",
        "model6.add(BatchNormalization())\n",
        "# Adding activation function\n",
        "model6.add(Activation('relu'))\n",
        "# Adding dropout layer\n",
        "model6.add(Dropout(0.2))\n",
        "\n",
        "#Hidden Layer 2 - adding second hidden layer\n",
        "model6.add(Dense(128, kernel_initializer = 'he_normal', bias_initializer = 'he_uniform'))\n",
        "# Adding batch normalization\n",
        "model6.add(BatchNormalization())\n",
        "# Adding activation function\n",
        "model6.add(Activation('relu'))\n",
        "# Adding dropout layer\n",
        "model6.add(Dropout(0.2))\n",
        "\n",
        "#Hidden Layer 3 - adding third hidden layer\n",
        "model6.add(Dense(64, kernel_initializer = 'he_normal', bias_initializer = 'he_uniform'))\n",
        "# Adding batch normalization\n",
        "model6.add(BatchNormalization())\n",
        "# Adding activation function\n",
        "model6.add(Activation('relu'))\n",
        "# Adding dropout layer\n",
        "model6.add(Dropout(0.2))\n",
        "\n",
        "#Hidden Layer 4 - adding fourth hidden layer\n",
        "model6.add(Dense(32, kernel_initializer = 'he_normal', bias_initializer = 'he_uniform'))\n",
        "# Adding batch normalization\n",
        "model6.add(BatchNormalization())\n",
        "# Adding activation function\n",
        "model6.add(Activation('relu'))\n",
        "# Adding dropout layer\n",
        "model6.add(Dropout(0.2))\n",
        "\n",
        "# Output Layer - adding output layer which is of 10 nodes (digits)\n",
        "model6.add(Dense(10, kernel_initializer = 'he_normal',bias_initializer = 'he_uniform'))\n",
        "# Adding activation function\n",
        "model6.add(Activation('softmax'))"
      ],
      "execution_count": 83,
      "outputs": [
        {
          "output_type": "stream",
          "text": [
            "NN model with dropout - sgd optimizer\n",
            "--------------------------------------------------------------------------------\n"
          ],
          "name": "stdout"
        }
      ]
    },
    {
      "cell_type": "code",
      "metadata": {
        "colab": {
          "base_uri": "https://localhost:8080/"
        },
        "id": "GfaV8zQ43FbD",
        "outputId": "91ba0d37-8673-40c8-d9a7-0f73babf989c"
      },
      "source": [
        "model6.summary()"
      ],
      "execution_count": 84,
      "outputs": [
        {
          "output_type": "stream",
          "text": [
            "Model: \"sequential_5\"\n",
            "_________________________________________________________________\n",
            "Layer (type)                 Output Shape              Param #   \n",
            "=================================================================\n",
            "dense_20 (Dense)             (None, 512)               524800    \n",
            "_________________________________________________________________\n",
            "batch_normalization_4 (Batch (None, 512)               2048      \n",
            "_________________________________________________________________\n",
            "activation_20 (Activation)   (None, 512)               0         \n",
            "_________________________________________________________________\n",
            "dropout (Dropout)            (None, 512)               0         \n",
            "_________________________________________________________________\n",
            "dense_21 (Dense)             (None, 256)               131328    \n",
            "_________________________________________________________________\n",
            "batch_normalization_5 (Batch (None, 256)               1024      \n",
            "_________________________________________________________________\n",
            "activation_21 (Activation)   (None, 256)               0         \n",
            "_________________________________________________________________\n",
            "dropout_1 (Dropout)          (None, 256)               0         \n",
            "_________________________________________________________________\n",
            "dense_22 (Dense)             (None, 128)               32896     \n",
            "_________________________________________________________________\n",
            "batch_normalization_6 (Batch (None, 128)               512       \n",
            "_________________________________________________________________\n",
            "activation_22 (Activation)   (None, 128)               0         \n",
            "_________________________________________________________________\n",
            "dropout_2 (Dropout)          (None, 128)               0         \n",
            "_________________________________________________________________\n",
            "dense_23 (Dense)             (None, 64)                8256      \n",
            "_________________________________________________________________\n",
            "batch_normalization_7 (Batch (None, 64)                256       \n",
            "_________________________________________________________________\n",
            "activation_23 (Activation)   (None, 64)                0         \n",
            "_________________________________________________________________\n",
            "dropout_3 (Dropout)          (None, 64)                0         \n",
            "_________________________________________________________________\n",
            "dense_24 (Dense)             (None, 32)                2080      \n",
            "_________________________________________________________________\n",
            "batch_normalization_8 (Batch (None, 32)                128       \n",
            "_________________________________________________________________\n",
            "activation_24 (Activation)   (None, 32)                0         \n",
            "_________________________________________________________________\n",
            "dropout_4 (Dropout)          (None, 32)                0         \n",
            "_________________________________________________________________\n",
            "dense_25 (Dense)             (None, 10)                330       \n",
            "_________________________________________________________________\n",
            "activation_25 (Activation)   (None, 10)                0         \n",
            "=================================================================\n",
            "Total params: 703,658\n",
            "Trainable params: 701,674\n",
            "Non-trainable params: 1,984\n",
            "_________________________________________________________________\n"
          ],
          "name": "stdout"
        }
      ]
    },
    {
      "cell_type": "code",
      "metadata": {
        "colab": {
          "base_uri": "https://localhost:8080/"
        },
        "id": "fhlEvT1u3QvC",
        "outputId": "e86a665a-6ce2-4eed-ae97-21884027b351"
      },
      "source": [
        "# compiling the neural network classifier, sgd optimizer\n",
        "sgd = optimizers.SGD(lr = 0.01)\n",
        "model6.compile(optimizer = sgd, loss = 'categorical_crossentropy', metrics = ['accuracy'])\n",
        "\n",
        "# Adding activation function - softmax for multiclass classification\n",
        "history = model6.fit(X_train, y_train, validation_data = (X_val, y_val), batch_size = 200, epochs = 100, verbose = 1)"
      ],
      "execution_count": 85,
      "outputs": [
        {
          "output_type": "stream",
          "text": [
            "Epoch 1/100\n",
            "210/210 [==============================] - 10s 42ms/step - loss: 2.7871 - accuracy: 0.1051 - val_loss: 2.3137 - val_accuracy: 0.1273\n",
            "Epoch 2/100\n",
            "210/210 [==============================] - 8s 38ms/step - loss: 2.4490 - accuracy: 0.1181 - val_loss: 2.2354 - val_accuracy: 0.1702\n",
            "Epoch 3/100\n",
            "210/210 [==============================] - 8s 39ms/step - loss: 2.3463 - accuracy: 0.1393 - val_loss: 2.1464 - val_accuracy: 0.2350\n",
            "Epoch 4/100\n",
            "210/210 [==============================] - 8s 38ms/step - loss: 2.2731 - accuracy: 0.1639 - val_loss: 2.0955 - val_accuracy: 0.2694\n",
            "Epoch 5/100\n",
            "210/210 [==============================] - 8s 38ms/step - loss: 2.2140 - accuracy: 0.1883 - val_loss: 2.0248 - val_accuracy: 0.3089\n",
            "Epoch 6/100\n",
            "210/210 [==============================] - 8s 38ms/step - loss: 2.1494 - accuracy: 0.2106 - val_loss: 1.9216 - val_accuracy: 0.3704\n",
            "Epoch 7/100\n",
            "210/210 [==============================] - 8s 38ms/step - loss: 2.0896 - accuracy: 0.2396 - val_loss: 1.8662 - val_accuracy: 0.3909\n",
            "Epoch 8/100\n",
            "210/210 [==============================] - 8s 38ms/step - loss: 2.0234 - accuracy: 0.2712 - val_loss: 1.7975 - val_accuracy: 0.4213\n",
            "Epoch 9/100\n",
            "210/210 [==============================] - 8s 37ms/step - loss: 1.9597 - accuracy: 0.2945 - val_loss: 1.7312 - val_accuracy: 0.4405\n",
            "Epoch 10/100\n",
            "210/210 [==============================] - 8s 37ms/step - loss: 1.8960 - accuracy: 0.3191 - val_loss: 1.6517 - val_accuracy: 0.4654\n",
            "Epoch 11/100\n",
            "210/210 [==============================] - 8s 37ms/step - loss: 1.8418 - accuracy: 0.3441 - val_loss: 1.5869 - val_accuracy: 0.4900\n",
            "Epoch 12/100\n",
            "210/210 [==============================] - 8s 37ms/step - loss: 1.7897 - accuracy: 0.3588 - val_loss: 1.5102 - val_accuracy: 0.5252\n",
            "Epoch 13/100\n",
            "210/210 [==============================] - 8s 37ms/step - loss: 1.7352 - accuracy: 0.3800 - val_loss: 1.4515 - val_accuracy: 0.5354\n",
            "Epoch 14/100\n",
            "210/210 [==============================] - 8s 37ms/step - loss: 1.6885 - accuracy: 0.3987 - val_loss: 1.4073 - val_accuracy: 0.5515\n",
            "Epoch 15/100\n",
            "210/210 [==============================] - 8s 37ms/step - loss: 1.6424 - accuracy: 0.4220 - val_loss: 1.3886 - val_accuracy: 0.5560\n",
            "Epoch 16/100\n",
            "210/210 [==============================] - 8s 37ms/step - loss: 1.6000 - accuracy: 0.4332 - val_loss: 1.2869 - val_accuracy: 0.6004\n",
            "Epoch 17/100\n",
            "210/210 [==============================] - 8s 37ms/step - loss: 1.5475 - accuracy: 0.4571 - val_loss: 1.2516 - val_accuracy: 0.6139\n",
            "Epoch 18/100\n",
            "210/210 [==============================] - 8s 37ms/step - loss: 1.5152 - accuracy: 0.4704 - val_loss: 1.2061 - val_accuracy: 0.6243\n",
            "Epoch 19/100\n",
            "210/210 [==============================] - 8s 37ms/step - loss: 1.4732 - accuracy: 0.4884 - val_loss: 1.2193 - val_accuracy: 0.6176\n",
            "Epoch 20/100\n",
            "210/210 [==============================] - 8s 37ms/step - loss: 1.4412 - accuracy: 0.5047 - val_loss: 1.1453 - val_accuracy: 0.6447\n",
            "Epoch 21/100\n",
            "210/210 [==============================] - 8s 37ms/step - loss: 1.3988 - accuracy: 0.5168 - val_loss: 1.1085 - val_accuracy: 0.6621\n",
            "Epoch 22/100\n",
            "210/210 [==============================] - 8s 37ms/step - loss: 1.3712 - accuracy: 0.5289 - val_loss: 1.0497 - val_accuracy: 0.6760\n",
            "Epoch 23/100\n",
            "210/210 [==============================] - 8s 37ms/step - loss: 1.3433 - accuracy: 0.5468 - val_loss: 1.0424 - val_accuracy: 0.6699\n",
            "Epoch 24/100\n",
            "210/210 [==============================] - 8s 38ms/step - loss: 1.3174 - accuracy: 0.5527 - val_loss: 1.0126 - val_accuracy: 0.6860\n",
            "Epoch 25/100\n",
            "210/210 [==============================] - 8s 38ms/step - loss: 1.2905 - accuracy: 0.5608 - val_loss: 1.0261 - val_accuracy: 0.6813\n",
            "Epoch 26/100\n",
            "210/210 [==============================] - 8s 38ms/step - loss: 1.2761 - accuracy: 0.5666 - val_loss: 0.9699 - val_accuracy: 0.7018\n",
            "Epoch 27/100\n",
            "210/210 [==============================] - 8s 38ms/step - loss: 1.2486 - accuracy: 0.5777 - val_loss: 0.9718 - val_accuracy: 0.6985\n",
            "Epoch 28/100\n",
            "210/210 [==============================] - 8s 37ms/step - loss: 1.2242 - accuracy: 0.5896 - val_loss: 0.9325 - val_accuracy: 0.7103\n",
            "Epoch 29/100\n",
            "210/210 [==============================] - 8s 38ms/step - loss: 1.2048 - accuracy: 0.5951 - val_loss: 0.9755 - val_accuracy: 0.6894\n",
            "Epoch 30/100\n",
            "210/210 [==============================] - 8s 38ms/step - loss: 1.1927 - accuracy: 0.6044 - val_loss: 0.9471 - val_accuracy: 0.7020\n",
            "Epoch 31/100\n",
            "210/210 [==============================] - 8s 38ms/step - loss: 1.1672 - accuracy: 0.6136 - val_loss: 0.8873 - val_accuracy: 0.7236\n",
            "Epoch 32/100\n",
            "210/210 [==============================] - 8s 37ms/step - loss: 1.1534 - accuracy: 0.6147 - val_loss: 0.8608 - val_accuracy: 0.7320\n",
            "Epoch 33/100\n",
            "210/210 [==============================] - 8s 37ms/step - loss: 1.1307 - accuracy: 0.6255 - val_loss: 0.8598 - val_accuracy: 0.7261\n",
            "Epoch 34/100\n",
            "210/210 [==============================] - 8s 37ms/step - loss: 1.1220 - accuracy: 0.6247 - val_loss: 0.8461 - val_accuracy: 0.7319\n",
            "Epoch 35/100\n",
            "210/210 [==============================] - 8s 39ms/step - loss: 1.1036 - accuracy: 0.6345 - val_loss: 0.8340 - val_accuracy: 0.7397\n",
            "Epoch 36/100\n",
            "210/210 [==============================] - 8s 38ms/step - loss: 1.0925 - accuracy: 0.6397 - val_loss: 0.8193 - val_accuracy: 0.7484\n",
            "Epoch 37/100\n",
            "210/210 [==============================] - 8s 37ms/step - loss: 1.0636 - accuracy: 0.6498 - val_loss: 0.8116 - val_accuracy: 0.7485\n",
            "Epoch 38/100\n",
            "210/210 [==============================] - 8s 37ms/step - loss: 1.0646 - accuracy: 0.6506 - val_loss: 0.7813 - val_accuracy: 0.7577\n",
            "Epoch 39/100\n",
            "210/210 [==============================] - 8s 38ms/step - loss: 1.0446 - accuracy: 0.6581 - val_loss: 0.7941 - val_accuracy: 0.7501\n",
            "Epoch 40/100\n",
            "210/210 [==============================] - 8s 37ms/step - loss: 1.0419 - accuracy: 0.6581 - val_loss: 0.8073 - val_accuracy: 0.7472\n",
            "Epoch 41/100\n",
            "210/210 [==============================] - 8s 37ms/step - loss: 1.0282 - accuracy: 0.6650 - val_loss: 0.8003 - val_accuracy: 0.7479\n",
            "Epoch 42/100\n",
            "210/210 [==============================] - 8s 38ms/step - loss: 1.0181 - accuracy: 0.6684 - val_loss: 0.7762 - val_accuracy: 0.7572\n",
            "Epoch 43/100\n",
            "210/210 [==============================] - 8s 38ms/step - loss: 1.0072 - accuracy: 0.6735 - val_loss: 0.7542 - val_accuracy: 0.7666\n",
            "Epoch 44/100\n",
            "210/210 [==============================] - 8s 38ms/step - loss: 0.9857 - accuracy: 0.6827 - val_loss: 0.7734 - val_accuracy: 0.7534\n",
            "Epoch 45/100\n",
            "210/210 [==============================] - 8s 37ms/step - loss: 0.9955 - accuracy: 0.6774 - val_loss: 0.7482 - val_accuracy: 0.7691\n",
            "Epoch 46/100\n",
            "210/210 [==============================] - 8s 37ms/step - loss: 0.9730 - accuracy: 0.6867 - val_loss: 0.7634 - val_accuracy: 0.7607\n",
            "Epoch 47/100\n",
            "210/210 [==============================] - 8s 38ms/step - loss: 0.9778 - accuracy: 0.6839 - val_loss: 0.7196 - val_accuracy: 0.7834\n",
            "Epoch 48/100\n",
            "210/210 [==============================] - 8s 38ms/step - loss: 0.9365 - accuracy: 0.6988 - val_loss: 0.7126 - val_accuracy: 0.7827\n",
            "Epoch 49/100\n",
            "210/210 [==============================] - 8s 38ms/step - loss: 0.9372 - accuracy: 0.6990 - val_loss: 0.7709 - val_accuracy: 0.7532\n",
            "Epoch 50/100\n",
            "210/210 [==============================] - 8s 38ms/step - loss: 0.9327 - accuracy: 0.7013 - val_loss: 0.7421 - val_accuracy: 0.7675\n",
            "Epoch 51/100\n",
            "210/210 [==============================] - 8s 38ms/step - loss: 0.9307 - accuracy: 0.6998 - val_loss: 0.7146 - val_accuracy: 0.7722\n",
            "Epoch 52/100\n",
            "210/210 [==============================] - 8s 37ms/step - loss: 0.9252 - accuracy: 0.7039 - val_loss: 0.7236 - val_accuracy: 0.7780\n",
            "Epoch 53/100\n",
            "210/210 [==============================] - 8s 38ms/step - loss: 0.9195 - accuracy: 0.7089 - val_loss: 0.6438 - val_accuracy: 0.8082\n",
            "Epoch 54/100\n",
            "210/210 [==============================] - 8s 38ms/step - loss: 0.8872 - accuracy: 0.7163 - val_loss: 0.6462 - val_accuracy: 0.8030\n",
            "Epoch 55/100\n",
            "210/210 [==============================] - 8s 38ms/step - loss: 0.9008 - accuracy: 0.7149 - val_loss: 0.6662 - val_accuracy: 0.7948\n",
            "Epoch 56/100\n",
            "210/210 [==============================] - 8s 38ms/step - loss: 0.8802 - accuracy: 0.7225 - val_loss: 0.6708 - val_accuracy: 0.7932\n",
            "Epoch 57/100\n",
            "210/210 [==============================] - 8s 38ms/step - loss: 0.8792 - accuracy: 0.7217 - val_loss: 0.6653 - val_accuracy: 0.7926\n",
            "Epoch 58/100\n",
            "210/210 [==============================] - 8s 38ms/step - loss: 0.8813 - accuracy: 0.7237 - val_loss: 0.6980 - val_accuracy: 0.7839\n",
            "Epoch 59/100\n",
            "210/210 [==============================] - 8s 37ms/step - loss: 0.8584 - accuracy: 0.7273 - val_loss: 0.7465 - val_accuracy: 0.7579\n",
            "Epoch 60/100\n",
            "210/210 [==============================] - 8s 37ms/step - loss: 0.8423 - accuracy: 0.7374 - val_loss: 0.6112 - val_accuracy: 0.8157\n",
            "Epoch 61/100\n",
            "210/210 [==============================] - 8s 37ms/step - loss: 0.8309 - accuracy: 0.7418 - val_loss: 0.6215 - val_accuracy: 0.8051\n",
            "Epoch 62/100\n",
            "210/210 [==============================] - 8s 37ms/step - loss: 0.8369 - accuracy: 0.7390 - val_loss: 0.6164 - val_accuracy: 0.8127\n",
            "Epoch 63/100\n",
            "210/210 [==============================] - 8s 37ms/step - loss: 0.8297 - accuracy: 0.7409 - val_loss: 0.6746 - val_accuracy: 0.7896\n",
            "Epoch 64/100\n",
            "210/210 [==============================] - 8s 37ms/step - loss: 0.8258 - accuracy: 0.7424 - val_loss: 0.7249 - val_accuracy: 0.7757\n",
            "Epoch 65/100\n",
            "210/210 [==============================] - 8s 38ms/step - loss: 0.8116 - accuracy: 0.7479 - val_loss: 0.6091 - val_accuracy: 0.8106\n",
            "Epoch 66/100\n",
            "210/210 [==============================] - 8s 38ms/step - loss: 0.8010 - accuracy: 0.7486 - val_loss: 0.6629 - val_accuracy: 0.7888\n",
            "Epoch 67/100\n",
            "210/210 [==============================] - 8s 38ms/step - loss: 0.8059 - accuracy: 0.7498 - val_loss: 0.6908 - val_accuracy: 0.7856\n",
            "Epoch 68/100\n",
            "210/210 [==============================] - 8s 38ms/step - loss: 0.7974 - accuracy: 0.7482 - val_loss: 0.5985 - val_accuracy: 0.8140\n",
            "Epoch 69/100\n",
            "210/210 [==============================] - 8s 38ms/step - loss: 0.7915 - accuracy: 0.7550 - val_loss: 0.6278 - val_accuracy: 0.8041\n",
            "Epoch 70/100\n",
            "210/210 [==============================] - 8s 39ms/step - loss: 0.7889 - accuracy: 0.7536 - val_loss: 0.5832 - val_accuracy: 0.8202\n",
            "Epoch 71/100\n",
            "210/210 [==============================] - 8s 38ms/step - loss: 0.7890 - accuracy: 0.7539 - val_loss: 0.5829 - val_accuracy: 0.8192\n",
            "Epoch 72/100\n",
            "210/210 [==============================] - 8s 38ms/step - loss: 0.7703 - accuracy: 0.7597 - val_loss: 0.5503 - val_accuracy: 0.8306\n",
            "Epoch 73/100\n",
            "210/210 [==============================] - 8s 38ms/step - loss: 0.7596 - accuracy: 0.7657 - val_loss: 0.5572 - val_accuracy: 0.8299\n",
            "Epoch 74/100\n",
            "210/210 [==============================] - 8s 38ms/step - loss: 0.7727 - accuracy: 0.7620 - val_loss: 0.6663 - val_accuracy: 0.7944\n",
            "Epoch 75/100\n",
            "210/210 [==============================] - 8s 38ms/step - loss: 0.7501 - accuracy: 0.7692 - val_loss: 0.6207 - val_accuracy: 0.8086\n",
            "Epoch 76/100\n",
            "210/210 [==============================] - 8s 38ms/step - loss: 0.7462 - accuracy: 0.7693 - val_loss: 0.5618 - val_accuracy: 0.8276\n",
            "Epoch 77/100\n",
            "210/210 [==============================] - 8s 37ms/step - loss: 0.7465 - accuracy: 0.7672 - val_loss: 0.5741 - val_accuracy: 0.8222\n",
            "Epoch 78/100\n",
            "210/210 [==============================] - 8s 37ms/step - loss: 0.7480 - accuracy: 0.7684 - val_loss: 0.5577 - val_accuracy: 0.8301\n",
            "Epoch 79/100\n",
            "210/210 [==============================] - 8s 37ms/step - loss: 0.7352 - accuracy: 0.7712 - val_loss: 0.5730 - val_accuracy: 0.8223\n",
            "Epoch 80/100\n",
            "210/210 [==============================] - 8s 37ms/step - loss: 0.7363 - accuracy: 0.7707 - val_loss: 0.5414 - val_accuracy: 0.8352\n",
            "Epoch 81/100\n",
            "210/210 [==============================] - 8s 38ms/step - loss: 0.7346 - accuracy: 0.7746 - val_loss: 0.5410 - val_accuracy: 0.8328\n",
            "Epoch 82/100\n",
            "210/210 [==============================] - 8s 38ms/step - loss: 0.7240 - accuracy: 0.7740 - val_loss: 0.5498 - val_accuracy: 0.8306\n",
            "Epoch 83/100\n",
            "210/210 [==============================] - 8s 38ms/step - loss: 0.7203 - accuracy: 0.7777 - val_loss: 0.5266 - val_accuracy: 0.8363\n",
            "Epoch 84/100\n",
            "210/210 [==============================] - 8s 38ms/step - loss: 0.7154 - accuracy: 0.7798 - val_loss: 0.5359 - val_accuracy: 0.8358\n",
            "Epoch 85/100\n",
            "210/210 [==============================] - 8s 38ms/step - loss: 0.7186 - accuracy: 0.7808 - val_loss: 0.5553 - val_accuracy: 0.8281\n",
            "Epoch 86/100\n",
            "210/210 [==============================] - 8s 38ms/step - loss: 0.7161 - accuracy: 0.7841 - val_loss: 0.4985 - val_accuracy: 0.8512\n",
            "Epoch 87/100\n",
            "210/210 [==============================] - 8s 38ms/step - loss: 0.7062 - accuracy: 0.7855 - val_loss: 0.5228 - val_accuracy: 0.8403\n",
            "Epoch 88/100\n",
            "210/210 [==============================] - 8s 38ms/step - loss: 0.7031 - accuracy: 0.7859 - val_loss: 0.5430 - val_accuracy: 0.8343\n",
            "Epoch 89/100\n",
            "210/210 [==============================] - 8s 38ms/step - loss: 0.6909 - accuracy: 0.7909 - val_loss: 0.5195 - val_accuracy: 0.8418\n",
            "Epoch 90/100\n",
            "210/210 [==============================] - 8s 37ms/step - loss: 0.6874 - accuracy: 0.7907 - val_loss: 0.5068 - val_accuracy: 0.8446\n",
            "Epoch 91/100\n",
            "210/210 [==============================] - 8s 38ms/step - loss: 0.6757 - accuracy: 0.7945 - val_loss: 0.5266 - val_accuracy: 0.8386\n",
            "Epoch 92/100\n",
            "210/210 [==============================] - 8s 38ms/step - loss: 0.6751 - accuracy: 0.7955 - val_loss: 0.5272 - val_accuracy: 0.8353\n",
            "Epoch 93/100\n",
            "210/210 [==============================] - 8s 39ms/step - loss: 0.6814 - accuracy: 0.7930 - val_loss: 0.5286 - val_accuracy: 0.8319\n",
            "Epoch 94/100\n",
            "210/210 [==============================] - 8s 38ms/step - loss: 0.6792 - accuracy: 0.7912 - val_loss: 0.5504 - val_accuracy: 0.8311\n",
            "Epoch 95/100\n",
            "210/210 [==============================] - 8s 38ms/step - loss: 0.6769 - accuracy: 0.7931 - val_loss: 0.5780 - val_accuracy: 0.8212\n",
            "Epoch 96/100\n",
            "210/210 [==============================] - 8s 38ms/step - loss: 0.6723 - accuracy: 0.7953 - val_loss: 0.5099 - val_accuracy: 0.8442\n",
            "Epoch 97/100\n",
            "210/210 [==============================] - 8s 37ms/step - loss: 0.6623 - accuracy: 0.8007 - val_loss: 0.5434 - val_accuracy: 0.8342\n",
            "Epoch 98/100\n",
            "210/210 [==============================] - 8s 37ms/step - loss: 0.6628 - accuracy: 0.8002 - val_loss: 0.5428 - val_accuracy: 0.8323\n",
            "Epoch 99/100\n",
            "210/210 [==============================] - 8s 37ms/step - loss: 0.6638 - accuracy: 0.7978 - val_loss: 0.6511 - val_accuracy: 0.8003\n",
            "Epoch 100/100\n",
            "210/210 [==============================] - 8s 37ms/step - loss: 0.6577 - accuracy: 0.7970 - val_loss: 0.5061 - val_accuracy: 0.8439\n"
          ],
          "name": "stdout"
        }
      ]
    },
    {
      "cell_type": "code",
      "metadata": {
        "colab": {
          "base_uri": "https://localhost:8080/"
        },
        "id": "61LmMpvR3UZi",
        "outputId": "106d6554-1e05-45b5-80bc-ce4da742dce8"
      },
      "source": [
        "print('NN model with dropout - sgd optimizer'); print('--'*40)\n",
        "results6 = model6.evaluate(X_val, y_val)\n",
        "print('Validation accuracy: {}'.format(round(results6[1]*100, 2), '%'))"
      ],
      "execution_count": 86,
      "outputs": [
        {
          "output_type": "stream",
          "text": [
            "NN model with dropout - sgd optimizer\n",
            "--------------------------------------------------------------------------------\n",
            "1875/1875 [==============================] - 9s 5ms/step - loss: 0.5061 - accuracy: 0.8439\n",
            "Validation accuracy: 84.39\n"
          ],
          "name": "stdout"
        }
      ]
    },
    {
      "cell_type": "code",
      "metadata": {
        "colab": {
          "base_uri": "https://localhost:8080/"
        },
        "id": "AjEzdqCf3Xh3",
        "outputId": "8e64283e-c5b3-46b9-efef-800de1cf88bd"
      },
      "source": [
        "# compiling the neural network classifier, adam optimizer\n",
        "adam = optimizers.Adam(lr = 0.001)\n",
        "model6.compile(optimizer = adam, loss = 'categorical_crossentropy', metrics = ['accuracy'])\n",
        "\n",
        "# Adding activation function - softmax for multiclass classification\n",
        "history = model6.fit(X_train, y_train, validation_data = (X_val, y_val), batch_size = 200, epochs = 100, verbose = 1)"
      ],
      "execution_count": 87,
      "outputs": [
        {
          "output_type": "stream",
          "text": [
            "Epoch 1/100\n",
            "210/210 [==============================] - 10s 40ms/step - loss: 1.1438 - accuracy: 0.6454 - val_loss: 1.5554 - val_accuracy: 0.4544\n",
            "Epoch 2/100\n",
            "210/210 [==============================] - 8s 38ms/step - loss: 0.9114 - accuracy: 0.7135 - val_loss: 1.4543 - val_accuracy: 0.5175\n",
            "Epoch 3/100\n",
            "210/210 [==============================] - 8s 38ms/step - loss: 0.8632 - accuracy: 0.7343 - val_loss: 1.3675 - val_accuracy: 0.5439\n",
            "Epoch 4/100\n",
            "210/210 [==============================] - 8s 38ms/step - loss: 0.8052 - accuracy: 0.7544 - val_loss: 1.1486 - val_accuracy: 0.6391\n",
            "Epoch 5/100\n",
            "210/210 [==============================] - 8s 38ms/step - loss: 0.7721 - accuracy: 0.7658 - val_loss: 0.9103 - val_accuracy: 0.7094\n",
            "Epoch 6/100\n",
            "210/210 [==============================] - 8s 38ms/step - loss: 0.7367 - accuracy: 0.7758 - val_loss: 0.8888 - val_accuracy: 0.7351\n",
            "Epoch 7/100\n",
            "210/210 [==============================] - 8s 38ms/step - loss: 0.7128 - accuracy: 0.7856 - val_loss: 1.2597 - val_accuracy: 0.5787\n",
            "Epoch 8/100\n",
            "210/210 [==============================] - 8s 38ms/step - loss: 0.6973 - accuracy: 0.7891 - val_loss: 0.9527 - val_accuracy: 0.6924\n",
            "Epoch 9/100\n",
            "210/210 [==============================] - 8s 38ms/step - loss: 0.6547 - accuracy: 0.7995 - val_loss: 1.1708 - val_accuracy: 0.6111\n",
            "Epoch 10/100\n",
            "210/210 [==============================] - 8s 38ms/step - loss: 0.6577 - accuracy: 0.8043 - val_loss: 1.1962 - val_accuracy: 0.6173\n",
            "Epoch 11/100\n",
            "210/210 [==============================] - 8s 38ms/step - loss: 0.6336 - accuracy: 0.8080 - val_loss: 1.2904 - val_accuracy: 0.5688\n",
            "Epoch 12/100\n",
            "210/210 [==============================] - 8s 39ms/step - loss: 0.6240 - accuracy: 0.8109 - val_loss: 0.8426 - val_accuracy: 0.7351\n",
            "Epoch 13/100\n",
            "210/210 [==============================] - 8s 39ms/step - loss: 0.6207 - accuracy: 0.8100 - val_loss: 0.8795 - val_accuracy: 0.7258\n",
            "Epoch 14/100\n",
            "210/210 [==============================] - 8s 40ms/step - loss: 0.5847 - accuracy: 0.8217 - val_loss: 0.9345 - val_accuracy: 0.6934\n",
            "Epoch 15/100\n",
            "210/210 [==============================] - 8s 38ms/step - loss: 0.5827 - accuracy: 0.8254 - val_loss: 1.1219 - val_accuracy: 0.6257\n",
            "Epoch 16/100\n",
            "210/210 [==============================] - 8s 39ms/step - loss: 0.5841 - accuracy: 0.8271 - val_loss: 0.9758 - val_accuracy: 0.6870\n",
            "Epoch 17/100\n",
            "210/210 [==============================] - 8s 39ms/step - loss: 0.5671 - accuracy: 0.8276 - val_loss: 1.1455 - val_accuracy: 0.6187\n",
            "Epoch 18/100\n",
            "210/210 [==============================] - 8s 38ms/step - loss: 0.5577 - accuracy: 0.8323 - val_loss: 0.9304 - val_accuracy: 0.7037\n",
            "Epoch 19/100\n",
            "210/210 [==============================] - 8s 38ms/step - loss: 0.5412 - accuracy: 0.8357 - val_loss: 0.7396 - val_accuracy: 0.7735\n",
            "Epoch 20/100\n",
            "210/210 [==============================] - 8s 38ms/step - loss: 0.5392 - accuracy: 0.8381 - val_loss: 0.8559 - val_accuracy: 0.7200\n",
            "Epoch 21/100\n",
            "210/210 [==============================] - 8s 39ms/step - loss: 0.5322 - accuracy: 0.8387 - val_loss: 0.8484 - val_accuracy: 0.7327\n",
            "Epoch 22/100\n",
            "210/210 [==============================] - 8s 38ms/step - loss: 0.5238 - accuracy: 0.8404 - val_loss: 1.1190 - val_accuracy: 0.6446\n",
            "Epoch 23/100\n",
            "210/210 [==============================] - 8s 38ms/step - loss: 0.5237 - accuracy: 0.8415 - val_loss: 0.8212 - val_accuracy: 0.7735\n",
            "Epoch 24/100\n",
            "210/210 [==============================] - 8s 39ms/step - loss: 0.5147 - accuracy: 0.8478 - val_loss: 0.8139 - val_accuracy: 0.7416\n",
            "Epoch 25/100\n",
            "210/210 [==============================] - 8s 39ms/step - loss: 0.5036 - accuracy: 0.8459 - val_loss: 0.8383 - val_accuracy: 0.7325\n",
            "Epoch 26/100\n",
            "210/210 [==============================] - 8s 38ms/step - loss: 0.4914 - accuracy: 0.8521 - val_loss: 0.7662 - val_accuracy: 0.7529\n",
            "Epoch 27/100\n",
            "210/210 [==============================] - 8s 38ms/step - loss: 0.4835 - accuracy: 0.8537 - val_loss: 1.3027 - val_accuracy: 0.6032\n",
            "Epoch 28/100\n",
            "210/210 [==============================] - 8s 38ms/step - loss: 0.4745 - accuracy: 0.8575 - val_loss: 0.8173 - val_accuracy: 0.7372\n",
            "Epoch 29/100\n",
            "210/210 [==============================] - 8s 39ms/step - loss: 0.4740 - accuracy: 0.8573 - val_loss: 0.9811 - val_accuracy: 0.6674\n",
            "Epoch 30/100\n",
            "210/210 [==============================] - 8s 39ms/step - loss: 0.4797 - accuracy: 0.8554 - val_loss: 0.7453 - val_accuracy: 0.7571\n",
            "Epoch 31/100\n",
            "210/210 [==============================] - 8s 39ms/step - loss: 0.4605 - accuracy: 0.8620 - val_loss: 0.7725 - val_accuracy: 0.7588\n",
            "Epoch 32/100\n",
            "210/210 [==============================] - 8s 38ms/step - loss: 0.4594 - accuracy: 0.8624 - val_loss: 0.7621 - val_accuracy: 0.7498\n",
            "Epoch 33/100\n",
            "210/210 [==============================] - 8s 39ms/step - loss: 0.4551 - accuracy: 0.8635 - val_loss: 0.6683 - val_accuracy: 0.7955\n",
            "Epoch 34/100\n",
            "210/210 [==============================] - 8s 38ms/step - loss: 0.4252 - accuracy: 0.8736 - val_loss: 0.6847 - val_accuracy: 0.7883\n",
            "Epoch 35/100\n",
            "210/210 [==============================] - 8s 39ms/step - loss: 0.4430 - accuracy: 0.8675 - val_loss: 0.7764 - val_accuracy: 0.7587\n",
            "Epoch 36/100\n",
            "210/210 [==============================] - 8s 39ms/step - loss: 0.4532 - accuracy: 0.8633 - val_loss: 0.7848 - val_accuracy: 0.7395\n",
            "Epoch 37/100\n",
            "210/210 [==============================] - 8s 39ms/step - loss: 0.4372 - accuracy: 0.8670 - val_loss: 0.7630 - val_accuracy: 0.7601\n",
            "Epoch 38/100\n",
            "210/210 [==============================] - 8s 39ms/step - loss: 0.4413 - accuracy: 0.8661 - val_loss: 0.7065 - val_accuracy: 0.7794\n",
            "Epoch 39/100\n",
            "210/210 [==============================] - 8s 39ms/step - loss: 0.4357 - accuracy: 0.8694 - val_loss: 0.8697 - val_accuracy: 0.7254\n",
            "Epoch 40/100\n",
            "210/210 [==============================] - 8s 39ms/step - loss: 0.4212 - accuracy: 0.8746 - val_loss: 0.7205 - val_accuracy: 0.7643\n",
            "Epoch 41/100\n",
            "210/210 [==============================] - 8s 39ms/step - loss: 0.4221 - accuracy: 0.8724 - val_loss: 1.0052 - val_accuracy: 0.6909\n",
            "Epoch 42/100\n",
            "210/210 [==============================] - 8s 39ms/step - loss: 0.4120 - accuracy: 0.8766 - val_loss: 0.8243 - val_accuracy: 0.7192\n",
            "Epoch 43/100\n",
            "210/210 [==============================] - 8s 39ms/step - loss: 0.4108 - accuracy: 0.8744 - val_loss: 0.6595 - val_accuracy: 0.8059\n",
            "Epoch 44/100\n",
            "210/210 [==============================] - 8s 39ms/step - loss: 0.4125 - accuracy: 0.8765 - val_loss: 0.6751 - val_accuracy: 0.7826\n",
            "Epoch 45/100\n",
            "210/210 [==============================] - 8s 39ms/step - loss: 0.4063 - accuracy: 0.8780 - val_loss: 0.8970 - val_accuracy: 0.7104\n",
            "Epoch 46/100\n",
            "210/210 [==============================] - 8s 39ms/step - loss: 0.3913 - accuracy: 0.8817 - val_loss: 0.9365 - val_accuracy: 0.7071\n",
            "Epoch 47/100\n",
            "210/210 [==============================] - 8s 39ms/step - loss: 0.3833 - accuracy: 0.8854 - val_loss: 0.7281 - val_accuracy: 0.7604\n",
            "Epoch 48/100\n",
            "210/210 [==============================] - 8s 39ms/step - loss: 0.3833 - accuracy: 0.8829 - val_loss: 0.5788 - val_accuracy: 0.8127\n",
            "Epoch 49/100\n",
            "210/210 [==============================] - 8s 39ms/step - loss: 0.3762 - accuracy: 0.8872 - val_loss: 0.6088 - val_accuracy: 0.7980\n",
            "Epoch 50/100\n",
            "210/210 [==============================] - 8s 39ms/step - loss: 0.3907 - accuracy: 0.8835 - val_loss: 1.0817 - val_accuracy: 0.6574\n",
            "Epoch 51/100\n",
            "210/210 [==============================] - 8s 39ms/step - loss: 0.3816 - accuracy: 0.8858 - val_loss: 0.6420 - val_accuracy: 0.7986\n",
            "Epoch 52/100\n",
            "210/210 [==============================] - 8s 40ms/step - loss: 0.3771 - accuracy: 0.8883 - val_loss: 0.7706 - val_accuracy: 0.7622\n",
            "Epoch 53/100\n",
            "210/210 [==============================] - 8s 40ms/step - loss: 0.3619 - accuracy: 0.8902 - val_loss: 0.7343 - val_accuracy: 0.7664\n",
            "Epoch 54/100\n",
            "210/210 [==============================] - 8s 39ms/step - loss: 0.3761 - accuracy: 0.8846 - val_loss: 0.8015 - val_accuracy: 0.7413\n",
            "Epoch 55/100\n",
            "210/210 [==============================] - 8s 39ms/step - loss: 0.3818 - accuracy: 0.8869 - val_loss: 0.5695 - val_accuracy: 0.8200\n",
            "Epoch 56/100\n",
            "210/210 [==============================] - 8s 39ms/step - loss: 0.3649 - accuracy: 0.8894 - val_loss: 0.8087 - val_accuracy: 0.7279\n",
            "Epoch 57/100\n",
            "210/210 [==============================] - 8s 40ms/step - loss: 0.3606 - accuracy: 0.8901 - val_loss: 0.6534 - val_accuracy: 0.7885\n",
            "Epoch 58/100\n",
            "210/210 [==============================] - 9s 41ms/step - loss: 0.3518 - accuracy: 0.8941 - val_loss: 0.5799 - val_accuracy: 0.8132\n",
            "Epoch 59/100\n",
            "210/210 [==============================] - 8s 40ms/step - loss: 0.3670 - accuracy: 0.8872 - val_loss: 0.6509 - val_accuracy: 0.7871\n",
            "Epoch 60/100\n",
            "210/210 [==============================] - 8s 39ms/step - loss: 0.3361 - accuracy: 0.8984 - val_loss: 0.6410 - val_accuracy: 0.7911\n",
            "Epoch 61/100\n",
            "210/210 [==============================] - 8s 39ms/step - loss: 0.3532 - accuracy: 0.8932 - val_loss: 0.5657 - val_accuracy: 0.8174\n",
            "Epoch 62/100\n",
            "210/210 [==============================] - 8s 39ms/step - loss: 0.3433 - accuracy: 0.8961 - val_loss: 0.6616 - val_accuracy: 0.7808\n",
            "Epoch 63/100\n",
            "210/210 [==============================] - 8s 39ms/step - loss: 0.3472 - accuracy: 0.8943 - val_loss: 0.8352 - val_accuracy: 0.7226\n",
            "Epoch 64/100\n",
            "210/210 [==============================] - 8s 39ms/step - loss: 0.3320 - accuracy: 0.9001 - val_loss: 0.6560 - val_accuracy: 0.7874\n",
            "Epoch 65/100\n",
            "210/210 [==============================] - 8s 39ms/step - loss: 0.3366 - accuracy: 0.8983 - val_loss: 0.6528 - val_accuracy: 0.7865\n",
            "Epoch 66/100\n",
            "210/210 [==============================] - 8s 39ms/step - loss: 0.3265 - accuracy: 0.9000 - val_loss: 0.7327 - val_accuracy: 0.7592\n",
            "Epoch 67/100\n",
            "210/210 [==============================] - 8s 39ms/step - loss: 0.3280 - accuracy: 0.9015 - val_loss: 0.5294 - val_accuracy: 0.8349\n",
            "Epoch 68/100\n",
            "210/210 [==============================] - 8s 39ms/step - loss: 0.3177 - accuracy: 0.9059 - val_loss: 0.7723 - val_accuracy: 0.7550\n",
            "Epoch 69/100\n",
            "210/210 [==============================] - 8s 40ms/step - loss: 0.3297 - accuracy: 0.8997 - val_loss: 0.4948 - val_accuracy: 0.8511\n",
            "Epoch 70/100\n",
            "210/210 [==============================] - 8s 39ms/step - loss: 0.3186 - accuracy: 0.9039 - val_loss: 0.6034 - val_accuracy: 0.8059\n",
            "Epoch 71/100\n",
            "210/210 [==============================] - 8s 39ms/step - loss: 0.3339 - accuracy: 0.8980 - val_loss: 0.6617 - val_accuracy: 0.7863\n",
            "Epoch 72/100\n",
            "210/210 [==============================] - 8s 39ms/step - loss: 0.3223 - accuracy: 0.9002 - val_loss: 0.5784 - val_accuracy: 0.8114\n",
            "Epoch 73/100\n",
            "210/210 [==============================] - 8s 39ms/step - loss: 0.3162 - accuracy: 0.9026 - val_loss: 0.6688 - val_accuracy: 0.7867\n",
            "Epoch 74/100\n",
            "210/210 [==============================] - 8s 39ms/step - loss: 0.3317 - accuracy: 0.8967 - val_loss: 0.5323 - val_accuracy: 0.8301\n",
            "Epoch 75/100\n",
            "210/210 [==============================] - 8s 39ms/step - loss: 0.3161 - accuracy: 0.9061 - val_loss: 0.6663 - val_accuracy: 0.7781\n",
            "Epoch 76/100\n",
            "210/210 [==============================] - 8s 39ms/step - loss: 0.3160 - accuracy: 0.9033 - val_loss: 0.5872 - val_accuracy: 0.8033\n",
            "Epoch 77/100\n",
            "210/210 [==============================] - 8s 38ms/step - loss: 0.3152 - accuracy: 0.9033 - val_loss: 0.5166 - val_accuracy: 0.8371\n",
            "Epoch 78/100\n",
            "210/210 [==============================] - 8s 39ms/step - loss: 0.3039 - accuracy: 0.9090 - val_loss: 0.4601 - val_accuracy: 0.8529\n",
            "Epoch 79/100\n",
            "210/210 [==============================] - 8s 40ms/step - loss: 0.3076 - accuracy: 0.9069 - val_loss: 0.5382 - val_accuracy: 0.8260\n",
            "Epoch 80/100\n",
            "210/210 [==============================] - 8s 40ms/step - loss: 0.3064 - accuracy: 0.9066 - val_loss: 0.7144 - val_accuracy: 0.7781\n",
            "Epoch 81/100\n",
            "210/210 [==============================] - 8s 40ms/step - loss: 0.3050 - accuracy: 0.9076 - val_loss: 0.7173 - val_accuracy: 0.7686\n",
            "Epoch 82/100\n",
            "210/210 [==============================] - 8s 39ms/step - loss: 0.3043 - accuracy: 0.9081 - val_loss: 0.4431 - val_accuracy: 0.8589\n",
            "Epoch 83/100\n",
            "210/210 [==============================] - 8s 39ms/step - loss: 0.2931 - accuracy: 0.9110 - val_loss: 0.5725 - val_accuracy: 0.8149\n",
            "Epoch 84/100\n",
            "210/210 [==============================] - 8s 39ms/step - loss: 0.3062 - accuracy: 0.9077 - val_loss: 0.5973 - val_accuracy: 0.8082\n",
            "Epoch 85/100\n",
            "210/210 [==============================] - 8s 39ms/step - loss: 0.2824 - accuracy: 0.9145 - val_loss: 0.6698 - val_accuracy: 0.7766\n",
            "Epoch 86/100\n",
            "210/210 [==============================] - 8s 39ms/step - loss: 0.3035 - accuracy: 0.9069 - val_loss: 0.5736 - val_accuracy: 0.8158\n",
            "Epoch 87/100\n",
            "210/210 [==============================] - 8s 39ms/step - loss: 0.2847 - accuracy: 0.9142 - val_loss: 0.6411 - val_accuracy: 0.7935\n",
            "Epoch 88/100\n",
            "210/210 [==============================] - 8s 39ms/step - loss: 0.2926 - accuracy: 0.9110 - val_loss: 0.6313 - val_accuracy: 0.7996\n",
            "Epoch 89/100\n",
            "210/210 [==============================] - 8s 39ms/step - loss: 0.2945 - accuracy: 0.9108 - val_loss: 0.6138 - val_accuracy: 0.8005\n",
            "Epoch 90/100\n",
            "210/210 [==============================] - 8s 39ms/step - loss: 0.2865 - accuracy: 0.9133 - val_loss: 0.6250 - val_accuracy: 0.7931\n",
            "Epoch 91/100\n",
            "210/210 [==============================] - 8s 39ms/step - loss: 0.2858 - accuracy: 0.9152 - val_loss: 0.4944 - val_accuracy: 0.8394\n",
            "Epoch 92/100\n",
            "210/210 [==============================] - 8s 39ms/step - loss: 0.2857 - accuracy: 0.9136 - val_loss: 0.5458 - val_accuracy: 0.8262\n",
            "Epoch 93/100\n",
            "210/210 [==============================] - 8s 39ms/step - loss: 0.2817 - accuracy: 0.9160 - val_loss: 0.9887 - val_accuracy: 0.7336\n",
            "Epoch 94/100\n",
            "210/210 [==============================] - 8s 39ms/step - loss: 0.2852 - accuracy: 0.9136 - val_loss: 0.5662 - val_accuracy: 0.8179\n",
            "Epoch 95/100\n",
            "210/210 [==============================] - 8s 39ms/step - loss: 0.2838 - accuracy: 0.9129 - val_loss: 0.4580 - val_accuracy: 0.8555\n",
            "Epoch 96/100\n",
            "210/210 [==============================] - 8s 39ms/step - loss: 0.2769 - accuracy: 0.9155 - val_loss: 0.5751 - val_accuracy: 0.8174\n",
            "Epoch 97/100\n",
            "210/210 [==============================] - 8s 39ms/step - loss: 0.2820 - accuracy: 0.9147 - val_loss: 0.5048 - val_accuracy: 0.8333\n",
            "Epoch 98/100\n",
            "210/210 [==============================] - 8s 39ms/step - loss: 0.2731 - accuracy: 0.9178 - val_loss: 0.4744 - val_accuracy: 0.8487\n",
            "Epoch 99/100\n",
            "210/210 [==============================] - 8s 39ms/step - loss: 0.2649 - accuracy: 0.9187 - val_loss: 0.5757 - val_accuracy: 0.8172\n",
            "Epoch 100/100\n",
            "210/210 [==============================] - 8s 39ms/step - loss: 0.2709 - accuracy: 0.9167 - val_loss: 0.5062 - val_accuracy: 0.8392\n"
          ],
          "name": "stdout"
        }
      ]
    },
    {
      "cell_type": "code",
      "metadata": {
        "colab": {
          "base_uri": "https://localhost:8080/"
        },
        "id": "Pi5LU1UX3Zxw",
        "outputId": "0b8bed9c-7b6a-480e-ddda-22cb7c833cbb"
      },
      "source": [
        "print('NN model with dropout - adam optimizer'); print('--'*40)\n",
        "results6 = model6.evaluate(X_val, y_val)\n",
        "print('Validation accuracy: {}'.format(round(results6[1]*100, 2), '%'))"
      ],
      "execution_count": 88,
      "outputs": [
        {
          "output_type": "stream",
          "text": [
            "NN model with dropout - adam optimizer\n",
            "--------------------------------------------------------------------------------\n",
            "1875/1875 [==============================] - 9s 5ms/step - loss: 0.5062 - accuracy: 0.8392\n",
            "Validation accuracy: 83.92\n"
          ],
          "name": "stdout"
        }
      ]
    },
    {
      "cell_type": "markdown",
      "metadata": {
        "id": "q1V-hslG3g_B"
      },
      "source": [
        "**Observation:**\n",
        "\n",
        "\n",
        "*   Didn't result in any improvement of score.\n",
        "*   NN model, relu activations, SGD optimizers with weight initializers and batch normalization is still the best model.\n",
        "\n",
        "Let's try Batch Normalization and Dropout with Adam optimizer\n",
        "\n"
      ]
    },
    {
      "cell_type": "markdown",
      "metadata": {
        "id": "uV9RhlJe3xna"
      },
      "source": [
        "## **Prediction on test dataset using Model 3 - ReLU activations, Adam optimizers**"
      ]
    },
    {
      "cell_type": "code",
      "metadata": {
        "colab": {
          "base_uri": "https://localhost:8080/"
        },
        "id": "amVrstrR3eX8",
        "outputId": "72ecb7ec-49f8-4daa-9ca9-c0c29175efa5"
      },
      "source": [
        "print('NN model with relu activations and changing number of activators'); print('--'*40)\n",
        "# Initialize the neural network classifier\n",
        "model3 = Sequential()\n",
        "\n",
        "# Input Layer - adding input layer and activation functions relu\n",
        "model3.add(Dense(256, input_shape = (1024, )))\n",
        "# Adding activation function\n",
        "model3.add(Activation('relu'))\n",
        "\n",
        "#Hidden Layer 1 - adding first hidden layer\n",
        "model3.add(Dense(128))\n",
        "# Adding activation function\n",
        "model3.add(Activation('relu'))\n",
        "\n",
        "#Hidden Layer 2 - Adding second hidden layer\n",
        "model3.add(Dense(64))\n",
        "# Adding activation function\n",
        "model3.add(Activation('relu'))\n",
        "\n",
        "# Output Layer - adding output layer which is of 10 nodes (digits)\n",
        "model3.add(Dense(10))\n",
        "# Adding activation function - softmax for multiclass classification\n",
        "model3.add(Activation('softmax'))"
      ],
      "execution_count": 89,
      "outputs": [
        {
          "output_type": "stream",
          "text": [
            "NN model with relu activations and changing number of activators\n",
            "--------------------------------------------------------------------------------\n"
          ],
          "name": "stdout"
        }
      ]
    },
    {
      "cell_type": "code",
      "metadata": {
        "colab": {
          "base_uri": "https://localhost:8080/"
        },
        "id": "UmI_ukdJ38Ff",
        "outputId": "2a5049e6-c71a-4726-ae86-3cf392eb1122"
      },
      "source": [
        "# compiling the neural network classifier, adam optimizer\n",
        "adam = optimizers.Adam(lr = 0.001)\n",
        "model3.compile(optimizer = adam, loss = 'categorical_crossentropy', metrics = ['accuracy'])\n",
        "\n",
        "# Fitting the neural network for training\n",
        "history = model3.fit(X_train, y_train, validation_data = (X_val, y_val), batch_size = 200, epochs = 100, verbose = 1)"
      ],
      "execution_count": 90,
      "outputs": [
        {
          "output_type": "stream",
          "text": [
            "Epoch 1/100\n",
            "210/210 [==============================] - 4s 18ms/step - loss: 2.3123 - accuracy: 0.1051 - val_loss: 2.2075 - val_accuracy: 0.1655\n",
            "Epoch 2/100\n",
            "210/210 [==============================] - 4s 17ms/step - loss: 2.0376 - accuracy: 0.2626 - val_loss: 1.5049 - val_accuracy: 0.5069\n",
            "Epoch 3/100\n",
            "210/210 [==============================] - 3s 17ms/step - loss: 1.4453 - accuracy: 0.5240 - val_loss: 1.2718 - val_accuracy: 0.5929\n",
            "Epoch 4/100\n",
            "210/210 [==============================] - 4s 17ms/step - loss: 1.2240 - accuracy: 0.6136 - val_loss: 1.1598 - val_accuracy: 0.6342\n",
            "Epoch 5/100\n",
            "210/210 [==============================] - 3s 16ms/step - loss: 1.1127 - accuracy: 0.6525 - val_loss: 1.0187 - val_accuracy: 0.6878\n",
            "Epoch 6/100\n",
            "210/210 [==============================] - 3s 16ms/step - loss: 1.0129 - accuracy: 0.6854 - val_loss: 0.9758 - val_accuracy: 0.7000\n",
            "Epoch 7/100\n",
            "210/210 [==============================] - 3s 17ms/step - loss: 0.9686 - accuracy: 0.7007 - val_loss: 0.9654 - val_accuracy: 0.6982\n",
            "Epoch 8/100\n",
            "210/210 [==============================] - 3s 17ms/step - loss: 0.9385 - accuracy: 0.7107 - val_loss: 0.9348 - val_accuracy: 0.7113\n",
            "Epoch 9/100\n",
            "210/210 [==============================] - 3s 17ms/step - loss: 0.9025 - accuracy: 0.7217 - val_loss: 0.8983 - val_accuracy: 0.7217\n",
            "Epoch 10/100\n",
            "210/210 [==============================] - 4s 17ms/step - loss: 0.8574 - accuracy: 0.7339 - val_loss: 0.8528 - val_accuracy: 0.7359\n",
            "Epoch 11/100\n",
            "210/210 [==============================] - 4s 17ms/step - loss: 0.8338 - accuracy: 0.7427 - val_loss: 0.8272 - val_accuracy: 0.7438\n",
            "Epoch 12/100\n",
            "210/210 [==============================] - 3s 17ms/step - loss: 0.8057 - accuracy: 0.7521 - val_loss: 0.8158 - val_accuracy: 0.7490\n",
            "Epoch 13/100\n",
            "210/210 [==============================] - 4s 17ms/step - loss: 0.7883 - accuracy: 0.7574 - val_loss: 0.7612 - val_accuracy: 0.7667\n",
            "Epoch 14/100\n",
            "210/210 [==============================] - 3s 17ms/step - loss: 0.7682 - accuracy: 0.7644 - val_loss: 0.7490 - val_accuracy: 0.7703\n",
            "Epoch 15/100\n",
            "210/210 [==============================] - 4s 17ms/step - loss: 0.7554 - accuracy: 0.7664 - val_loss: 0.7312 - val_accuracy: 0.7772\n",
            "Epoch 16/100\n",
            "210/210 [==============================] - 4s 17ms/step - loss: 0.7323 - accuracy: 0.7737 - val_loss: 0.7603 - val_accuracy: 0.7653\n",
            "Epoch 17/100\n",
            "210/210 [==============================] - 4s 17ms/step - loss: 0.7231 - accuracy: 0.7770 - val_loss: 0.7028 - val_accuracy: 0.7869\n",
            "Epoch 18/100\n",
            "210/210 [==============================] - 4s 17ms/step - loss: 0.6864 - accuracy: 0.7877 - val_loss: 0.7212 - val_accuracy: 0.7797\n",
            "Epoch 19/100\n",
            "210/210 [==============================] - 4s 18ms/step - loss: 0.6913 - accuracy: 0.7887 - val_loss: 0.7404 - val_accuracy: 0.7691\n",
            "Epoch 20/100\n",
            "210/210 [==============================] - 4s 17ms/step - loss: 0.6821 - accuracy: 0.7907 - val_loss: 0.6550 - val_accuracy: 0.8014\n",
            "Epoch 21/100\n",
            "210/210 [==============================] - 4s 17ms/step - loss: 0.6554 - accuracy: 0.7968 - val_loss: 0.6739 - val_accuracy: 0.7961\n",
            "Epoch 22/100\n",
            "210/210 [==============================] - 4s 17ms/step - loss: 0.6529 - accuracy: 0.7988 - val_loss: 0.6682 - val_accuracy: 0.7980\n",
            "Epoch 23/100\n",
            "210/210 [==============================] - 4s 17ms/step - loss: 0.6326 - accuracy: 0.8052 - val_loss: 0.6342 - val_accuracy: 0.8082\n",
            "Epoch 24/100\n",
            "210/210 [==============================] - 3s 17ms/step - loss: 0.6199 - accuracy: 0.8078 - val_loss: 0.6628 - val_accuracy: 0.7991\n",
            "Epoch 25/100\n",
            "210/210 [==============================] - 3s 16ms/step - loss: 0.6239 - accuracy: 0.8090 - val_loss: 0.6184 - val_accuracy: 0.8143\n",
            "Epoch 26/100\n",
            "210/210 [==============================] - 4s 17ms/step - loss: 0.6110 - accuracy: 0.8131 - val_loss: 0.6296 - val_accuracy: 0.8063\n",
            "Epoch 27/100\n",
            "210/210 [==============================] - 4s 17ms/step - loss: 0.5959 - accuracy: 0.8136 - val_loss: 0.6121 - val_accuracy: 0.8135\n",
            "Epoch 28/100\n",
            "210/210 [==============================] - 4s 17ms/step - loss: 0.5851 - accuracy: 0.8179 - val_loss: 0.6141 - val_accuracy: 0.8130\n",
            "Epoch 29/100\n",
            "210/210 [==============================] - 4s 17ms/step - loss: 0.5736 - accuracy: 0.8240 - val_loss: 0.5789 - val_accuracy: 0.8266\n",
            "Epoch 30/100\n",
            "210/210 [==============================] - 4s 17ms/step - loss: 0.5684 - accuracy: 0.8242 - val_loss: 0.5622 - val_accuracy: 0.8299\n",
            "Epoch 31/100\n",
            "210/210 [==============================] - 4s 17ms/step - loss: 0.5394 - accuracy: 0.8362 - val_loss: 0.5864 - val_accuracy: 0.8215\n",
            "Epoch 32/100\n",
            "210/210 [==============================] - 3s 17ms/step - loss: 0.5473 - accuracy: 0.8308 - val_loss: 0.5753 - val_accuracy: 0.8243\n",
            "Epoch 33/100\n",
            "210/210 [==============================] - 3s 17ms/step - loss: 0.5377 - accuracy: 0.8319 - val_loss: 0.5992 - val_accuracy: 0.8183\n",
            "Epoch 34/100\n",
            "210/210 [==============================] - 3s 17ms/step - loss: 0.5385 - accuracy: 0.8335 - val_loss: 0.6203 - val_accuracy: 0.8089\n",
            "Epoch 35/100\n",
            "210/210 [==============================] - 4s 17ms/step - loss: 0.5304 - accuracy: 0.8371 - val_loss: 0.5524 - val_accuracy: 0.8328\n",
            "Epoch 36/100\n",
            "210/210 [==============================] - 4s 17ms/step - loss: 0.5168 - accuracy: 0.8385 - val_loss: 0.5287 - val_accuracy: 0.8413\n",
            "Epoch 37/100\n",
            "210/210 [==============================] - 4s 17ms/step - loss: 0.5124 - accuracy: 0.8413 - val_loss: 0.5536 - val_accuracy: 0.8290\n",
            "Epoch 38/100\n",
            "210/210 [==============================] - 3s 17ms/step - loss: 0.5004 - accuracy: 0.8445 - val_loss: 0.5572 - val_accuracy: 0.8295\n",
            "Epoch 39/100\n",
            "210/210 [==============================] - 4s 17ms/step - loss: 0.5054 - accuracy: 0.8439 - val_loss: 0.5274 - val_accuracy: 0.8404\n",
            "Epoch 40/100\n",
            "210/210 [==============================] - 4s 17ms/step - loss: 0.5001 - accuracy: 0.8414 - val_loss: 0.5328 - val_accuracy: 0.8383\n",
            "Epoch 41/100\n",
            "210/210 [==============================] - 4s 17ms/step - loss: 0.4950 - accuracy: 0.8449 - val_loss: 0.5205 - val_accuracy: 0.8420\n",
            "Epoch 42/100\n",
            "210/210 [==============================] - 4s 17ms/step - loss: 0.4893 - accuracy: 0.8488 - val_loss: 0.5488 - val_accuracy: 0.8330\n",
            "Epoch 43/100\n",
            "210/210 [==============================] - 4s 17ms/step - loss: 0.4811 - accuracy: 0.8505 - val_loss: 0.5355 - val_accuracy: 0.8389\n",
            "Epoch 44/100\n",
            "210/210 [==============================] - 4s 17ms/step - loss: 0.4830 - accuracy: 0.8485 - val_loss: 0.5166 - val_accuracy: 0.8429\n",
            "Epoch 45/100\n",
            "210/210 [==============================] - 4s 17ms/step - loss: 0.4719 - accuracy: 0.8535 - val_loss: 0.5125 - val_accuracy: 0.8446\n",
            "Epoch 46/100\n",
            "210/210 [==============================] - 4s 17ms/step - loss: 0.4784 - accuracy: 0.8524 - val_loss: 0.5102 - val_accuracy: 0.8464\n",
            "Epoch 47/100\n",
            "210/210 [==============================] - 4s 17ms/step - loss: 0.4538 - accuracy: 0.8581 - val_loss: 0.5232 - val_accuracy: 0.8415\n",
            "Epoch 48/100\n",
            "210/210 [==============================] - 4s 17ms/step - loss: 0.4493 - accuracy: 0.8591 - val_loss: 0.5023 - val_accuracy: 0.8488\n",
            "Epoch 49/100\n",
            "210/210 [==============================] - 4s 17ms/step - loss: 0.4423 - accuracy: 0.8603 - val_loss: 0.5151 - val_accuracy: 0.8445\n",
            "Epoch 50/100\n",
            "210/210 [==============================] - 4s 17ms/step - loss: 0.4564 - accuracy: 0.8546 - val_loss: 0.5141 - val_accuracy: 0.8451\n",
            "Epoch 51/100\n",
            "210/210 [==============================] - 4s 17ms/step - loss: 0.4541 - accuracy: 0.8543 - val_loss: 0.4889 - val_accuracy: 0.8536\n",
            "Epoch 52/100\n",
            "210/210 [==============================] - 4s 17ms/step - loss: 0.4431 - accuracy: 0.8621 - val_loss: 0.4859 - val_accuracy: 0.8545\n",
            "Epoch 53/100\n",
            "210/210 [==============================] - 4s 17ms/step - loss: 0.4282 - accuracy: 0.8679 - val_loss: 0.5422 - val_accuracy: 0.8359\n",
            "Epoch 54/100\n",
            "210/210 [==============================] - 4s 17ms/step - loss: 0.4423 - accuracy: 0.8606 - val_loss: 0.5015 - val_accuracy: 0.8478\n",
            "Epoch 55/100\n",
            "210/210 [==============================] - 4s 17ms/step - loss: 0.4197 - accuracy: 0.8688 - val_loss: 0.4798 - val_accuracy: 0.8566\n",
            "Epoch 56/100\n",
            "210/210 [==============================] - 4s 17ms/step - loss: 0.4310 - accuracy: 0.8636 - val_loss: 0.4693 - val_accuracy: 0.8594\n",
            "Epoch 57/100\n",
            "210/210 [==============================] - 4s 17ms/step - loss: 0.4283 - accuracy: 0.8666 - val_loss: 0.5344 - val_accuracy: 0.8352\n",
            "Epoch 58/100\n",
            "210/210 [==============================] - 4s 17ms/step - loss: 0.4253 - accuracy: 0.8668 - val_loss: 0.4799 - val_accuracy: 0.8547\n",
            "Epoch 59/100\n",
            "210/210 [==============================] - 4s 17ms/step - loss: 0.4164 - accuracy: 0.8678 - val_loss: 0.4966 - val_accuracy: 0.8500\n",
            "Epoch 60/100\n",
            "210/210 [==============================] - 4s 17ms/step - loss: 0.4094 - accuracy: 0.8700 - val_loss: 0.4965 - val_accuracy: 0.8487\n",
            "Epoch 61/100\n",
            "210/210 [==============================] - 4s 17ms/step - loss: 0.4148 - accuracy: 0.8693 - val_loss: 0.4765 - val_accuracy: 0.8583\n",
            "Epoch 62/100\n",
            "210/210 [==============================] - 3s 16ms/step - loss: 0.3975 - accuracy: 0.8766 - val_loss: 0.4702 - val_accuracy: 0.8597\n",
            "Epoch 63/100\n",
            "210/210 [==============================] - 4s 17ms/step - loss: 0.3890 - accuracy: 0.8771 - val_loss: 0.4997 - val_accuracy: 0.8474\n",
            "Epoch 64/100\n",
            "210/210 [==============================] - 4s 18ms/step - loss: 0.4066 - accuracy: 0.8692 - val_loss: 0.4540 - val_accuracy: 0.8638\n",
            "Epoch 65/100\n",
            "210/210 [==============================] - 4s 18ms/step - loss: 0.3881 - accuracy: 0.8772 - val_loss: 0.4446 - val_accuracy: 0.8686\n",
            "Epoch 66/100\n",
            "210/210 [==============================] - 4s 17ms/step - loss: 0.3998 - accuracy: 0.8744 - val_loss: 0.4521 - val_accuracy: 0.8658\n",
            "Epoch 67/100\n",
            "210/210 [==============================] - 4s 17ms/step - loss: 0.3903 - accuracy: 0.8779 - val_loss: 0.4363 - val_accuracy: 0.8711\n",
            "Epoch 68/100\n",
            "210/210 [==============================] - 4s 17ms/step - loss: 0.3871 - accuracy: 0.8774 - val_loss: 0.4598 - val_accuracy: 0.8620\n",
            "Epoch 69/100\n",
            "210/210 [==============================] - 4s 17ms/step - loss: 0.3974 - accuracy: 0.8741 - val_loss: 0.4514 - val_accuracy: 0.8659\n",
            "Epoch 70/100\n",
            "210/210 [==============================] - 4s 17ms/step - loss: 0.3777 - accuracy: 0.8806 - val_loss: 0.4678 - val_accuracy: 0.8595\n",
            "Epoch 71/100\n",
            "210/210 [==============================] - 3s 17ms/step - loss: 0.3761 - accuracy: 0.8826 - val_loss: 0.4659 - val_accuracy: 0.8615\n",
            "Epoch 72/100\n",
            "210/210 [==============================] - 4s 17ms/step - loss: 0.3838 - accuracy: 0.8782 - val_loss: 0.4918 - val_accuracy: 0.8548\n",
            "Epoch 73/100\n",
            "210/210 [==============================] - 4s 17ms/step - loss: 0.3863 - accuracy: 0.8775 - val_loss: 0.4400 - val_accuracy: 0.8692\n",
            "Epoch 74/100\n",
            "210/210 [==============================] - 4s 17ms/step - loss: 0.3851 - accuracy: 0.8787 - val_loss: 0.4346 - val_accuracy: 0.8719\n",
            "Epoch 75/100\n",
            "210/210 [==============================] - 4s 17ms/step - loss: 0.3507 - accuracy: 0.8895 - val_loss: 0.5015 - val_accuracy: 0.8490\n",
            "Epoch 76/100\n",
            "210/210 [==============================] - 4s 17ms/step - loss: 0.3721 - accuracy: 0.8816 - val_loss: 0.4226 - val_accuracy: 0.8756\n",
            "Epoch 77/100\n",
            "210/210 [==============================] - 4s 17ms/step - loss: 0.3617 - accuracy: 0.8877 - val_loss: 0.4640 - val_accuracy: 0.8614\n",
            "Epoch 78/100\n",
            "210/210 [==============================] - 4s 17ms/step - loss: 0.3606 - accuracy: 0.8852 - val_loss: 0.4358 - val_accuracy: 0.8689\n",
            "Epoch 79/100\n",
            "210/210 [==============================] - 4s 17ms/step - loss: 0.3614 - accuracy: 0.8840 - val_loss: 0.4348 - val_accuracy: 0.8716\n",
            "Epoch 80/100\n",
            "210/210 [==============================] - 4s 17ms/step - loss: 0.3481 - accuracy: 0.8907 - val_loss: 0.4464 - val_accuracy: 0.8687\n",
            "Epoch 81/100\n",
            "210/210 [==============================] - 4s 17ms/step - loss: 0.3445 - accuracy: 0.8893 - val_loss: 0.4351 - val_accuracy: 0.8712\n",
            "Epoch 82/100\n",
            "210/210 [==============================] - 4s 17ms/step - loss: 0.3536 - accuracy: 0.8887 - val_loss: 0.4405 - val_accuracy: 0.8686\n",
            "Epoch 83/100\n",
            "210/210 [==============================] - 4s 17ms/step - loss: 0.3618 - accuracy: 0.8835 - val_loss: 0.4127 - val_accuracy: 0.8805\n",
            "Epoch 84/100\n",
            "210/210 [==============================] - 4s 17ms/step - loss: 0.3496 - accuracy: 0.8861 - val_loss: 0.4160 - val_accuracy: 0.8776\n",
            "Epoch 85/100\n",
            "210/210 [==============================] - 4s 18ms/step - loss: 0.3363 - accuracy: 0.8929 - val_loss: 0.4476 - val_accuracy: 0.8656\n",
            "Epoch 86/100\n",
            "210/210 [==============================] - 4s 18ms/step - loss: 0.3435 - accuracy: 0.8901 - val_loss: 0.4532 - val_accuracy: 0.8684\n",
            "Epoch 87/100\n",
            "210/210 [==============================] - 4s 17ms/step - loss: 0.3455 - accuracy: 0.8907 - val_loss: 0.4003 - val_accuracy: 0.8830\n",
            "Epoch 88/100\n",
            "210/210 [==============================] - 4s 17ms/step - loss: 0.3299 - accuracy: 0.8936 - val_loss: 0.4258 - val_accuracy: 0.8764\n",
            "Epoch 89/100\n",
            "210/210 [==============================] - 4s 18ms/step - loss: 0.3393 - accuracy: 0.8920 - val_loss: 0.4447 - val_accuracy: 0.8696\n",
            "Epoch 90/100\n",
            "210/210 [==============================] - 4s 17ms/step - loss: 0.3259 - accuracy: 0.8966 - val_loss: 0.4122 - val_accuracy: 0.8785\n",
            "Epoch 91/100\n",
            "210/210 [==============================] - 4s 17ms/step - loss: 0.3231 - accuracy: 0.8981 - val_loss: 0.4504 - val_accuracy: 0.8658\n",
            "Epoch 92/100\n",
            "210/210 [==============================] - 4s 17ms/step - loss: 0.3310 - accuracy: 0.8940 - val_loss: 0.4323 - val_accuracy: 0.8727\n",
            "Epoch 93/100\n",
            "210/210 [==============================] - 4s 17ms/step - loss: 0.3340 - accuracy: 0.8915 - val_loss: 0.4304 - val_accuracy: 0.8754\n",
            "Epoch 94/100\n",
            "210/210 [==============================] - 4s 17ms/step - loss: 0.3225 - accuracy: 0.8986 - val_loss: 0.4680 - val_accuracy: 0.8613\n",
            "Epoch 95/100\n",
            "210/210 [==============================] - 4s 17ms/step - loss: 0.3378 - accuracy: 0.8928 - val_loss: 0.4523 - val_accuracy: 0.8671\n",
            "Epoch 96/100\n",
            "210/210 [==============================] - 4s 17ms/step - loss: 0.3302 - accuracy: 0.8947 - val_loss: 0.3973 - val_accuracy: 0.8864\n",
            "Epoch 97/100\n",
            "210/210 [==============================] - 4s 18ms/step - loss: 0.3144 - accuracy: 0.8986 - val_loss: 0.4003 - val_accuracy: 0.8839\n",
            "Epoch 98/100\n",
            "210/210 [==============================] - 4s 17ms/step - loss: 0.3160 - accuracy: 0.8983 - val_loss: 0.3912 - val_accuracy: 0.8885\n",
            "Epoch 99/100\n",
            "210/210 [==============================] - 4s 17ms/step - loss: 0.3126 - accuracy: 0.8991 - val_loss: 0.4077 - val_accuracy: 0.8839\n",
            "Epoch 100/100\n",
            "210/210 [==============================] - 4s 18ms/step - loss: 0.3065 - accuracy: 0.9016 - val_loss: 0.3955 - val_accuracy: 0.8863\n"
          ],
          "name": "stdout"
        }
      ]
    },
    {
      "cell_type": "code",
      "metadata": {
        "colab": {
          "base_uri": "https://localhost:8080/"
        },
        "id": "535J2nsZ3-p_",
        "outputId": "c4b95f61-5c29-4a02-cf28-0dc53bc462d7"
      },
      "source": [
        "print('NN with batch normalization'); print('--'*40)\n",
        "results3 = model3.evaluate(X_val, y_val)\n",
        "print('Validation accuracy: {}'.format(round(results3[1]*100, 2), '%'))"
      ],
      "execution_count": 91,
      "outputs": [
        {
          "output_type": "stream",
          "text": [
            "NN with batch normalization\n",
            "--------------------------------------------------------------------------------\n",
            "1875/1875 [==============================] - 5s 3ms/step - loss: 0.3955 - accuracy: 0.8863\n",
            "Validation accuracy: 88.63\n"
          ],
          "name": "stdout"
        }
      ]
    },
    {
      "cell_type": "code",
      "metadata": {
        "colab": {
          "base_uri": "https://localhost:8080/"
        },
        "id": "xxckcIdy4R-g",
        "outputId": "00c71060-d020-4dd6-97b9-1c022e52b366"
      },
      "source": [
        "print('Testing the model on test dataset')\n",
        "predictions = model3.predict_classes(X_test)\n",
        "score = model3.evaluate(X_test, y_test)\n",
        "print('Test loss :', score[0])\n",
        "print('Test accuracy :', score[1])"
      ],
      "execution_count": 92,
      "outputs": [
        {
          "output_type": "stream",
          "text": [
            "Testing the model on test dataset\n"
          ],
          "name": "stdout"
        },
        {
          "output_type": "stream",
          "text": [
            "/usr/local/lib/python3.7/dist-packages/tensorflow/python/keras/engine/sequential.py:450: UserWarning: `model.predict_classes()` is deprecated and will be removed after 2021-01-01. Please use instead:* `np.argmax(model.predict(x), axis=-1)`,   if your model does multi-class classification   (e.g. if it uses a `softmax` last-layer activation).* `(model.predict(x) > 0.5).astype(\"int32\")`,   if your model does binary classification   (e.g. if it uses a `sigmoid` last-layer activation).\n",
            "  warnings.warn('`model.predict_classes()` is deprecated and '\n"
          ],
          "name": "stderr"
        },
        {
          "output_type": "stream",
          "text": [
            "563/563 [==============================] - 2s 3ms/step - loss: 0.6680 - accuracy: 0.8281\n",
            "Test loss : 0.6679835319519043\n",
            "Test accuracy : 0.8281111121177673\n"
          ],
          "name": "stdout"
        }
      ]
    },
    {
      "cell_type": "code",
      "metadata": {
        "colab": {
          "base_uri": "https://localhost:8080/"
        },
        "id": "Qy-JymMm6frU",
        "outputId": "63aac236-cb1a-428a-fc0d-07f09d5140ea"
      },
      "source": [
        "print('Classification Report'); print('--'*40)\n",
        "print(classification_report(y_test_o, predictions))"
      ],
      "execution_count": 93,
      "outputs": [
        {
          "output_type": "stream",
          "text": [
            "Classification Report\n",
            "--------------------------------------------------------------------------------\n",
            "              precision    recall  f1-score   support\n",
            "\n",
            "           0       0.88      0.85      0.86      1814\n",
            "           1       0.82      0.86      0.84      1828\n",
            "           2       0.85      0.82      0.83      1803\n",
            "           3       0.79      0.79      0.79      1719\n",
            "           4       0.88      0.85      0.87      1812\n",
            "           5       0.77      0.83      0.80      1768\n",
            "           6       0.80      0.84      0.82      1832\n",
            "           7       0.88      0.84      0.86      1808\n",
            "           8       0.80      0.80      0.80      1812\n",
            "           9       0.83      0.80      0.82      1804\n",
            "\n",
            "    accuracy                           0.83     18000\n",
            "   macro avg       0.83      0.83      0.83     18000\n",
            "weighted avg       0.83      0.83      0.83     18000\n",
            "\n"
          ],
          "name": "stdout"
        }
      ]
    },
    {
      "cell_type": "code",
      "metadata": {
        "colab": {
          "base_uri": "https://localhost:8080/",
          "height": 624
        },
        "id": "7fOCaOcY6lAl",
        "outputId": "3d4a8fd8-ea01-4a87-a039-5e4146651366"
      },
      "source": [
        "print('Confusion matrix')\n",
        "plt.figure(figsize = (15, 10))\n",
        "sns.heatmap(confusion_matrix(y_test_o, predictions), annot = True)"
      ],
      "execution_count": 94,
      "outputs": [
        {
          "output_type": "stream",
          "text": [
            "Confusion matrix\n"
          ],
          "name": "stdout"
        },
        {
          "output_type": "execute_result",
          "data": {
            "text/plain": [
              "<matplotlib.axes._subplots.AxesSubplot at 0x7fcef37a0e90>"
            ]
          },
          "metadata": {
            "tags": []
          },
          "execution_count": 94
        },
        {
          "output_type": "display_data",
          "data": {
            "image/png": "[encoded data removed]",
            "text/plain": [
              "<Figure size 1080x720 with 2 Axes>"
            ]
          },
          "metadata": {
            "tags": [],
            "needs_background": "light"
          }
        }
      ]
    },
    {
      "cell_type": "code",
      "metadata": {
        "colab": {
          "base_uri": "https://localhost:8080/",
          "height": 575
        },
        "id": "TkX_7FzI6ply",
        "outputId": "b7a1e778-2592-428f-a800-f106bb533bab"
      },
      "source": [
        "# summarize history for accuracy\n",
        "plt.plot(history.history['accuracy'])\n",
        "plt.plot(history.history['val_accuracy'])\n",
        "plt.title('Model3 Accuracy')\n",
        "plt.ylabel('accuracy')\n",
        "plt.xlabel('epoch')\n",
        "plt.legend(['Train', 'Validation'], loc = 'upper left')\n",
        "plt.show()\n",
        "\n",
        "# summarize history for loss\n",
        "plt.plot(history.history['loss'])\n",
        "plt.plot(history.history['val_loss'])\n",
        "plt.title('Model3 Loss')\n",
        "plt.ylabel('loss')\n",
        "plt.xlabel('epoch')\n",
        "plt.legend(['Train', 'Validation'], loc = 'upper left')\n",
        "plt.show()"
      ],
      "execution_count": 105,
      "outputs": [
        {
          "output_type": "display_data",
          "data": {
            "image/png": "[encoded data removed]",
            "text/plain": [
              "<Figure size 432x288 with 1 Axes>"
            ]
          },
          "metadata": {
            "tags": [],
            "needs_background": "light"
          }
        },
        {
          "output_type": "display_data",
          "data": {
            "image/png": "[encoded data removed]",
            "text/plain": [
              "<Figure size 432x288 with 1 Axes>"
            ]
          },
          "metadata": {
            "tags": [],
            "needs_background": "light"
          }
        }
      ]
    },
    {
      "cell_type": "code",
      "metadata": {
        "colab": {
          "base_uri": "https://localhost:8080/"
        },
        "id": "zBFtJJDe6tcI",
        "outputId": "37bba383-87f7-4575-bf3d-7b35b7f507cb"
      },
      "source": [
        "model3.predict_classes(X_test)[5]"
      ],
      "execution_count": 97,
      "outputs": [
        {
          "output_type": "stream",
          "text": [
            "/usr/local/lib/python3.7/dist-packages/tensorflow/python/keras/engine/sequential.py:450: UserWarning: `model.predict_classes()` is deprecated and will be removed after 2021-01-01. Please use instead:* `np.argmax(model.predict(x), axis=-1)`,   if your model does multi-class classification   (e.g. if it uses a `softmax` last-layer activation).* `(model.predict(x) > 0.5).astype(\"int32\")`,   if your model does binary classification   (e.g. if it uses a `sigmoid` last-layer activation).\n",
            "  warnings.warn('`model.predict_classes()` is deprecated and '\n"
          ],
          "name": "stderr"
        },
        {
          "output_type": "execute_result",
          "data": {
            "text/plain": [
              "9"
            ]
          },
          "metadata": {
            "tags": []
          },
          "execution_count": 97
        }
      ]
    },
    {
      "cell_type": "code",
      "metadata": {
        "colab": {
          "base_uri": "https://localhost:8080/",
          "height": 280
        },
        "id": "ZP_1GQn77BtK",
        "outputId": "ac789e37-3524-440f-9bc9-45a7edf86818"
      },
      "source": [
        "#Showing the image\n",
        "plt.imshow(X_test[20].reshape(32, 32), cmap = 'gray')"
      ],
      "execution_count": 98,
      "outputs": [
        {
          "output_type": "execute_result",
          "data": {
            "text/plain": [
              "<matplotlib.image.AxesImage at 0x7fcef2df01d0>"
            ]
          },
          "metadata": {
            "tags": []
          },
          "execution_count": 98
        },
        {
          "output_type": "display_data",
          "data": {
            "image/png": "[encoded data removed]",
            "text/plain": [
              "<Figure size 432x288 with 1 Axes>"
            ]
          },
          "metadata": {
            "tags": [],
            "needs_background": "light"
          }
        }
      ]
    },
    {
      "cell_type": "code",
      "metadata": {
        "colab": {
          "base_uri": "https://localhost:8080/"
        },
        "id": "5MTn6xYI7BpP",
        "outputId": "7f43c20b-e857-4658-f50d-7c3c2d90c855"
      },
      "source": [
        "model3.predict_classes(X_test)[20]"
      ],
      "execution_count": 99,
      "outputs": [
        {
          "output_type": "stream",
          "text": [
            "/usr/local/lib/python3.7/dist-packages/tensorflow/python/keras/engine/sequential.py:450: UserWarning: `model.predict_classes()` is deprecated and will be removed after 2021-01-01. Please use instead:* `np.argmax(model.predict(x), axis=-1)`,   if your model does multi-class classification   (e.g. if it uses a `softmax` last-layer activation).* `(model.predict(x) > 0.5).astype(\"int32\")`,   if your model does binary classification   (e.g. if it uses a `sigmoid` last-layer activation).\n",
            "  warnings.warn('`model.predict_classes()` is deprecated and '\n"
          ],
          "name": "stderr"
        },
        {
          "output_type": "execute_result",
          "data": {
            "text/plain": [
              "0"
            ]
          },
          "metadata": {
            "tags": []
          },
          "execution_count": 99
        }
      ]
    },
    {
      "cell_type": "code",
      "metadata": {
        "colab": {
          "base_uri": "https://localhost:8080/",
          "height": 280
        },
        "id": "vdXR3mfz7BjV",
        "outputId": "2b2a771f-0e2b-46b9-8a8b-d704c549d138"
      },
      "source": [
        "plt.imshow(X_test[10].reshape(32, 32), cmap = 'gray')"
      ],
      "execution_count": 100,
      "outputs": [
        {
          "output_type": "execute_result",
          "data": {
            "text/plain": [
              "<matplotlib.image.AxesImage at 0x7fcef2d4a8d0>"
            ]
          },
          "metadata": {
            "tags": []
          },
          "execution_count": 100
        },
        {
          "output_type": "display_data",
          "data": {
            "image/png": "[encoded data removed]",
            "text/plain": [
              "<Figure size 432x288 with 1 Axes>"
            ]
          },
          "metadata": {
            "tags": [],
            "needs_background": "light"
          }
        }
      ]
    },
    {
      "cell_type": "code",
      "metadata": {
        "colab": {
          "base_uri": "https://localhost:8080/"
        },
        "id": "8nA7-vNb7BYf",
        "outputId": "13a76db9-ddc8-4903-a413-e264c930c7f3"
      },
      "source": [
        "model3.predict_classes(X_test)[10]"
      ],
      "execution_count": 101,
      "outputs": [
        {
          "output_type": "stream",
          "text": [
            "/usr/local/lib/python3.7/dist-packages/tensorflow/python/keras/engine/sequential.py:450: UserWarning: `model.predict_classes()` is deprecated and will be removed after 2021-01-01. Please use instead:* `np.argmax(model.predict(x), axis=-1)`,   if your model does multi-class classification   (e.g. if it uses a `softmax` last-layer activation).* `(model.predict(x) > 0.5).astype(\"int32\")`,   if your model does binary classification   (e.g. if it uses a `sigmoid` last-layer activation).\n",
            "  warnings.warn('`model.predict_classes()` is deprecated and '\n"
          ],
          "name": "stderr"
        },
        {
          "output_type": "execute_result",
          "data": {
            "text/plain": [
              "6"
            ]
          },
          "metadata": {
            "tags": []
          },
          "execution_count": 101
        }
      ]
    },
    {
      "cell_type": "markdown",
      "metadata": {
        "id": "WrG6nDUI7NIQ"
      },
      "source": [
        "# **Conclusion**\n",
        "\n",
        "- Evaluated the accuracy using two methods i.e. baby sitting the NN and NN through API. \n",
        "- Followed all the required steps starting with loading the datasets to performing hyperparameter optimization and running a finer search by using a finer range. \n",
        "- Explored different options in optimizers, number of activators, learning rate and activation methods in NN through API. \n",
        "- Found that baby sitting process achieved the best accuracy of 21% using hyper parameter optimization. \n",
        "- It might have been further improved but that's the trade off vs time taken to run the script. \n",
        "- NN through API method achieved best accuracy of 90% on validation set. \n",
        "- Also printed the classification report, visualized the confusion matrix and summarized history for accuracy and loss."
      ]
    },
    {
      "cell_type": "code",
      "metadata": {
        "colab": {
          "base_uri": "https://localhost:8080/"
        },
        "id": "E4Hof0cM7jZ1",
        "outputId": "96c4f265-0006-4d06-ee89-4543579b906c"
      },
      "source": [
        "!pip install nbconvert"
      ],
      "execution_count": 106,
      "outputs": [
        {
          "output_type": "stream",
          "text": [
            "Requirement already satisfied: nbconvert in /usr/local/lib/python3.7/dist-packages (5.6.1)\n",
            "Requirement already satisfied: defusedxml in /usr/local/lib/python3.7/dist-packages (from nbconvert) (0.7.1)\n",
            "Requirement already satisfied: mistune<2,>=0.8.1 in /usr/local/lib/python3.7/dist-packages (from nbconvert) (0.8.4)\n",
            "Requirement already satisfied: bleach in /usr/local/lib/python3.7/dist-packages (from nbconvert) (3.3.0)\n",
            "Requirement already satisfied: jupyter-core in /usr/local/lib/python3.7/dist-packages (from nbconvert) (4.7.1)\n",
            "Requirement already satisfied: jinja2>=2.4 in /usr/local/lib/python3.7/dist-packages (from nbconvert) (2.11.3)\n",
            "Requirement already satisfied: pygments in /usr/local/lib/python3.7/dist-packages (from nbconvert) (2.6.1)\n",
            "Requirement already satisfied: nbformat>=4.4 in /usr/local/lib/python3.7/dist-packages (from nbconvert) (5.1.3)\n",
            "Requirement already satisfied: testpath in /usr/local/lib/python3.7/dist-packages (from nbconvert) (0.4.4)\n",
            "Requirement already satisfied: entrypoints>=0.2.2 in /usr/local/lib/python3.7/dist-packages (from nbconvert) (0.3)\n",
            "Requirement already satisfied: pandocfilters>=1.4.1 in /usr/local/lib/python3.7/dist-packages (from nbconvert) (1.4.3)\n",
            "Requirement already satisfied: traitlets>=4.2 in /usr/local/lib/python3.7/dist-packages (from nbconvert) (5.0.5)\n",
            "Requirement already satisfied: webencodings in /usr/local/lib/python3.7/dist-packages (from bleach->nbconvert) (0.5.1)\n",
            "Requirement already satisfied: six>=1.9.0 in /usr/local/lib/python3.7/dist-packages (from bleach->nbconvert) (1.15.0)\n",
            "Requirement already satisfied: packaging in /usr/local/lib/python3.7/dist-packages (from bleach->nbconvert) (20.9)\n",
            "Requirement already satisfied: MarkupSafe>=0.23 in /usr/local/lib/python3.7/dist-packages (from jinja2>=2.4->nbconvert) (1.1.1)\n",
            "Requirement already satisfied: jsonschema!=2.5.0,>=2.4 in /usr/local/lib/python3.7/dist-packages (from nbformat>=4.4->nbconvert) (2.6.0)\n",
            "Requirement already satisfied: ipython-genutils in /usr/local/lib/python3.7/dist-packages (from nbformat>=4.4->nbconvert) (0.2.0)\n",
            "Requirement already satisfied: pyparsing>=2.0.2 in /usr/local/lib/python3.7/dist-packages (from packaging->bleach->nbconvert) (2.4.7)\n"
          ],
          "name": "stdout"
        }
      ]
    },
    {
      "cell_type": "code",
      "metadata": {
        "colab": {
          "base_uri": "https://localhost:8080/"
        },
        "id": "DekpRUgSFN0F",
        "outputId": "4037c2b9-58ec-4eab-e0ba-9bc4cc55279d"
      },
      "source": [
        "!jupyter nbconvert --to html Saumya Kothari - Introduction to Neural Networks & Deep Learning Project [Part 4].ipynb"
      ],
      "execution_count": 107,
      "outputs": [
        {
          "output_type": "stream",
          "text": [
            "/bin/bash: Deep: command not found\n",
            "This application is used to convert notebook files (*.ipynb) to various other\n",
            "formats.\n",
            "\n",
            "WARNING: THE COMMANDLINE INTERFACE MAY CHANGE IN FUTURE RELEASES.\n",
            "\n",
            "Options\n",
            "-------\n",
            "\n",
            "Arguments that take values are actually convenience aliases to full\n",
            "Configurables, whose aliases are listed on the help line. For more information\n",
            "on full configurables, see '--help-all'.\n",
            "\n",
            "--execute\n",
            "    Execute the notebook prior to export.\n",
            "--allow-errors\n",
            "    Continue notebook execution even if one of the cells throws an error and include the error message in the cell output (the default behaviour is to abort conversion). This flag is only relevant if '--execute' was specified, too.\n",
            "--no-input\n",
            "    Exclude input cells and output prompts from converted document. \n",
            "    This mode is ideal for generating code-free reports.\n",
            "--stdout\n",
            "    Write notebook output to stdout instead of files.\n",
            "--stdin\n",
            "    read a single notebook file from stdin. Write the resulting notebook with default basename 'notebook.*'\n",
            "--inplace\n",
            "    Run nbconvert in place, overwriting the existing notebook (only \n",
            "    relevant when converting to notebook format)\n",
            "-y\n",
            "    Answer yes to any questions instead of prompting.\n",
            "--clear-output\n",
            "    Clear output of current file and save in place, \n",
            "    overwriting the existing notebook.\n",
            "--debug\n",
            "    set log level to logging.DEBUG (maximize logging output)\n",
            "--no-prompt\n",
            "    Exclude input and output prompts from converted document.\n",
            "--generate-config\n",
            "    generate default config file\n",
            "--nbformat=<Enum> (NotebookExporter.nbformat_version)\n",
            "    Default: 4\n",
            "    Choices: [1, 2, 3, 4]\n",
            "    The nbformat version to write. Use this to downgrade notebooks.\n",
            "--output-dir=<Unicode> (FilesWriter.build_directory)\n",
            "    Default: ''\n",
            "    Directory to write output(s) to. Defaults to output to the directory of each\n",
            "    notebook. To recover previous default behaviour (outputting to the current\n",
            "    working directory) use . as the flag value.\n",
            "--writer=<DottedObjectName> (NbConvertApp.writer_class)\n",
            "    Default: 'FilesWriter'\n",
            "    Writer class used to write the  results of the conversion\n",
            "--log-level=<Enum> (Application.log_level)\n",
            "    Default: 30\n",
            "    Choices: (0, 10, 20, 30, 40, 50, 'DEBUG', 'INFO', 'WARN', 'ERROR', 'CRITICAL')\n",
            "    Set the log level by value or name.\n",
            "--reveal-prefix=<Unicode> (SlidesExporter.reveal_url_prefix)\n",
            "    Default: u''\n",
            "    The URL prefix for reveal.js (version 3.x). This defaults to the reveal CDN,\n",
            "    but can be any url pointing to a copy  of reveal.js.\n",
            "    For speaker notes to work, this must be a relative path to a local  copy of\n",
            "    reveal.js: e.g., \"reveal.js\".\n",
            "    If a relative path is given, it must be a subdirectory of the current\n",
            "    directory (from which the server is run).\n",
            "    See the usage documentation\n",
            "    (https://nbconvert.readthedocs.io/en/latest/usage.html#reveal-js-html-\n",
            "    slideshow) for more details.\n",
            "--to=<Unicode> (NbConvertApp.export_format)\n",
            "    Default: 'html'\n",
            "    The export format to be used, either one of the built-in formats\n",
            "    ['asciidoc', 'custom', 'html', 'latex', 'markdown', 'notebook', 'pdf',\n",
            "    'python', 'rst', 'script', 'slides'] or a dotted object name that represents\n",
            "    the import path for an `Exporter` class\n",
            "--template=<Unicode> (TemplateExporter.template_file)\n",
            "    Default: u''\n",
            "    Name of the template file to use\n",
            "--output=<Unicode> (NbConvertApp.output_base)\n",
            "    Default: ''\n",
            "    overwrite base name use for output files. can only be used when converting\n",
            "    one notebook at a time.\n",
            "--post=<DottedOrNone> (NbConvertApp.postprocessor_class)\n",
            "    Default: u''\n",
            "    PostProcessor class used to write the results of the conversion\n",
            "--config=<Unicode> (JupyterApp.config_file)\n",
            "    Default: u''\n",
            "    Full path of a config file.\n",
            "\n",
            "To see all available configurables, use `--help-all`\n",
            "\n",
            "Examples\n",
            "--------\n",
            "\n",
            "    The simplest way to use nbconvert is\n",
            "    \n",
            "    > jupyter nbconvert mynotebook.ipynb\n",
            "    \n",
            "    which will convert mynotebook.ipynb to the default format (probably HTML).\n",
            "    \n",
            "    You can specify the export format with `--to`.\n",
            "    Options include ['asciidoc', 'custom', 'html', 'latex', 'markdown', 'notebook', 'pdf', 'python', 'rst', 'script', 'slides'].\n",
            "    \n",
            "    > jupyter nbconvert --to latex mynotebook.ipynb\n",
            "    \n",
            "    Both HTML and LaTeX support multiple output templates. LaTeX includes\n",
            "    'base', 'article' and 'report'.  HTML includes 'basic' and 'full'. You\n",
            "    can specify the flavor of the format used.\n",
            "    \n",
            "    > jupyter nbconvert --to html --template basic mynotebook.ipynb\n",
            "    \n",
            "    You can also pipe the output to stdout, rather than a file\n",
            "    \n",
            "    > jupyter nbconvert mynotebook.ipynb --stdout\n",
            "    \n",
            "    PDF is generated via latex\n",
            "    \n",
            "    > jupyter nbconvert mynotebook.ipynb --to pdf\n",
            "    \n",
            "    You can get (and serve) a Reveal.js-powered slideshow\n",
            "    \n",
            "    > jupyter nbconvert myslides.ipynb --to slides --post serve\n",
            "    \n",
            "    Multiple notebooks can be given at the command line in a couple of \n",
            "    different ways:\n",
            "    \n",
            "    > jupyter nbconvert notebook*.ipynb\n",
            "    > jupyter nbconvert notebook1.ipynb notebook2.ipynb\n",
            "    \n",
            "    or you can specify the notebooks list in a config file, containing::\n",
            "    \n",
            "        c.NbConvertApp.notebooks = [\"my_notebook.ipynb\"]\n",
            "    \n",
            "    > jupyter nbconvert --config mycfg.py\n",
            "\n",
            "[NbConvertApp] CRITICAL | Bad config encountered during initialization:\n",
            "[NbConvertApp] CRITICAL | Invalid argument: '-'\n"
          ],
          "name": "stdout"
        }
      ]
    },
    {
      "cell_type": "code",
      "metadata": {
        "id": "ErOY5AGFFYxh"
      },
      "source": [
        ""
      ],
      "execution_count": null,
      "outputs": []
    }
  ]
}